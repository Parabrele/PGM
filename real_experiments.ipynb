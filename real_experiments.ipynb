{
 "cells": [
  {
   "cell_type": "code",
   "execution_count": 1,
   "metadata": {},
   "outputs": [
    {
     "data": {
      "image/png": "[encoded data removed]",
      "text/plain": [
       "<Figure size 1000x400 with 10 Axes>"
      ]
     },
     "metadata": {},
     "output_type": "display_data"
    }
   ],
   "source": [
    "%load_ext autoreload\n",
    "%autoreload 2\n",
    "import numpy as np\n",
    "import matplotlib.pyplot as plt\n",
    "from sklearn.datasets import fetch_openml\n",
    "from src.ppca import ppca_closed_form, mppca, compute_responsibilities, device, compute_probabilities\n",
    "import torch as th\n",
    "th.set_grad_enabled(False)\n",
    "# Load the MNIST dataset\n",
    "mnist = fetch_openml('mnist_784', version=1)\n",
    "X, y = mnist['data'], mnist['target']\n",
    "\n",
    "# Reshape the data for visualization (28x28 images)\n",
    "X_images = X.values.reshape(-1, 28, 28)\n",
    "\n",
    "# Display the first 10 images from the dataset\n",
    "plt.figure(figsize=(10, 4))\n",
    "for i in range(10):\n",
    "    plt.subplot(2, 5, i + 1)\n",
    "    plt.imshow(X_images[i], cmap='gray')\n",
    "    plt.axis('off')\n",
    "plt.show()\n",
    "X = th.tensor(X.values)"
   ]
  },
  {
   "cell_type": "code",
   "execution_count": 2,
   "metadata": {},
   "outputs": [
    {
     "name": "stdout",
     "output_type": "stream",
     "text": [
      "torch.Size([5000, 784])\n"
     ]
    }
   ],
   "source": [
    "X = X[:5000].float().to(device)\n",
    "print(X.shape)"
   ]
  },
  {
   "cell_type": "code",
   "execution_count": 19,
   "metadata": {},
   "outputs": [
    {
     "name": "stdout",
     "output_type": "stream",
     "text": [
      "sigma_squared: tensor([0., 0., 0., 0., 0., 0., 0., 0., 0., 0.], device='cuda:0')\n"
     ]
    },
    {
     "data": {
      "application/vnd.jupyter.widget-view+json": {
       "model_id": "158d6487fb5a4569a010ab8929df5695",
       "version_major": 2,
       "version_minor": 0
      },
      "text/plain": [
       "  0%|          | 0/100 [00:00<?, ?it/s]"
      ]
     },
     "metadata": {},
     "output_type": "display_data"
    },
    {
     "name": "stdout",
     "output_type": "stream",
     "text": [
      "Finished in 99 iterations with update size 4057.319945240978\n"
     ]
    }
   ],
   "source": [
    "k = 10\n",
    "q = 700\n",
    "\n",
    "W_mppca, mu_mppca, sigma_mppca, pi = mppca(X, q=q, k=k)"
   ]
  },
  {
   "cell_type": "code",
   "execution_count": 46,
   "metadata": {},
   "outputs": [],
   "source": [
    "from pathlib import Path\n",
    "import time\n",
    "dir = Path(f\"results/mppca/{str(int(time.time()))}\")\n",
    "dir.mkdir(parents=True, exist_ok=True)\n",
    "res = [W_mppca, mu_mppca, sigma_mppca, pi]\n",
    "res_name = [\"W\", \"mu\", \"sigma\", \"pi\"]\n",
    "for r, n in zip(res, res_name):\n",
    "    th.save(r, dir / f\"{n}.pt\")"
   ]
  },
  {
   "cell_type": "code",
   "execution_count": 28,
   "metadata": {},
   "outputs": [
    {
     "name": "stdout",
     "output_type": "stream",
     "text": [
      "MPPCA computed\n",
      "MPPCA reconstructed\n"
     ]
    }
   ],
   "source": [
    "from src.ppca import compute_Z, compute_responsibilities\n",
    "from collections import defaultdict\n",
    "reconstruction_errors = defaultdict(list)\n",
    "# Compute the reconstruction of the data :\n",
    "print(f\"MPPCA computed\")\n",
    "d = X.shape[1]\n",
    "# Start by computing all latent variables: z^m = M^(-1) W^mT (x - mu^m)\n",
    "Z = compute_Z(W_mppca, X, mu_mppca, sigma_mppca, q, device) # Z is of shape (M, N, q)\n",
    "# Then reconstruct the data using x_n = Sum_M Rnm(W^m z_n^m + mu^m)\n",
    "R = compute_responsibilities(X, W_mppca, mu_mppca, sigma_mppca, pi, d, device) # R is of shape (M, N)\n",
    "X_mppca_reconstructed = (th.einsum(\"kdq, knq -> knd\", W_mppca, Z) + mu_mppca.unsqueeze(1))\n",
    "X_mppca_reconstructed = R.unsqueeze(-1) * X_mppca_reconstructed\n",
    "X_mppca_reconstructed = X_mppca_reconstructed.sum(dim=0)\n",
    "print(f\"MPPCA reconstructed\")\n",
    "# mppca_size = k * (N * q + q * d + d + 1)\n",
    "# mppca_compression_ratio = mppca_size / original_size\n",
    "mppca_reconstruction_error = th.mean((X - X_mppca_reconstructed) ** 2).item()\n",
    "\n",
    "# compression_ratios['MPPCA'].append(mppca_compression_ratio)\n",
    "reconstruction_errors['MPPCA'].append(mppca_reconstruction_error)"
   ]
  },
  {
   "cell_type": "code",
   "execution_count": 29,
   "metadata": {},
   "outputs": [
    {
     "data": {
      "text/plain": [
       "defaultdict(list, {'MPPCA': [3.0790148044821316e-12]})"
      ]
     },
     "execution_count": 29,
     "metadata": {},
     "output_type": "execute_result"
    }
   ],
   "source": [
    "reconstruction_errors"
   ]
  },
  {
   "cell_type": "code",
   "execution_count": 18,
   "metadata": {},
   "outputs": [
    {
     "data": {
      "text/plain": [
       "torch.Size([10, 5000])"
      ]
     },
     "execution_count": 18,
     "metadata": {},
     "output_type": "execute_result"
    }
   ],
   "source": [
    "compute_responsibilities(X, W_mppca, mu_mppca, sigma_mppca, pi, d=X.shape[1], device=device, normalize=False\n",
    "    ).shape"
   ]
  },
  {
   "cell_type": "code",
   "execution_count": 20,
   "metadata": {},
   "outputs": [],
   "source": [
    "from src.ppca import compute_probabilities\n",
    "probs = compute_probabilities(X, W_mppca, mu_mppca, sigma_mppca, pi, d=X.shape[1], device=device)"
   ]
  },
  {
   "cell_type": "code",
   "execution_count": 21,
   "metadata": {},
   "outputs": [
    {
     "data": {
      "text/plain": [
       "tensor(317.9873, device='cuda:0', dtype=torch.float64)"
      ]
     },
     "execution_count": 21,
     "metadata": {},
     "output_type": "execute_result"
    }
   ],
   "source": [
    "probs.max()"
   ]
  },
  {
   "cell_type": "code",
   "execution_count": 23,
   "metadata": {},
   "outputs": [
    {
     "name": "stderr",
     "output_type": "stream",
     "text": [
      "[autoreload of src.ppca failed: Traceback (most recent call last):\n",
      "  File \"c:\\Users\\Travail\\AppData\\Local\\Programs\\Python\\Python312\\Lib\\site-packages\\IPython\\extensions\\autoreload.py\", line 276, in check\n",
      "    superreload(m, reload, self.old_objects)\n",
      "  File \"c:\\Users\\Travail\\AppData\\Local\\Programs\\Python\\Python312\\Lib\\site-packages\\IPython\\extensions\\autoreload.py\", line 500, in superreload\n",
      "    update_generic(old_obj, new_obj)\n",
      "  File \"c:\\Users\\Travail\\AppData\\Local\\Programs\\Python\\Python312\\Lib\\site-packages\\IPython\\extensions\\autoreload.py\", line 397, in update_generic\n",
      "    update(a, b)\n",
      "  File \"c:\\Users\\Travail\\AppData\\Local\\Programs\\Python\\Python312\\Lib\\site-packages\\IPython\\extensions\\autoreload.py\", line 309, in update_function\n",
      "    setattr(old, name, getattr(new, name))\n",
      "ValueError: compute_Z() requires a code object with 2 free vars, not 2392296783872\n",
      "]\n"
     ]
    },
    {
     "name": "stdout",
     "output_type": "stream",
     "text": [
      "torch.Size([5000])\n"
     ]
    },
    {
     "data": {
      "application/vnd.plotly.v1+json": {
       "config": {
        "plotlyServerURL": "https://plot.ly"
       },
       "data": [
        {
         "alignmentgroup": "True",
         "bingroup": "x",
         "hovertemplate": "variable=0<br>Probability=%{x}<br>count=%{y}<extra></extra>",
         "legendgroup": "0",
         "marker": {
          "color": "#636efa",
          "pattern": {
           "shape": ""
          }
         },
         "name": "0",
         "nbinsx": 100,
         "offsetgroup": "0",
         "orientation": "v",
         "showlegend": true,
         "type": "histogram",
         "x": [
          263.42404899035614,
          264.5996771155155,
          16.636086280954984,
          292.6793195792127,
          13.076057460431125,
          275.1827310632879,
          292.6248390259352,
          292.63147665587303,
          292.67623833741357,
          312.50918365459546,
          292.6735081259799,
          34.97330059383586,
          261.6075483400371,
          25.323984500384096,
          292.6801372598224,
          19.88642269279964,
          12.63032902183223,
          292.67707486294006,
          54.53785432506712,
          19.886322583599807,
          279.1528350715183,
          264.6088529376626,
          263.4445156212762,
          292.6728998788826,
          298.19869973832004,
          262.86840689958797,
          276.51064814067695,
          263.33762120357517,
          11.784565344546586,
          5.740367034432468,
          276.4969904905623,
          292.6603805134797,
          25.32132012011069,
          19.88622413412732,
          292.66584726559825,
          292.64965610400094,
          288.30477882966335,
          293.8185377890662,
          276.4386988172056,
          317.9683867975676,
          292.66470627223015,
          292.68167461680764,
          13.076047658413243,
          263.44500492448395,
          276.4453938699595,
          31.670777749534636,
          305.51442370988735,
          29.23207022537927,
          305.5472983518271,
          291.7849887900939,
          263.4008128506681,
          264.4681714890034,
          11.78456282670941,
          5.74036707078587,
          11.784562964004287,
          292.6211524645531,
          264.5202481242791,
          19.886334711000096,
          280.039748245149,
          292.6569623537598,
          280.06709043294984,
          269.1815887446185,
          317.71656393667604,
          264.501974550137,
          317.98731196389576,
          34.973038208224374,
          25.32385059348742,
          292.6188814269408,
          263.07240452831456,
          292.51497759119303,
          269.10576519238,
          19.886498422058576,
          292.6744893049915,
          25.320892650066124,
          263.34664685047454,
          293.8423403481128,
          253.45532765338805,
          292.6737709309734,
          292.6625745514655,
          19.8863551541621,
          292.6327930363592,
          292.6665014388796,
          276.0379629822892,
          25.32434625986968,
          13.076043017435717,
          292.6039307039813,
          194.7041431460856,
          19.88635554866322,
          264.6079438438775,
          283.31991590126336,
          25.324554028665762,
          19.88650838257918,
          309.22934651373805,
          54.54585345269641,
          292.6756530199281,
          293.7709866718494,
          13.07604070246819,
          292.66131763927655,
          292.2726622555293,
          292.68204652034876,
          276.5152422115725,
          11.784562076454458,
          292.6803125403444,
          19.8863224362501,
          292.6767318309692,
          292.6641883457719,
          25.324345310924617,
          292.6545888513477,
          264.5381401493255,
          25.32629710935508,
          16.63607161925209,
          263.1266943274339,
          292.6780415635983,
          292.65306439710133,
          264.54095577506143,
          312.5000399966573,
          11.784559527875395,
          275.81624047515203,
          264.56641874780166,
          264.6158620872369,
          263.4313433353336,
          264.57912303227295,
          12.630329421715889,
          19.886493690480666,
          292.6657319229688,
          292.67812747426035,
          25.323916232450312,
          49.1143911690321,
          292.66680647897465,
          54.551447171875104,
          263.449067622614,
          283.3209213347325,
          292.6563390871993,
          32.961693859244484,
          279.8104762145777,
          289.3048442060609,
          263.37828213531844,
          298.40430389504826,
          292.63858971480676,
          292.67017842986684,
          283.1942623688943,
          19.88641277794916,
          276.44131852852274,
          280.0560334904597,
          263.31773031666023,
          34.97340557451264,
          292.64003197872245,
          287.9982161054833,
          305.67595449764485,
          263.24261615046635,
          269.1780124991961,
          25.32378679195639,
          292.6799592839285,
          19.886190341467458,
          11.784562407962463,
          25.324386468229374,
          264.61685229532793,
          292.5558514731076,
          16.63607246807633,
          12.630329148385618,
          292.6513386052255,
          292.6196383622663,
          263.38095450780065,
          292.642965337378,
          280.0006338459514,
          25.324845060984146,
          292.67239347538106,
          19.886324714663086,
          269.1454721119119,
          292.6638766635548,
          13.076042484273083,
          12.630329123120841,
          11.784561428949571,
          298.4148135999622,
          292.6684404700122,
          34.97175394801296,
          13.076059206320036,
          292.6671837550932,
          41.86329881460052,
          292.6235765563233,
          269.0368599483048,
          292.5809439444539,
          292.59301515862774,
          31.67080769176697,
          292.6178397958192,
          19.886503869305013,
          288.6101786910631,
          12.630328948006918,
          292.6450244702696,
          12.630329151270228,
          25.32618518681325,
          29.23146298673086,
          264.57101708155903,
          283.1878889080028,
          309.02247195715347,
          283.26734977972063,
          16.636078520431276,
          292.55419682926447,
          263.1443816821973,
          276.0488936070479,
          292.67613510926986,
          292.6803883641767,
          292.62016123952867,
          292.59918645777185,
          25.323299497181456,
          292.6739623435213,
          264.61407801933825,
          292.6401731020105,
          292.67635873736185,
          264.5989118467969,
          292.6474386472622,
          292.67234983241104,
          263.4505216191167,
          12.630328837024784,
          11.784563010203536,
          292.59428720159434,
          263.38579815448156,
          304.4315747328077,
          288.5363981520477,
          292.61504488852813,
          12.630329428481783,
          25.325501483462787,
          279.99007589514315,
          19.886383276509918,
          292.6635869751504,
          292.6722489283807,
          13.076059871890521,
          276.52059297454844,
          279.7410811563209,
          264.088701070204,
          19.88602561663532,
          292.6774935987776,
          54.55257421255106,
          41.86320360110244,
          293.6639325795256,
          292.59145407104563,
          29.232470472769492,
          304.2606400265689,
          25.32363838751486,
          292.6477015077925,
          292.6399564191217,
          16.636097421327463,
          263.4337261040274,
          11.784561306846783,
          263.43441967858786,
          292.65526506337756,
          263.0084806712802,
          276.51226068992617,
          269.17360785589784,
          264.37223156224127,
          16.636093830196973,
          5.740366956152717,
          5.740367034454842,
          12.630327817299293,
          292.64923807878864,
          292.3534140041827,
          34.97247092772826,
          304.4598767409862,
          276.4745008188197,
          49.1192052549068,
          269.16473457697464,
          25.323680340048526,
          25.32627967519511,
          11.784560722378023,
          280.0192050420708,
          292.62141459181487,
          263.38440027303216,
          276.5128049708765,
          276.5090060414961,
          292.6764309207468,
          292.6696270150819,
          305.74913010898365,
          275.2030780029812,
          29.23296100415818,
          34.970515843004634,
          304.45177932959336,
          292.6816422203833,
          12.630329061455042,
          25.325584907648906,
          292.6178823711076,
          32.96212293116873,
          292.65778245000314,
          16.63608539571454,
          264.3989166258912,
          263.28084145873925,
          283.31664156190595,
          25.325490900358908,
          269.175399892541,
          13.076030548630724,
          292.67923826333003,
          292.66678795943926,
          292.65702069230196,
          276.5135526828732,
          264.61541504136864,
          16.636084820799024,
          292.6804133630864,
          264.5901679931839,
          304.43165776083777,
          263.40430537011747,
          25.325551209204118,
          292.65693511279125,
          19.886290965408033,
          25.32136421365011,
          264.5649414559173,
          13.076063671699833,
          19.88633803328696,
          264.6147052892479,
          19.886227625241233,
          275.73280959397397,
          292.6716161846641,
          292.6736728421888,
          25.322286583354508,
          263.17491958213765,
          276.4726941192965,
          309.2458076984657,
          292.68156671865086,
          263.38744020647283,
          41.86164356119269,
          5.740367083460278,
          263.44571223269253,
          293.8201645159698,
          292.66296374161203,
          280.0513652458998,
          25.326130433026034,
          11.78456324087938,
          305.27560059037137,
          293.84568183919015,
          287.9162577823608,
          292.64477651568734,
          41.01602656114545,
          263.43633836704197,
          25.322828103995587,
          292.6361381980803,
          292.64453945503647,
          309.1700563517747,
          292.6446428669669,
          292.6666754395303,
          19.886295551561076,
          275.22383473378056,
          12.630328167394255,
          276.4940770253902,
          292.564179256545,
          292.53287535594274,
          292.66975885916975,
          280.0201344907625,
          292.63593573418933,
          292.6218469216373,
          12.630328186935632,
          292.6282940687686,
          19.886383879436504,
          263.4405791187564,
          292.674778057999,
          263.41150831928167,
          263.4135674861127,
          292.64822447433096,
          292.66729706613734,
          263.31559281470936,
          292.67018158187324,
          292.67577333924714,
          264.5818152467948,
          5.740367089931007,
          292.6614419589554,
          276.50634638629884,
          292.67978916211695,
          276.5011766364879,
          276.05414536504236,
          292.6812842304965,
          25.32234499083669,
          298.36757475737204,
          304.46070829092855,
          269.1740731175756,
          11.784562323197076,
          292.28736220737846,
          292.6582474399389,
          276.49624729197814,
          12.630328582995132,
          292.67436549667934,
          19.886463088297866,
          275.1383197927104,
          292.6765491085946,
          280.0788057423154,
          305.18315740793054,
          292.6742301280754,
          263.44792849279054,
          275.99885920430955,
          12.630329210598667,
          263.42099126731506,
          19.8862633050963,
          5.740366989360682,
          263.4397459466636,
          263.2290838513592,
          12.630329345054372,
          263.3099894040364,
          292.64896280164874,
          292.30016660219025,
          25.32474566852151,
          292.65360298206724,
          292.6695312438692,
          292.6790919233359,
          264.5990572508817,
          25.3262973109055,
          25.324551636350396,
          304.44942679373145,
          292.6594287236429,
          263.41968021022586,
          292.6276533985635,
          298.2196819077562,
          292.6372959780657,
          292.6746584170135,
          282.666231512622,
          12.630328654170567,
          19.886286280658606,
          13.076069142944016,
          292.6637899804764,
          317.958052969147,
          292.66008136993094,
          34.97232426973736,
          298.27555694458925,
          34.97287624027004,
          263.44069508402407,
          292.6633046745923,
          25.323014496345166,
          13.076077919032807,
          263.44360586661077,
          16.63608182105734,
          292.67734462666704,
          11.784562625151706,
          264.6135186131873,
          263.398608421037,
          264.6090054589953,
          29.233113091354934,
          25.32412814507139,
          12.630329256014823,
          292.6303756971449,
          16.636072208924112,
          264.61659862914127,
          276.512610598284,
          298.39491615564725,
          309.2461783698699,
          292.4569017875885,
          263.4010789164666,
          263.44326605856276,
          305.7027871739056,
          292.6765189067656,
          269.13706964905697,
          292.66601593174886,
          16.63607745380659,
          292.6499029853217,
          12.630330096128041,
          288.5046067741128,
          298.38841717224216,
          25.326301708771762,
          263.33303185664477,
          264.550578099531,
          292.67382171733965,
          292.66047075285144,
          292.64207035123883,
          305.30362207342085,
          264.57983145899715,
          276.4813303135617,
          16.636066283135698,
          304.4019544359492,
          264.6076983863685,
          298.3669814829484,
          264.5018651581327,
          25.32444812133406,
          292.63172572580004,
          19.886482806079748,
          16.636089364715797,
          19.88650303831078,
          298.4133847608165,
          263.4496916387771,
          298.3441738839315,
          264.6111893221998,
          29.233101605206876,
          292.67464919913965,
          13.076078772893553,
          275.93606725815044,
          13.076073625575251,
          292.65587890865436,
          292.6244678619795,
          19.886487694968583,
          263.4454869199961,
          283.3167734329456,
          292.6692918838959,
          29.231450246018717,
          262.67751017231194,
          19.88648981975909,
          269.10138357059594,
          264.6159654997451,
          263.33828010744867,
          298.36419798363823,
          292.66674955252,
          276.0207975342553,
          264.1410058992378,
          263.4173242050712,
          292.6702636042742,
          19.88647911401112,
          25.323861596127614,
          29.233132224514993,
          13.076073369284039,
          19.88650189243904,
          292.63612962193514,
          292.6405566993191,
          262.6840963685434,
          19.88638983979793,
          16.636095247265377,
          292.6780198100873,
          292.6700026129391,
          19.88650832984741,
          292.67437389170993,
          19.886487483927635,
          304.220820446222,
          34.97248539215582,
          292.6581962817717,
          305.2806478398393,
          279.23009458000234,
          292.64312452969705,
          283.1687896681688,
          264.6040107167179,
          276.48421688266666,
          19.886488367637053,
          11.784559821664784,
          298.3319461865341,
          264.58978437664126,
          19.8864194516568,
          264.6009779087911,
          12.630328897067583,
          288.63722824101336,
          19.88647027417583,
          276.0191735047826,
          19.886493098912492,
          263.43719705885076,
          298.3415768284885,
          25.32622345512362,
          292.62044658029083,
          25.325922658867725,
          5.740366979991702,
          292.6723936039448,
          292.434884228854,
          276.5176448113798,
          29.232552129113408,
          292.6479816740841,
          49.11802631744355,
          263.2978674917291,
          292.6789806674081,
          263.3449612363786,
          288.7164454143532,
          276.0774927594895,
          292.64448734435234,
          263.42576685169513,
          305.27462883708216,
          292.6609639817593,
          292.6664152803716,
          263.3133232850842,
          305.21560916502426,
          292.67383832255217,
          292.67116733956505,
          269.07252139653076,
          292.6706862781991,
          269.17955990231434,
          292.54134733720537,
          11.784565027966442,
          305.3063542502228,
          304.4133579790428,
          25.325907777843174,
          276.5100424754828,
          19.886230065884263,
          275.8233154279059,
          49.11669234107712,
          276.02364027316906,
          292.66043582562094,
          292.65487561919764,
          312.5554322379139,
          292.6815774440497,
          292.66647313346414,
          276.46180571127434,
          264.5321355487922,
          288.29405319573755,
          5.740367029277966,
          263.4496556602,
          290.3447162833921,
          263.4439730191915,
          263.4353236204056,
          25.325890140559697,
          263.42171688065105,
          263.4462953264691,
          292.64823899240247,
          292.62574011788945,
          263.4465629009067,
          276.52343845004077,
          276.0697829423146,
          16.636095739876755,
          292.68055690853026,
          292.64773068883534,
          19.88642264739394,
          264.28930053690414,
          25.326062686457114,
          25.32613004468935,
          19.886315842636296,
          13.076042784323654,
          263.4473417665862,
          263.35222889722644,
          293.81240825808413,
          292.656689826996,
          5.74036706119383,
          16.636095822809782,
          29.232027858273323,
          279.9269526521473,
          5.7403669267245245,
          16.63608957897065,
          269.18606382375293,
          264.6205469440783,
          29.233106349891223,
          49.119182648990346,
          29.233193922746437,
          280.0459548589268,
          19.88625765951048,
          292.6742602395649,
          276.03106783042807,
          263.41993544269087,
          49.11873958315039,
          264.59671367050885,
          317.95740952966185,
          283.1990029986149,
          292.5446961157228,
          275.2294971342053,
          13.076078669516711,
          263.38551488238846,
          29.23317725613306,
          269.13510516981216,
          263.43577667942685,
          11.784563433421468,
          292.63944178436395,
          263.447166315826,
          305.26692823893984,
          19.886184274170553,
          292.6581275611408,
          292.6727233949528,
          264.6014597101076,
          16.636087114697954,
          269.1804462297463,
          305.2805537882923,
          292.4638346073235,
          5.740367029621533,
          292.6445387816715,
          292.6689508869119,
          19.886482138037806,
          292.68043047536133,
          54.55171663173927,
          268.1350585665953,
          19.88630097186129,
          292.64051069188776,
          49.118210883539724,
          13.076043364189497,
          49.11689697431176,
          288.70895290517075,
          305.0464158207921,
          25.326192895007633,
          292.35817085221476,
          263.4197565923407,
          34.972480428828874,
          264.53257999540966,
          283.3194706421182,
          276.3716383433263,
          41.8631556368144,
          288.5096006511691,
          305.16240412623847,
          263.1161446686261,
          264.6203215742721,
          262.40567291925566,
          292.6778424834433,
          29.228271423023042,
          12.630327444219766,
          268.63322003481113,
          292.6706893086862,
          292.6782957442199,
          275.2137440032336,
          292.6832107041675,
          292.5874058078734,
          304.3351057411217,
          25.325388947814233,
          279.9381525557958,
          19.886281786056347,
          276.00491481198424,
          292.67161596375826,
          16.636056345119588,
          275.2168555494012,
          269.16851160532997,
          293.84013635966403,
          292.6427224584023,
          292.65778211891825,
          279.97249941692104,
          276.0777363873875,
          292.52388237683726,
          292.61050377342747,
          292.62516618798287,
          275.22625436853434,
          292.6500733271101,
          292.5105271102453,
          312.5079758853048,
          25.32549626848582,
          290.3755217334277,
          19.886378932456626,
          16.63609866908891,
          292.6682620405588,
          16.636042735724264,
          263.44850919058655,
          292.64609600315106,
          264.6214015025083,
          292.6681448349385,
          292.65646615478295,
          292.66465984445256,
          276.0261123459745,
          298.122604774208,
          292.607279581293,
          12.630328398552525,
          275.1934330102391,
          280.0570770384297,
          263.41770830342824,
          292.66768329041014,
          25.324698212106593,
          16.63609748543516,
          19.886322885300448,
          11.78456183897685,
          292.6532973342065,
          292.62738603065173,
          275.22229467500057,
          283.25155914609184,
          275.19319556281323,
          13.076077421032066,
          292.62398279972894,
          12.630327847634888,
          264.61122925341465,
          263.25147077205037,
          25.3230995866,
          269.1595140344564,
          25.325429377090742,
          292.679523887897,
          25.32619963679486,
          292.67337959638166,
          275.2273895585729,
          309.26476442054235,
          264.61795045061257,
          13.076069728053033,
          293.83612146997825,
          292.63069259777484,
          292.68176193365514,
          263.447496739333,
          283.2983334304739,
          276.4922138477726,
          292.6789656638898,
          263.43717828576,
          19.886459653043428,
          292.6315141252937,
          283.27869890818647,
          275.17939769194925,
          292.6745609941929,
          262.7736682548241,
          25.326022808127842,
          263.25344787421875,
          292.6213831826074,
          25.32356695468065,
          275.22548324492016,
          16.636076959955293,
          292.6796856331321,
          292.5950185222497,
          263.41202905035897,
          292.64093367672103,
          29.233047988883154,
          16.636096292761184,
          292.6683275777172,
          275.2068305785399,
          19.885977253798817,
          12.630327871892069,
          269.1438461548176,
          317.9306268321998,
          292.67526485236584,
          276.5015311664402,
          292.6771860351058,
          292.6643379139752,
          264.60924194942663,
          276.4572327445286,
          292.6692755961751,
          292.6174474413417,
          25.324578824432518,
          13.076031486245032,
          264.59919876308953,
          317.983561793862,
          292.61574824459575,
          264.6019838922691,
          292.6625077267324,
          263.36829505470666,
          275.21841019721313,
          25.326101334649252,
          283.2461795906331,
          292.6715271625844,
          283.3012635169584,
          13.076049900178976,
          292.65134301825987,
          276.51646242704237,
          275.9042979473118,
          263.448468824856,
          280.81042079605504,
          279.9896389785924,
          292.680602134623,
          276.46541482815667,
          275.7513656965985,
          276.4585172852838,
          292.67890927306775,
          25.32504348489658,
          292.6722875142032,
          13.076049595490936,
          276.002643056479,
          12.63032911884182,
          292.6646687649069,
          54.5517262034962,
          292.6534368353699,
          293.68804497048916,
          283.2739405144485,
          16.636067803952418,
          298.4093407295336,
          263.44196177200683,
          292.64291229803854,
          13.076036838760444,
          30.40161876512564,
          16.63609461312524,
          263.44315342233676,
          280.00935983936944,
          25.32420498012578,
          263.42139032254437,
          292.6211959138476,
          292.59454538683144,
          292.6767222190326,
          305.6920016142027,
          292.6706198454459,
          292.6556038384188,
          292.6028153397583,
          292.6790554962676,
          19.88616812142855,
          263.39626743943603,
          25.325268586312152,
          280.0619668402616,
          292.64704484334686,
          292.63125286342546,
          292.658893579688,
          292.6025475366583,
          275.19278542567787,
          280.0431632301346,
          293.7576402264081,
          25.32588701342827,
          275.23207359796163,
          29.231471695359794,
          19.88617995160039,
          11.78456505570195,
          275.16022632147434,
          305.7260236355944,
          292.55456192439703,
          292.6690674941292,
          293.8239426880295,
          264.6135690955173,
          292.6710012870816,
          275.2310220625879,
          279.98268198432805,
          269.1878943576855,
          292.66993072909105,
          261.54028927992164,
          292.6739157025111,
          275.11265783814434,
          292.6509924192956,
          305.75092345173033,
          292.6798283337112,
          1.1724816036135346,
          12.630328427317302,
          263.3270275840286,
          263.12265986363866,
          292.32167967651793,
          304.4438871592676,
          269.1609277541594,
          34.97257674808584,
          19.88634370966835,
          25.325009379962744,
          280.07020138325566,
          11.78456042786043,
          292.6625646568393,
          292.65816586387416,
          262.47529419394465,
          275.2273868035164,
          32.962072461826885,
          293.84152772101356,
          292.54393372679016,
          292.68193464753574,
          269.1242398403826,
          276.050748673646,
          283.300110988492,
          263.0368974911924,
          19.88649519149601,
          304.4550633044532,
          13.076074972844888,
          29.232581373639178,
          263.44539437565567,
          25.32508369368068,
          293.83977886594397,
          312.4693273230072,
          13.07607858176684,
          292.67255007901406,
          280.03818695773236,
          12.6303279651306,
          16.636082233379252,
          286.24540981347377,
          16.6360975243715,
          19.886382497674514,
          29.228786284480435,
          292.6599548894265,
          309.28716737628383,
          34.9732041197734,
          284.19358701924216,
          12.630327671865095,
          263.4111347980362,
          292.6714259355898,
          292.66254381165436,
          19.886486101428375,
          5.740366962477362,
          292.6665239497166,
          262.87940397031707,
          292.67165157889303,
          280.0801984992068,
          293.84515473486476,
          19.886369198260837,
          275.2168788222391,
          275.2167847953651,
          305.2181191061742,
          16.63604319051818,
          19.886510277457113,
          275.17343000001057,
          298.3569580073941,
          263.357269398209,
          263.4501241241091,
          269.16460547901914,
          34.97307274663918,
          279.93279519159256,
          292.664654680564,
          11.784564272101802,
          41.863263545856675,
          25.326233284088318,
          292.64673715937175,
          292.5296245462886,
          34.97235149625429,
          283.3138650792601,
          293.84203790506575,
          275.1858004185308,
          292.67530479210313,
          292.6198054130641,
          276.49301536247333,
          19.886488200191145,
          25.324555415202344,
          29.23280549075216,
          292.60344939301274,
          292.6588159970313,
          292.66797542623675,
          262.66292858041186,
          292.6822474528709,
          11.784563521152077,
          292.663255945867,
          292.66054641505247,
          264.59697231456613,
          272.9344929164572,
          304.451910177948,
          263.4377668118364,
          275.20660141588746,
          263.41947058390724,
          19.886506827136174,
          292.5682661100849,
          25.324885702431793,
          262.82839437920956,
          263.114038837488,
          292.600678214592,
          25.325612119917977,
          292.6666382598671,
          292.6341055830383,
          276.4688275217625,
          283.2317876648173,
          292.67160880101414,
          263.4355777782126,
          264.6007262916656,
          34.96822919694417,
          16.63609043356902,
          292.6652990670757,
          279.91242068757725,
          305.25348708109476,
          16.63608120969143,
          304.4176304726605,
          263.3571598112914,
          292.6627929821957,
          11.784564505271423,
          283.3071065037371,
          29.233025779539485,
          312.4059295226113,
          292.5192871436744,
          25.325339766040734,
          292.6594354723983,
          283.312055150811,
          298.4135813186972,
          298.38801256781136,
          305.54842165537735,
          275.22119454818284,
          292.6639793685566,
          276.485146437476,
          275.2242694297873,
          298.3446987838136,
          275.76497538258343,
          276.0544105967948,
          298.4095460162222,
          49.10822213970348,
          11.784563555153733,
          292.65810798427805,
          276.43559251841515,
          292.68088442779754,
          264.57341681324596,
          275.21651076892385,
          29.23313438440663,
          292.6619278699934,
          13.076053176374595,
          19.88651066989121,
          279.8685824030049,
          292.64655825115113,
          292.60245227382063,
          283.31310707235616,
          264.09196954032564,
          292.62623100869746,
          12.630329246551161,
          269.1880297235483,
          292.65842835871695,
          41.86119191105581,
          12.630329723968456,
          292.6697581173843,
          19.886460046147338,
          292.67218523229343,
          280.03871623623826,
          292.6557690426444,
          264.5689885976149,
          25.326279334674187,
          13.076056181744404,
          11.784564460197092,
          292.6737284710489,
          292.61647913583687,
          280.0542634312737,
          5.740367081875993,
          12.630329591221313,
          264.5646283584524,
          280.05668068407374,
          269.06090411209334,
          292.6778058481348,
          41.857247322608906,
          11.784562996827994,
          292.6456065434491,
          13.076062631881769,
          283.2293075056795,
          263.34884077231595,
          292.59026153944905,
          292.67124080668077,
          263.37299302407,
          292.6708705965727,
          305.7491802699066,
          263.4000392778713,
          292.6531896900454,
          283.31401606455984,
          292.6275685432395,
          292.6233261969906,
          292.67716749096763,
          292.6659318502001,
          292.63271325272535,
          11.78456231619482,
          292.6524865791084,
          263.3734844688545,
          280.07376365638254,
          292.66563952088126,
          292.6673083664538,
          264.53802787215943,
          269.16097423515646,
          292.6743467686888,
          292.66895855500394,
          19.88646443172228,
          11.784563537372568,
          292.6835676691542,
          292.6790007548886,
          292.6342139320174,
          54.556032748218215,
          269.18505446114773,
          34.97345126958721,
          264.56437312641947,
          25.326287547268084,
          288.5779861111561,
          264.6012770944945,
          305.74338528056614,
          292.6785272985496,
          12.63032959250215,
          12.630329484140393,
          292.6645272025589,
          312.5528589187838,
          34.972512725083924,
          292.6605423848495,
          264.58210995407205,
          275.20933640337824,
          263.42779683120443,
          292.6744681322174,
          269.1734378016973,
          264.61232769670244,
          263.30503834655366,
          29.23300221307526,
          292.6727027990893,
          34.97236672830088,
          276.4750692848061,
          25.325192728236622,
          11.784561335271892,
          269.0430567024428,
          279.9075760382436,
          5.74036705757503,
          292.6796837899851,
          292.6314032034595,
          269.053525314753,
          276.032758154481,
          11.784560503077453,
          268.7565703626315,
          12.63032918748983,
          19.886485441542614,
          263.39793183912116,
          280.08212054692876,
          264.59771983159357,
          275.97632315129215,
          263.37328317695153,
          298.3942150920882,
          292.67556044761466,
          292.65070859940187,
          12.630329756158318,
          34.97213670502603,
          292.5765538013923,
          292.6522274169063,
          13.076061231479983,
          25.326269567581644,
          279.98486725003175,
          263.4741502056648,
          275.20155624299815,
          263.4469807453987,
          292.6334162497374,
          292.64322049493376,
          54.55096562545406,
          275.21008356562544,
          298.38047568369586,
          292.66640988795655,
          263.3389087189721,
          263.4468766577482,
          264.5612452715268,
          19.886430663863273,
          283.2670306751332,
          292.6510919306017,
          13.076052940258464,
          19.88649375598904,
          263.2285475168326,
          25.326293701996708,
          16.63609404474033,
          19.886340389070295,
          263.3840759528093,
          292.5761389338428,
          13.076077704864044,
          269.1740018965383,
          13.076044595414082,
          263.4454243252905,
          292.6462517117591,
          263.4423497993404,
          292.6250355474188,
          292.6673318166193,
          279.3932359192048,
          19.88624000502591,
          292.6676640614595,
          12.630330278495855,
          280.0761349166943,
          304.4644944696195,
          298.21547843490873,
          293.84167308425964,
          275.1951534657531,
          292.6552950647553,
          34.973139156148555,
          276.03504768915803,
          25.32491009742238,
          292.55070568244304,
          13.076061722300903,
          275.20471783036646,
          268.62099843430383,
          25.324501308709156,
          280.0151893716262,
          11.784560415139001,
          292.6677253735907,
          292.6446064438093,
          16.63608075965688,
          292.6544557279346,
          16.63608614434923,
          298.38734702091705,
          309.2337527845222,
          276.03900963064075,
          292.67839025003633,
          292.6435603009999,
          54.55460461023861,
          304.4355217334698,
          288.57882178000455,
          19.886286127243736,
          263.22307105659115,
          292.63152612169716,
          11.784563245946938,
          264.6212784142175,
          263.41083575729664,
          292.67850348465305,
          309.2121464727287,
          288.71834890973366,
          292.6667568007895,
          275.20807363174436,
          11.784560385581633,
          19.88644922807021,
          292.67513366622654,
          292.65752691428855,
          280.0327243701277,
          275.2270106076096,
          263.2091844891615,
          304.40128190360514,
          25.324478480721183,
          275.216471599917,
          263.2552431633695,
          292.62276935415247,
          34.973380664686125,
          283.2880957407059,
          292.6766010256296,
          11.784560148350911,
          305.69321018543667,
          292.6428072382038,
          269.0765923850781,
          263.4481661952023,
          292.6249569983169,
          292.64042128029723,
          292.6745077458467,
          11.784564588180686,
          5.74036697810902,
          12.630329744012334,
          292.673239363743,
          5.7403669956885475,
          304.36313880763163,
          29.23182509796359,
          276.06894992364414,
          292.64457000680096,
          16.636093166376252,
          275.6374169262513,
          263.433820416759,
          276.5109641062826,
          292.6789234543817,
          275.10702880525434,
          292.5935467937007,
          272.7029331949429,
          263.4371579365857,
          288.68628063134634,
          279.89654330322,
          5.740366962902766,
          16.636092967696246,
          275.22918685746566,
          276.0646003087657,
          29.23255644258878,
          12.630329251428277,
          29.231917848054483,
          25.325777127815954,
          29.232019891153918,
          292.676588671835,
          288.67347617305484,
          298.34198310092023,
          275.2165987342912,
          275.207332686936,
          275.2221547991788,
          19.886490626373057,
          275.163919771883,
          263.92241454931417,
          292.6604036426344,
          288.30129296875333,
          292.6751126359102,
          305.7267617594179,
          276.3523859330498,
          305.74814303616535,
          298.3940577091611,
          19.886378247184425,
          292.667168545099,
          13.076051852666351,
          292.6741516574411,
          42.29802139864346,
          292.6637129770408,
          261.814100159053,
          275.20799452415395,
          263.42802403607976,
          292.66990727684333,
          305.6495100451261,
          305.2188564703144,
          292.57323313778437,
          25.325026358869344,
          292.6644095472091,
          275.9501291448477,
          263.4400194396012,
          271.8001042082808,
          283.25757251425125,
          25.323442506479537,
          293.82627471705104,
          275.2249598873195,
          11.78456194916096,
          263.4288220191163,
          309.11096520113387,
          25.326227927006816,
          264.56305121938215,
          19.88650773383318,
          292.6067257679807,
          29.23266137356496,
          16.636068602097165,
          292.2566095525524,
          283.30213653491046,
          263.39833696796325,
          25.32429432272606,
          29.23269273023294,
          263.4374309836161,
          292.6723721218104,
          13.076078708439006,
          25.32431862836208,
          292.620870843563,
          298.41663093581025,
          13.076052559518478,
          25.32503233672775,
          305.734814714325,
          292.6698332055214,
          269.13124734376413,
          292.65042575861065,
          19.88650664809078,
          304.39716325821314,
          269.06043011591765,
          263.4367418413612,
          263.1468047643187,
          292.68119727802093,
          276.4887773970542,
          292.64887131586704,
          263.44251673273004,
          305.29969270600833,
          263.44118580252626,
          11.784557342989013,
          263.2431865391911,
          275.23340234739027,
          317.89775006767917,
          263.4473416662658,
          276.51663468992166,
          292.67437207833456,
          292.6578564284768,
          292.6631736245519,
          263.44403683198726,
          19.88633442657968,
          292.6766432033396,
          263.4334378522561,
          263.42799718648797,
          292.6737067215307,
          25.325184310339864,
          292.64753692978695,
          309.21187448499154,
          280.02013033566453,
          292.6264520209924,
          264.6103376099734,
          292.6535582400615,
          292.67325819966015,
          16.63609480037503,
          264.38467072833697,
          264.58998488013,
          292.67393850945615,
          276.454742153135,
          264.6085898794798,
          264.54816893254184,
          275.20710612369487,
          5.740367049952524,
          292.6720606659322,
          16.63609491118834,
          292.6491532068988,
          263.44947921336023,
          304.429275061123,
          16.63609030470968,
          19.886378312342956,
          16.636098279388065,
          275.2300884914113,
          29.23079528034003,
          276.0224090884433,
          264.5912249046535,
          292.65780876785476,
          292.6003541427863,
          25.324140179153954,
          267.91094998740965,
          276.0593727097905,
          275.22243655589574,
          25.321845966239206,
          292.6675622578643,
          12.630329487065532,
          276.5043735990845,
          12.630329470538303,
          54.55053527583617,
          275.22151592557606,
          276.5011843744466,
          275.1024198919493,
          16.636097766861507,
          264.5784785076514,
          317.9318540026105,
          34.96942595712213,
          276.30509831736185,
          276.0028542768404,
          280.0764634579133,
          263.42571510243357,
          292.6488334218801,
          288.75383677239637,
          276.4995930638746,
          49.11701411997697,
          279.6934156935839,
          25.323497804250046,
          16.636097493928624,
          11.784562649509297,
          25.325587276190014,
          292.6635631914153,
          263.2211522492494,
          19.886329672822324,
          283.17631509889185,
          283.313098191965,
          16.6360963858601,
          292.67128517684625,
          13.076050026352219,
          304.96139557142374,
          263.33081203290783,
          292.1013946429481,
          41.017061240420716,
          263.449268456876,
          263.3533548380421,
          5.740367003796099,
          292.6506374957647,
          25.324819988735264,
          292.6789778841488,
          19.886500296622668,
          275.7404077301607,
          292.6253687109095,
          280.01473780661405,
          19.886253051815764,
          29.23250829792011,
          293.81788800525356,
          288.2087950956186,
          292.6547383523275,
          280.05263953005925,
          12.630328965809452,
          16.63609492232185,
          263.38493322558224,
          292.67098651042835,
          19.886382713868954,
          292.64163998643596,
          292.6523413657442,
          263.3802076499917,
          5.740367050137433,
          25.316444955628242,
          312.54805158946493,
          298.4084603045918,
          19.886310000945304,
          279.65198910169596,
          269.17795684494496,
          280.00040586669786,
          292.67412333639317,
          292.63480788415444,
          263.42924250516154,
          16.636097378735666,
          34.96755921453695,
          292.5992620335467,
          292.3852014844759,
          263.25098894871576,
          264.6185110729128,
          292.6380192721838,
          292.6772039188719,
          263.43590438988997,
          292.6640076445102,
          298.3399245230782,
          5.740367049630637,
          12.630328497480761,
          293.82651900033954,
          274.631306941126,
          5.7403670442080115,
          292.65717078017616,
          292.6692848734362,
          292.6500607337359,
          19.886506085796718,
          269.1786354199245,
          29.23038082191325,
          25.325082225297887,
          264.59897522255596,
          292.5115133983313,
          19.886100810033167,
          5.74036705845079,
          25.322539625590082,
          16.63609374782394,
          264.60195116441236,
          292.68104395538916,
          292.6645014878755,
          292.64779725410483,
          19.886446159879902,
          13.07605837944406,
          264.49041187424785,
          264.6163767126568,
          25.324499694836366,
          25.326244522207578,
          292.67433382773606,
          263.43461138240775,
          263.4459686244199,
          309.2371532643448,
          25.326301030363457,
          305.20428482552023,
          280.07243259665074,
          292.67379831197496,
          19.886429621705826,
          276.4936452907319,
          25.32271925823419,
          292.64816025224053,
          264.56019472894207,
          280.04196033687697,
          292.5740727788163,
          25.324135791314134,
          292.67960823962056,
          16.636092383426146,
          19.886291146178575,
          292.61414415741814,
          19.886269684405033,
          262.9945593517039,
          292.68125183125085,
          292.6721926251205,
          12.630329877251276,
          264.5711937289703,
          280.07850501468715,
          264.6170182475618,
          291.71324464669647,
          16.636095706411723,
          34.973247319229266,
          288.46655224654324,
          280.02583646678465,
          276.0755260963506,
          41.862098269115066,
          25.32425763446867,
          280.07887768833467,
          292.6237090032261,
          292.63866781692735,
          292.6794578016393,
          298.41045578795735,
          280.03440703817336,
          19.885986802539037,
          292.6627310140061,
          305.246304244436,
          276.0722656358653,
          29.228768783664382,
          276.4763745317863,
          25.321544191958722,
          298.3976012022973,
          19.886266557804223,
          263.3190857464329,
          5.740367066306016,
          275.8801853031085,
          29.23215417647536,
          280.0224550253414,
          275.931018503368,
          25.322256623202723,
          41.86120113125606,
          13.076039066105578,
          263.4357732097678,
          292.5538398040524,
          25.324544855296363,
          309.06636161601955,
          263.42275715469685,
          283.28793788756434,
          264.5947631459856,
          269.1739335924855,
          280.0354340060056,
          275.05718744166904,
          292.654726588442,
          280.0011171169411,
          49.1031106907415,
          293.8007061352979,
          292.6447648342301,
          280.01920813765463,
          268.57056948689126,
          263.394770307627,
          263.3188798695781,
          12.63032826474624,
          19.88636384906773,
          11.784564938066625,
          317.9758547279817,
          263.44517575446287,
          283.32188072994705,
          264.6009725562107,
          283.30587487377,
          292.65919336387094,
          29.232222997812904,
          292.64107014335104,
          12.63032928291755,
          264.1275555778941,
          5.740366975405531,
          292.63926566734,
          292.57338693073854,
          292.59459475054547,
          298.4095633777533,
          262.33767293807495,
          292.61172665350426,
          280.05408428614874,
          293.8359346749551,
          264.62103295506836,
          292.6802461007374,
          16.636065887752824,
          263.28675629383787,
          263.42213046091007,
          263.4424767335964,
          276.5113426306458,
          305.69063669022745,
          269.1254174441871,
          29.230145935316397,
          263.42225839471297,
          25.32194371443321,
          275.21284167498465,
          11.784558709037807,
          16.636047292229634,
          292.62468884789257,
          279.94861767268367,
          276.4907854004182,
          12.630328571423068,
          264.55093034806464,
          293.8220246812306,
          298.4156722820582,
          16.63606660992497,
          275.9455363382362,
          280.0650204208031,
          263.41849470245336,
          16.636011265700233,
          280.0336294104562,
          263.4426889799869,
          292.62773575446914,
          11.784561883399252,
          25.322870700278063,
          19.8864926584552,
          19.88638046145337,
          292.67112580938266,
          292.67609317544793,
          1.172481602851888,
          263.44863328072546,
          263.4283876184678,
          264.6173473431357,
          279.9847259605896,
          292.6734797897271,
          292.5524792166383,
          12.630328292494616,
          292.59323589113063,
          263.3555052691937,
          16.636090428467774,
          275.1957918907273,
          292.6778300730115,
          11.784560047953914,
          269.18966036436854,
          292.62945107816944,
          292.6703506594849,
          263.4339930512237,
          275.94522122063216,
          12.630329348850953,
          280.02608085375164,
          292.6811592249843,
          264.4556309995274,
          292.6686876286194,
          13.076077320008578,
          305.7344303692562,
          292.66486130078175,
          25.319702088855028,
          292.6607176284182,
          25.323574011800158,
          16.63608561826046,
          11.784556329164097,
          264.61477836746815,
          292.5269895785464,
          305.6871614265452,
          263.14920402044504,
          264.61891202203174,
          12.63032856026585,
          292.6690943587262,
          292.6668655500591,
          263.3925024483014,
          275.23223372505316,
          280.0128267501986,
          275.21278371768096,
          29.23238832917303,
          19.88634317738797,
          280.05811578638014,
          263.44472620227293,
          41.0087785060627,
          29.23269877647072,
          280.0249755025536,
          275.23173104850395,
          25.32410087741897,
          275.2307573333794,
          292.6745942325167,
          292.61054847080527,
          263.3701142761996,
          292.67641271111967,
          292.680216601811,
          264.61425135724005,
          11.78456494805263,
          292.66213076846367,
          298.4023143301562,
          305.6363562882092,
          25.32493722694825,
          25.324704993434334,
          25.323306284036487,
          264.611004270743,
          292.6771024302784,
          5.740367080566704,
          293.82925037032686,
          292.64980273857884,
          298.35458086298433,
          12.63032888231398,
          292.66937691975136,
          292.652897786234,
          298.34317797693626,
          11.784561170224226,
          263.4372279785754,
          305.7361625667254,
          292.01309494116816,
          264.5903814357272,
          12.630329099830783,
          264.58803299676885,
          263.4203336954545,
          275.927198153665,
          19.8862994943856,
          264.4656398137091,
          13.076042226480675,
          25.326217344299828,
          279.97607825892027,
          13.076039894763518,
          292.68100301605404,
          276.004236474916,
          263.42022315835266,
          263.4469007723552,
          276.5208841954392,
          11.784560129216736,
          16.636077023175115,
          54.524575733554,
          264.51034387574947,
          13.076042674283014,
          276.40605258149105,
          292.6644740289327,
          13.076059366128417,
          19.886280403948692,
          16.636060608940575,
          292.67838348043637,
          34.97307765279917,
          11.784560307290567,
          292.5792696319479,
          263.3189176028108,
          274.4749427673533,
          263.4118302364509,
          263.2927697814381,
          11.784562279691835,
          292.64451109966694,
          19.88649991500184,
          292.6507294123292,
          25.32520512994186,
          292.56598414749385,
          292.67542973151546,
          280.0688728281003,
          292.6331351354513,
          276.0738496445533,
          292.6531146267135,
          288.4986824764259,
          264.5442805458389,
          19.88624818418069,
          264.60634526383643,
          276.41825775594043,
          292.6771247065722,
          276.0389590756186,
          264.5682191787234,
          292.64111469003046,
          292.6367672492725,
          263.4322200455617,
          25.322333905515798,
          292.65664945936885,
          25.326280138803803,
          5.740367093330985,
          292.62388834470215,
          292.6347625651182,
          298.40088927024306,
          298.4139274930148,
          292.6751988063934,
          292.62631971081,
          31.670645379118948,
          263.4238223532904,
          263.43961744815084,
          25.32460801312178,
          292.663474539728,
          16.636047282727457,
          49.11682678576024,
          293.7614097896177,
          264.6101762991995,
          264.5708908623177,
          292.64674170783076,
          276.07222138416296,
          25.319115611746813,
          25.325997348272125,
          19.886297797007455,
          13.076078645727021,
          292.67904732750026,
          13.07607669332141,
          292.6758183228648,
          276.5039594782561,
          263.3126700672041,
          19.886504353052445,
          31.670597549487088,
          317.9776671651657,
          292.63578517834134,
          276.06383552142586,
          292.67341940136134,
          292.67175552836534,
          49.114690520128505,
          312.54585976822824,
          264.5147571817196,
          308.85773689040485,
          263.44977072144053,
          292.6837500620467,
          275.98382286888426,
          263.39305613302804,
          11.784563644008282,
          16.63609071483586,
          304.44101590982655,
          264.6182470867399,
          292.67087182805665,
          263.40966365598086,
          292.66426067249387,
          5.740367048113872,
          19.88620190455626,
          292.65321347952386,
          25.323328792661385,
          292.5950073453854,
          264.60652764983223,
          298.37912489558033,
          292.67230409722146,
          16.636078433151912,
          276.0155951890542,
          280.011101241533,
          263.3771249132765,
          25.326122887564345,
          280.0747806360341,
          269.1885817505599,
          292.6563227146077,
          13.076033955200966,
          25.32437134023435,
          276.51608367019065,
          11.784564208212329,
          5.740367071870812,
          292.667462341531,
          292.6700990891416,
          16.636048730994034,
          292.67715371436867,
          1.172481600659518,
          16.636077021135222,
          292.6820260797882,
          292.66748103358975,
          25.32628087211141,
          292.6564374244903,
          263.4271745568654,
          292.62734178892174,
          11.78456386326788,
          25.321185187803287,
          283.27898998640944,
          264.59815250820776,
          288.552400302089,
          292.67056538929626,
          11.784562756305114,
          292.626706752934,
          292.560658509576,
          263.35246356880987,
          269.0681771267022,
          264.6058941665436,
          293.8196490478337,
          13.076068854325227,
          292.67979710381053,
          265.90288657885367,
          16.63609273347311,
          263.3815597600787,
          263.43235825877287,
          16.636061786994954,
          304.4362694017732,
          280.00145819679904,
          263.4294183074629,
          279.96683211861534,
          54.55604643178092,
          25.323478524663486,
          19.886268857896173,
          25.32577440838961,
          292.65114694485163,
          275.6735092754048,
          19.886354970723282,
          12.63032952124724,
          264.61067929989593,
          54.52952999700016,
          263.42890308555974,
          263.1948985055248,
          312.5356516353428,
          292.5852225643859,
          13.076058477014744,
          305.74924186103345,
          11.784560866358186,
          34.973233610070835,
          293.84706755884594,
          269.17410864883726,
          292.6748220223769,
          292.66791429526006,
          275.1628736785466,
          16.636087038151135,
          292.6538585893755,
          292.6725064811064,
          292.6617329270685,
          280.03783979396536,
          54.54917632876956,
          25.32627312431421,
          19.88639017223027,
          292.6424715865055,
          292.6811208943563,
          280.0594520381926,
          12.630329536642591,
          292.63350036255565,
          11.784562341849377,
          264.5506975694101,
          264.5730353256726,
          263.4500269790971,
          292.5788277096301,
          264.57357438189854,
          34.97290250936151,
          280.0446358614301,
          19.886316849495834,
          292.6096803395813,
          12.630329660309217,
          292.67093576374583,
          13.076004878351311,
          298.3325879881675,
          263.4495140596677,
          279.9850140924501,
          292.6645947535084,
          292.68011913074974,
          292.67447629280014,
          19.88650101348186,
          292.66886973653664,
          16.636085977986756,
          269.0787589687544,
          305.73783310700117,
          13.076048652246344,
          16.636067793954695,
          25.324972930510725,
          275.9968429543869,
          11.784561348359219,
          12.630328838022002,
          292.66789045546005,
          264.60426603014525,
          25.325596940374353,
          13.076054476027371,
          263.0719543257197,
          16.63607465233498,
          263.40038321817326,
          13.076073193785874,
          264.57754190359054,
          292.6623955308533,
          292.64431589232566,
          292.67019745503035,
          275.23061937786565,
          13.076064683495643,
          264.6028160516224,
          19.886499013457406,
          292.58192750730586,
          276.069331978592,
          276.51809912209796,
          262.99757610131616,
          263.4268234569416,
          280.06219398096647,
          292.6595069398393,
          292.67400961773666,
          279.88659363730477,
          288.533777708506,
          288.5790988348173,
          13.076077027410125,
          11.784562290915682,
          280.02579358739433,
          25.320185910063053,
          29.23259822199059,
          25.32629305028965,
          268.9889755861179,
          292.678619843529,
          25.32351895275316,
          292.6654092145881,
          276.50350827064494,
          292.6650263156888,
          263.4438909430183,
          264.5463377849366,
          292.39047366202857,
          263.42543012963466,
          305.72479510744,
          264.60769598202324,
          288.4793233293344,
          292.66867361299063,
          263.31960505011784,
          275.2264592393247,
          12.630328959811935,
          288.59310827201995,
          283.31227972666136,
          11.784562408155763,
          292.65651563443754,
          264.57028617586,
          292.66363011737525,
          263.270781645355,
          292.6816311544097,
          292.67081784799126,
          280.07676787321157,
          292.67158108082356,
          263.40225337028374,
          12.630329964985117,
          269.1425664716389,
          25.32630090520562,
          25.3216422079232,
          292.6092638123473,
          12.63032889511479,
          292.66815160695717,
          13.076053902747745,
          292.6356753026488,
          292.60201068837864,
          11.784562392854713,
          292.65798995020714,
          292.67986248980424,
          305.71270253427906,
          309.1560019792463,
          276.7484524597506,
          275.22660616886174,
          16.63609053669099,
          25.32610497130445,
          279.94250507099815,
          292.6500487593397,
          292.4779492266883,
          292.64625909036937,
          305.7361131034228,
          13.076048786608359,
          292.6602498438026,
          292.6471489064772,
          292.65318187313574,
          292.67876370088754,
          304.45367372007087,
          292.6743853118358,
          19.88611408692351,
          34.96424526753578,
          263.4420044212933,
          264.61207694146407,
          280.0687819223481,
          12.630326271647629,
          263.4122192771477,
          13.076059097507756,
          263.3997348120807,
          292.66230190628687,
          264.61637969504835,
          25.324590567572805,
          16.636041820932412,
          54.55289666384883,
          25.326172844513138,
          292.6042030854721,
          276.4543193326468,
          276.05810580265955,
          292.6722690610279,
          263.4282583849507,
          263.4363518456885,
          275.22111030199085,
          292.67770925794235,
          275.22634112425817,
          276.48479569225293,
          12.63033021707321,
          263.34964092037774,
          12.630329337828783,
          292.61081573377635,
          29.232002184283708,
          268.9940325946306,
          264.60110258621285,
          292.6428953091689,
          264.6168935523144,
          293.78275087698205,
          292.6508847825351,
          264.60077705924095,
          275.988358802387,
          292.65430267986096,
          292.6314131312661,
          292.6600383861695,
          304.43666188485236,
          11.784560833645115,
          292.64471153975256,
          279.9283548732559,
          25.325282119626483,
          292.67607288245176,
          11.784562487237485,
          29.221919065023055,
          305.74071275972744,
          276.5172721962553,
          263.44582790345595,
          264.61899750888296,
          293.8325163617144,
          276.45718053268484,
          292.6777534310146,
          275.92106470969543,
          276.061219671602,
          304.44708725651566,
          263.4352175176651,
          25.62670130901123,
          275.22881226905537,
          292.679242722964,
          292.65841606724365,
          264.4932906101957,
          25.3242186248237,
          292.6281445244141,
          275.2235676348372,
          263.44049177957953,
          292.6673210485905,
          16.63609291791544,
          276.5107870120384,
          292.67216551948337,
          264.609383825484,
          292.6802378316355,
          292.6777814545942,
          292.6598008792837,
          12.630329340513287,
          16.63609562585427,
          276.44778071176756,
          262.9081732236854,
          275.2206324585486,
          292.63242168689425,
          29.232562714915105,
          269.1901042468555,
          11.78456456371993,
          292.64765945376575,
          292.6293654881488,
          292.6790298106087,
          275.22148560896215,
          29.232824282922156,
          292.6719518949751,
          19.88639983267891,
          263.3955245929318,
          19.886204962200626,
          263.43730126572336,
          293.84478464377867,
          13.076052197614944,
          260.63216879589226,
          264.46411754627616,
          279.78788314499144,
          263.06302161520597,
          275.20574472930036,
          292.6803210411361,
          25.325927762495034,
          25.323751350376995,
          292.67744342963266,
          263.4466516912233,
          25.32612085745896,
          263.43555756077865,
          288.5935199387713,
          292.6795050829993,
          264.60363501672845,
          11.784558607719068,
          292.6675544968056,
          25.31677451750709,
          280.0689213559538,
          29.23272416521733,
          292.66810409216157,
          25.323156827427308,
          263.4498992106363,
          283.31248716054023,
          262.696178943826,
          275.31112710410537,
          263.3392934198928,
          11.784560175931782,
          292.6751934836782,
          292.541085185811,
          280.0685973886207,
          292.6823921631669,
          25.32532625754227,
          292.5479164992985,
          263.39079517918157,
          275.2284528046282,
          263.26767551532004,
          263.48002607892937,
          263.2673569470591,
          275.21028855365427,
          292.6328254361815,
          13.076061702550769,
          292.68097016409644,
          275.83850599133575,
          309.2867045263279,
          264.5544733005568,
          317.9491623947137,
          263.42988765664234,
          275.1989301601612,
          264.10967527619596,
          25.320348932113404,
          292.6734844995612,
          292.65854442938735,
          263.426774459461,
          263.38707263633006,
          276.01779132074137,
          298.3982246666944,
          263.32802311866044,
          279.97681534746823,
          273.4101483079042,
          292.66403074793124,
          263.3626521816353,
          269.1843114908304,
          25.325691359577757,
          292.65916328951545,
          25.32628427422882,
          29.23180460108893,
          16.636086281365102,
          54.546474130771415,
          305.7134497086269,
          13.076063914676654,
          263.43568553494913,
          292.6701137561647,
          263.429054046047,
          298.1600254729059,
          276.51407689834497,
          263.4168297837637,
          13.076050727931165,
          305.7225616613705,
          292.6581327979792,
          25.32259557907706,
          292.6775128095172,
          263.4244021658056,
          11.784562731446194,
          263.43879517205056,
          275.68798940316606,
          292.6488265673583,
          263.4347843279465,
          288.60255856313546,
          276.5064445027666,
          279.1421765493356,
          263.41469693621053,
          19.886385689268486,
          25.326209574151324,
          280.03347167725485,
          263.43756389107256,
          25.32501680832904,
          263.43600432329663,
          16.63608519838622,
          293.7771248068758,
          274.6827611769955,
          263.40565116139067,
          263.3744540638513,
          54.55475547524354,
          292.477671476922,
          12.6303272287962,
          276.477798743592,
          264.56732959767726,
          276.5170354141691,
          292.67475772163493,
          279.91622962417097,
          264.54543788651733,
          264.59644243432643,
          25.324548094631943,
          292.6789410324747,
          12.630328312337502,
          25.323422320197754,
          291.7724549672824,
          280.06560318083143,
          292.5912233244356,
          292.6568307354314,
          275.2242551041276,
          263.4395966934171,
          264.5902107823388,
          12.630328013506224,
          11.784561965739739,
          292.62505478575525,
          12.630328324471257,
          16.636075618063856,
          263.3016559233836,
          263.4073462694877,
          292.63375129591395,
          317.8641691434906,
          29.23229849631808,
          276.01835838605354,
          262.87179196002364,
          292.6169369728646,
          12.630327945870757,
          16.63606996329949,
          263.429398695023,
          292.67858375280383,
          263.4189541456149,
          275.9709543711355,
          275.2147000923871,
          40.99692510581849,
          25.3220705646025,
          16.63609410891488,
          25.324715535319857,
          292.654177253202,
          263.41290180753646,
          25.324666882795448,
          13.075983503595886,
          264.6029437781869,
          275.1997037598356,
          25.318247510572952,
          292.6804787661768,
          263.1220488671604,
          292.5648598271421,
          279.43538514511835,
          12.630328139395342,
          292.64497315468515,
          292.6812013787971,
          11.784564937757263,
          275.56775386302496,
          263.3346276985303,
          25.323631233402022,
          16.636073008474426,
          292.65651968664594,
          276.0318824441009,
          292.6471395438576,
          292.6733847864055,
          275.230354315575,
          292.680262449643,
          13.07605237596201,
          292.65897573523563,
          11.784561837363128,
          276.0771919095157,
          276.51782028189433,
          16.636096635216862,
          264.5768726304889,
          298.3716741966404,
          264.58917600250817,
          263.4132216322752,
          263.421382661364,
          305.70739229737643,
          263.3706474982287,
          276.0064306838229,
          264.61547503490976,
          292.5693616572099,
          292.67652122311495,
          269.1843238546799,
          275.5729711587856,
          309.2795888428142,
          292.58422145378734,
          263.44606973249364,
          292.6518188342142,
          263.39378673946504,
          298.38701371714274,
          13.076053391411772,
          25.325038228675286,
          263.1423672892152,
          19.886161330625445,
          19.886501032042567,
          292.67271942983496,
          263.1677060520834,
          263.42449378875443,
          280.04210069448254,
          264.5388524054868,
          12.6303291832684,
          298.41493325745364,
          292.67669825135323,
          274.2440463843822,
          292.66521553692974,
          263.44588321268805,
          16.636092018157072,
          283.3226398437743,
          292.6763074215422,
          34.97334226900346,
          280.04303373310194,
          25.325657013996434,
          292.68011241042586,
          19.886430296176453,
          292.628631393538,
          298.3403632238901,
          13.076043163020593,
          283.29710196734203,
          54.551115383633906,
          264.5243512148626,
          292.68293891485337,
          298.40869548718354,
          276.44262100573576,
          305.150311045075,
          263.4265431567818,
          312.51851747409717,
          11.784563443770946,
          19.88649902437475,
          292.64616985530876,
          292.66426678296807,
          298.41387835786185,
          263.44200737364406,
          16.636088327117818,
          25.323162983082298,
          292.62992316767475,
          12.630327510093895,
          280.06931525311813,
          19.886304748060596,
          292.6558082732468,
          269.09957725338387,
          292.6555840713448,
          292.58980503986754,
          264.30750311946343,
          25.325124169095233,
          276.47144671491134,
          275.70086632550857,
          263.33786712502535,
          29.23308576454288,
          263.4451647838851,
          264.52208452707987,
          1.1724816010182169,
          49.119258348253936,
          275.4367543809179,
          19.88647545708722,
          292.6423208609899,
          12.630328569529265,
          5.740367057611564,
          293.82199564486444,
          263.1176212897367,
          29.232978407799333,
          263.29427432245626,
          292.671230472195,
          304.4443735639527,
          19.886425244303705,
          12.630329176983254,
          298.4065219815993,
          16.636083549956997,
          292.57106800807895,
          25.325307572307743,
          305.23128703357776,
          280.0487454485336,
          5.740367061293721,
          269.18568555094953,
          263.4239198962317,
          292.64640907052905,
          292.6801456344027,
          263.31624018761937,
          263.3701740073062,
          292.6707589578764,
          19.886332558589775,
          276.5097129222808,
          292.6712970367728,
          292.6767286131238,
          292.67325887808636,
          276.50977762137506,
          263.44232407759756,
          264.61085663449137,
          292.6471345754402,
          292.60530760087715,
          263.42979491429566,
          292.67689846353204,
          292.66584414206994,
          292.6737960788615,
          263.43837052536577,
          292.66905344440227,
          263.41808284947155,
          25.32629299479184,
          263.42053548504407,
          309.24671657145433,
          19.88640567033929,
          275.3063689332971,
          19.886382895086054,
          292.6566751106393,
          305.0945357097803,
          276.502709505973,
          25.326194492119942,
          11.784560487958998,
          29.232732730944562,
          292.6058695022084,
          291.23030839124544,
          276.0198813161208,
          263.4465757155191,
          280.0002514813177,
          292.66909637271897,
          263.4450068180533,
          292.5707632306679,
          25.322016762298073,
          283.3205867934054,
          268.2907009597183,
          264.52639184495,
          29.2309960588542,
          292.6255654379145,
          292.66683609088597,
          19.886180713533093,
          263.42567801777625,
          25.325345526231622,
          25.317170588660552,
          263.44609525720597,
          292.4119195489491,
          264.60982740400226,
          49.11766733457891,
          263.44956194038275,
          317.8827501294345,
          25.32509823804688,
          13.076057878154138,
          263.4372399897985,
          11.78456445612955,
          19.88635899281847,
          13.076073768853353,
          264.6122846855018,
          25.325873562887566,
          292.6741049643399,
          16.636093662175377,
          292.67747804588976,
          25.325808986014152,
          305.30086720267894,
          264.5577149736922,
          263.4380070892803,
          257.2342384598027,
          292.6342912639545,
          25.32486358432704,
          263.44405060253774,
          263.2738566525121,
          292.59175061461417,
          12.630329015254883,
          263.44117545065114,
          276.05701260601603,
          292.6731022603014,
          13.076032216330924,
          275.51325412638954,
          276.51484225013013,
          49.11843982285903,
          25.32571753391858,
          305.2327824747423,
          12.630327152354242,
          25.323849863167844,
          16.636085078775164,
          263.39514689212444,
          276.3919023771522,
          25.324203368436006,
          263.39736232855466,
          264.61721962023347,
          292.6521505975638,
          292.6229650311956,
          264.6102081474891,
          291.9270716550217,
          34.97020136043778,
          292.666220318134,
          1.1724816042840072,
          25.32619554762593,
          263.2728070282269,
          292.6586264030216,
          263.3528565508804,
          29.228161696347616,
          292.6512570311915,
          264.57145485038996,
          11.78456206560687,
          292.2758111602211,
          276.34419662240464,
          19.886249924240346,
          292.66148811299274,
          25.323806197370068,
          263.44817176162996,
          292.6716448363475,
          16.63609842560089,
          34.9730462288941,
          276.50558979421345,
          34.971124709751564,
          292.6676746734661,
          283.3236672721658,
          263.4168128330211,
          312.535139375978,
          292.6121949637179,
          264.5552498704827,
          16.63609384317159,
          283.3250197389461,
          275.21951948285044,
          264.57542436610174,
          13.076060566259434,
          292.6692182414799,
          292.6716046416062,
          12.630328526854742,
          276.51531487188555,
          263.4208292335337,
          292.613014392383,
          275.160271476001,
          288.63440172138684,
          263.436050956637,
          292.67373198131645,
          25.324683497932554,
          276.5106427680469,
          11.78456184996844,
          283.30419249640903,
          292.47394705265543,
          312.5190649607584,
          31.67068360253226,
          292.6460853651703,
          293.8431034366729,
          292.594336296651,
          5.740366815606543,
          293.8373192586868,
          41.863315375266346,
          263.4043191782422,
          263.406456540011,
          280.0800719423904,
          11.784564842409383,
          25.32447890750371,
          19.88620029728824,
          263.26978747593785,
          292.606729698002,
          292.678643493057,
          19.886464845719722,
          309.10918376486103,
          264.60314512176814,
          292.67252602376044,
          292.68018825750994,
          263.4424838190066,
          305.2855477337105,
          25.322774206556492,
          263.3971513755542,
          269.1822601751452,
          292.61998131841244,
          264.5947004245066,
          25.32105253155675,
          280.02741407627866,
          263.4190222628174,
          292.67346215843963,
          292.6701475552796,
          16.636082647875785,
          283.29568751422516,
          280.06743160347884,
          292.67102263450306,
          292.66840980994766,
          293.837716686216,
          276.49748565659786,
          292.68092574538184,
          292.5751238450596,
          264.5870820642339,
          77.49866866409833,
          292.6797966132117,
          293.8236325942053,
          275.4700087609932,
          275.7853761132094,
          263.37410650496486,
          292.6127176578927,
          264.60954236846635,
          292.6765509018322,
          29.23165478655396,
          292.66287277159125,
          275.21923840610253,
          19.886507514329598,
          25.323622811904777,
          263.1536147718093,
          25.32113503747706,
          288.71207396866924,
          298.36706183686323,
          16.63605637585345,
          273.86914647362386,
          264.46270621877414,
          31.670878429440698,
          25.32303762014684,
          292.67771020853803,
          292.67211989014186,
          292.67193045834557,
          263.43098912364235,
          19.886221386455908,
          11.78456445446606,
          292.6371063843683,
          263.3742043058181,
          19.886285886017124,
          298.3712757999338,
          29.229306412966842,
          25.324438200987515,
          25.324821275790978,
          275.1981109302275,
          11.784563892875743,
          263.44552805660743,
          292.6542978370336,
          288.72073717751096,
          292.6533016028535,
          12.63032771407215,
          275.23301157842474,
          32.962001619743766,
          292.68312277640155,
          292.50889076716896,
          263.41127521605557,
          12.630329061800028,
          263.43844554936067,
          263.4236879536664,
          263.41533003413923,
          292.6728954756446,
          292.5399628644935,
          263.429067515778,
          283.27431985768055,
          291.28736660684194,
          292.63943166423223,
          280.0029103375895,
          292.59519500208563,
          263.41300268316996,
          292.6371500818534,
          12.630328774634894,
          292.6556255057206,
          275.20652206826173,
          292.62883555235385,
          292.65710990783134,
          305.72510540098233,
          276.4589465310219,
          19.886405565549587,
          292.6720479249886,
          276.00015438965016,
          276.05838277183165,
          292.68005225656253,
          16.6360838830869,
          275.22440720502664,
          263.40670191135507,
          292.66433627924056,
          275.9210610193851,
          283.08984376960024,
          16.636089383316776,
          263.43589619814276,
          11.784561477834371,
          292.66210324351573,
          279.9867678720528,
          276.0633261578862,
          292.6688439143805,
          264.5777141893683,
          263.4235539303911,
          19.886319399877323,
          13.076041324729474,
          34.97317868575619,
          269.06982164838666,
          54.558412794571055,
          292.67295189850023,
          292.67032843028124,
          317.9167112893302,
          292.6682428084113,
          276.48551521649716,
          275.72335747983976,
          13.0760574019202,
          25.325506619021613,
          292.6798982148645,
          292.68132611130716,
          276.42958945740435,
          292.60494561118384,
          19.886426708834396,
          264.61354529834523,
          292.67451572476523,
          292.6522349428288,
          279.7543594515073,
          275.8027571043578,
          292.64516675529586,
          263.1390857265828,
          264.62052823199724,
          16.636077018745937,
          263.4471946218174,
          13.07607761863861,
          263.35262680584134,
          16.636091347310142,
          292.6555027307793,
          16.636088740439796,
          292.6462586206444,
          264.2705267034252,
          264.61813969858093,
          298.28110900703206,
          12.630329684965279,
          276.0217092510936,
          13.076078041360415,
          263.44190049516567,
          13.076055734200999,
          309.2449232013026,
          19.88650445899154,
          275.2267166869801,
          29.23199969057186,
          25.323446994472512,
          292.67545469565164,
          11.784563703926235,
          263.2930306436714,
          292.5581548766785,
          292.6817659082208,
          16.636075590843454,
          263.40113182273905,
          279.96042848122113,
          13.076048901578707,
          292.67707273939624,
          292.6627144504085,
          276.0072163877949,
          293.8517364608601,
          262.78443992508113,
          16.636088472786,
          279.9211498752597,
          292.64434090140145,
          11.78456455868066,
          292.68111844536196,
          288.7484603347753,
          13.076038210146589,
          275.2114080468943,
          263.3415701393108,
          263.3127314980588,
          264.6137769877611,
          275.48473616582925,
          292.67220095904037,
          25.326253342090087,
          263.1747862259475,
          16.636080035281203,
          263.2864929468523,
          25.326129338997195,
          34.970811233763214,
          298.4163523758682,
          5.740367071679057,
          275.22754052231056,
          292.67984732976873,
          275.2235335239309,
          263.2204093451499,
          263.43198165571545,
          16.63608754027716,
          41.01615992286455,
          292.5280819931378,
          11.784564891318423,
          298.4055227762705,
          263.3881386244183,
          279.96687546824273,
          263.4426108415303,
          264.4872538088591,
          292.67791387336865,
          280.0653441080326,
          304.44492559228905,
          292.6383880074474,
          292.6753500255217,
          275.7457832315604,
          275.5476231115223,
          11.784564649368964,
          16.636090555938818,
          263.410812810008,
          288.75682142688726,
          263.19471826685253,
          280.0624983983194,
          263.4085776396632,
          275.2114829217892,
          25.325757829822393,
          292.634091741181,
          269.16047136842064,
          13.076066277341576,
          292.4746855032957,
          275.2034223462478,
          25.324675518522167,
          280.0749380636778,
          292.6732156156578,
          269.1729454672944,
          276.4867649086787,
          292.5889937351276,
          298.4097311429841,
          11.784564739661963,
          288.5746376779864,
          25.32620176361019,
          5.740367075010248,
          264.61210798357797,
          276.0083692344406,
          283.3206234399076,
          19.886507438360084,
          298.40272213689883,
          263.45000059759644,
          263.4050768006786,
          276.03777412833244,
          276.0442743527841,
          19.886356060345893,
          25.32190667175674,
          25.324287426377676,
          276.0118467457889,
          276.509199675468,
          292.68052817251663,
          264.5531607479684,
          12.630329406520197,
          275.22606076564375,
          49.1154509789301,
          292.65417758086346,
          41.013475457002926,
          13.076042691296562,
          41.01008286097282,
          263.41061278110914,
          25.326187523652784,
          264.59660188120336,
          11.78456221084103,
          263.31753904935,
          11.78456366075686,
          29.231629108750834,
          41.01525016822697,
          292.660396481867,
          263.38552505426156,
          292.67386761600113,
          264.59416921752734,
          280.04899154829354,
          12.63032872781188,
          292.6710531306003,
          12.630328642817743,
          292.6761359361043,
          12.630329504205202,
          280.0628958020274,
          11.784564246311941,
          264.4750622116527,
          263.36217949523336,
          298.2238348717284,
          29.23026619966477,
          263.4202252096381,
          12.630328838965019,
          276.5161406212701,
          292.65047541139893,
          264.56513683024576,
          275.22202612552775,
          12.630330457039669,
          19.886511061495003,
          292.6564724764044,
          263.02079350106465,
          276.9420327937024,
          264.560738992689,
          25.32508533933625,
          264.57320347739807,
          13.076078349008739,
          283.2519825713866,
          13.076063017035988,
          263.440330701943,
          292.67539773652567,
          263.4127239497149,
          292.67030491014185,
          292.66466235569595,
          263.373758101358,
          263.32999187151,
          292.6635786052507,
          275.2315102094966,
          29.233179570398086,
          25.32437115256084,
          293.81634565515964,
          263.38191502131957,
          263.4465373230002,
          276.46088865495074,
          292.6469367322957,
          264.58343835004706,
          292.66377918451997,
          292.55330365089156,
          280.0699263080566,
          54.54952337624531,
          263.44837136190506,
          25.325963236180336,
          263.109001835389,
          292.6706802142508,
          288.7282663593899,
          19.886284819607795,
          25.32143652980084,
          263.3967314226509,
          292.6379825734949,
          292.6461907404396,
          16.636091825998484,
          264.6127863551641,
          12.630328466503126,
          292.6755217286444,
          292.6794434182669,
          12.630327543135559,
          263.43878917028684,
          263.2990882780752,
          263.37819102567005,
          263.39178894905507,
          264.6002892845584,
          292.5210059310714,
          305.69533714423517,
          25.325729074294195,
          292.59498777609423,
          19.886320393863382,
          13.076068040145998,
          263.4479399152485,
          264.5265751208654,
          19.886424178420025,
          34.973449249417705,
          292.67817216198864,
          283.32860397828733,
          292.6457820214628,
          292.6397128962889,
          276.0667807429284,
          292.67923250359695,
          292.64044736483766,
          280.0142202993512,
          312.5325278115921,
          263.4455206256893,
          298.3883489305634,
          263.4329057174243,
          29.233113384439353,
          263.37871149841027,
          19.886299824777005,
          292.6821053975028,
          292.6370205481375,
          292.67694809101954,
          19.88620077714161,
          264.5631649043032,
          264.61064451952666,
          5.7403670491111765,
          292.6801986013511,
          25.325050949203288,
          276.0770201952313,
          269.18794717809607,
          292.57488239948776,
          13.076064723895872,
          283.2866190846868,
          16.63605048041592,
          19.886342949735866,
          19.88645973161318,
          292.6644613447421,
          292.67367446132266,
          263.4370760157425,
          305.7196139328523,
          298.4123155396504,
          25.32471255939926,
          29.230459690874277,
          292.68167951822693,
          19.886148116840012,
          264.60202266008406,
          283.2272295823229,
          292.6816533788129,
          292.5709362087068,
          280.0658514161713,
          292.6665648153612,
          276.3766853673986,
          292.64008267486156,
          292.6771746293252,
          292.227463506774,
          275.92717572270107,
          298.4095029757359,
          19.88635029273477,
          292.6350960454987,
          292.64673050973175,
          291.80038427446067,
          1.1724815999217677,
          292.55980781921846,
          275.21027561663186,
          264.6058628621711,
          263.6048046564385,
          12.630328276972032,
          305.67593356256265,
          292.6177561562976,
          263.4437049910601,
          264.5481333171119,
          263.4291684061984,
          276.0465761263258,
          264.6191894070636,
          312.51954419868935,
          263.20761552827554,
          292.45660354300264,
          292.6181627539466,
          290.5530209592611,
          25.326302646604866,
          292.66491315574183,
          292.5498296280315,
          263.3709900898703,
          263.04095210315785,
          264.581735951607,
          25.32610042196548,
          49.11151681616968,
          292.6528857250636,
          292.59569170896003,
          263.4409458885449,
          292.6809596197609,
          12.630328846467805,
          25.322586368518902,
          276.491614558309,
          263.4431048912852,
          34.972515281169045,
          263.4403821338047,
          292.6497973671547,
          293.8438676237514,
          25.325044148164096,
          276.49445928054,
          13.07607437481731,
          25.32450623935138,
          12.630327550598201,
          263.4315044789465,
          16.636091689097615,
          292.651336731498,
          288.72396998318794,
          19.886378847142517,
          298.41857815547877,
          283.3150729924714,
          263.3810243976634,
          19.886457532295406,
          275.998523424053,
          298.3737786272485,
          275.1443654557144,
          264.55674155061814,
          292.64699660058676,
          263.4492749558467,
          276.2420854995335,
          292.44625905608325,
          305.6861984152625,
          292.6634841301943,
          292.6802071706182,
          292.6615768261554,
          275.22610384581355,
          275.53639136898107,
          305.2911401440306,
          283.2919203062645,
          292.6747561439835,
          19.886360625610372,
          292.59354169251,
          263.4090377106196,
          263.4399663178757,
          292.57588943399156,
          292.65557384972595,
          19.886073493233418,
          263.4431338468389,
          25.325103241627442,
          280.0123533637402,
          283.29475664408477,
          16.636078678843504,
          292.6523352664003,
          276.0247836228708,
          19.8864759265869,
          288.6693076109281,
          54.54934643631031,
          25.320103492554715,
          263.4320126133878,
          275.22005895395733,
          292.66618245960694,
          276.0625967596209,
          292.67910122171645,
          276.52008759859194,
          276.0625300531561,
          264.34999875326446,
          292.667988665614,
          263.4423048155742,
          25.325788804433362,
          275.23309330490207,
          292.67673380857735,
          12.630328367542559,
          292.65118355532104,
          292.6632007230135,
          25.325497018733905,
          13.076056553468385,
          11.784563169992753,
          263.43756719287745,
          292.67456744526436,
          292.67644481844013,
          263.4344134496507,
          269.17662664274644,
          25.323848151330502,
          263.42005665035543,
          283.32224304843777,
          263.1450284240343,
          25.32520488907776,
          264.39834994238095,
          54.5546097632419,
          269.1670856402534,
          264.5385628940956,
          292.68314686731225,
          276.0407036802136,
          298.2713849832522,
          293.81332717126867,
          34.973180635649264,
          11.784565226486523,
          280.0536261079749,
          25.321979911637293,
          276.5031053307234,
          29.232728645768788,
          12.630328891439452,
          264.60832080575295,
          292.5703581965595,
          292.66683501484175,
          283.2929355709816,
          275.92690676579946,
          292.2768672564199,
          298.4002487154001,
          269.1847693824501,
          19.88626325537745,
          263.43501289502535,
          292.6611642469662,
          305.69768241818633,
          292.67564048502373,
          275.87097341413005,
          263.4179673264347,
          263.4634900173784,
          292.55480712275306,
          264.61661248944927,
          12.63032770992149,
          13.076044928961021,
          5.740367030253278,
          280.03585368628836,
          305.20009196829983,
          5.740367066700323,
          263.3459755921112,
          275.1700900917462,
          283.2931450949747,
          292.5626065545821,
          29.23157414200607,
          288.5930556825477,
          19.886463371141463,
          263.43942634154683,
          293.8526497582142,
          12.63032906189592,
          292.6708069514531,
          292.66195522841656,
          276.0012464600342,
          292.66957210372107,
          292.66409952540266,
          283.2803351129961,
          292.66397533645693,
          19.886491203316865,
          292.65748593789675,
          16.63607525277353,
          25.322030162652478,
          292.6753150555458,
          19.88602511271979,
          276.5052143096134,
          292.67871076884745,
          276.5147664012665,
          263.43168812645956,
          279.95877775809123,
          293.8175363606523,
          298.31179318070247,
          292.66766161568563,
          264.4977953547376,
          12.63032855568457,
          261.3493483347644,
          275.9757279643197,
          13.076049623168442,
          304.3256203677594,
          263.34543798691215,
          292.65086054019747,
          13.07603975654954,
          25.324039649591064,
          269.1021958311805,
          19.886315440178432,
          13.076055723065132,
          298.4195389200471,
          292.67726025219025,
          293.8492744244386,
          19.886498184702035,
          292.6177427411169,
          263.43476613102166,
          283.2768524469701,
          317.7206470019388,
          34.97344131058676,
          12.630328841846522,
          29.232101368042162,
          279.90024471931383,
          19.88622209037776,
          5.740367066398395,
          29.232967478852323,
          292.6595780588158,
          282.48443078454744,
          11.784559970237497,
          292.67406819252886,
          292.6673090404977,
          292.6580568922605,
          263.4394474911901,
          292.5642691270137,
          292.67716750000454,
          263.3973848981962,
          13.076045495278988,
          292.6777073388525,
          280.06231239584474,
          292.6634922188874,
          304.46062816963956,
          292.6335074875476,
          275.9583610386166,
          292.6756984811765,
          12.630329469599223,
          25.32383909525702,
          16.636083466878272,
          29.232584014791218,
          264.60654663865245,
          19.885791562199252,
          11.784563474643432,
          292.6758911360115,
          276.515555023426,
          19.886126016375638,
          263.42724980240837,
          283.27858839327484,
          280.0078106579508,
          263.44419386025487,
          263.307571207288,
          264.6218889888698,
          276.4893818196543,
          283.31379227005425,
          264.5920076181555,
          263.4441207065967,
          292.6523132012684,
          276.516478476122,
          279.84227281198605,
          19.88608745131699,
          5.740367083554248,
          292.6718068001105,
          13.076062715007232,
          298.37455516743313,
          298.40081043957275,
          298.4195227031667,
          275.9332160837695,
          298.3392572074724,
          19.88589082630899,
          263.44549193511347,
          280.064739005118,
          292.67801775304804,
          276.50657963849693,
          292.6700340586148,
          13.076062240286005,
          31.67058471662115,
          280.0165913432804,
          49.10889514149186,
          264.561311940489,
          25.323385670694467,
          25.324637225249568,
          292.6737713120337,
          305.6896451147375,
          292.6789785317453,
          275.2009416233108,
          292.6659181277709,
          263.35635924145384,
          292.6278985848372,
          280.07562583040954,
          34.97313308949418,
          19.88645915347427,
          292.6803415821037,
          276.05189826837386,
          298.3854022206631,
          280.03209088584185,
          19.88626254314994,
          263.436864566716,
          276.02717079423394,
          292.66935666532765,
          275.98422684451486,
          298.3991250681104,
          293.8445561398792,
          13.076041623204796,
          19.88647204830731,
          280.02759605498306,
          305.30457148016933,
          263.3107195427256,
          292.68102761493094,
          263.4424214329495,
          283.24524756943737,
          292.57360495295325,
          292.65300029714376,
          292.32948373121985,
          292.66907544754457,
          279.9769481621865,
          292.68137600884256,
          11.784560596732065,
          29.231573992490322,
          34.97344466484452,
          34.969120279331534,
          264.55681767800814,
          12.630328183366517,
          16.63609197107395,
          292.67002881276414,
          292.5715820727156,
          12.630327580844707,
          279.953265466788,
          29.22739692503603,
          263.20850316365807,
          264.52546926015185,
          263.41097545573086,
          275.96686854383796,
          312.39058859909227,
          12.630328651009355,
          275.7996139553206,
          19.886369456475325,
          292.66898862882766,
          292.67114656348906,
          16.636076942179837,
          292.57579127817365,
          13.076064556024146,
          19.886066700792277,
          292.66179237955697,
          283.290496929159,
          279.9481248488189,
          292.67197511708065,
          292.5635104511918,
          263.4381418438452,
          34.973074886473775,
          12.630326856770587,
          292.64830957568125,
          263.4458170313431,
          305.67940095642535,
          49.11587393135254,
          12.630329729005602,
          29.233123885740028,
          298.4192228699205,
          29.232542115553542,
          54.55193152966929,
          292.6395549248992,
          13.076058064974479,
          292.6515009150365,
          273.7819434697003,
          263.4244707069475,
          263.44069534106353,
          292.67821581765463,
          292.52270368345216,
          292.6730179462558,
          264.60772428835344,
          264.5966021035209,
          263.3619767810928,
          292.6762047039271,
          292.6683234247154,
          12.630329533394738,
          16.63609445429055,
          262.4108063858255,
          29.232956954106886,
          13.076075434164196,
          263.4447841388995,
          25.321989241100876,
          276.4712666005179,
          263.43140949686676,
          276.0140370621583,
          264.57258181942785,
          264.5265476316188,
          292.6724927749428,
          292.66641659858243,
          12.63032884534974,
          264.5887530660306,
          263.42901121195536,
          276.5130589051254,
          292.64490399146723,
          263.44064742599994,
          13.076078841135098,
          263.35829161403797,
          54.54071312429225,
          263.42019850288636,
          19.88629185518586,
          292.66911817683206,
          298.38261907516767,
          269.1166112689768,
          264.60071182990254,
          264.61136134121205,
          269.18138287106655,
          292.67836361356194,
          276.05916441102937,
          276.45214135703526,
          276.4882390498167,
          263.43863480148855,
          292.63469373137474,
          292.6827070504722,
          19.886477844496437,
          292.67831722108656,
          25.324226860262122,
          263.4416855111631,
          19.886414551517635,
          262.7345948303976,
          292.6418447983655,
          16.6360845964934,
          292.6784246203836,
          19.886349161873873,
          293.75589513186867,
          292.6787973777214,
          292.677914423292,
          292.6622193389659,
          13.076075689081218,
          292.6802860095453,
          305.4475677764841,
          16.63609685716467,
          292.63667866620864,
          292.6664609878313,
          263.44656784332096,
          298.42073596670593,
          292.63754242992786,
          16.636091884662793,
          264.6175623981748,
          12.630329310987294,
          29.23273128929485,
          276.37732164655085,
          283.28508519150796,
          32.962089868026155,
          25.322054283200753,
          280.05728380240055,
          54.543427585258854,
          263.4198138574568,
          19.886505402477866,
          288.61264695767943,
          292.5934347135417,
          292.6801502537215,
          298.41049624676845,
          292.65846797270837,
          304.4101195915313,
          263.25158644801644,
          317.92670019978164,
          276.5084597882023,
          19.886039105198066,
          292.6786449623216,
          263.4458311847708,
          263.41704261581685,
          29.23243872919842,
          292.6704110078388,
          19.886149509923737,
          12.630329507637372,
          263.4403076563208,
          262.8822788769429,
          292.6769340794448,
          292.64083621691356,
          292.6697344219801,
          292.5668171881239,
          292.67137351267115,
          292.6836934852185,
          292.63784798129365,
          263.4440392051715,
          263.43683299121994,
          263.4383318784253,
          263.44548918264417,
          276.387299535183,
          25.322746910294672,
          5.74036706074569,
          292.6675453718806,
          312.5500759625682,
          298.3750924810548,
          293.83915295037525,
          305.70213518995615,
          264.5563756073339,
          292.656769386964,
          298.30722012643764,
          29.233034133164118,
          280.0715930580419,
          292.639626276871,
          13.076075704271958,
          292.6606894745032,
          292.67739053197994,
          292.6425890393433,
          263.4153711268063,
          292.67344524134484,
          292.66696754474606,
          19.88604515271389,
          16.63609180241426,
          19.88608133128636,
          13.076061503056705,
          292.64834413091836,
          298.32065137324145,
          263.43026118388633,
          263.30642450443514,
          292.64186215051143,
          264.59121693855633,
          19.886223862608656,
          264.57698417051034,
          5.740367063779319,
          13.076069996820232,
          263.4274217181674,
          288.2936234854023,
          266.07906684079046,
          276.48539043518394,
          298.36421469886506,
          264.43550782064403,
          312.54459098688733,
          280.06476721558494,
          49.115611734154704,
          11.784562791941784,
          264.60885646767997,
          288.42527009424674,
          274.20246988943586,
          269.1850998628792,
          19.886389094820917,
          264.51279065595827,
          34.9734818474339,
          12.630327651626516,
          34.9734370961582,
          283.3258897250999,
          49.11921330363109,
          292.6721465988191,
          264.5091250853241,
          263.4246466455849,
          1.1724816044293231,
          16.63608142710802,
          292.649702379558,
          292.6696326016626,
          263.4411936868622,
          275.20573578826674,
          292.663006449664,
          292.5360919265666,
          292.6723192931497,
          263.3215168706057,
          12.630329772139534,
          263.40493260289605,
          29.229963140259063,
          13.076019528649347,
          12.630327967004217,
          292.5568763308277,
          29.231239964139792,
          292.6743044910776,
          292.66612706762834,
          264.27039194931416,
          34.97297996520254,
          25.32628638423998,
          264.55299113046493,
          16.63606529428728,
          292.68233969876553,
          1.1724815999230946,
          276.0682439703335,
          292.65627485644796,
          263.38065782375924,
          16.636096177750844,
          279.92094133194223,
          5.740367086693064,
          292.5869722655155,
          272.5228207859694,
          16.636093161988402,
          12.630329856036704,
          11.784563866377555,
          279.9710517161912,
          292.652991103709,
          269.17481629582096,
          13.076021658878828,
          263.3982588406388,
          264.5764988216644,
          29.232690152277655,
          298.4081436914576,
          276.47754914702233,
          276.06499556936024,
          264.527075280516,
          263.3962776738416,
          292.67802854369404,
          5.740366997857585,
          16.636091784323835,
          292.6068055343344,
          263.11167254209977,
          25.326145379310507,
          263.4430846267388,
          11.784562291825262,
          263.417455508512,
          292.6399854874901,
          292.66599911653765,
          264.5990471391638,
          292.6815251447335,
          292.678365921269,
          263.3970044252768,
          12.630329822032229,
          309.2762537730112,
          263.3535215240218,
          293.8206584753897,
          280.03833475099606,
          264.58977714297345,
          29.232479863346267,
          263.2091413502926,
          275.98235487130245,
          263.2539766059431,
          11.78456321317857,
          11.784563805007405,
          292.63842778900596,
          16.636063978187973,
          19.886410188096892,
          264.6193945245587,
          12.630330310873287,
          275.2070720233358,
          305.82844476266445,
          292.57005376828585,
          305.23752798539687,
          292.65379208641116,
          25.32469990988126,
          19.886489853256922,
          309.26269538623893,
          264.46412681707693,
          275.17173467542733,
          5.740367011537013,
          292.6517115130475,
          16.636074061887953,
          292.59214769178726,
          263.35054298461654,
          304.45213886042933,
          283.30622177709256,
          11.784561540444008,
          269.1146375040697,
          292.6672235294369,
          292.64916903643905,
          280.0459069918583,
          25.325556406290673,
          276.0397434349535,
          29.232584040138384,
          13.07603985075008,
          25.32445719965089,
          263.40972470819275,
          292.64439649483944,
          279.99387834377,
          54.555549896627916,
          263.35368580252805,
          263.00879047999257,
          263.3821610176398,
          29.23213163099212,
          12.630329059692965,
          12.63032836493416,
          264.4227716262485,
          269.1784590553259,
          263.43112721076545,
          276.44765883050565,
          292.608821750044,
          292.6561701973571,
          264.613975549006,
          19.8864958602261,
          29.230609736355206,
          263.38018396658026,
          25.32628050766122,
          263.4391804400659,
          264.54430250313106,
          263.3377917191836,
          292.67167607422294,
          16.636097846340856,
          264.2104815134457,
          263.44475334658694,
          305.22003622248894,
          262.76032254373644,
          49.119398525057925,
          280.0693504996535,
          263.43069737891955,
          263.4115176075161,
          292.6504709972485,
          309.18526445667993,
          292.6626454654562,
          283.3059712897003,
          263.44280568127334,
          275.2013992103829,
          280.0007626693951,
          263.4349330045293,
          264.4772708515427,
          279.14263192089015,
          292.66241289471407,
          276.48509968972036,
          292.6678944455362,
          264.4602068247086,
          263.4366195786641,
          288.7413519907106,
          280.0668688278322,
          264.6041095832886,
          292.67974749977265,
          16.636075343510917,
          292.403557473121,
          25.324780200269828,
          292.2891919290755,
          292.505292894377,
          264.54599441944595,
          268.14271384430697,
          263.43555059118603,
          276.06649421294424,
          292.6548811719172,
          292.6771833970787,
          264.61918222028373,
          280.0374955226497,
          280.055486004009,
          13.076069712850577,
          264.52140264815716,
          263.4033756941846,
          275.20737153414234,
          12.630328558954345,
          292.65542678387106,
          280.05155560931377,
          292.67209029362454,
          25.32461372291192,
          292.62654332293636,
          32.96191033421352,
          292.6171949113631,
          279.7277528028364,
          11.784563351041674,
          276.52343015012644,
          292.64609955306884,
          264.4632520770768,
          292.41748486916225,
          25.32279619009506,
          292.6309693496874,
          280.0495041738963,
          280.05698988830704,
          263.43908820039746,
          12.63032854698089,
          263.4262737288152,
          264.5010328282018,
          263.4310249082909,
          13.076026450876018,
          13.07606875070019,
          16.636097702580678,
          263.42903978975176,
          16.63609627947552,
          13.076042505666084,
          11.784564042358413,
          292.6503665015337,
          280.08320389542445,
          263.2692750534551,
          292.6743319593499,
          292.65811192096976,
          280.0756562547444,
          292.6794637312968,
          292.6736629602827,
          16.636084011267627,
          304.3963427878728,
          280.0389033913543,
          292.682469137593,
          25.323898176944827,
          305.211397964952,
          263.4469203359251,
          12.63032983475305,
          257.93170581781993,
          11.784560797680445,
          276.4964538937206,
          292.64880692882105,
          263.3944462291537,
          276.5039328118221,
          25.322721016142776,
          292.60129978207965,
          264.57057513388696,
          1.1724815999745153,
          292.6703565924689,
          25.32627941961786,
          13.076060702886945,
          275.2193054633946,
          11.784564766835503,
          304.4384613433317,
          16.636068131745724,
          13.07604096854457,
          275.08736198531165,
          13.076029938059818,
          19.88640412602411,
          25.326206449962264,
          13.076069027973979,
          264.25583074092583,
          263.34049976483925,
          292.6718094009776,
          263.43014558775803,
          16.63609098072588,
          16.63603253428075,
          5.740366871736221,
          269.1829876992596,
          305.14900448997844,
          292.67365442213014,
          275.1050872252475,
          292.6687899655908,
          276.44476248108174,
          276.4711297973802,
          19.886461755804238,
          263.3740923843507,
          292.65897325829087,
          25.325492303208623,
          264.57974735935636,
          305.46884942401454,
          292.6817742886785,
          292.6762006536253,
          276.053858268358,
          264.49738259331536,
          263.44089107988395,
          292.68125707032345,
          283.29671719752054,
          16.636085539157143,
          292.6338079870896,
          25.32026025880212,
          25.323390049603553,
          292.67680581139814,
          11.784562090430699,
          292.5829780286818,
          292.67628638792286,
          12.630328965301592,
          276.5025511312521,
          292.6761037665335,
          264.60229017047277,
          269.1273031735345,
          292.64399184629895,
          292.6609667365035,
          276.02357640757145,
          13.076043396385229,
          263.40148693923487,
          305.2937005613207,
          283.3308025117328,
          292.65261643647017,
          292.5996522151417,
          263.43205582414964,
          25.323903020722426,
          263.68633492300916,
          19.886212971720468,
          276.51577666661643,
          292.625064899083,
          276.48178872831835,
          13.076060381995678,
          12.630329388516204,
          264.5890380482372,
          292.664951550562,
          292.6766324076988,
          263.41189465806957,
          268.010909551689,
          275.2231341414472,
          263.41718821181206,
          25.325476858899275,
          275.23236081578705,
          54.55086823897065,
          292.607820582171,
          263.42653076102386,
          25.325732301993167,
          309.2366122420245,
          269.17478369032045,
          5.740367065255357,
          292.6360278402616,
          292.1071976959652,
          13.076075964872148,
          276.44065816265385,
          25.32411216577127,
          292.6313887853779,
          269.1371531695518,
          263.06226544365825,
          25.32337304425268,
          16.636052487764374,
          269.1612723700002,
          264.54207646668135,
          312.4424665623659,
          292.6790500085001,
          292.64828944525567,
          276.0727374645746,
          264.563610828936,
          264.6132945981153,
          29.231662419760834,
          263.44969533564205,
          292.67657440947215,
          298.4016638759137,
          19.88607611157185,
          264.606938486711,
          292.669993840906,
          12.630329466720491,
          29.232419197523402,
          292.63620454842004,
          263.35335514303006,
          11.784564232419955,
          263.43186281888387,
          264.5547984559965,
          292.68173795058476,
          292.68132035654355,
          19.886374899909217,
          292.68063599464665,
          292.67584658677583,
          275.7938519189831,
          263.3983810568368,
          16.636085253478498,
          283.3172619703878,
          264.31605499643206,
          29.23187572055752,
          288.7070718140144,
          19.88624900448306,
          34.971748689720954,
          312.55957829178044,
          276.5093139955793,
          263.44443296887835,
          13.076048064475406,
          19.88619557101176,
          263.3935928310017,
          276.0749917298961,
          263.41716853914807,
          25.323772729695367,
          263.25021521554856,
          292.6275607013371,
          292.66827790921513,
          292.45833963517987,
          305.2979813782591,
          19.886415060301825,
          292.680711256662,
          276.46627312534105,
          263.32910051843675,
          264.337583145212,
          276.0435625654262,
          305.7545799739207,
          54.52126735405037,
          269.1607023982966,
          275.62961036014616,
          275.2051739740785,
          279.9904230250537,
          293.8133589506081,
          261.6747560689446,
          25.325570172332462,
          263.43437084947556,
          29.232793352954925,
          263.4349352048579,
          1.17248160032647,
          34.97347032386354,
          283.315451919658,
          276.51395123258465,
          25.32556071013069,
          276.0737890122779,
          292.64657966397004,
          25.325889838919494,
          19.886451442279956,
          34.973170336847545,
          288.69102206120505,
          292.6764450101397,
          292.6633867612146,
          292.66407633057634,
          283.30241517008585,
          292.19357307948405,
          29.23309020944587,
          29.233135791049342,
          19.886512585232225,
          292.6745450359716,
          292.6434017351465,
          293.83057441760974,
          276.041623740582,
          292.6796737664914,
          263.4425593320144,
          312.5260577573575,
          261.3472885507011,
          11.784563803791102,
          292.67420323197655,
          288.52639845355634,
          283.3130036133077,
          292.6533671684025,
          292.6317019812,
          305.6683291197582,
          263.4461850683567,
          309.26035845142644,
          292.6389544994812,
          12.630329836403849,
          291.8527782352584,
          13.076051600326428,
          298.39914777232724,
          317.96759046750856,
          25.324501594818667,
          263.4282173352961,
          19.886359021508497,
          292.65515630201435,
          292.5287040235069,
          280.0210401469168,
          19.88631987717135,
          16.636081713978573,
          25.325092113579895,
          25.321872062825108,
          292.6394190108819,
          292.67541773084076,
          263.13302471263876,
          280.0363133537693,
          25.324545797130394,
          283.2960347971747,
          292.4297921137025,
          264.60447542687245,
          292.6445239894244,
          263.43635041757693,
          292.6356503055434,
          292.5703164951367,
          292.6589089274816,
          264.6160963430505,
          293.78494517178285,
          292.64059453923255,
          263.4487256662169,
          292.67224397339163,
          292.6708410839749,
          292.6470258673328,
          292.6691415565391,
          275.99493936525516,
          292.6400005795162,
          25.323688271971513,
          283.2985261081285,
          16.636083330916282,
          34.973079747789434,
          263.2876821867821,
          264.45009811876855,
          312.34213739374053,
          263.4498720590859,
          263.3495259231606,
          293.8362082203784,
          263.3883382056359,
          292.6577335212511,
          16.636095215613636,
          275.9700300061056,
          275.2341663123892,
          292.63467629661204,
          283.1552112948239,
          275.2234993485848,
          292.626698226212,
          29.203823467805712,
          279.9993025461996,
          25.32571308881675,
          292.6435571846891,
          11.784563359967338,
          283.3157467993768,
          263.3292859925734,
          264.5884156848645,
          19.88641443047429,
          16.63608935428207,
          292.59125839339447,
          292.5857191903223,
          292.6730378115246,
          279.90590805377855,
          12.630328462134752,
          263.3472425056578,
          292.6453469305572,
          25.322962587182115,
          275.22405770851896,
          280.0100528649056,
          11.784564889985313,
          280.0512009478283,
          25.325988133677416,
          276.49884228832514,
          16.63609338278806,
          16.636091218715666,
          292.603135485851,
          292.6135554253753,
          11.784562225007422,
          263.41329158380177,
          264.59824206057823,
          292.66886887091357,
          292.67067547316606,
          298.4212193050518,
          12.630329173494696,
          25.32375838690474,
          12.630329386251528,
          13.076061408742605,
          275.2246341500004,
          263.4412690777638,
          34.97304897986156,
          263.4382634982388,
          25.32482162801278,
          268.9714803462906,
          11.784563496520233,
          264.52866767845813,
          292.6175267373978,
          263.47519179657905,
          19.886368288750607,
          276.0357727781834,
          25.31377919093355,
          275.2314246683007,
          292.6744047605391,
          34.97314213901364,
          295.0765274646068,
          263.42195788090817,
          275.22870316834525,
          292.6776792234724,
          24.86055247018319,
          12.630328895484691,
          275.2242102088614,
          16.636067866256745,
          283.32386683121445,
          29.23320020481928,
          292.5366239794659,
          16.636082533892708,
          292.61877971576433,
          42.30872385993106,
          292.6814516023535,
          263.431431103267,
          304.44841845390977,
          264.5951584344575,
          292.67386859975113,
          25.32259172102467,
          5.740367033648897,
          54.51899381462345,
          41.01564958874708,
          16.636090943403865,
          264.60023951531315,
          19.88650055029203,
          263.39855476805326,
          263.36312004965794,
          292.60835170507045,
          292.66915653349815,
          292.60110411807057,
          19.886402698982817,
          264.4197908631329,
          280.05695052892855,
          275.21337806283265,
          263.4396089852573,
          11.784563128885667,
          292.6718706563158,
          292.6712546237661,
          19.886403862962993,
          19.886267727527525,
          280.04814634524655,
          304.4337357773641,
          292.5726138403963,
          11.78456201161714,
          292.6508169304056,
          292.6628205257085,
          280.0052626128096,
          292.6294411113981,
          292.6679421022601,
          19.886472840052118,
          54.55304466366846,
          34.97259519045934,
          269.1114436728879,
          292.65489866983694,
          292.67526918590846,
          291.0812586367655,
          13.076078483019327,
          263.4436406712907,
          288.1208067402636,
          292.65430941345056,
          292.6750934571644,
          5.740367016994448,
          292.5894838476323,
          25.31683939614588,
          263.305682044174,
          276.0584007638188,
          276.3616076768755,
          264.589801081435,
          292.64885984507754,
          11.784560272605109,
          292.6704705581705,
          292.6797246778948,
          11.784563895129873,
          298.3916209008072,
          292.6821242521281,
          292.6670371134063,
          263.443858059369,
          292.638410160627,
          279.9985316443587,
          292.6704555291859,
          304.39931151910866,
          11.784563469076616,
          16.63606062132751,
          11.78456032305297,
          292.5858967637742,
          29.233022222490614,
          298.40717334334266,
          29.233183992336663,
          292.6514069208077,
          264.60643939198496,
          269.0305339071101,
          16.636091060790093,
          280.04286989535655,
          5.7403670813959184,
          292.6683683353298,
          276.0140842802482,
          25.32623981041401,
          11.784561738519802,
          292.65571585200496,
          292.65861564286047,
          5.740367022218446,
          298.3674690274767,
          292.6495333393952,
          275.2253097435013,
          263.44718868309104,
          275.21683322416,
          54.51788106773812,
          292.6024502166087,
          13.07606980206543,
          264.6011722967643,
          292.6334019686494,
          264.5010600295539,
          269.1182423993274,
          5.740367067347096,
          263.44303635349297,
          19.885956202454686,
          275.5385105474206,
          13.076020519880704,
          288.6194525427626,
          11.784559856525476,
          269.1193403633622,
          292.6427144849075,
          16.63609677625625,
          292.6584557619761,
          264.3550088585786,
          11.784557107056658,
          264.4614939360804,
          275.18933287004,
          293.7925481308804,
          25.32504830277749,
          13.076065435585598,
          263.40895219036537,
          292.6701299573869,
          292.66720756736225,
          16.636089437196485,
          11.784562721417906,
          16.636088401985248,
          295.0774210981381,
          276.0661081333064,
          25.325783807403603,
          16.63609508953995,
          292.59690573249486,
          263.3833785566524,
          263.4350760770018,
          263.410688077524,
          292.68096689525424,
          262.14517122170946,
          292.65872101619635,
          309.2443165754657,
          275.70091241240544,
          13.076062673632059,
          1.1724816032834908,
          279.9425201215162,
          264.4707772493725,
          263.3913735477405,
          29.23003402369956,
          292.6514855606381,
          25.32484693480586,
          263.40290170694345,
          25.31967742042396,
          280.0735541744852,
          276.06328105359336,
          11.784562320730345,
          11.784560914661958,
          263.3505708605068,
          292.6685009123075,
          298.41644610496354,
          49.11863830989719,
          16.636074523452695,
          292.59597283006207,
          292.64485925299476,
          276.0745302174261,
          292.67420211125784,
          293.7952331273581,
          13.076051917805843,
          292.6772477957559,
          292.6677573271691,
          305.2885119399969,
          264.60819070233595,
          292.62475244391067,
          263.35745456545004,
          19.886316383532197,
          280.07026463350593,
          292.67871797992854,
          280.0775824569835,
          263.4397246583275,
          292.64089538132566,
          264.592402372542,
          13.07603090214774,
          292.66733625988013,
          292.65118977082386,
          304.3999326038591,
          264.56193844010744,
          19.88629542175921,
          292.6505847647111,
          292.6672332531279,
          264.5522704216563,
          264.5920034814421,
          275.22347530991686,
          292.6585809809614,
          11.784564215292006,
          276.0543455122296,
          292.68391329340665,
          29.233136388815826,
          13.076070063980515,
          275.2299085624671,
          13.07605314660613,
          29.231569943783338,
          292.6724644891121,
          25.325839999270702,
          292.656545851225,
          11.784563240056602,
          292.6653584882748,
          292.66927977765414,
          276.50498581711236,
          263.42593766237314,
          292.4109358325399,
          34.96953079990553,
          264.5861289119143,
          292.6639531336606,
          292.59463316543764,
          11.78456474629038,
          29.230580748306924,
          304.39262483169284,
          264.6104622553939,
          263.44476920288037,
          309.27264611948266,
          292.67726614328626,
          13.076039707381721,
          264.57987167608843,
          276.51424601846406,
          275.20861811330536,
          292.673208415435,
          12.630328619387623,
          13.076050538944687,
          19.886500084845476,
          276.44697546177866,
          312.54775899490795,
          13.076066170835364,
          312.54761342509704,
          283.3207685247542,
          292.6777073470214,
          16.636069506741215,
          292.60894881360474,
          279.9119421412275,
          25.325381567036047,
          19.886335468658665,
          292.6654322511829,
          292.65944341674225,
          12.630327351450514,
          263.42210269553186,
          293.8357862772271,
          264.43711032746745,
          283.2913634213482,
          275.232584610765,
          264.6159436060805,
          292.6800469870194,
          288.70342010857934,
          16.636042871794363,
          298.40231736764656,
          263.33651676746,
          19.88636437167087,
          16.636093347255333,
          12.630330100852563,
          293.83348255519013,
          292.5853951422725,
          13.076026479907913,
          292.6688813026137,
          12.63033022618207,
          275.22760281184566,
          16.636090157266736,
          19.886334772481305,
          25.324698746991892,
          25.324961351366277,
          263.4415284859136,
          25.32447200032213,
          16.63607570249205,
          292.5787443616681,
          305.3775719792169,
          41.85306766828936,
          13.076070263893163,
          292.6323249626182,
          293.8158560280446,
          292.6747841018486,
          262.49080189545396,
          283.3293765489114,
          263.41177254801795,
          292.6442215196265,
          275.90276291657364,
          292.59496980655155,
          317.868738593817,
          292.64722558419857,
          276.4877641040091,
          19.88646488040607,
          276.5191004689251,
          292.6786146214168,
          292.65990796681183,
          264.61676865736376,
          292.6778016415738,
          292.6746504103587,
          54.555203975814,
          19.88641544154647,
          263.4302828363691,
          263.43839618073775,
          13.076074396512643,
          34.97192620980852,
          12.630328700895703,
          263.44299129907876,
          263.3703745221232,
          12.630327414281025,
          298.40335226937253,
          290.9698555730186,
          54.53819646581906,
          292.6815115579164,
          279.96588508539145,
          292.6725344766226,
          34.97303459818119,
          275.22966006592475,
          280.00876637653533,
          312.53874601047266,
          292.68253195799474,
          5.7403670138491405,
          5.740367065601065,
          264.5849323035911,
          279.88571035979464,
          275.22385318787497,
          263.3212659797369,
          292.67005558823143,
          292.67954214585893,
          283.3109314831923,
          13.076073808790792,
          292.65149798646524,
          29.22637919762157,
          263.4422099345127,
          25.32476236541928,
          41.85975999330431,
          276.06506621009186,
          292.6770867881052,
          25.32505942865312,
          25.325797915126785,
          276.50362432650695,
          304.44229334535476,
          261.72852041904673,
          292.6687310209712,
          304.42191191688227,
          41.86294485380529,
          263.44518570913635,
          275.2265842959707,
          263.3301705075621,
          292.6598865554031,
          275.89693307273836,
          292.64316805743704,
          264.6159711545495,
          292.6696992323361,
          263.2093539790428,
          283.32767246491017,
          292.6773383224106,
          292.63584549418897,
          292.65864489190665,
          41.8547973383721,
          19.886424411122736,
          264.6175082768488,
          304.4083340786029,
          264.6196631886951,
          280.0736884553746,
          305.2772511930049,
          13.076076616031022,
          275.1974953803271,
          263.4502792564753,
          292.59502788124365,
          263.0637640411264,
          25.326130187756018,
          292.6578953006143,
          264.5986323596206,
          16.63604442553916,
          292.6591568174084,
          288.71171510033446,
          12.630329103242879,
          292.68136687350255,
          262.9514924243764,
          13.076078704920265,
          280.013428016454,
          275.69645223620074,
          263.36765040305437,
          292.65565678012223,
          25.326161292395348,
          16.636085657072083,
          13.076052155858655,
          19.88647738297933,
          263.4447449410346,
          292.6018975852576,
          279.9942720289212,
          292.66980124308833,
          264.568849307307,
          292.6639260361584,
          292.6794081244617,
          317.7429433265878,
          12.630329130007434,
          292.6249284531558,
          263.4363183600868,
          292.6775321904201,
          275.1790851441466,
          280.041486057355,
          264.6057757531258,
          264.5082179592498,
          25.32625625734802,
          292.56752699764513,
          11.784564000248421,
          264.5958754790594,
          292.6743916956876,
          29.23293027473053,
          13.07606124644628,
          292.66793884431485,
          264.5797317114804,
          263.3378395325179,
          298.3810542174132,
          263.439683735885,
          12.630329038089581,
          263.38428555513207,
          263.3786672739341,
          263.445882306056,
          275.14477531408227,
          268.4409968864147,
          292.5994112353918,
          19.886425128746502,
          25.32503292694748,
          269.1476792803836,
          11.78456029577956,
          288.5959332228518,
          292.6477854280036,
          276.46220664842286,
          19.886360945437477,
          292.66821111533653,
          263.436455494503,
          25.32361494073697,
          264.558056862088,
          19.886483179557413,
          263.4307791981346,
          13.076075879613304,
          25.32471193674416,
          264.52497632769695,
          25.326288757596842,
          292.68009291703,
          264.6015520474381,
          29.230368445252772,
          276.4268268929383,
          279.9373092966897,
          264.59383261111986,
          16.636062229411976,
          5.7403670926539885,
          12.630329024140936,
          263.4464337138104,
          279.85733401913745,
          11.784559418094757,
          25.324789057809873,
          275.04905908240744,
          13.076074539121237,
          280.0736845359855,
          297.2447720711431,
          13.076057232634557,
          263.4409509398408,
          292.66911558731323,
          292.682664770981,
          13.076056786696494,
          293.81449856834763,
          292.6619079568683,
          13.076077665621737,
          19.886411531837364,
          292.64916895081024,
          292.6800256973569,
          263.3507060294638,
          293.839484809138,
          309.1793946238601,
          264.5871016562263,
          292.6730022709155,
          292.67217372149906,
          279.8444849362146,
          292.6811200352855,
          263.17824288770265,
          11.784563089391693,
          25.322129760824836,
          292.55495765093013,
          12.630330084064449,
          19.886349717917764,
          276.0017903153227,
          292.6713722537518,
          292.632625898364,
          263.25124900434844,
          276.5241548245426,
          263.3874558064701,
          292.64612710496635,
          263.3956624074491,
          263.4409621527496,
          292.6608347450266,
          25.325920972703777,
          25.32545813284916,
          264.6212525530855,
          276.5101217330774,
          279.3891352366101,
          11.784562371125315,
          16.636082955265426,
          275.21144201681744,
          263.31438186162603,
          263.4311546577009,
          309.2572951321518,
          264.58959591341755,
          292.65229215603966,
          276.0066669986455,
          268.4588886613913,
          292.61374396963294,
          292.6426820607093,
          12.630328925772636,
          13.076033247572912,
          16.636094871935658,
          16.636079071600843,
          264.6158564409112,
          1.1724815974543565,
          292.643466119242,
          273.63687842925157,
          275.2151717053607,
          54.55434269883837,
          16.636094024882915,
          276.5173100101844,
          292.46978998537764,
          280.0686632559076,
          263.3762589086987,
          16.63609625291119,
          269.1375604730841,
          5.7403669882714965,
          291.92396391346966,
          292.67372668619157,
          292.64564858594025,
          293.8544779293285,
          263.4454102282881,
          279.86171566637796,
          11.784560767371152,
          291.4614818377664,
          1.1724815952879903,
          280.0494351993158,
          288.63300195991434,
          292.66648703599805,
          275.2144764194341,
          298.4157847719546,
          25.325461512115407,
          283.2630838249804,
          276.4886776224574,
          292.6550333558976,
          292.66666709359686,
          263.4188496741373,
          275.22377280383887,
          264.55067472415544,
          283.2793966489123,
          292.68262482701874,
          292.54544120052043,
          25.326140654079506,
          11.784561164515768,
          263.31607742047385,
          5.740367083960221,
          5.7403670942129486,
          269.0850608782784,
          263.4269215114814,
          264.6026755943244,
          34.97322066025301,
          264.35959006637046,
          264.5965589695694,
          298.4169913295426,
          292.45748218954213,
          11.784563100458758,
          263.3936583128247,
          19.886237149116404,
          275.91745765232326,
          11.784563827450585,
          12.630328994980095,
          263.4035685426736,
          29.23236756268972,
          19.88631723409827,
          16.6360667218326,
          292.6451769189423,
          246.54806380140533,
          263.4419582203725,
          19.886510215063925,
          25.325326105949195,
          292.6015505822362,
          292.5497109724576,
          298.34218726348854,
          263.4453012752486,
          16.63608523260116,
          288.6885084206231,
          263.43406199059405,
          263.293444817875,
          264.5626819797336,
          16.636093329539598,
          263.4219912312735,
          292.67147733991783,
          264.58264788448014,
          16.63609656547092,
          263.77690930642126,
          11.784561488319529,
          263.4468753892861,
          292.6624212627123,
          262.7090180046943,
          11.784562187915926,
          263.3868396066479,
          19.88649376118943,
          292.67725760685994,
          12.630327814936212,
          263.2862359110816,
          25.32596799428725,
          292.6487113689119,
          12.63032922028072,
          54.502514429114676,
          275.19712914463196,
          305.7280472085497,
          292.62110470661264,
          263.413739441348,
          275.2284012728299,
          298.4204325565935,
          25.325257257328346,
          269.17402799029816,
          34.97212047185599,
          25.32070528564088,
          264.59747593178497,
          292.66916799222025,
          298.3566063348578,
          269.1350076262548,
          276.041872259033,
          317.9283192091472,
          262.1158981851379,
          276.4511315876789,
          279.5946827076028,
          276.02304735069606,
          263.15229860726663,
          25.32565893804194,
          16.636082710689877,
          16.636082516878016,
          279.8868580703574,
          13.076077086715268,
          257.7895162792333,
          278.53738624676566,
          292.6640795429076,
          54.55095681500187,
          12.630328582018018,
          276.51439785397224,
          263.4193134520988,
          263.44703600999446,
          279.9597603376667,
          264.6127842062667,
          263.25554530085293,
          292.67533353151174,
          25.326300342706432,
          292.68081378907743,
          16.636069313197783,
          264.5772491638615,
          263.0641683306181,
          309.23052795946563,
          279.9729980306765,
          264.53923973101683,
          264.459564321115,
          292.6811590113876,
          267.346462574708,
          292.658243089714,
          12.63032841203466,
          292.6758568418456,
          274.8401542143803,
          317.90486949524393,
          16.636086328396722,
          16.636087415323505,
          16.63605838501487,
          263.4287045500664,
          276.0212053360496,
          11.78456432863722,
          292.6601056039097,
          292.6824331540142,
          25.326272481545814,
          292.67230279505213,
          280.02608705671935,
          276.5062399051496,
          16.63606758108148,
          288.62771631609024,
          16.6360566838262,
          292.67969805453885,
          264.20395178838965,
          13.076056190083012,
          298.37850040778125,
          317.9532565893266,
          12.63032891389846,
          263.3002133126092,
          279.9704322294899,
          305.7394341024624,
          280.0472974658522,
          276.508541311294,
          263.3500333507745,
          280.04068920273187,
          16.636087767057663,
          292.4685644125126,
          279.882956300385,
          16.636076153506565,
          279.9704475829279,
          292.6828228369895,
          280.04682828211673,
          292.5323693725934,
          264.3426566319549,
          16.636082463866792,
          263.3877879988251,
          280.0177297598954,
          280.01403318518123,
          292.67500571987586,
          16.63608324451825,
          288.3426838765238,
          16.636098008827187,
          276.5034283970151,
          304.3772674978485,
          305.75087380446473,
          276.0209807394149,
          276.5095662486432,
          292.6787133911928,
          292.68140930997066,
          276.5144758530927,
          34.97192505583428,
          280.0696019893187,
          292.6809731132145,
          292.65963316982305,
          280.01210192915346,
          292.6571141885857,
          263.42156468600973,
          25.326247450867896,
          292.6778618449271,
          272.159956938336,
          263.44435347060147,
          292.67429044766266,
          276.4938986918151,
          263.4138606027134,
          16.636091749337425,
          305.65748389379826,
          263.44435374055627,
          25.326270282333468,
          292.6152880996322,
          279.9997322588835,
          263.4385420384622,
          280.060701835359,
          276.5098620556357,
          279.93086902006166,
          280.05651867121344,
          271.3117540714612,
          263.3746714642096,
          16.636089579721727,
          280.057123461287,
          279.9220163906657,
          13.076075853053728,
          16.63609704355273,
          276.4445441754127,
          12.630329481883816,
          305.74043007628256,
          263.4364695864966,
          272.7839472279608,
          263.3353789928287,
          298.3096386153839,
          264.51995344016234,
          263.4132099228858,
          12.630328400351845,
          264.40748895742837,
          280.00304150683473,
          264.6062642842885,
          264.49270648004585,
          276.05153406581934,
          16.63609625175817,
          283.2560046620251,
          263.4463402600647,
          263.4163931439156,
          292.67330997148883,
          275.1716188245372,
          16.636078793362785,
          262.86301873687813,
          292.6529070567897,
          16.63608956603478,
          16.636097416670058,
          263.43635067677735,
          13.076050157659065,
          264.3370166657979,
          25.32625621934688,
          292.6709648377657,
          279.02868640539975,
          263.4103417168843,
          16.63609016279652,
          263.42189996578145,
          279.92128351255803,
          263.2232380259461,
          16.636069699448658,
          12.63032991769303,
          263.3647811763663,
          263.44995947797105,
          259.43961157601217,
          292.6827832280236,
          263.300557112398,
          25.32386170728469,
          280.08002817645774,
          11.784563827308535,
          264.1577504681716,
          275.1917664654853,
          263.01523132220944,
          264.60729588879985,
          16.63606295108328,
          263.41562178720795,
          16.636066937185156,
          280.0491087135939,
          16.636059393852232,
          263.41390278945767,
          16.6360305299715,
          292.6685120049457,
          16.63605731331734,
          276.4981626846151,
          292.68361923421446,
          275.0954090234514,
          25.3262389418308,
          264.6102983281026,
          16.636040007965875,
          292.66339819972217,
          16.636097490838385,
          25.324410362821553,
          264.5535173778641,
          13.076060160992785,
          292.6629000121393,
          269.183793482336,
          292.6760840697024,
          263.404372275893,
          292.62814244132466,
          54.55357793576856,
          303.811660332142,
          292.6793555006733,
          312.5441495765425,
          16.636090944801946,
          25.326145438481625,
          269.16022078164633,
          19.8863606594532,
          264.58884036349536,
          19.886508772657617,
          16.636088708456096,
          275.2244279001858,
          288.4879930427456,
          264.5864651939939,
          19.886430945114874,
          292.6781318605781,
          288.38637117051957,
          292.64038359873194,
          13.076048781819836,
          263.39447355758864,
          276.0391011874842,
          312.55134721820673,
          49.11782163962881,
          29.23242325149283,
          292.6722435762737,
          292.67514550657535,
          298.4148458214846,
          283.3111377024348,
          13.076074694995967,
          29.23278514313328,
          263.11997856720427,
          19.886511590916776,
          292.6632900971859,
          264.596400388911,
          16.636094195169953,
          292.6787637596279,
          280.02220212885015,
          292.6172580433044,
          263.31156292825517,
          264.7774651012482,
          268.8959829360129,
          275.2228167205894,
          292.64612108615,
          34.97269563462336,
          292.5667882037061,
          54.553889110639304,
          276.4218539938865,
          283.3152230676159,
          291.87565365104086,
          292.6784048572766,
          292.65031873589044,
          292.61120409404174,
          292.60934642057526,
          292.675746683559,
          292.60791540271117,
          263.4472181546235,
          276.3537608068373,
          276.5128236337117,
          269.14993712095594,
          283.31681816698995,
          263.44800116895885,
          292.6387974851593,
          29.230368704240895,
          293.8478308444512,
          292.67680852451366,
          275.2194819197818,
          11.784564351495279,
          264.56756181063633,
          268.1438149632786,
          29.232189650301255,
          292.58426493086046,
          283.32206634911284,
          317.92574490061736,
          263.4428046325914,
          305.7391782589276,
          292.67538424941523,
          264.61583484538136,
          19.886322782589012,
          292.65100283761797,
          276.0569081487477,
          292.6253576049633,
          275.9877809786454
         ],
         "xaxis": "x",
         "yaxis": "y"
        }
       ],
       "layout": {
        "barmode": "relative",
        "legend": {
         "title": {
          "text": "variable"
         },
         "tracegroupgap": 0
        },
        "template": {
         "data": {
          "bar": [
           {
            "error_x": {
             "color": "#2a3f5f"
            },
            "error_y": {
             "color": "#2a3f5f"
            },
            "marker": {
             "line": {
              "color": "#E5ECF6",
              "width": 0.5
             },
             "pattern": {
              "fillmode": "overlay",
              "size": 10,
              "solidity": 0.2
             }
            },
            "type": "bar"
           }
          ],
          "barpolar": [
           {
            "marker": {
             "line": {
              "color": "#E5ECF6",
              "width": 0.5
             },
             "pattern": {
              "fillmode": "overlay",
              "size": 10,
              "solidity": 0.2
             }
            },
            "type": "barpolar"
           }
          ],
          "carpet": [
           {
            "aaxis": {
             "endlinecolor": "#2a3f5f",
             "gridcolor": "white",
             "linecolor": "white",
             "minorgridcolor": "white",
             "startlinecolor": "#2a3f5f"
            },
            "baxis": {
             "endlinecolor": "#2a3f5f",
             "gridcolor": "white",
             "linecolor": "white",
             "minorgridcolor": "white",
             "startlinecolor": "#2a3f5f"
            },
            "type": "carpet"
           }
          ],
          "choropleth": [
           {
            "colorbar": {
             "outlinewidth": 0,
             "ticks": ""
            },
            "type": "choropleth"
           }
          ],
          "contour": [
           {
            "colorbar": {
             "outlinewidth": 0,
             "ticks": ""
            },
            "colorscale": [
             [
              0,
              "#0d0887"
             ],
             [
              0.1111111111111111,
              "#46039f"
             ],
             [
              0.2222222222222222,
              "#7201a8"
             ],
             [
              0.3333333333333333,
              "#9c179e"
             ],
             [
              0.4444444444444444,
              "#bd3786"
             ],
             [
              0.5555555555555556,
              "#d8576b"
             ],
             [
              0.6666666666666666,
              "#ed7953"
             ],
             [
              0.7777777777777778,
              "#fb9f3a"
             ],
             [
              0.8888888888888888,
              "#fdca26"
             ],
             [
              1,
              "#f0f921"
             ]
            ],
            "type": "contour"
           }
          ],
          "contourcarpet": [
           {
            "colorbar": {
             "outlinewidth": 0,
             "ticks": ""
            },
            "type": "contourcarpet"
           }
          ],
          "heatmap": [
           {
            "colorbar": {
             "outlinewidth": 0,
             "ticks": ""
            },
            "colorscale": [
             [
              0,
              "#0d0887"
             ],
             [
              0.1111111111111111,
              "#46039f"
             ],
             [
              0.2222222222222222,
              "#7201a8"
             ],
             [
              0.3333333333333333,
              "#9c179e"
             ],
             [
              0.4444444444444444,
              "#bd3786"
             ],
             [
              0.5555555555555556,
              "#d8576b"
             ],
             [
              0.6666666666666666,
              "#ed7953"
             ],
             [
              0.7777777777777778,
              "#fb9f3a"
             ],
             [
              0.8888888888888888,
              "#fdca26"
             ],
             [
              1,
              "#f0f921"
             ]
            ],
            "type": "heatmap"
           }
          ],
          "heatmapgl": [
           {
            "colorbar": {
             "outlinewidth": 0,
             "ticks": ""
            },
            "colorscale": [
             [
              0,
              "#0d0887"
             ],
             [
              0.1111111111111111,
              "#46039f"
             ],
             [
              0.2222222222222222,
              "#7201a8"
             ],
             [
              0.3333333333333333,
              "#9c179e"
             ],
             [
              0.4444444444444444,
              "#bd3786"
             ],
             [
              0.5555555555555556,
              "#d8576b"
             ],
             [
              0.6666666666666666,
              "#ed7953"
             ],
             [
              0.7777777777777778,
              "#fb9f3a"
             ],
             [
              0.8888888888888888,
              "#fdca26"
             ],
             [
              1,
              "#f0f921"
             ]
            ],
            "type": "heatmapgl"
           }
          ],
          "histogram": [
           {
            "marker": {
             "pattern": {
              "fillmode": "overlay",
              "size": 10,
              "solidity": 0.2
             }
            },
            "type": "histogram"
           }
          ],
          "histogram2d": [
           {
            "colorbar": {
             "outlinewidth": 0,
             "ticks": ""
            },
            "colorscale": [
             [
              0,
              "#0d0887"
             ],
             [
              0.1111111111111111,
              "#46039f"
             ],
             [
              0.2222222222222222,
              "#7201a8"
             ],
             [
              0.3333333333333333,
              "#9c179e"
             ],
             [
              0.4444444444444444,
              "#bd3786"
             ],
             [
              0.5555555555555556,
              "#d8576b"
             ],
             [
              0.6666666666666666,
              "#ed7953"
             ],
             [
              0.7777777777777778,
              "#fb9f3a"
             ],
             [
              0.8888888888888888,
              "#fdca26"
             ],
             [
              1,
              "#f0f921"
             ]
            ],
            "type": "histogram2d"
           }
          ],
          "histogram2dcontour": [
           {
            "colorbar": {
             "outlinewidth": 0,
             "ticks": ""
            },
            "colorscale": [
             [
              0,
              "#0d0887"
             ],
             [
              0.1111111111111111,
              "#46039f"
             ],
             [
              0.2222222222222222,
              "#7201a8"
             ],
             [
              0.3333333333333333,
              "#9c179e"
             ],
             [
              0.4444444444444444,
              "#bd3786"
             ],
             [
              0.5555555555555556,
              "#d8576b"
             ],
             [
              0.6666666666666666,
              "#ed7953"
             ],
             [
              0.7777777777777778,
              "#fb9f3a"
             ],
             [
              0.8888888888888888,
              "#fdca26"
             ],
             [
              1,
              "#f0f921"
             ]
            ],
            "type": "histogram2dcontour"
           }
          ],
          "mesh3d": [
           {
            "colorbar": {
             "outlinewidth": 0,
             "ticks": ""
            },
            "type": "mesh3d"
           }
          ],
          "parcoords": [
           {
            "line": {
             "colorbar": {
              "outlinewidth": 0,
              "ticks": ""
             }
            },
            "type": "parcoords"
           }
          ],
          "pie": [
           {
            "automargin": true,
            "type": "pie"
           }
          ],
          "scatter": [
           {
            "fillpattern": {
             "fillmode": "overlay",
             "size": 10,
             "solidity": 0.2
            },
            "type": "scatter"
           }
          ],
          "scatter3d": [
           {
            "line": {
             "colorbar": {
              "outlinewidth": 0,
              "ticks": ""
             }
            },
            "marker": {
             "colorbar": {
              "outlinewidth": 0,
              "ticks": ""
             }
            },
            "type": "scatter3d"
           }
          ],
          "scattercarpet": [
           {
            "marker": {
             "colorbar": {
              "outlinewidth": 0,
              "ticks": ""
             }
            },
            "type": "scattercarpet"
           }
          ],
          "scattergeo": [
           {
            "marker": {
             "colorbar": {
              "outlinewidth": 0,
              "ticks": ""
             }
            },
            "type": "scattergeo"
           }
          ],
          "scattergl": [
           {
            "marker": {
             "colorbar": {
              "outlinewidth": 0,
              "ticks": ""
             }
            },
            "type": "scattergl"
           }
          ],
          "scattermapbox": [
           {
            "marker": {
             "colorbar": {
              "outlinewidth": 0,
              "ticks": ""
             }
            },
            "type": "scattermapbox"
           }
          ],
          "scatterpolar": [
           {
            "marker": {
             "colorbar": {
              "outlinewidth": 0,
              "ticks": ""
             }
            },
            "type": "scatterpolar"
           }
          ],
          "scatterpolargl": [
           {
            "marker": {
             "colorbar": {
              "outlinewidth": 0,
              "ticks": ""
             }
            },
            "type": "scatterpolargl"
           }
          ],
          "scatterternary": [
           {
            "marker": {
             "colorbar": {
              "outlinewidth": 0,
              "ticks": ""
             }
            },
            "type": "scatterternary"
           }
          ],
          "surface": [
           {
            "colorbar": {
             "outlinewidth": 0,
             "ticks": ""
            },
            "colorscale": [
             [
              0,
              "#0d0887"
             ],
             [
              0.1111111111111111,
              "#46039f"
             ],
             [
              0.2222222222222222,
              "#7201a8"
             ],
             [
              0.3333333333333333,
              "#9c179e"
             ],
             [
              0.4444444444444444,
              "#bd3786"
             ],
             [
              0.5555555555555556,
              "#d8576b"
             ],
             [
              0.6666666666666666,
              "#ed7953"
             ],
             [
              0.7777777777777778,
              "#fb9f3a"
             ],
             [
              0.8888888888888888,
              "#fdca26"
             ],
             [
              1,
              "#f0f921"
             ]
            ],
            "type": "surface"
           }
          ],
          "table": [
           {
            "cells": {
             "fill": {
              "color": "#EBF0F8"
             },
             "line": {
              "color": "white"
             }
            },
            "header": {
             "fill": {
              "color": "#C8D4E3"
             },
             "line": {
              "color": "white"
             }
            },
            "type": "table"
           }
          ]
         },
         "layout": {
          "annotationdefaults": {
           "arrowcolor": "#2a3f5f",
           "arrowhead": 0,
           "arrowwidth": 1
          },
          "autotypenumbers": "strict",
          "coloraxis": {
           "colorbar": {
            "outlinewidth": 0,
            "ticks": ""
           }
          },
          "colorscale": {
           "diverging": [
            [
             0,
             "#8e0152"
            ],
            [
             0.1,
             "#c51b7d"
            ],
            [
             0.2,
             "#de77ae"
            ],
            [
             0.3,
             "#f1b6da"
            ],
            [
             0.4,
             "#fde0ef"
            ],
            [
             0.5,
             "#f7f7f7"
            ],
            [
             0.6,
             "#e6f5d0"
            ],
            [
             0.7,
             "#b8e186"
            ],
            [
             0.8,
             "#7fbc41"
            ],
            [
             0.9,
             "#4d9221"
            ],
            [
             1,
             "#276419"
            ]
           ],
           "sequential": [
            [
             0,
             "#0d0887"
            ],
            [
             0.1111111111111111,
             "#46039f"
            ],
            [
             0.2222222222222222,
             "#7201a8"
            ],
            [
             0.3333333333333333,
             "#9c179e"
            ],
            [
             0.4444444444444444,
             "#bd3786"
            ],
            [
             0.5555555555555556,
             "#d8576b"
            ],
            [
             0.6666666666666666,
             "#ed7953"
            ],
            [
             0.7777777777777778,
             "#fb9f3a"
            ],
            [
             0.8888888888888888,
             "#fdca26"
            ],
            [
             1,
             "#f0f921"
            ]
           ],
           "sequentialminus": [
            [
             0,
             "#0d0887"
            ],
            [
             0.1111111111111111,
             "#46039f"
            ],
            [
             0.2222222222222222,
             "#7201a8"
            ],
            [
             0.3333333333333333,
             "#9c179e"
            ],
            [
             0.4444444444444444,
             "#bd3786"
            ],
            [
             0.5555555555555556,
             "#d8576b"
            ],
            [
             0.6666666666666666,
             "#ed7953"
            ],
            [
             0.7777777777777778,
             "#fb9f3a"
            ],
            [
             0.8888888888888888,
             "#fdca26"
            ],
            [
             1,
             "#f0f921"
            ]
           ]
          },
          "colorway": [
           "#636efa",
           "#EF553B",
           "#00cc96",
           "#ab63fa",
           "#FFA15A",
           "#19d3f3",
           "#FF6692",
           "#B6E880",
           "#FF97FF",
           "#FECB52"
          ],
          "font": {
           "color": "#2a3f5f"
          },
          "geo": {
           "bgcolor": "white",
           "lakecolor": "white",
           "landcolor": "#E5ECF6",
           "showlakes": true,
           "showland": true,
           "subunitcolor": "white"
          },
          "hoverlabel": {
           "align": "left"
          },
          "hovermode": "closest",
          "mapbox": {
           "style": "light"
          },
          "paper_bgcolor": "white",
          "plot_bgcolor": "#E5ECF6",
          "polar": {
           "angularaxis": {
            "gridcolor": "white",
            "linecolor": "white",
            "ticks": ""
           },
           "bgcolor": "#E5ECF6",
           "radialaxis": {
            "gridcolor": "white",
            "linecolor": "white",
            "ticks": ""
           }
          },
          "scene": {
           "xaxis": {
            "backgroundcolor": "#E5ECF6",
            "gridcolor": "white",
            "gridwidth": 2,
            "linecolor": "white",
            "showbackground": true,
            "ticks": "",
            "zerolinecolor": "white"
           },
           "yaxis": {
            "backgroundcolor": "#E5ECF6",
            "gridcolor": "white",
            "gridwidth": 2,
            "linecolor": "white",
            "showbackground": true,
            "ticks": "",
            "zerolinecolor": "white"
           },
           "zaxis": {
            "backgroundcolor": "#E5ECF6",
            "gridcolor": "white",
            "gridwidth": 2,
            "linecolor": "white",
            "showbackground": true,
            "ticks": "",
            "zerolinecolor": "white"
           }
          },
          "shapedefaults": {
           "line": {
            "color": "#2a3f5f"
           }
          },
          "ternary": {
           "aaxis": {
            "gridcolor": "white",
            "linecolor": "white",
            "ticks": ""
           },
           "baxis": {
            "gridcolor": "white",
            "linecolor": "white",
            "ticks": ""
           },
           "bgcolor": "#E5ECF6",
           "caxis": {
            "gridcolor": "white",
            "linecolor": "white",
            "ticks": ""
           }
          },
          "title": {
           "x": 0.05
          },
          "xaxis": {
           "automargin": true,
           "gridcolor": "white",
           "linecolor": "white",
           "ticks": "",
           "title": {
            "standoff": 15
           },
           "zerolinecolor": "white",
           "zerolinewidth": 2
          },
          "yaxis": {
           "automargin": true,
           "gridcolor": "white",
           "linecolor": "white",
           "ticks": "",
           "title": {
            "standoff": 15
           },
           "zerolinecolor": "white",
           "zerolinewidth": 2
          }
         }
        },
        "title": {
         "text": "Histogram of Probabilities"
        },
        "xaxis": {
         "anchor": "y",
         "domain": [
          0,
          1
         ],
         "title": {
          "text": "Probability"
         }
        },
        "yaxis": {
         "anchor": "x",
         "domain": [
          0,
          1
         ],
         "title": {
          "text": "Count"
         }
        }
       }
      }
     },
     "metadata": {},
     "output_type": "display_data"
    }
   ],
   "source": [
    "probs = compute_probabilities(\n",
    "    X, W_mppca, mu_mppca, sigma_mppca, pi, d=X.shape[1], device=device\n",
    ")\n",
    "print(probs.shape)\n",
    "import plotly.express as px\n",
    "\n",
    "# Create a histogram of the probabilities\n",
    "fig = px.histogram(\n",
    "    probs.cpu().numpy(),\n",
    "    nbins=100,\n",
    "    title=\"Histogram of Probabilities\",\n",
    "    labels={\"value\": \"Probability\"},\n",
    ")\n",
    "fig.update_layout(xaxis_title=\"Probability\", yaxis_title=\"Count\")\n",
    "fig.show()"
   ]
  },
  {
   "cell_type": "code",
   "execution_count": 26,
   "metadata": {},
   "outputs": [
    {
     "data": {
      "image/png": "[encoded data removed]",
      "text/plain": [
       "<Figure size 1200x600 with 8 Axes>"
      ]
     },
     "metadata": {},
     "output_type": "display_data"
    }
   ],
   "source": [
    "# Get indices of 4 most and least probable digits\n",
    "most_probable_indices = probs.argsort(descending=True)[:4]\n",
    "least_probable_indices = probs.argsort(descending=False)[:4]\n",
    "\n",
    "# Get cluster assignments\n",
    "responsibilities = compute_responsibilities(X, W_mppca, mu_mppca, sigma_mppca, pi, d=X.shape[1], device=device)\n",
    "clusters = responsibilities.argmax(dim=0)\n",
    "\n",
    "# Create figure with 2 rows and 4 columns\n",
    "fig, axes = plt.subplots(2, 4, figsize=(12, 6))\n",
    "\n",
    "# Plot 4 most probable digits on first row\n",
    "for i, idx in enumerate(most_probable_indices):\n",
    "    axes[0,i].imshow(X_images[idx], cmap='gray')\n",
    "    axes[0,i].axis('off')\n",
    "    axes[0,i].set_title(f'p={probs[idx]:.2e}\\ncluster {clusters[idx]}')\n",
    "\n",
    "# Plot 4 least probable digits on second row  \n",
    "for i, idx in enumerate(least_probable_indices):\n",
    "    axes[1,i].imshow(X_images[idx], cmap='gray')\n",
    "    axes[1,i].axis('off')\n",
    "    axes[1,i].set_title(f'p={probs[idx]:.2e}\\ncluster {clusters[idx]}')\n",
    "\n",
    "plt.tight_layout()\n",
    "plt.show()"
   ]
  },
  {
   "cell_type": "code",
   "execution_count": 43,
   "metadata": {},
   "outputs": [
    {
     "data": {
      "image/png": "[encoded data removed]",
      "text/plain": [
       "<Figure size 800x600 with 1 Axes>"
      ]
     },
     "metadata": {},
     "output_type": "display_data"
    }
   ],
   "source": [
    "import seaborn as sns\n",
    "import matplotlib.pyplot as plt\n",
    "\n",
    "# Calculate the maximum responsibility for each point\n",
    "max_responsibility = responsibilities.max(dim=0).values\n",
    "\n",
    "# Create a DataFrame for correlation analysis\n",
    "import pandas as pd\n",
    "\n",
    "data = pd.DataFrame({\n",
    "    'Probability': probs.cpu().numpy(),\n",
    "    'Max Responsibility': max_responsibility.cpu().numpy(),\n",
    "    'Cluster': responsibilities.argmax(dim=0).cpu().numpy()  # Add cluster information\n",
    "})\n",
    "\n",
    "# Plot a scatter plot with color per cluster and add a density estimation\n",
    "plt.figure(figsize=(8, 6))\n",
    "sns.kdeplot(data=data, x='Probability', y='Max Responsibility', fill=True, cmap='viridis', alpha=0.5, thresh=0)\n",
    "sns.scatterplot(x='Probability', y='Max Responsibility', hue='Cluster', data=data, palette='plasma', edgecolor=None, alpha=0.7)\n",
    "plt.title('Scatter Plot of Probability vs Max Responsibility by Cluster with Density Estimation')\n",
    "plt.xlabel('Probability')\n",
    "plt.ylabel('Max Responsibility')\n",
    "plt.legend(title='Cluster')\n",
    "plt.show()\n"
   ]
  },
  {
   "cell_type": "code",
   "execution_count": 36,
   "metadata": {},
   "outputs": [
    {
     "data": {
      "application/vnd.plotly.v1+json": {
       "config": {
        "plotlyServerURL": "https://plot.ly"
       },
       "data": [
        {
         "bingroup": "0",
         "name": "Cluster 0",
         "opacity": 0.7,
         "type": "histogram",
         "x": [
          34.97330059383586,
          54.53785432506712,
          29.23207022537927,
          34.973038208224374,
          54.54585345269641,
          49.1143911690321,
          54.551447171875104,
          34.97340557451264,
          34.97175394801296,
          41.86329881460052,
          29.23146298673086,
          54.55257421255106,
          41.86320360110244,
          29.232470472769492,
          34.97247092772826,
          49.1192052549068,
          29.23296100415818,
          34.970515843004634,
          41.86164356119269,
          41.01602656114545,
          34.97232426973736,
          34.97287624027004,
          29.233113091354934,
          29.233101605206876,
          29.231450246018717,
          29.233132224514993,
          34.97248539215582,
          29.232552129113408,
          49.11802631744355,
          49.11669234107712,
          29.232027858273323,
          29.233106349891223,
          49.119182648990346,
          29.233193922746437,
          49.11873958315039,
          29.23317725613306,
          54.55171663173927,
          49.118210883539724,
          49.11689697431176,
          34.972480428828874,
          41.8631556368144,
          29.228271423023042,
          29.233047988883154,
          54.5517262034962,
          30.40161876512564,
          29.231471695359794,
          34.97257674808584,
          29.232581373639178,
          29.228786284480435,
          34.9732041197734,
          34.97307274663918,
          41.863263545856675,
          34.97235149625429,
          29.23280549075216,
          34.96822919694417,
          29.233025779539485,
          49.10822213970348,
          29.23313438440663,
          41.86119191105581,
          41.857247322608906,
          54.556032748218215,
          34.97345126958721,
          34.972512725083924,
          29.23300221307526,
          34.97236672830088,
          34.97213670502603,
          54.55096562545406,
          34.973139156148555,
          54.55460461023861,
          34.973380664686125,
          29.23182509796359,
          29.23255644258878,
          29.231917848054483,
          29.232019891153918,
          42.29802139864346,
          29.23266137356496,
          29.23269273023294,
          29.23079528034003,
          54.55053527583617,
          34.96942595712213,
          49.11701411997697,
          41.017061240420716,
          29.23250829792011,
          34.96755921453695,
          29.23038082191325,
          34.973247319229266,
          41.862098269115066,
          29.228768783664382,
          29.23215417647536,
          41.86120113125606,
          49.1031106907415,
          29.232222997812904,
          29.230145935316397,
          29.23238832917303,
          41.0087785060627,
          29.23269877647072,
          54.524575733554,
          34.97307765279917,
          49.11682678576024,
          49.114690520128505,
          54.55604643178092,
          54.52952999700016,
          34.973233610070835,
          54.54917632876956,
          34.97290250936151,
          29.23259822199059,
          34.96424526753578,
          54.55289666384883,
          29.232002184283708,
          29.221919065023055,
          29.232562714915105,
          29.232824282922156,
          29.23272416521733,
          29.23180460108893,
          54.546474130771415,
          54.55475547524354,
          29.23229849631808,
          40.99692510581849,
          34.97334226900346,
          54.551115383633906,
          29.23308576454288,
          49.119258348253936,
          29.232978407799333,
          29.232732730944562,
          29.2309960588542,
          49.11766733457891,
          49.11843982285903,
          34.97020136043778,
          29.228161696347616,
          34.9730462288941,
          34.971124709751564,
          41.863315375266346,
          29.23165478655396,
          29.229306412966842,
          34.97317868575619,
          54.558412794571055,
          29.23199969057186,
          34.970811233763214,
          41.01615992286455,
          49.1154509789301,
          41.013475457002926,
          41.01008286097282,
          29.231629108750834,
          41.01525016822697,
          29.23026619966477,
          29.233179570398086,
          54.54952337624531,
          34.973449249417705,
          29.233113384439353,
          29.230459690874277,
          49.11151681616968,
          34.972515281169045,
          54.54934643631031,
          54.5546097632419,
          34.973180635649264,
          29.232728645768788,
          29.23157414200607,
          34.97344131058676,
          29.232101368042162,
          29.232967478852323,
          29.232584014791218,
          49.10889514149186,
          34.97313308949418,
          29.231573992490322,
          34.97344466484452,
          34.969120279331534,
          29.22739692503603,
          34.973074886473775,
          49.11587393135254,
          29.233123885740028,
          29.232542115553542,
          54.55193152966929,
          29.232956954106886,
          54.54071312429225,
          29.23273128929485,
          54.543427585258854,
          29.23243872919842,
          29.233034133164118,
          49.115611734154704,
          34.9734818474339,
          34.9734370961582,
          49.11921330363109,
          29.229963140259063,
          29.231239964139792,
          34.97297996520254,
          29.232690152277655,
          29.232479863346267,
          29.232584040138384,
          54.555549896627916,
          29.23213163099212,
          29.230609736355206,
          49.119398525057925,
          54.55086823897065,
          29.231662419760834,
          29.232419197523402,
          29.23187572055752,
          34.971748689720954,
          54.52126735405037,
          29.232793352954925,
          34.97347032386354,
          34.973170336847545,
          29.23309020944587,
          29.233135791049342,
          34.973079747789434,
          29.203823467805712,
          34.97304897986156,
          34.97314213901364,
          29.23320020481928,
          42.30872385993106,
          54.51899381462345,
          41.01564958874708,
          54.55304466366846,
          34.97259519045934,
          29.233022222490614,
          29.233183992336663,
          54.51788106773812,
          29.23003402369956,
          49.11863830989719,
          29.233136388815826,
          29.231569943783338,
          34.96953079990553,
          29.230580748306924,
          41.85306766828936,
          54.555203975814,
          34.97192620980852,
          54.53819646581906,
          34.97303459818119,
          29.22637919762157,
          41.85975999330431,
          41.86294485380529,
          41.8547973383721,
          29.23293027473053,
          29.230368445252772,
          54.55434269883837,
          34.97322066025301,
          29.23236756268972,
          54.502514429114676,
          34.97212047185599,
          54.55095681500187,
          34.97192505583428,
          54.55357793576856,
          49.11782163962881,
          29.23242325149283,
          29.23278514313328,
          34.97269563462336,
          54.553889110639304,
          29.230368704240895,
          29.232189650301255
         ]
        }
       ],
       "layout": {
        "barmode": "overlay",
        "template": {
         "data": {
          "bar": [
           {
            "error_x": {
             "color": "#2a3f5f"
            },
            "error_y": {
             "color": "#2a3f5f"
            },
            "marker": {
             "line": {
              "color": "#E5ECF6",
              "width": 0.5
             },
             "pattern": {
              "fillmode": "overlay",
              "size": 10,
              "solidity": 0.2
             }
            },
            "type": "bar"
           }
          ],
          "barpolar": [
           {
            "marker": {
             "line": {
              "color": "#E5ECF6",
              "width": 0.5
             },
             "pattern": {
              "fillmode": "overlay",
              "size": 10,
              "solidity": 0.2
             }
            },
            "type": "barpolar"
           }
          ],
          "carpet": [
           {
            "aaxis": {
             "endlinecolor": "#2a3f5f",
             "gridcolor": "white",
             "linecolor": "white",
             "minorgridcolor": "white",
             "startlinecolor": "#2a3f5f"
            },
            "baxis": {
             "endlinecolor": "#2a3f5f",
             "gridcolor": "white",
             "linecolor": "white",
             "minorgridcolor": "white",
             "startlinecolor": "#2a3f5f"
            },
            "type": "carpet"
           }
          ],
          "choropleth": [
           {
            "colorbar": {
             "outlinewidth": 0,
             "ticks": ""
            },
            "type": "choropleth"
           }
          ],
          "contour": [
           {
            "colorbar": {
             "outlinewidth": 0,
             "ticks": ""
            },
            "colorscale": [
             [
              0,
              "#0d0887"
             ],
             [
              0.1111111111111111,
              "#46039f"
             ],
             [
              0.2222222222222222,
              "#7201a8"
             ],
             [
              0.3333333333333333,
              "#9c179e"
             ],
             [
              0.4444444444444444,
              "#bd3786"
             ],
             [
              0.5555555555555556,
              "#d8576b"
             ],
             [
              0.6666666666666666,
              "#ed7953"
             ],
             [
              0.7777777777777778,
              "#fb9f3a"
             ],
             [
              0.8888888888888888,
              "#fdca26"
             ],
             [
              1,
              "#f0f921"
             ]
            ],
            "type": "contour"
           }
          ],
          "contourcarpet": [
           {
            "colorbar": {
             "outlinewidth": 0,
             "ticks": ""
            },
            "type": "contourcarpet"
           }
          ],
          "heatmap": [
           {
            "colorbar": {
             "outlinewidth": 0,
             "ticks": ""
            },
            "colorscale": [
             [
              0,
              "#0d0887"
             ],
             [
              0.1111111111111111,
              "#46039f"
             ],
             [
              0.2222222222222222,
              "#7201a8"
             ],
             [
              0.3333333333333333,
              "#9c179e"
             ],
             [
              0.4444444444444444,
              "#bd3786"
             ],
             [
              0.5555555555555556,
              "#d8576b"
             ],
             [
              0.6666666666666666,
              "#ed7953"
             ],
             [
              0.7777777777777778,
              "#fb9f3a"
             ],
             [
              0.8888888888888888,
              "#fdca26"
             ],
             [
              1,
              "#f0f921"
             ]
            ],
            "type": "heatmap"
           }
          ],
          "heatmapgl": [
           {
            "colorbar": {
             "outlinewidth": 0,
             "ticks": ""
            },
            "colorscale": [
             [
              0,
              "#0d0887"
             ],
             [
              0.1111111111111111,
              "#46039f"
             ],
             [
              0.2222222222222222,
              "#7201a8"
             ],
             [
              0.3333333333333333,
              "#9c179e"
             ],
             [
              0.4444444444444444,
              "#bd3786"
             ],
             [
              0.5555555555555556,
              "#d8576b"
             ],
             [
              0.6666666666666666,
              "#ed7953"
             ],
             [
              0.7777777777777778,
              "#fb9f3a"
             ],
             [
              0.8888888888888888,
              "#fdca26"
             ],
             [
              1,
              "#f0f921"
             ]
            ],
            "type": "heatmapgl"
           }
          ],
          "histogram": [
           {
            "marker": {
             "pattern": {
              "fillmode": "overlay",
              "size": 10,
              "solidity": 0.2
             }
            },
            "type": "histogram"
           }
          ],
          "histogram2d": [
           {
            "colorbar": {
             "outlinewidth": 0,
             "ticks": ""
            },
            "colorscale": [
             [
              0,
              "#0d0887"
             ],
             [
              0.1111111111111111,
              "#46039f"
             ],
             [
              0.2222222222222222,
              "#7201a8"
             ],
             [
              0.3333333333333333,
              "#9c179e"
             ],
             [
              0.4444444444444444,
              "#bd3786"
             ],
             [
              0.5555555555555556,
              "#d8576b"
             ],
             [
              0.6666666666666666,
              "#ed7953"
             ],
             [
              0.7777777777777778,
              "#fb9f3a"
             ],
             [
              0.8888888888888888,
              "#fdca26"
             ],
             [
              1,
              "#f0f921"
             ]
            ],
            "type": "histogram2d"
           }
          ],
          "histogram2dcontour": [
           {
            "colorbar": {
             "outlinewidth": 0,
             "ticks": ""
            },
            "colorscale": [
             [
              0,
              "#0d0887"
             ],
             [
              0.1111111111111111,
              "#46039f"
             ],
             [
              0.2222222222222222,
              "#7201a8"
             ],
             [
              0.3333333333333333,
              "#9c179e"
             ],
             [
              0.4444444444444444,
              "#bd3786"
             ],
             [
              0.5555555555555556,
              "#d8576b"
             ],
             [
              0.6666666666666666,
              "#ed7953"
             ],
             [
              0.7777777777777778,
              "#fb9f3a"
             ],
             [
              0.8888888888888888,
              "#fdca26"
             ],
             [
              1,
              "#f0f921"
             ]
            ],
            "type": "histogram2dcontour"
           }
          ],
          "mesh3d": [
           {
            "colorbar": {
             "outlinewidth": 0,
             "ticks": ""
            },
            "type": "mesh3d"
           }
          ],
          "parcoords": [
           {
            "line": {
             "colorbar": {
              "outlinewidth": 0,
              "ticks": ""
             }
            },
            "type": "parcoords"
           }
          ],
          "pie": [
           {
            "automargin": true,
            "type": "pie"
           }
          ],
          "scatter": [
           {
            "fillpattern": {
             "fillmode": "overlay",
             "size": 10,
             "solidity": 0.2
            },
            "type": "scatter"
           }
          ],
          "scatter3d": [
           {
            "line": {
             "colorbar": {
              "outlinewidth": 0,
              "ticks": ""
             }
            },
            "marker": {
             "colorbar": {
              "outlinewidth": 0,
              "ticks": ""
             }
            },
            "type": "scatter3d"
           }
          ],
          "scattercarpet": [
           {
            "marker": {
             "colorbar": {
              "outlinewidth": 0,
              "ticks": ""
             }
            },
            "type": "scattercarpet"
           }
          ],
          "scattergeo": [
           {
            "marker": {
             "colorbar": {
              "outlinewidth": 0,
              "ticks": ""
             }
            },
            "type": "scattergeo"
           }
          ],
          "scattergl": [
           {
            "marker": {
             "colorbar": {
              "outlinewidth": 0,
              "ticks": ""
             }
            },
            "type": "scattergl"
           }
          ],
          "scattermapbox": [
           {
            "marker": {
             "colorbar": {
              "outlinewidth": 0,
              "ticks": ""
             }
            },
            "type": "scattermapbox"
           }
          ],
          "scatterpolar": [
           {
            "marker": {
             "colorbar": {
              "outlinewidth": 0,
              "ticks": ""
             }
            },
            "type": "scatterpolar"
           }
          ],
          "scatterpolargl": [
           {
            "marker": {
             "colorbar": {
              "outlinewidth": 0,
              "ticks": ""
             }
            },
            "type": "scatterpolargl"
           }
          ],
          "scatterternary": [
           {
            "marker": {
             "colorbar": {
              "outlinewidth": 0,
              "ticks": ""
             }
            },
            "type": "scatterternary"
           }
          ],
          "surface": [
           {
            "colorbar": {
             "outlinewidth": 0,
             "ticks": ""
            },
            "colorscale": [
             [
              0,
              "#0d0887"
             ],
             [
              0.1111111111111111,
              "#46039f"
             ],
             [
              0.2222222222222222,
              "#7201a8"
             ],
             [
              0.3333333333333333,
              "#9c179e"
             ],
             [
              0.4444444444444444,
              "#bd3786"
             ],
             [
              0.5555555555555556,
              "#d8576b"
             ],
             [
              0.6666666666666666,
              "#ed7953"
             ],
             [
              0.7777777777777778,
              "#fb9f3a"
             ],
             [
              0.8888888888888888,
              "#fdca26"
             ],
             [
              1,
              "#f0f921"
             ]
            ],
            "type": "surface"
           }
          ],
          "table": [
           {
            "cells": {
             "fill": {
              "color": "#EBF0F8"
             },
             "line": {
              "color": "white"
             }
            },
            "header": {
             "fill": {
              "color": "#C8D4E3"
             },
             "line": {
              "color": "white"
             }
            },
            "type": "table"
           }
          ]
         },
         "layout": {
          "annotationdefaults": {
           "arrowcolor": "#2a3f5f",
           "arrowhead": 0,
           "arrowwidth": 1
          },
          "autotypenumbers": "strict",
          "coloraxis": {
           "colorbar": {
            "outlinewidth": 0,
            "ticks": ""
           }
          },
          "colorscale": {
           "diverging": [
            [
             0,
             "#8e0152"
            ],
            [
             0.1,
             "#c51b7d"
            ],
            [
             0.2,
             "#de77ae"
            ],
            [
             0.3,
             "#f1b6da"
            ],
            [
             0.4,
             "#fde0ef"
            ],
            [
             0.5,
             "#f7f7f7"
            ],
            [
             0.6,
             "#e6f5d0"
            ],
            [
             0.7,
             "#b8e186"
            ],
            [
             0.8,
             "#7fbc41"
            ],
            [
             0.9,
             "#4d9221"
            ],
            [
             1,
             "#276419"
            ]
           ],
           "sequential": [
            [
             0,
             "#0d0887"
            ],
            [
             0.1111111111111111,
             "#46039f"
            ],
            [
             0.2222222222222222,
             "#7201a8"
            ],
            [
             0.3333333333333333,
             "#9c179e"
            ],
            [
             0.4444444444444444,
             "#bd3786"
            ],
            [
             0.5555555555555556,
             "#d8576b"
            ],
            [
             0.6666666666666666,
             "#ed7953"
            ],
            [
             0.7777777777777778,
             "#fb9f3a"
            ],
            [
             0.8888888888888888,
             "#fdca26"
            ],
            [
             1,
             "#f0f921"
            ]
           ],
           "sequentialminus": [
            [
             0,
             "#0d0887"
            ],
            [
             0.1111111111111111,
             "#46039f"
            ],
            [
             0.2222222222222222,
             "#7201a8"
            ],
            [
             0.3333333333333333,
             "#9c179e"
            ],
            [
             0.4444444444444444,
             "#bd3786"
            ],
            [
             0.5555555555555556,
             "#d8576b"
            ],
            [
             0.6666666666666666,
             "#ed7953"
            ],
            [
             0.7777777777777778,
             "#fb9f3a"
            ],
            [
             0.8888888888888888,
             "#fdca26"
            ],
            [
             1,
             "#f0f921"
            ]
           ]
          },
          "colorway": [
           "#636efa",
           "#EF553B",
           "#00cc96",
           "#ab63fa",
           "#FFA15A",
           "#19d3f3",
           "#FF6692",
           "#B6E880",
           "#FF97FF",
           "#FECB52"
          ],
          "font": {
           "color": "#2a3f5f"
          },
          "geo": {
           "bgcolor": "white",
           "lakecolor": "white",
           "landcolor": "#E5ECF6",
           "showlakes": true,
           "showland": true,
           "subunitcolor": "white"
          },
          "hoverlabel": {
           "align": "left"
          },
          "hovermode": "closest",
          "mapbox": {
           "style": "light"
          },
          "paper_bgcolor": "white",
          "plot_bgcolor": "#E5ECF6",
          "polar": {
           "angularaxis": {
            "gridcolor": "white",
            "linecolor": "white",
            "ticks": ""
           },
           "bgcolor": "#E5ECF6",
           "radialaxis": {
            "gridcolor": "white",
            "linecolor": "white",
            "ticks": ""
           }
          },
          "scene": {
           "xaxis": {
            "backgroundcolor": "#E5ECF6",
            "gridcolor": "white",
            "gridwidth": 2,
            "linecolor": "white",
            "showbackground": true,
            "ticks": "",
            "zerolinecolor": "white"
           },
           "yaxis": {
            "backgroundcolor": "#E5ECF6",
            "gridcolor": "white",
            "gridwidth": 2,
            "linecolor": "white",
            "showbackground": true,
            "ticks": "",
            "zerolinecolor": "white"
           },
           "zaxis": {
            "backgroundcolor": "#E5ECF6",
            "gridcolor": "white",
            "gridwidth": 2,
            "linecolor": "white",
            "showbackground": true,
            "ticks": "",
            "zerolinecolor": "white"
           }
          },
          "shapedefaults": {
           "line": {
            "color": "#2a3f5f"
           }
          },
          "ternary": {
           "aaxis": {
            "gridcolor": "white",
            "linecolor": "white",
            "ticks": ""
           },
           "baxis": {
            "gridcolor": "white",
            "linecolor": "white",
            "ticks": ""
           },
           "bgcolor": "#E5ECF6",
           "caxis": {
            "gridcolor": "white",
            "linecolor": "white",
            "ticks": ""
           }
          },
          "title": {
           "x": 0.05
          },
          "xaxis": {
           "automargin": true,
           "gridcolor": "white",
           "linecolor": "white",
           "ticks": "",
           "title": {
            "standoff": 15
           },
           "zerolinecolor": "white",
           "zerolinewidth": 2
          },
          "yaxis": {
           "automargin": true,
           "gridcolor": "white",
           "linecolor": "white",
           "ticks": "",
           "title": {
            "standoff": 15
           },
           "zerolinecolor": "white",
           "zerolinewidth": 2
          }
         }
        },
        "title": {
         "text": "Histogram of Probabilities for cluster 0"
        },
        "xaxis": {
         "title": {
          "text": "Probability"
         }
        },
        "yaxis": {
         "title": {
          "text": "Count"
         }
        }
       }
      }
     },
     "metadata": {},
     "output_type": "display_data"
    },
    {
     "data": {
      "application/vnd.plotly.v1+json": {
       "config": {
        "plotlyServerURL": "https://plot.ly"
       },
       "data": [
        {
         "bingroup": "1",
         "name": "Cluster 1",
         "opacity": 0.7,
         "type": "histogram",
         "x": [
          19.88642269279964,
          19.886322583599807,
          19.88622413412732,
          31.670777749534636,
          19.886334711000096,
          19.886498422058576,
          19.8863551541621,
          19.88635554866322,
          19.88650838257918,
          19.8863224362501,
          19.886493690480666,
          32.961693859244484,
          19.88641277794916,
          19.886190341467458,
          19.886324714663086,
          31.67080769176697,
          19.886503869305013,
          19.886383276509918,
          19.88602561663532,
          32.96212293116873,
          19.886290965408033,
          19.88633803328696,
          19.886227625241233,
          19.886295551561076,
          19.886383879436504,
          19.886463088297866,
          19.8862633050963,
          19.886286280658606,
          19.886482806079748,
          19.88650303831078,
          19.886487694968583,
          19.88648981975909,
          19.88647911401112,
          19.88650189243904,
          19.88638983979793,
          19.88650832984741,
          19.886487483927635,
          19.886488367637053,
          19.8864194516568,
          19.88647027417583,
          19.886493098912492,
          19.886230065884263,
          19.88642264739394,
          19.886315842636296,
          19.88625765951048,
          19.886184274170553,
          19.886482138037806,
          19.88630097186129,
          19.886281786056347,
          19.886378932456626,
          19.886322885300448,
          19.886459653043428,
          19.885977253798817,
          19.88616812142855,
          19.88617995160039,
          19.88634370966835,
          32.962072461826885,
          19.88649519149601,
          19.886382497674514,
          19.886486101428375,
          19.886369198260837,
          19.886510277457113,
          19.886488200191145,
          19.886506827136174,
          19.88651066989121,
          19.886460046147338,
          19.88646443172228,
          19.886485441542614,
          19.886430663863273,
          19.88649375598904,
          19.886340389070295,
          19.88624000502591,
          19.886286127243736,
          19.88644922807021,
          19.886490626373057,
          19.886378247184425,
          19.88650773383318,
          19.88650664809078,
          19.88633442657968,
          19.886378312342956,
          19.886329672822324,
          19.886500296622668,
          19.886253051815764,
          19.886382713868954,
          19.886310000945304,
          19.886506085796718,
          19.886100810033167,
          19.886446159879902,
          19.886429621705826,
          19.886291146178575,
          19.886269684405033,
          19.885986802539037,
          19.886266557804223,
          19.88636384906773,
          19.8864926584552,
          19.88638046145337,
          19.88634317738797,
          19.8862994943856,
          19.886280403948692,
          19.88649991500184,
          19.88624818418069,
          31.670645379118948,
          19.886297797007455,
          19.886504353052445,
          31.670597549487088,
          19.88620190455626,
          19.886268857896173,
          19.886354970723282,
          19.88639017223027,
          19.886316849495834,
          19.88650101348186,
          19.886499013457406,
          19.88611408692351,
          25.62670130901123,
          19.88639983267891,
          19.886204962200626,
          19.886385689268486,
          19.886161330625445,
          19.886501032042567,
          19.886430296176453,
          19.88649902437475,
          19.886304748060596,
          19.88647545708722,
          19.886425244303705,
          19.886332558589775,
          19.88640567033929,
          19.886382895086054,
          19.886180713533093,
          19.88635899281847,
          19.886249924240346,
          31.67068360253226,
          19.88620029728824,
          19.886464845719722,
          19.886507514329598,
          31.670878429440698,
          19.886221386455908,
          19.886285886017124,
          32.962001619743766,
          19.886405565549587,
          19.886319399877323,
          19.886426708834396,
          19.88650445899154,
          19.886507438360084,
          19.886356060345893,
          19.886511061495003,
          19.886284819607795,
          19.886320393863382,
          19.886424178420025,
          19.886299824777005,
          19.88620077714161,
          19.886342949735866,
          19.88645973161318,
          19.886148116840012,
          19.88635029273477,
          19.886378847142517,
          19.886457532295406,
          19.886360625610372,
          19.886073493233418,
          19.8864759265869,
          19.88626325537745,
          19.886463371141463,
          19.886491203316865,
          19.88602511271979,
          19.886315440178432,
          19.886498184702035,
          19.88622209037776,
          19.885791562199252,
          19.886126016375638,
          19.88608745131699,
          19.88589082630899,
          31.67058471662115,
          19.88645915347427,
          19.88626254314994,
          19.88647204830731,
          19.886369456475325,
          19.886066700792277,
          19.88629185518586,
          19.886477844496437,
          19.886414551517635,
          19.886349161873873,
          32.962089868026155,
          19.886505402477866,
          19.886039105198066,
          19.886149509923737,
          19.88604515271389,
          19.88608133128636,
          19.886223862608656,
          19.886389094820917,
          19.886410188096892,
          19.886489853256922,
          19.8864958602261,
          32.96191033421352,
          19.88640412602411,
          19.886461755804238,
          19.886212971720468,
          19.88607611157185,
          19.886374899909217,
          19.88624900448306,
          19.88619557101176,
          19.886415060301825,
          19.886451442279956,
          19.886512585232225,
          19.886359021508497,
          19.88631987717135,
          19.88641443047429,
          19.886368288750607,
          19.88650055029203,
          19.886402698982817,
          19.886403862962993,
          19.886267727527525,
          19.886472840052118,
          19.885956202454686,
          19.886316383532197,
          19.88629542175921,
          19.886500084845476,
          19.886335468658665,
          19.88636437167087,
          19.886334772481305,
          19.88646488040607,
          19.88641544154647,
          19.886424411122736,
          19.88647738297933,
          19.886425128746502,
          19.886360945437477,
          19.886483179557413,
          19.886411531837364,
          19.886349717917764,
          19.886237149116404,
          19.88631723409827,
          19.886510215063925,
          19.88649376118943,
          19.8863606594532,
          19.886508772657617,
          19.886430945114874,
          19.886511590916776,
          19.886322782589012
         ]
        }
       ],
       "layout": {
        "barmode": "overlay",
        "template": {
         "data": {
          "bar": [
           {
            "error_x": {
             "color": "#2a3f5f"
            },
            "error_y": {
             "color": "#2a3f5f"
            },
            "marker": {
             "line": {
              "color": "#E5ECF6",
              "width": 0.5
             },
             "pattern": {
              "fillmode": "overlay",
              "size": 10,
              "solidity": 0.2
             }
            },
            "type": "bar"
           }
          ],
          "barpolar": [
           {
            "marker": {
             "line": {
              "color": "#E5ECF6",
              "width": 0.5
             },
             "pattern": {
              "fillmode": "overlay",
              "size": 10,
              "solidity": 0.2
             }
            },
            "type": "barpolar"
           }
          ],
          "carpet": [
           {
            "aaxis": {
             "endlinecolor": "#2a3f5f",
             "gridcolor": "white",
             "linecolor": "white",
             "minorgridcolor": "white",
             "startlinecolor": "#2a3f5f"
            },
            "baxis": {
             "endlinecolor": "#2a3f5f",
             "gridcolor": "white",
             "linecolor": "white",
             "minorgridcolor": "white",
             "startlinecolor": "#2a3f5f"
            },
            "type": "carpet"
           }
          ],
          "choropleth": [
           {
            "colorbar": {
             "outlinewidth": 0,
             "ticks": ""
            },
            "type": "choropleth"
           }
          ],
          "contour": [
           {
            "colorbar": {
             "outlinewidth": 0,
             "ticks": ""
            },
            "colorscale": [
             [
              0,
              "#0d0887"
             ],
             [
              0.1111111111111111,
              "#46039f"
             ],
             [
              0.2222222222222222,
              "#7201a8"
             ],
             [
              0.3333333333333333,
              "#9c179e"
             ],
             [
              0.4444444444444444,
              "#bd3786"
             ],
             [
              0.5555555555555556,
              "#d8576b"
             ],
             [
              0.6666666666666666,
              "#ed7953"
             ],
             [
              0.7777777777777778,
              "#fb9f3a"
             ],
             [
              0.8888888888888888,
              "#fdca26"
             ],
             [
              1,
              "#f0f921"
             ]
            ],
            "type": "contour"
           }
          ],
          "contourcarpet": [
           {
            "colorbar": {
             "outlinewidth": 0,
             "ticks": ""
            },
            "type": "contourcarpet"
           }
          ],
          "heatmap": [
           {
            "colorbar": {
             "outlinewidth": 0,
             "ticks": ""
            },
            "colorscale": [
             [
              0,
              "#0d0887"
             ],
             [
              0.1111111111111111,
              "#46039f"
             ],
             [
              0.2222222222222222,
              "#7201a8"
             ],
             [
              0.3333333333333333,
              "#9c179e"
             ],
             [
              0.4444444444444444,
              "#bd3786"
             ],
             [
              0.5555555555555556,
              "#d8576b"
             ],
             [
              0.6666666666666666,
              "#ed7953"
             ],
             [
              0.7777777777777778,
              "#fb9f3a"
             ],
             [
              0.8888888888888888,
              "#fdca26"
             ],
             [
              1,
              "#f0f921"
             ]
            ],
            "type": "heatmap"
           }
          ],
          "heatmapgl": [
           {
            "colorbar": {
             "outlinewidth": 0,
             "ticks": ""
            },
            "colorscale": [
             [
              0,
              "#0d0887"
             ],
             [
              0.1111111111111111,
              "#46039f"
             ],
             [
              0.2222222222222222,
              "#7201a8"
             ],
             [
              0.3333333333333333,
              "#9c179e"
             ],
             [
              0.4444444444444444,
              "#bd3786"
             ],
             [
              0.5555555555555556,
              "#d8576b"
             ],
             [
              0.6666666666666666,
              "#ed7953"
             ],
             [
              0.7777777777777778,
              "#fb9f3a"
             ],
             [
              0.8888888888888888,
              "#fdca26"
             ],
             [
              1,
              "#f0f921"
             ]
            ],
            "type": "heatmapgl"
           }
          ],
          "histogram": [
           {
            "marker": {
             "pattern": {
              "fillmode": "overlay",
              "size": 10,
              "solidity": 0.2
             }
            },
            "type": "histogram"
           }
          ],
          "histogram2d": [
           {
            "colorbar": {
             "outlinewidth": 0,
             "ticks": ""
            },
            "colorscale": [
             [
              0,
              "#0d0887"
             ],
             [
              0.1111111111111111,
              "#46039f"
             ],
             [
              0.2222222222222222,
              "#7201a8"
             ],
             [
              0.3333333333333333,
              "#9c179e"
             ],
             [
              0.4444444444444444,
              "#bd3786"
             ],
             [
              0.5555555555555556,
              "#d8576b"
             ],
             [
              0.6666666666666666,
              "#ed7953"
             ],
             [
              0.7777777777777778,
              "#fb9f3a"
             ],
             [
              0.8888888888888888,
              "#fdca26"
             ],
             [
              1,
              "#f0f921"
             ]
            ],
            "type": "histogram2d"
           }
          ],
          "histogram2dcontour": [
           {
            "colorbar": {
             "outlinewidth": 0,
             "ticks": ""
            },
            "colorscale": [
             [
              0,
              "#0d0887"
             ],
             [
              0.1111111111111111,
              "#46039f"
             ],
             [
              0.2222222222222222,
              "#7201a8"
             ],
             [
              0.3333333333333333,
              "#9c179e"
             ],
             [
              0.4444444444444444,
              "#bd3786"
             ],
             [
              0.5555555555555556,
              "#d8576b"
             ],
             [
              0.6666666666666666,
              "#ed7953"
             ],
             [
              0.7777777777777778,
              "#fb9f3a"
             ],
             [
              0.8888888888888888,
              "#fdca26"
             ],
             [
              1,
              "#f0f921"
             ]
            ],
            "type": "histogram2dcontour"
           }
          ],
          "mesh3d": [
           {
            "colorbar": {
             "outlinewidth": 0,
             "ticks": ""
            },
            "type": "mesh3d"
           }
          ],
          "parcoords": [
           {
            "line": {
             "colorbar": {
              "outlinewidth": 0,
              "ticks": ""
             }
            },
            "type": "parcoords"
           }
          ],
          "pie": [
           {
            "automargin": true,
            "type": "pie"
           }
          ],
          "scatter": [
           {
            "fillpattern": {
             "fillmode": "overlay",
             "size": 10,
             "solidity": 0.2
            },
            "type": "scatter"
           }
          ],
          "scatter3d": [
           {
            "line": {
             "colorbar": {
              "outlinewidth": 0,
              "ticks": ""
             }
            },
            "marker": {
             "colorbar": {
              "outlinewidth": 0,
              "ticks": ""
             }
            },
            "type": "scatter3d"
           }
          ],
          "scattercarpet": [
           {
            "marker": {
             "colorbar": {
              "outlinewidth": 0,
              "ticks": ""
             }
            },
            "type": "scattercarpet"
           }
          ],
          "scattergeo": [
           {
            "marker": {
             "colorbar": {
              "outlinewidth": 0,
              "ticks": ""
             }
            },
            "type": "scattergeo"
           }
          ],
          "scattergl": [
           {
            "marker": {
             "colorbar": {
              "outlinewidth": 0,
              "ticks": ""
             }
            },
            "type": "scattergl"
           }
          ],
          "scattermapbox": [
           {
            "marker": {
             "colorbar": {
              "outlinewidth": 0,
              "ticks": ""
             }
            },
            "type": "scattermapbox"
           }
          ],
          "scatterpolar": [
           {
            "marker": {
             "colorbar": {
              "outlinewidth": 0,
              "ticks": ""
             }
            },
            "type": "scatterpolar"
           }
          ],
          "scatterpolargl": [
           {
            "marker": {
             "colorbar": {
              "outlinewidth": 0,
              "ticks": ""
             }
            },
            "type": "scatterpolargl"
           }
          ],
          "scatterternary": [
           {
            "marker": {
             "colorbar": {
              "outlinewidth": 0,
              "ticks": ""
             }
            },
            "type": "scatterternary"
           }
          ],
          "surface": [
           {
            "colorbar": {
             "outlinewidth": 0,
             "ticks": ""
            },
            "colorscale": [
             [
              0,
              "#0d0887"
             ],
             [
              0.1111111111111111,
              "#46039f"
             ],
             [
              0.2222222222222222,
              "#7201a8"
             ],
             [
              0.3333333333333333,
              "#9c179e"
             ],
             [
              0.4444444444444444,
              "#bd3786"
             ],
             [
              0.5555555555555556,
              "#d8576b"
             ],
             [
              0.6666666666666666,
              "#ed7953"
             ],
             [
              0.7777777777777778,
              "#fb9f3a"
             ],
             [
              0.8888888888888888,
              "#fdca26"
             ],
             [
              1,
              "#f0f921"
             ]
            ],
            "type": "surface"
           }
          ],
          "table": [
           {
            "cells": {
             "fill": {
              "color": "#EBF0F8"
             },
             "line": {
              "color": "white"
             }
            },
            "header": {
             "fill": {
              "color": "#C8D4E3"
             },
             "line": {
              "color": "white"
             }
            },
            "type": "table"
           }
          ]
         },
         "layout": {
          "annotationdefaults": {
           "arrowcolor": "#2a3f5f",
           "arrowhead": 0,
           "arrowwidth": 1
          },
          "autotypenumbers": "strict",
          "coloraxis": {
           "colorbar": {
            "outlinewidth": 0,
            "ticks": ""
           }
          },
          "colorscale": {
           "diverging": [
            [
             0,
             "#8e0152"
            ],
            [
             0.1,
             "#c51b7d"
            ],
            [
             0.2,
             "#de77ae"
            ],
            [
             0.3,
             "#f1b6da"
            ],
            [
             0.4,
             "#fde0ef"
            ],
            [
             0.5,
             "#f7f7f7"
            ],
            [
             0.6,
             "#e6f5d0"
            ],
            [
             0.7,
             "#b8e186"
            ],
            [
             0.8,
             "#7fbc41"
            ],
            [
             0.9,
             "#4d9221"
            ],
            [
             1,
             "#276419"
            ]
           ],
           "sequential": [
            [
             0,
             "#0d0887"
            ],
            [
             0.1111111111111111,
             "#46039f"
            ],
            [
             0.2222222222222222,
             "#7201a8"
            ],
            [
             0.3333333333333333,
             "#9c179e"
            ],
            [
             0.4444444444444444,
             "#bd3786"
            ],
            [
             0.5555555555555556,
             "#d8576b"
            ],
            [
             0.6666666666666666,
             "#ed7953"
            ],
            [
             0.7777777777777778,
             "#fb9f3a"
            ],
            [
             0.8888888888888888,
             "#fdca26"
            ],
            [
             1,
             "#f0f921"
            ]
           ],
           "sequentialminus": [
            [
             0,
             "#0d0887"
            ],
            [
             0.1111111111111111,
             "#46039f"
            ],
            [
             0.2222222222222222,
             "#7201a8"
            ],
            [
             0.3333333333333333,
             "#9c179e"
            ],
            [
             0.4444444444444444,
             "#bd3786"
            ],
            [
             0.5555555555555556,
             "#d8576b"
            ],
            [
             0.6666666666666666,
             "#ed7953"
            ],
            [
             0.7777777777777778,
             "#fb9f3a"
            ],
            [
             0.8888888888888888,
             "#fdca26"
            ],
            [
             1,
             "#f0f921"
            ]
           ]
          },
          "colorway": [
           "#636efa",
           "#EF553B",
           "#00cc96",
           "#ab63fa",
           "#FFA15A",
           "#19d3f3",
           "#FF6692",
           "#B6E880",
           "#FF97FF",
           "#FECB52"
          ],
          "font": {
           "color": "#2a3f5f"
          },
          "geo": {
           "bgcolor": "white",
           "lakecolor": "white",
           "landcolor": "#E5ECF6",
           "showlakes": true,
           "showland": true,
           "subunitcolor": "white"
          },
          "hoverlabel": {
           "align": "left"
          },
          "hovermode": "closest",
          "mapbox": {
           "style": "light"
          },
          "paper_bgcolor": "white",
          "plot_bgcolor": "#E5ECF6",
          "polar": {
           "angularaxis": {
            "gridcolor": "white",
            "linecolor": "white",
            "ticks": ""
           },
           "bgcolor": "#E5ECF6",
           "radialaxis": {
            "gridcolor": "white",
            "linecolor": "white",
            "ticks": ""
           }
          },
          "scene": {
           "xaxis": {
            "backgroundcolor": "#E5ECF6",
            "gridcolor": "white",
            "gridwidth": 2,
            "linecolor": "white",
            "showbackground": true,
            "ticks": "",
            "zerolinecolor": "white"
           },
           "yaxis": {
            "backgroundcolor": "#E5ECF6",
            "gridcolor": "white",
            "gridwidth": 2,
            "linecolor": "white",
            "showbackground": true,
            "ticks": "",
            "zerolinecolor": "white"
           },
           "zaxis": {
            "backgroundcolor": "#E5ECF6",
            "gridcolor": "white",
            "gridwidth": 2,
            "linecolor": "white",
            "showbackground": true,
            "ticks": "",
            "zerolinecolor": "white"
           }
          },
          "shapedefaults": {
           "line": {
            "color": "#2a3f5f"
           }
          },
          "ternary": {
           "aaxis": {
            "gridcolor": "white",
            "linecolor": "white",
            "ticks": ""
           },
           "baxis": {
            "gridcolor": "white",
            "linecolor": "white",
            "ticks": ""
           },
           "bgcolor": "#E5ECF6",
           "caxis": {
            "gridcolor": "white",
            "linecolor": "white",
            "ticks": ""
           }
          },
          "title": {
           "x": 0.05
          },
          "xaxis": {
           "automargin": true,
           "gridcolor": "white",
           "linecolor": "white",
           "ticks": "",
           "title": {
            "standoff": 15
           },
           "zerolinecolor": "white",
           "zerolinewidth": 2
          },
          "yaxis": {
           "automargin": true,
           "gridcolor": "white",
           "linecolor": "white",
           "ticks": "",
           "title": {
            "standoff": 15
           },
           "zerolinecolor": "white",
           "zerolinewidth": 2
          }
         }
        },
        "title": {
         "text": "Histogram of Probabilities for cluster 1"
        },
        "xaxis": {
         "title": {
          "text": "Probability"
         }
        },
        "yaxis": {
         "title": {
          "text": "Count"
         }
        }
       }
      }
     },
     "metadata": {},
     "output_type": "display_data"
    },
    {
     "data": {
      "application/vnd.plotly.v1+json": {
       "config": {
        "plotlyServerURL": "https://plot.ly"
       },
       "data": [
        {
         "bingroup": "2",
         "name": "Cluster 2",
         "opacity": 0.7,
         "type": "histogram",
         "x": [
          12.63032902183223,
          12.630329421715889,
          12.630329148385618,
          12.630329123120841,
          12.630328948006918,
          12.630329151270228,
          12.630328837024784,
          12.630329428481783,
          12.630327817299293,
          12.630329061455042,
          12.630328167394255,
          12.630328186935632,
          12.630328582995132,
          12.630329210598667,
          12.630329345054372,
          12.630328654170567,
          12.630329256014823,
          12.630330096128041,
          12.630328897067583,
          12.630327444219766,
          12.630328398552525,
          12.630327847634888,
          12.630327871892069,
          12.63032911884182,
          12.630328427317302,
          12.6303279651306,
          12.630327671865095,
          12.630329246551161,
          12.630329723968456,
          12.630329591221313,
          12.63032959250215,
          12.630329484140393,
          12.63032918748983,
          12.630329756158318,
          12.630330278495855,
          12.630329744012334,
          12.630329251428277,
          12.630329487065532,
          12.630329470538303,
          12.630328965809452,
          12.630328497480761,
          12.630329877251276,
          12.63032826474624,
          12.63032928291755,
          12.630328571423068,
          12.630328292494616,
          12.630329348850953,
          12.63032856026585,
          12.63032888231398,
          12.630329099830783,
          12.63032952124724,
          12.630329536642591,
          12.630329660309217,
          12.630328838022002,
          12.630328959811935,
          12.630329964985117,
          12.63032889511479,
          12.630326271647629,
          12.63033021707321,
          12.630329337828783,
          12.630329340513287,
          12.6303272287962,
          12.630328312337502,
          12.630328013506224,
          12.630328324471257,
          12.630327945870757,
          12.630328139395342,
          12.6303291832684,
          12.630327510093895,
          12.630328569529265,
          12.630329176983254,
          12.630329015254883,
          12.630327152354242,
          12.630328526854742,
          12.63032771407215,
          12.630329061800028,
          12.630328774634894,
          12.630329684965279,
          12.630329406520197,
          12.63032872781188,
          12.630328642817743,
          12.630329504205202,
          12.630328838965019,
          12.630330457039669,
          12.630328466503126,
          12.630327543135559,
          12.630328276972032,
          12.630328846467805,
          12.630327550598201,
          12.630328367542559,
          12.630328891439452,
          12.63032770992149,
          12.63032906189592,
          12.63032855568457,
          12.630328841846522,
          12.630329469599223,
          12.630328183366517,
          12.630327580844707,
          12.630328651009355,
          12.630326856770587,
          12.630329729005602,
          12.630329533394738,
          12.63032884534974,
          12.630329310987294,
          12.630329507637372,
          12.630327651626516,
          12.630329772139534,
          12.630327967004217,
          12.630329856036704,
          12.630329822032229,
          12.630330310873287,
          12.630329059692965,
          12.63032836493416,
          12.630328558954345,
          12.63032854698089,
          12.63032983475305,
          12.630328965301592,
          12.630329388516204,
          12.630329466720491,
          12.630329836403849,
          12.630328462134752,
          12.630329173494696,
          12.630329386251528,
          12.630328895484691,
          12.630328619387623,
          12.630327351450514,
          12.630330100852563,
          12.63033022618207,
          12.630328700895703,
          12.630327414281025,
          12.630329103242879,
          12.630329130007434,
          12.630329038089581,
          12.630329024140936,
          12.630330084064449,
          12.630328925772636,
          12.630328994980095,
          12.630327814936212,
          12.63032922028072,
          12.630328582018018,
          12.63032841203466,
          12.63032891389846,
          12.630329481883816,
          12.630328400351845,
          12.63032991769303
         ]
        }
       ],
       "layout": {
        "barmode": "overlay",
        "template": {
         "data": {
          "bar": [
           {
            "error_x": {
             "color": "#2a3f5f"
            },
            "error_y": {
             "color": "#2a3f5f"
            },
            "marker": {
             "line": {
              "color": "#E5ECF6",
              "width": 0.5
             },
             "pattern": {
              "fillmode": "overlay",
              "size": 10,
              "solidity": 0.2
             }
            },
            "type": "bar"
           }
          ],
          "barpolar": [
           {
            "marker": {
             "line": {
              "color": "#E5ECF6",
              "width": 0.5
             },
             "pattern": {
              "fillmode": "overlay",
              "size": 10,
              "solidity": 0.2
             }
            },
            "type": "barpolar"
           }
          ],
          "carpet": [
           {
            "aaxis": {
             "endlinecolor": "#2a3f5f",
             "gridcolor": "white",
             "linecolor": "white",
             "minorgridcolor": "white",
             "startlinecolor": "#2a3f5f"
            },
            "baxis": {
             "endlinecolor": "#2a3f5f",
             "gridcolor": "white",
             "linecolor": "white",
             "minorgridcolor": "white",
             "startlinecolor": "#2a3f5f"
            },
            "type": "carpet"
           }
          ],
          "choropleth": [
           {
            "colorbar": {
             "outlinewidth": 0,
             "ticks": ""
            },
            "type": "choropleth"
           }
          ],
          "contour": [
           {
            "colorbar": {
             "outlinewidth": 0,
             "ticks": ""
            },
            "colorscale": [
             [
              0,
              "#0d0887"
             ],
             [
              0.1111111111111111,
              "#46039f"
             ],
             [
              0.2222222222222222,
              "#7201a8"
             ],
             [
              0.3333333333333333,
              "#9c179e"
             ],
             [
              0.4444444444444444,
              "#bd3786"
             ],
             [
              0.5555555555555556,
              "#d8576b"
             ],
             [
              0.6666666666666666,
              "#ed7953"
             ],
             [
              0.7777777777777778,
              "#fb9f3a"
             ],
             [
              0.8888888888888888,
              "#fdca26"
             ],
             [
              1,
              "#f0f921"
             ]
            ],
            "type": "contour"
           }
          ],
          "contourcarpet": [
           {
            "colorbar": {
             "outlinewidth": 0,
             "ticks": ""
            },
            "type": "contourcarpet"
           }
          ],
          "heatmap": [
           {
            "colorbar": {
             "outlinewidth": 0,
             "ticks": ""
            },
            "colorscale": [
             [
              0,
              "#0d0887"
             ],
             [
              0.1111111111111111,
              "#46039f"
             ],
             [
              0.2222222222222222,
              "#7201a8"
             ],
             [
              0.3333333333333333,
              "#9c179e"
             ],
             [
              0.4444444444444444,
              "#bd3786"
             ],
             [
              0.5555555555555556,
              "#d8576b"
             ],
             [
              0.6666666666666666,
              "#ed7953"
             ],
             [
              0.7777777777777778,
              "#fb9f3a"
             ],
             [
              0.8888888888888888,
              "#fdca26"
             ],
             [
              1,
              "#f0f921"
             ]
            ],
            "type": "heatmap"
           }
          ],
          "heatmapgl": [
           {
            "colorbar": {
             "outlinewidth": 0,
             "ticks": ""
            },
            "colorscale": [
             [
              0,
              "#0d0887"
             ],
             [
              0.1111111111111111,
              "#46039f"
             ],
             [
              0.2222222222222222,
              "#7201a8"
             ],
             [
              0.3333333333333333,
              "#9c179e"
             ],
             [
              0.4444444444444444,
              "#bd3786"
             ],
             [
              0.5555555555555556,
              "#d8576b"
             ],
             [
              0.6666666666666666,
              "#ed7953"
             ],
             [
              0.7777777777777778,
              "#fb9f3a"
             ],
             [
              0.8888888888888888,
              "#fdca26"
             ],
             [
              1,
              "#f0f921"
             ]
            ],
            "type": "heatmapgl"
           }
          ],
          "histogram": [
           {
            "marker": {
             "pattern": {
              "fillmode": "overlay",
              "size": 10,
              "solidity": 0.2
             }
            },
            "type": "histogram"
           }
          ],
          "histogram2d": [
           {
            "colorbar": {
             "outlinewidth": 0,
             "ticks": ""
            },
            "colorscale": [
             [
              0,
              "#0d0887"
             ],
             [
              0.1111111111111111,
              "#46039f"
             ],
             [
              0.2222222222222222,
              "#7201a8"
             ],
             [
              0.3333333333333333,
              "#9c179e"
             ],
             [
              0.4444444444444444,
              "#bd3786"
             ],
             [
              0.5555555555555556,
              "#d8576b"
             ],
             [
              0.6666666666666666,
              "#ed7953"
             ],
             [
              0.7777777777777778,
              "#fb9f3a"
             ],
             [
              0.8888888888888888,
              "#fdca26"
             ],
             [
              1,
              "#f0f921"
             ]
            ],
            "type": "histogram2d"
           }
          ],
          "histogram2dcontour": [
           {
            "colorbar": {
             "outlinewidth": 0,
             "ticks": ""
            },
            "colorscale": [
             [
              0,
              "#0d0887"
             ],
             [
              0.1111111111111111,
              "#46039f"
             ],
             [
              0.2222222222222222,
              "#7201a8"
             ],
             [
              0.3333333333333333,
              "#9c179e"
             ],
             [
              0.4444444444444444,
              "#bd3786"
             ],
             [
              0.5555555555555556,
              "#d8576b"
             ],
             [
              0.6666666666666666,
              "#ed7953"
             ],
             [
              0.7777777777777778,
              "#fb9f3a"
             ],
             [
              0.8888888888888888,
              "#fdca26"
             ],
             [
              1,
              "#f0f921"
             ]
            ],
            "type": "histogram2dcontour"
           }
          ],
          "mesh3d": [
           {
            "colorbar": {
             "outlinewidth": 0,
             "ticks": ""
            },
            "type": "mesh3d"
           }
          ],
          "parcoords": [
           {
            "line": {
             "colorbar": {
              "outlinewidth": 0,
              "ticks": ""
             }
            },
            "type": "parcoords"
           }
          ],
          "pie": [
           {
            "automargin": true,
            "type": "pie"
           }
          ],
          "scatter": [
           {
            "fillpattern": {
             "fillmode": "overlay",
             "size": 10,
             "solidity": 0.2
            },
            "type": "scatter"
           }
          ],
          "scatter3d": [
           {
            "line": {
             "colorbar": {
              "outlinewidth": 0,
              "ticks": ""
             }
            },
            "marker": {
             "colorbar": {
              "outlinewidth": 0,
              "ticks": ""
             }
            },
            "type": "scatter3d"
           }
          ],
          "scattercarpet": [
           {
            "marker": {
             "colorbar": {
              "outlinewidth": 0,
              "ticks": ""
             }
            },
            "type": "scattercarpet"
           }
          ],
          "scattergeo": [
           {
            "marker": {
             "colorbar": {
              "outlinewidth": 0,
              "ticks": ""
             }
            },
            "type": "scattergeo"
           }
          ],
          "scattergl": [
           {
            "marker": {
             "colorbar": {
              "outlinewidth": 0,
              "ticks": ""
             }
            },
            "type": "scattergl"
           }
          ],
          "scattermapbox": [
           {
            "marker": {
             "colorbar": {
              "outlinewidth": 0,
              "ticks": ""
             }
            },
            "type": "scattermapbox"
           }
          ],
          "scatterpolar": [
           {
            "marker": {
             "colorbar": {
              "outlinewidth": 0,
              "ticks": ""
             }
            },
            "type": "scatterpolar"
           }
          ],
          "scatterpolargl": [
           {
            "marker": {
             "colorbar": {
              "outlinewidth": 0,
              "ticks": ""
             }
            },
            "type": "scatterpolargl"
           }
          ],
          "scatterternary": [
           {
            "marker": {
             "colorbar": {
              "outlinewidth": 0,
              "ticks": ""
             }
            },
            "type": "scatterternary"
           }
          ],
          "surface": [
           {
            "colorbar": {
             "outlinewidth": 0,
             "ticks": ""
            },
            "colorscale": [
             [
              0,
              "#0d0887"
             ],
             [
              0.1111111111111111,
              "#46039f"
             ],
             [
              0.2222222222222222,
              "#7201a8"
             ],
             [
              0.3333333333333333,
              "#9c179e"
             ],
             [
              0.4444444444444444,
              "#bd3786"
             ],
             [
              0.5555555555555556,
              "#d8576b"
             ],
             [
              0.6666666666666666,
              "#ed7953"
             ],
             [
              0.7777777777777778,
              "#fb9f3a"
             ],
             [
              0.8888888888888888,
              "#fdca26"
             ],
             [
              1,
              "#f0f921"
             ]
            ],
            "type": "surface"
           }
          ],
          "table": [
           {
            "cells": {
             "fill": {
              "color": "#EBF0F8"
             },
             "line": {
              "color": "white"
             }
            },
            "header": {
             "fill": {
              "color": "#C8D4E3"
             },
             "line": {
              "color": "white"
             }
            },
            "type": "table"
           }
          ]
         },
         "layout": {
          "annotationdefaults": {
           "arrowcolor": "#2a3f5f",
           "arrowhead": 0,
           "arrowwidth": 1
          },
          "autotypenumbers": "strict",
          "coloraxis": {
           "colorbar": {
            "outlinewidth": 0,
            "ticks": ""
           }
          },
          "colorscale": {
           "diverging": [
            [
             0,
             "#8e0152"
            ],
            [
             0.1,
             "#c51b7d"
            ],
            [
             0.2,
             "#de77ae"
            ],
            [
             0.3,
             "#f1b6da"
            ],
            [
             0.4,
             "#fde0ef"
            ],
            [
             0.5,
             "#f7f7f7"
            ],
            [
             0.6,
             "#e6f5d0"
            ],
            [
             0.7,
             "#b8e186"
            ],
            [
             0.8,
             "#7fbc41"
            ],
            [
             0.9,
             "#4d9221"
            ],
            [
             1,
             "#276419"
            ]
           ],
           "sequential": [
            [
             0,
             "#0d0887"
            ],
            [
             0.1111111111111111,
             "#46039f"
            ],
            [
             0.2222222222222222,
             "#7201a8"
            ],
            [
             0.3333333333333333,
             "#9c179e"
            ],
            [
             0.4444444444444444,
             "#bd3786"
            ],
            [
             0.5555555555555556,
             "#d8576b"
            ],
            [
             0.6666666666666666,
             "#ed7953"
            ],
            [
             0.7777777777777778,
             "#fb9f3a"
            ],
            [
             0.8888888888888888,
             "#fdca26"
            ],
            [
             1,
             "#f0f921"
            ]
           ],
           "sequentialminus": [
            [
             0,
             "#0d0887"
            ],
            [
             0.1111111111111111,
             "#46039f"
            ],
            [
             0.2222222222222222,
             "#7201a8"
            ],
            [
             0.3333333333333333,
             "#9c179e"
            ],
            [
             0.4444444444444444,
             "#bd3786"
            ],
            [
             0.5555555555555556,
             "#d8576b"
            ],
            [
             0.6666666666666666,
             "#ed7953"
            ],
            [
             0.7777777777777778,
             "#fb9f3a"
            ],
            [
             0.8888888888888888,
             "#fdca26"
            ],
            [
             1,
             "#f0f921"
            ]
           ]
          },
          "colorway": [
           "#636efa",
           "#EF553B",
           "#00cc96",
           "#ab63fa",
           "#FFA15A",
           "#19d3f3",
           "#FF6692",
           "#B6E880",
           "#FF97FF",
           "#FECB52"
          ],
          "font": {
           "color": "#2a3f5f"
          },
          "geo": {
           "bgcolor": "white",
           "lakecolor": "white",
           "landcolor": "#E5ECF6",
           "showlakes": true,
           "showland": true,
           "subunitcolor": "white"
          },
          "hoverlabel": {
           "align": "left"
          },
          "hovermode": "closest",
          "mapbox": {
           "style": "light"
          },
          "paper_bgcolor": "white",
          "plot_bgcolor": "#E5ECF6",
          "polar": {
           "angularaxis": {
            "gridcolor": "white",
            "linecolor": "white",
            "ticks": ""
           },
           "bgcolor": "#E5ECF6",
           "radialaxis": {
            "gridcolor": "white",
            "linecolor": "white",
            "ticks": ""
           }
          },
          "scene": {
           "xaxis": {
            "backgroundcolor": "#E5ECF6",
            "gridcolor": "white",
            "gridwidth": 2,
            "linecolor": "white",
            "showbackground": true,
            "ticks": "",
            "zerolinecolor": "white"
           },
           "yaxis": {
            "backgroundcolor": "#E5ECF6",
            "gridcolor": "white",
            "gridwidth": 2,
            "linecolor": "white",
            "showbackground": true,
            "ticks": "",
            "zerolinecolor": "white"
           },
           "zaxis": {
            "backgroundcolor": "#E5ECF6",
            "gridcolor": "white",
            "gridwidth": 2,
            "linecolor": "white",
            "showbackground": true,
            "ticks": "",
            "zerolinecolor": "white"
           }
          },
          "shapedefaults": {
           "line": {
            "color": "#2a3f5f"
           }
          },
          "ternary": {
           "aaxis": {
            "gridcolor": "white",
            "linecolor": "white",
            "ticks": ""
           },
           "baxis": {
            "gridcolor": "white",
            "linecolor": "white",
            "ticks": ""
           },
           "bgcolor": "#E5ECF6",
           "caxis": {
            "gridcolor": "white",
            "linecolor": "white",
            "ticks": ""
           }
          },
          "title": {
           "x": 0.05
          },
          "xaxis": {
           "automargin": true,
           "gridcolor": "white",
           "linecolor": "white",
           "ticks": "",
           "title": {
            "standoff": 15
           },
           "zerolinecolor": "white",
           "zerolinewidth": 2
          },
          "yaxis": {
           "automargin": true,
           "gridcolor": "white",
           "linecolor": "white",
           "ticks": "",
           "title": {
            "standoff": 15
           },
           "zerolinecolor": "white",
           "zerolinewidth": 2
          }
         }
        },
        "title": {
         "text": "Histogram of Probabilities for cluster 2"
        },
        "xaxis": {
         "title": {
          "text": "Probability"
         }
        },
        "yaxis": {
         "title": {
          "text": "Count"
         }
        }
       }
      }
     },
     "metadata": {},
     "output_type": "display_data"
    },
    {
     "data": {
      "application/vnd.plotly.v1+json": {
       "config": {
        "plotlyServerURL": "https://plot.ly"
       },
       "data": [
        {
         "bingroup": "3",
         "name": "Cluster 3",
         "opacity": 0.7,
         "type": "histogram",
         "x": [
          263.42404899035614,
          264.5996771155155,
          292.6793195792127,
          275.1827310632879,
          292.6248390259352,
          292.63147665587303,
          292.67623833741357,
          312.50918365459546,
          292.6735081259799,
          261.6075483400371,
          292.6801372598224,
          292.67707486294006,
          279.1528350715183,
          264.6088529376626,
          263.4445156212762,
          292.6728998788826,
          298.19869973832004,
          262.86840689958797,
          276.51064814067695,
          263.33762120357517,
          276.4969904905623,
          292.6603805134797,
          292.66584726559825,
          292.64965610400094,
          288.30477882966335,
          293.8185377890662,
          276.4386988172056,
          317.9683867975676,
          292.66470627223015,
          292.68167461680764,
          263.44500492448395,
          276.4453938699595,
          305.51442370988735,
          305.5472983518271,
          291.7849887900939,
          263.4008128506681,
          264.4681714890034,
          292.6211524645531,
          264.5202481242791,
          280.039748245149,
          292.6569623537598,
          280.06709043294984,
          269.1815887446185,
          317.71656393667604,
          264.501974550137,
          317.98731196389576,
          292.6188814269408,
          263.07240452831456,
          292.51497759119303,
          269.10576519238,
          292.6744893049915,
          263.34664685047454,
          293.8423403481128,
          253.45532765338805,
          292.6737709309734,
          292.6625745514655,
          292.6327930363592,
          292.6665014388796,
          276.0379629822892,
          292.6039307039813,
          194.7041431460856,
          264.6079438438775,
          283.31991590126336,
          309.22934651373805,
          292.6756530199281,
          293.7709866718494,
          292.66131763927655,
          292.2726622555293,
          292.68204652034876,
          276.5152422115725,
          292.6803125403444,
          292.6767318309692,
          292.6641883457719,
          292.6545888513477,
          264.5381401493255,
          263.1266943274339,
          292.6780415635983,
          292.65306439710133,
          264.54095577506143,
          312.5000399966573,
          275.81624047515203,
          264.56641874780166,
          264.6158620872369,
          263.4313433353336,
          264.57912303227295,
          292.6657319229688,
          292.67812747426035,
          292.66680647897465,
          263.449067622614,
          283.3209213347325,
          292.6563390871993,
          279.8104762145777,
          289.3048442060609,
          263.37828213531844,
          298.40430389504826,
          292.63858971480676,
          292.67017842986684,
          283.1942623688943,
          276.44131852852274,
          280.0560334904597,
          263.31773031666023,
          292.64003197872245,
          287.9982161054833,
          305.67595449764485,
          263.24261615046635,
          269.1780124991961,
          292.6799592839285,
          264.61685229532793,
          292.5558514731076,
          292.6513386052255,
          292.6196383622663,
          263.38095450780065,
          292.642965337378,
          280.0006338459514,
          292.67239347538106,
          269.1454721119119,
          292.6638766635548,
          298.4148135999622,
          292.6684404700122,
          292.6671837550932,
          292.6235765563233,
          269.0368599483048,
          292.5809439444539,
          292.59301515862774,
          292.6178397958192,
          288.6101786910631,
          292.6450244702696,
          264.57101708155903,
          283.1878889080028,
          309.02247195715347,
          283.26734977972063,
          292.55419682926447,
          263.1443816821973,
          276.0488936070479,
          292.67613510926986,
          292.6803883641767,
          292.62016123952867,
          292.59918645777185,
          292.6739623435213,
          264.61407801933825,
          292.6401731020105,
          292.67635873736185,
          264.5989118467969,
          292.6474386472622,
          292.67234983241104,
          263.4505216191167,
          292.59428720159434,
          263.38579815448156,
          304.4315747328077,
          288.5363981520477,
          292.61504488852813,
          279.99007589514315,
          292.6635869751504,
          292.6722489283807,
          276.52059297454844,
          279.7410811563209,
          264.088701070204,
          292.6774935987776,
          293.6639325795256,
          292.59145407104563,
          304.2606400265689,
          292.6477015077925,
          292.6399564191217,
          263.4337261040274,
          263.43441967858786,
          292.65526506337756,
          263.0084806712802,
          276.51226068992617,
          269.17360785589784,
          264.37223156224127,
          292.64923807878864,
          292.3534140041827,
          304.4598767409862,
          276.4745008188197,
          269.16473457697464,
          280.0192050420708,
          292.62141459181487,
          263.38440027303216,
          276.5128049708765,
          276.5090060414961,
          292.6764309207468,
          292.6696270150819,
          305.74913010898365,
          275.2030780029812,
          304.45177932959336,
          292.6816422203833,
          292.6178823711076,
          292.65778245000314,
          264.3989166258912,
          263.28084145873925,
          283.31664156190595,
          269.175399892541,
          292.67923826333003,
          292.66678795943926,
          292.65702069230196,
          276.5135526828732,
          264.61541504136864,
          292.6804133630864,
          264.5901679931839,
          304.43165776083777,
          263.40430537011747,
          292.65693511279125,
          264.5649414559173,
          264.6147052892479,
          275.73280959397397,
          292.6716161846641,
          292.6736728421888,
          263.17491958213765,
          276.4726941192965,
          309.2458076984657,
          292.68156671865086,
          263.38744020647283,
          263.44571223269253,
          293.8201645159698,
          292.66296374161203,
          280.0513652458998,
          305.27560059037137,
          293.84568183919015,
          287.9162577823608,
          292.64477651568734,
          263.43633836704197,
          292.6361381980803,
          292.64453945503647,
          309.1700563517747,
          292.6446428669669,
          292.6666754395303,
          275.22383473378056,
          276.4940770253902,
          292.564179256545,
          292.53287535594274,
          292.66975885916975,
          280.0201344907625,
          292.63593573418933,
          292.6218469216373,
          292.6282940687686,
          263.4405791187564,
          292.674778057999,
          263.41150831928167,
          263.4135674861127,
          292.64822447433096,
          292.66729706613734,
          263.31559281470936,
          292.67018158187324,
          292.67577333924714,
          264.5818152467948,
          292.6614419589554,
          276.50634638629884,
          292.67978916211695,
          276.5011766364879,
          276.05414536504236,
          292.6812842304965,
          298.36757475737204,
          304.46070829092855,
          269.1740731175756,
          292.28736220737846,
          292.6582474399389,
          276.49624729197814,
          292.67436549667934,
          275.1383197927104,
          292.6765491085946,
          280.0788057423154,
          305.18315740793054,
          292.6742301280754,
          263.44792849279054,
          275.99885920430955,
          263.42099126731506,
          263.4397459466636,
          263.2290838513592,
          263.3099894040364,
          292.64896280164874,
          292.30016660219025,
          292.65360298206724,
          292.6695312438692,
          292.6790919233359,
          264.5990572508817,
          304.44942679373145,
          292.6594287236429,
          263.41968021022586,
          292.6276533985635,
          298.2196819077562,
          292.6372959780657,
          292.6746584170135,
          282.666231512622,
          292.6637899804764,
          317.958052969147,
          292.66008136993094,
          298.27555694458925,
          263.44069508402407,
          292.6633046745923,
          263.44360586661077,
          292.67734462666704,
          264.6135186131873,
          263.398608421037,
          264.6090054589953,
          292.6303756971449,
          264.61659862914127,
          276.512610598284,
          298.39491615564725,
          309.2461783698699,
          292.4569017875885,
          263.4010789164666,
          263.44326605856276,
          305.7027871739056,
          292.6765189067656,
          269.13706964905697,
          292.66601593174886,
          292.6499029853217,
          288.5046067741128,
          298.38841717224216,
          263.33303185664477,
          264.550578099531,
          292.67382171733965,
          292.66047075285144,
          292.64207035123883,
          305.30362207342085,
          264.57983145899715,
          276.4813303135617,
          304.4019544359492,
          264.6076983863685,
          298.3669814829484,
          264.5018651581327,
          292.63172572580004,
          298.4133847608165,
          263.4496916387771,
          298.3441738839315,
          264.6111893221998,
          292.67464919913965,
          275.93606725815044,
          292.65587890865436,
          292.6244678619795,
          263.4454869199961,
          283.3167734329456,
          292.6692918838959,
          262.67751017231194,
          269.10138357059594,
          264.6159654997451,
          263.33828010744867,
          298.36419798363823,
          292.66674955252,
          276.0207975342553,
          264.1410058992378,
          263.4173242050712,
          292.6702636042742,
          292.63612962193514,
          292.6405566993191,
          262.6840963685434,
          292.6780198100873,
          292.6700026129391,
          292.67437389170993,
          304.220820446222,
          292.6581962817717,
          305.2806478398393,
          279.23009458000234,
          292.64312452969705,
          283.1687896681688,
          264.6040107167179,
          276.48421688266666,
          298.3319461865341,
          264.58978437664126,
          264.6009779087911,
          288.63722824101336,
          276.0191735047826,
          263.43719705885076,
          298.3415768284885,
          292.62044658029083,
          292.6723936039448,
          292.434884228854,
          276.5176448113798,
          292.6479816740841,
          263.2978674917291,
          292.6789806674081,
          263.3449612363786,
          288.7164454143532,
          276.0774927594895,
          292.64448734435234,
          263.42576685169513,
          305.27462883708216,
          292.6609639817593,
          292.6664152803716,
          263.3133232850842,
          305.21560916502426,
          292.67383832255217,
          292.67116733956505,
          269.07252139653076,
          292.6706862781991,
          269.17955990231434,
          292.54134733720537,
          305.3063542502228,
          304.4133579790428,
          276.5100424754828,
          275.8233154279059,
          276.02364027316906,
          292.66043582562094,
          292.65487561919764,
          312.5554322379139,
          292.6815774440497,
          292.66647313346414,
          276.46180571127434,
          264.5321355487922,
          288.29405319573755,
          263.4496556602,
          290.3447162833921,
          263.4439730191915,
          263.4353236204056,
          263.42171688065105,
          263.4462953264691,
          292.64823899240247,
          292.62574011788945,
          263.4465629009067,
          276.52343845004077,
          276.0697829423146,
          292.68055690853026,
          292.64773068883534,
          264.28930053690414,
          263.4473417665862,
          263.35222889722644,
          293.81240825808413,
          292.656689826996,
          279.9269526521473,
          269.18606382375293,
          264.6205469440783,
          280.0459548589268,
          292.6742602395649,
          276.03106783042807,
          263.41993544269087,
          264.59671367050885,
          317.95740952966185,
          283.1990029986149,
          292.5446961157228,
          275.2294971342053,
          263.38551488238846,
          269.13510516981216,
          263.43577667942685,
          292.63944178436395,
          263.447166315826,
          305.26692823893984,
          292.6581275611408,
          292.6727233949528,
          264.6014597101076,
          269.1804462297463,
          305.2805537882923,
          292.4638346073235,
          292.6445387816715,
          292.6689508869119,
          292.68043047536133,
          268.1350585665953,
          292.64051069188776,
          288.70895290517075,
          305.0464158207921,
          292.35817085221476,
          263.4197565923407,
          264.53257999540966,
          283.3194706421182,
          276.3716383433263,
          288.5096006511691,
          305.16240412623847,
          263.1161446686261,
          264.6203215742721,
          262.40567291925566,
          292.6778424834433,
          268.63322003481113,
          292.6706893086862,
          292.6782957442199,
          275.2137440032336,
          292.6832107041675,
          292.5874058078734,
          304.3351057411217,
          279.9381525557958,
          276.00491481198424,
          292.67161596375826,
          275.2168555494012,
          269.16851160532997,
          293.84013635966403,
          292.6427224584023,
          292.65778211891825,
          279.97249941692104,
          276.0777363873875,
          292.52388237683726,
          292.61050377342747,
          292.62516618798287,
          275.22625436853434,
          292.6500733271101,
          292.5105271102453,
          312.5079758853048,
          290.3755217334277,
          292.6682620405588,
          263.44850919058655,
          292.64609600315106,
          264.6214015025083,
          292.6681448349385,
          292.65646615478295,
          292.66465984445256,
          276.0261123459745,
          298.122604774208,
          292.607279581293,
          275.1934330102391,
          280.0570770384297,
          263.41770830342824,
          292.66768329041014,
          292.6532973342065,
          292.62738603065173,
          275.22229467500057,
          283.25155914609184,
          275.19319556281323,
          292.62398279972894,
          264.61122925341465,
          263.25147077205037,
          269.1595140344564,
          292.679523887897,
          292.67337959638166,
          275.2273895585729,
          309.26476442054235,
          264.61795045061257,
          293.83612146997825,
          292.63069259777484,
          292.68176193365514,
          263.447496739333,
          283.2983334304739,
          276.4922138477726,
          292.6789656638898,
          263.43717828576,
          292.6315141252937,
          283.27869890818647,
          275.17939769194925,
          292.6745609941929,
          262.7736682548241,
          263.25344787421875,
          292.6213831826074,
          275.22548324492016,
          292.6796856331321,
          292.5950185222497,
          263.41202905035897,
          292.64093367672103,
          292.6683275777172,
          275.2068305785399,
          269.1438461548176,
          317.9306268321998,
          292.67526485236584,
          276.5015311664402,
          292.6771860351058,
          292.6643379139752,
          264.60924194942663,
          276.4572327445286,
          292.6692755961751,
          292.6174474413417,
          264.59919876308953,
          317.983561793862,
          292.61574824459575,
          264.6019838922691,
          292.6625077267324,
          263.36829505470666,
          275.21841019721313,
          283.2461795906331,
          292.6715271625844,
          283.3012635169584,
          292.65134301825987,
          276.51646242704237,
          275.9042979473118,
          263.448468824856,
          280.81042079605504,
          279.9896389785924,
          292.680602134623,
          276.46541482815667,
          275.7513656965985,
          276.4585172852838,
          292.67890927306775,
          292.6722875142032,
          276.002643056479,
          292.6646687649069,
          292.6534368353699,
          293.68804497048916,
          283.2739405144485,
          298.4093407295336,
          263.44196177200683,
          292.64291229803854,
          263.44315342233676,
          280.00935983936944,
          263.42139032254437,
          292.6211959138476,
          292.59454538683144,
          292.6767222190326,
          305.6920016142027,
          292.6706198454459,
          292.6556038384188,
          292.6028153397583,
          292.6790554962676,
          263.39626743943603,
          280.0619668402616,
          292.64704484334686,
          292.63125286342546,
          292.658893579688,
          292.6025475366583,
          275.19278542567787,
          280.0431632301346,
          293.7576402264081,
          275.23207359796163,
          275.16022632147434,
          305.7260236355944,
          292.55456192439703,
          292.6690674941292,
          293.8239426880295,
          264.6135690955173,
          292.6710012870816,
          275.2310220625879,
          279.98268198432805,
          269.1878943576855,
          292.66993072909105,
          261.54028927992164,
          292.6739157025111,
          275.11265783814434,
          292.6509924192956,
          305.75092345173033,
          292.6798283337112,
          263.3270275840286,
          263.12265986363866,
          292.32167967651793,
          304.4438871592676,
          269.1609277541594,
          280.07020138325566,
          292.6625646568393,
          292.65816586387416,
          262.47529419394465,
          275.2273868035164,
          293.84152772101356,
          292.54393372679016,
          292.68193464753574,
          269.1242398403826,
          276.050748673646,
          283.300110988492,
          263.0368974911924,
          304.4550633044532,
          263.44539437565567,
          293.83977886594397,
          312.4693273230072,
          292.67255007901406,
          280.03818695773236,
          286.24540981347377,
          292.6599548894265,
          309.28716737628383,
          284.19358701924216,
          263.4111347980362,
          292.6714259355898,
          292.66254381165436,
          292.6665239497166,
          262.87940397031707,
          292.67165157889303,
          280.0801984992068,
          293.84515473486476,
          275.2168788222391,
          275.2167847953651,
          305.2181191061742,
          275.17343000001057,
          298.3569580073941,
          263.357269398209,
          263.4501241241091,
          269.16460547901914,
          279.93279519159256,
          292.664654680564,
          292.64673715937175,
          292.5296245462886,
          283.3138650792601,
          293.84203790506575,
          275.1858004185308,
          292.67530479210313,
          292.6198054130641,
          276.49301536247333,
          292.60344939301274,
          292.6588159970313,
          292.66797542623675,
          262.66292858041186,
          292.6822474528709,
          292.663255945867,
          292.66054641505247,
          264.59697231456613,
          272.9344929164572,
          304.451910177948,
          263.4377668118364,
          275.20660141588746,
          263.41947058390724,
          292.5682661100849,
          262.82839437920956,
          263.114038837488,
          292.600678214592,
          292.6666382598671,
          292.6341055830383,
          276.4688275217625,
          283.2317876648173,
          292.67160880101414,
          263.4355777782126,
          264.6007262916656,
          292.6652990670757,
          279.91242068757725,
          305.25348708109476,
          304.4176304726605,
          263.3571598112914,
          292.6627929821957,
          283.3071065037371,
          312.4059295226113,
          292.5192871436744,
          292.6594354723983,
          283.312055150811,
          298.4135813186972,
          298.38801256781136,
          305.54842165537735,
          275.22119454818284,
          292.6639793685566,
          276.485146437476,
          275.2242694297873,
          298.3446987838136,
          275.76497538258343,
          276.0544105967948,
          298.4095460162222,
          292.65810798427805,
          276.43559251841515,
          292.68088442779754,
          264.57341681324596,
          275.21651076892385,
          292.6619278699934,
          279.8685824030049,
          292.64655825115113,
          292.60245227382063,
          283.31310707235616,
          264.09196954032564,
          292.62623100869746,
          269.1880297235483,
          292.65842835871695,
          292.6697581173843,
          292.67218523229343,
          280.03871623623826,
          292.6557690426444,
          264.5689885976149,
          292.6737284710489,
          292.61647913583687,
          280.0542634312737,
          264.5646283584524,
          280.05668068407374,
          269.06090411209334,
          292.6778058481348,
          292.6456065434491,
          283.2293075056795,
          263.34884077231595,
          292.59026153944905,
          292.67124080668077,
          263.37299302407,
          292.6708705965727,
          305.7491802699066,
          263.4000392778713,
          292.6531896900454,
          283.31401606455984,
          292.6275685432395,
          292.6233261969906,
          292.67716749096763,
          292.6659318502001,
          292.63271325272535,
          292.6524865791084,
          263.3734844688545,
          280.07376365638254,
          292.66563952088126,
          292.6673083664538,
          264.53802787215943,
          269.16097423515646,
          292.6743467686888,
          292.66895855500394,
          292.6835676691542,
          292.6790007548886,
          292.6342139320174,
          269.18505446114773,
          264.56437312641947,
          288.5779861111561,
          264.6012770944945,
          305.74338528056614,
          292.6785272985496,
          292.6645272025589,
          312.5528589187838,
          292.6605423848495,
          264.58210995407205,
          275.20933640337824,
          263.42779683120443,
          292.6744681322174,
          269.1734378016973,
          264.61232769670244,
          263.30503834655366,
          292.6727027990893,
          276.4750692848061,
          269.0430567024428,
          279.9075760382436,
          292.6796837899851,
          292.6314032034595,
          269.053525314753,
          276.032758154481,
          268.7565703626315,
          263.39793183912116,
          280.08212054692876,
          264.59771983159357,
          275.97632315129215,
          263.37328317695153,
          298.3942150920882,
          292.67556044761466,
          292.65070859940187,
          292.5765538013923,
          292.6522274169063,
          279.98486725003175,
          263.4741502056648,
          275.20155624299815,
          263.4469807453987,
          292.6334162497374,
          292.64322049493376,
          275.21008356562544,
          298.38047568369586,
          292.66640988795655,
          263.3389087189721,
          263.4468766577482,
          264.5612452715268,
          283.2670306751332,
          292.6510919306017,
          263.2285475168326,
          263.3840759528093,
          292.5761389338428,
          269.1740018965383,
          263.4454243252905,
          292.6462517117591,
          263.4423497993404,
          292.6250355474188,
          292.6673318166193,
          279.3932359192048,
          292.6676640614595,
          280.0761349166943,
          304.4644944696195,
          298.21547843490873,
          293.84167308425964,
          275.1951534657531,
          292.6552950647553,
          276.03504768915803,
          292.55070568244304,
          275.20471783036646,
          268.62099843430383,
          280.0151893716262,
          292.6677253735907,
          292.6446064438093,
          292.6544557279346,
          298.38734702091705,
          309.2337527845222,
          276.03900963064075,
          292.67839025003633,
          292.6435603009999,
          304.4355217334698,
          288.57882178000455,
          263.22307105659115,
          292.63152612169716,
          264.6212784142175,
          263.41083575729664,
          292.67850348465305,
          309.2121464727287,
          288.71834890973366,
          292.6667568007895,
          275.20807363174436,
          292.67513366622654,
          292.65752691428855,
          280.0327243701277,
          275.2270106076096,
          263.2091844891615,
          304.40128190360514,
          275.216471599917,
          263.2552431633695,
          292.62276935415247,
          283.2880957407059,
          292.6766010256296,
          305.69321018543667,
          292.6428072382038,
          269.0765923850781,
          263.4481661952023,
          292.6249569983169,
          292.64042128029723,
          292.6745077458467,
          292.673239363743,
          304.36313880763163,
          276.06894992364414,
          292.64457000680096,
          275.6374169262513,
          263.433820416759,
          276.5109641062826,
          292.6789234543817,
          275.10702880525434,
          292.5935467937007,
          272.7029331949429,
          263.4371579365857,
          288.68628063134634,
          279.89654330322,
          275.22918685746566,
          276.0646003087657,
          292.676588671835,
          288.67347617305484,
          298.34198310092023,
          275.2165987342912,
          275.207332686936,
          275.2221547991788,
          275.163919771883,
          263.92241454931417,
          292.6604036426344,
          288.30129296875333,
          292.6751126359102,
          305.7267617594179,
          276.3523859330498,
          305.74814303616535,
          298.3940577091611,
          292.667168545099,
          292.6741516574411,
          292.6637129770408,
          261.814100159053,
          275.20799452415395,
          263.42802403607976,
          292.66990727684333,
          305.6495100451261,
          305.2188564703144,
          292.57323313778437,
          292.6644095472091,
          275.9501291448477,
          263.4400194396012,
          271.8001042082808,
          283.25757251425125,
          293.82627471705104,
          275.2249598873195,
          263.4288220191163,
          309.11096520113387,
          264.56305121938215,
          292.6067257679807,
          292.2566095525524,
          283.30213653491046,
          263.39833696796325,
          263.4374309836161,
          292.6723721218104,
          292.620870843563,
          298.41663093581025,
          305.734814714325,
          292.6698332055214,
          269.13124734376413,
          292.65042575861065,
          304.39716325821314,
          269.06043011591765,
          263.4367418413612,
          263.1468047643187,
          292.68119727802093,
          276.4887773970542,
          292.64887131586704,
          263.44251673273004,
          305.29969270600833,
          263.44118580252626,
          263.2431865391911,
          275.23340234739027,
          317.89775006767917,
          263.4473416662658,
          276.51663468992166,
          292.67437207833456,
          292.6578564284768,
          292.6631736245519,
          263.44403683198726,
          292.6766432033396,
          263.4334378522561,
          263.42799718648797,
          292.6737067215307,
          292.64753692978695,
          309.21187448499154,
          280.02013033566453,
          292.6264520209924,
          264.6103376099734,
          292.6535582400615,
          292.67325819966015,
          264.38467072833697,
          264.58998488013,
          292.67393850945615,
          276.454742153135,
          264.6085898794798,
          264.54816893254184,
          275.20710612369487,
          292.6720606659322,
          292.6491532068988,
          263.44947921336023,
          304.429275061123,
          275.2300884914113,
          276.0224090884433,
          264.5912249046535,
          292.65780876785476,
          292.6003541427863,
          267.91094998740965,
          276.0593727097905,
          275.22243655589574,
          292.6675622578643,
          276.5043735990845,
          275.22151592557606,
          276.5011843744466,
          275.1024198919493,
          264.5784785076514,
          317.9318540026105,
          276.30509831736185,
          276.0028542768404,
          280.0764634579133,
          263.42571510243357,
          292.6488334218801,
          288.75383677239637,
          276.4995930638746,
          279.6934156935839,
          292.6635631914153,
          263.2211522492494,
          283.17631509889185,
          283.313098191965,
          292.67128517684625,
          304.96139557142374,
          263.33081203290783,
          292.1013946429481,
          263.449268456876,
          263.3533548380421,
          292.6506374957647,
          292.6789778841488,
          275.7404077301607,
          292.6253687109095,
          280.01473780661405,
          293.81788800525356,
          288.2087950956186,
          292.6547383523275,
          280.05263953005925,
          263.38493322558224,
          292.67098651042835,
          292.64163998643596,
          292.6523413657442,
          263.3802076499917,
          312.54805158946493,
          298.4084603045918,
          279.65198910169596,
          269.17795684494496,
          280.00040586669786,
          292.67412333639317,
          292.63480788415444,
          263.42924250516154,
          292.5992620335467,
          292.3852014844759,
          263.25098894871576,
          264.6185110729128,
          292.6380192721838,
          292.6772039188719,
          263.43590438988997,
          292.6640076445102,
          298.3399245230782,
          293.82651900033954,
          274.631306941126,
          292.65717078017616,
          292.6692848734362,
          292.6500607337359,
          269.1786354199245,
          264.59897522255596,
          292.5115133983313,
          264.60195116441236,
          292.68104395538916,
          292.6645014878755,
          292.64779725410483,
          264.49041187424785,
          264.6163767126568,
          292.67433382773606,
          263.43461138240775,
          263.4459686244199,
          309.2371532643448,
          305.20428482552023,
          280.07243259665074,
          292.67379831197496,
          276.4936452907319,
          292.64816025224053,
          264.56019472894207,
          280.04196033687697,
          292.5740727788163,
          292.67960823962056,
          292.61414415741814,
          262.9945593517039,
          292.68125183125085,
          292.6721926251205,
          264.5711937289703,
          280.07850501468715,
          264.6170182475618,
          291.71324464669647,
          288.46655224654324,
          280.02583646678465,
          276.0755260963506,
          280.07887768833467,
          292.6237090032261,
          292.63866781692735,
          292.6794578016393,
          298.41045578795735,
          280.03440703817336,
          292.6627310140061,
          305.246304244436,
          276.0722656358653,
          276.4763745317863,
          298.3976012022973,
          263.3190857464329,
          275.8801853031085,
          280.0224550253414,
          275.931018503368,
          263.4357732097678,
          292.5538398040524,
          309.06636161601955,
          263.42275715469685,
          283.28793788756434,
          264.5947631459856,
          269.1739335924855,
          280.0354340060056,
          275.05718744166904,
          292.654726588442,
          280.0011171169411,
          293.8007061352979,
          292.6447648342301,
          280.01920813765463,
          268.57056948689126,
          263.394770307627,
          263.3188798695781,
          317.9758547279817,
          263.44517575446287,
          283.32188072994705,
          264.6009725562107,
          283.30587487377,
          292.65919336387094,
          292.64107014335104,
          264.1275555778941,
          292.63926566734,
          292.57338693073854,
          292.59459475054547,
          298.4095633777533,
          262.33767293807495,
          292.61172665350426,
          280.05408428614874,
          293.8359346749551,
          264.62103295506836,
          292.6802461007374,
          263.28675629383787,
          263.42213046091007,
          263.4424767335964,
          276.5113426306458,
          305.69063669022745,
          269.1254174441871,
          263.42225839471297,
          275.21284167498465,
          292.62468884789257,
          279.94861767268367,
          276.4907854004182,
          264.55093034806464,
          293.8220246812306,
          298.4156722820582,
          275.9455363382362,
          280.0650204208031,
          263.41849470245336,
          280.0336294104562,
          263.4426889799869,
          292.62773575446914,
          292.67112580938266,
          292.67609317544793,
          263.44863328072546,
          263.4283876184678,
          264.6173473431357,
          279.9847259605896,
          292.6734797897271,
          292.5524792166383,
          292.59323589113063,
          263.3555052691937,
          275.1957918907273,
          292.6778300730115,
          269.18966036436854,
          292.62945107816944,
          292.6703506594849,
          263.4339930512237,
          275.94522122063216,
          280.02608085375164,
          292.6811592249843,
          264.4556309995274,
          292.6686876286194,
          305.7344303692562,
          292.66486130078175,
          292.6607176284182,
          264.61477836746815,
          292.5269895785464,
          305.6871614265452,
          263.14920402044504,
          264.61891202203174,
          292.6690943587262,
          292.6668655500591,
          263.3925024483014,
          275.23223372505316,
          280.0128267501986,
          275.21278371768096,
          280.05811578638014,
          263.44472620227293,
          280.0249755025536,
          275.23173104850395,
          275.2307573333794,
          292.6745942325167,
          292.61054847080527,
          263.3701142761996,
          292.67641271111967,
          292.680216601811,
          264.61425135724005,
          292.66213076846367,
          298.4023143301562,
          305.6363562882092,
          264.611004270743,
          292.6771024302784,
          293.82925037032686,
          292.64980273857884,
          298.35458086298433,
          292.66937691975136,
          292.652897786234,
          298.34317797693626,
          263.4372279785754,
          305.7361625667254,
          292.01309494116816,
          264.5903814357272,
          264.58803299676885,
          263.4203336954545,
          275.927198153665,
          264.4656398137091,
          279.97607825892027,
          292.68100301605404,
          276.004236474916,
          263.42022315835266,
          263.4469007723552,
          276.5208841954392,
          264.51034387574947,
          276.40605258149105,
          292.6644740289327,
          292.67838348043637,
          292.5792696319479,
          263.3189176028108,
          274.4749427673533,
          263.4118302364509,
          263.2927697814381,
          292.64451109966694,
          292.6507294123292,
          292.56598414749385,
          292.67542973151546,
          280.0688728281003,
          292.6331351354513,
          276.0738496445533,
          292.6531146267135,
          288.4986824764259,
          264.5442805458389,
          264.60634526383643,
          276.41825775594043,
          292.6771247065722,
          276.0389590756186,
          264.5682191787234,
          292.64111469003046,
          292.6367672492725,
          263.4322200455617,
          292.65664945936885,
          292.62388834470215,
          292.6347625651182,
          298.40088927024306,
          298.4139274930148,
          292.6751988063934,
          292.62631971081,
          263.4238223532904,
          263.43961744815084,
          292.663474539728,
          293.7614097896177,
          264.6101762991995,
          264.5708908623177,
          292.64674170783076,
          276.07222138416296,
          292.67904732750026,
          292.6758183228648,
          276.5039594782561,
          263.3126700672041,
          317.9776671651657,
          292.63578517834134,
          276.06383552142586,
          292.67341940136134,
          292.67175552836534,
          312.54585976822824,
          264.5147571817196,
          308.85773689040485,
          263.44977072144053,
          292.6837500620467,
          275.98382286888426,
          263.39305613302804,
          304.44101590982655,
          264.6182470867399,
          292.67087182805665,
          263.40966365598086,
          292.66426067249387,
          292.65321347952386,
          292.5950073453854,
          264.60652764983223,
          298.37912489558033,
          292.67230409722146,
          276.0155951890542,
          280.011101241533,
          263.3771249132765,
          280.0747806360341,
          269.1885817505599,
          292.6563227146077,
          276.51608367019065,
          292.667462341531,
          292.6700990891416,
          292.67715371436867,
          292.6820260797882,
          292.66748103358975,
          292.6564374244903,
          263.4271745568654,
          292.62734178892174,
          283.27898998640944,
          264.59815250820776,
          288.552400302089,
          292.67056538929626,
          292.626706752934,
          292.560658509576,
          263.35246356880987,
          269.0681771267022,
          264.6058941665436,
          293.8196490478337,
          292.67979710381053,
          265.90288657885367,
          263.3815597600787,
          263.43235825877287,
          304.4362694017732,
          280.00145819679904,
          263.4294183074629,
          279.96683211861534,
          292.65114694485163,
          275.6735092754048,
          264.61067929989593,
          263.42890308555974,
          263.1948985055248,
          312.5356516353428,
          292.5852225643859,
          305.74924186103345,
          293.84706755884594,
          269.17410864883726,
          292.6748220223769,
          292.66791429526006,
          275.1628736785466,
          292.6538585893755,
          292.6725064811064,
          292.6617329270685,
          280.03783979396536,
          292.6424715865055,
          292.6811208943563,
          280.0594520381926,
          292.63350036255565,
          264.5506975694101,
          264.5730353256726,
          263.4500269790971,
          292.5788277096301,
          264.57357438189854,
          280.0446358614301,
          292.6096803395813,
          292.67093576374583,
          298.3325879881675,
          263.4495140596677,
          279.9850140924501,
          292.6645947535084,
          292.68011913074974,
          292.67447629280014,
          292.66886973653664,
          269.0787589687544,
          305.73783310700117,
          275.9968429543869,
          292.66789045546005,
          264.60426603014525,
          263.0719543257197,
          263.40038321817326,
          264.57754190359054,
          292.6623955308533,
          292.64431589232566,
          292.67019745503035,
          275.23061937786565,
          264.6028160516224,
          292.58192750730586,
          276.069331978592,
          276.51809912209796,
          262.99757610131616,
          263.4268234569416,
          280.06219398096647,
          292.6595069398393,
          292.67400961773666,
          279.88659363730477,
          288.533777708506,
          288.5790988348173,
          280.02579358739433,
          268.9889755861179,
          292.678619843529,
          292.6654092145881,
          276.50350827064494,
          292.6650263156888,
          263.4438909430183,
          264.5463377849366,
          292.39047366202857,
          263.42543012963466,
          305.72479510744,
          264.60769598202324,
          288.4793233293344,
          292.66867361299063,
          263.31960505011784,
          275.2264592393247,
          288.59310827201995,
          283.31227972666136,
          292.65651563443754,
          264.57028617586,
          292.66363011737525,
          263.270781645355,
          292.6816311544097,
          292.67081784799126,
          280.07676787321157,
          292.67158108082356,
          263.40225337028374,
          269.1425664716389,
          292.6092638123473,
          292.66815160695717,
          292.6356753026488,
          292.60201068837864,
          292.65798995020714,
          292.67986248980424,
          305.71270253427906,
          309.1560019792463,
          276.7484524597506,
          275.22660616886174,
          279.94250507099815,
          292.6500487593397,
          292.4779492266883,
          292.64625909036937,
          305.7361131034228,
          292.6602498438026,
          292.6471489064772,
          292.65318187313574,
          292.67876370088754,
          304.45367372007087,
          292.6743853118358,
          263.4420044212933,
          264.61207694146407,
          280.0687819223481,
          263.4122192771477,
          263.3997348120807,
          292.66230190628687,
          264.61637969504835,
          292.6042030854721,
          276.4543193326468,
          276.05810580265955,
          292.6722690610279,
          263.4282583849507,
          263.4363518456885,
          275.22111030199085,
          292.67770925794235,
          275.22634112425817,
          276.48479569225293,
          263.34964092037774,
          292.61081573377635,
          268.9940325946306,
          264.60110258621285,
          292.6428953091689,
          264.6168935523144,
          293.78275087698205,
          292.6508847825351,
          264.60077705924095,
          275.988358802387,
          292.65430267986096,
          292.6314131312661,
          292.6600383861695,
          304.43666188485236,
          292.64471153975256,
          279.9283548732559,
          292.67607288245176,
          305.74071275972744,
          276.5172721962553,
          263.44582790345595,
          264.61899750888296,
          293.8325163617144,
          276.45718053268484,
          292.6777534310146,
          275.92106470969543,
          276.061219671602,
          304.44708725651566,
          263.4352175176651,
          275.22881226905537,
          292.679242722964,
          292.65841606724365,
          264.4932906101957,
          292.6281445244141,
          275.2235676348372,
          263.44049177957953,
          292.6673210485905,
          276.5107870120384,
          292.67216551948337,
          264.609383825484,
          292.6802378316355,
          292.6777814545942,
          292.6598008792837,
          276.44778071176756,
          262.9081732236854,
          275.2206324585486,
          292.63242168689425,
          269.1901042468555,
          292.64765945376575,
          292.6293654881488,
          292.6790298106087,
          275.22148560896215,
          292.6719518949751,
          263.3955245929318,
          263.43730126572336,
          293.84478464377867,
          260.63216879589226,
          264.46411754627616,
          279.78788314499144,
          263.06302161520597,
          275.20574472930036,
          292.6803210411361,
          292.67744342963266,
          263.4466516912233,
          263.43555756077865,
          288.5935199387713,
          292.6795050829993,
          264.60363501672845,
          292.6675544968056,
          280.0689213559538,
          292.66810409216157,
          263.4498992106363,
          283.31248716054023,
          262.696178943826,
          275.31112710410537,
          263.3392934198928,
          292.6751934836782,
          292.541085185811,
          280.0685973886207,
          292.6823921631669,
          292.5479164992985,
          263.39079517918157,
          275.2284528046282,
          263.26767551532004,
          263.48002607892937,
          263.2673569470591,
          275.21028855365427,
          292.6328254361815,
          292.68097016409644,
          275.83850599133575,
          309.2867045263279,
          264.5544733005568,
          317.9491623947137,
          263.42988765664234,
          275.1989301601612,
          264.10967527619596,
          292.6734844995612,
          292.65854442938735,
          263.426774459461,
          263.38707263633006,
          276.01779132074137,
          298.3982246666944,
          263.32802311866044,
          279.97681534746823,
          273.4101483079042,
          292.66403074793124,
          263.3626521816353,
          269.1843114908304,
          292.65916328951545,
          305.7134497086269,
          263.43568553494913,
          292.6701137561647,
          263.429054046047,
          298.1600254729059,
          276.51407689834497,
          263.4168297837637,
          305.7225616613705,
          292.6581327979792,
          292.6775128095172,
          263.4244021658056,
          263.43879517205056,
          275.68798940316606,
          292.6488265673583,
          263.4347843279465,
          288.60255856313546,
          276.5064445027666,
          279.1421765493356,
          263.41469693621053,
          280.03347167725485,
          263.43756389107256,
          263.43600432329663,
          293.7771248068758,
          274.6827611769955,
          263.40565116139067,
          263.3744540638513,
          292.477671476922,
          276.477798743592,
          264.56732959767726,
          276.5170354141691,
          292.67475772163493,
          279.91622962417097,
          264.54543788651733,
          264.59644243432643,
          292.6789410324747,
          291.7724549672824,
          280.06560318083143,
          292.5912233244356,
          292.6568307354314,
          275.2242551041276,
          263.4395966934171,
          264.5902107823388,
          292.62505478575525,
          263.3016559233836,
          263.4073462694877,
          292.63375129591395,
          317.8641691434906,
          276.01835838605354,
          262.87179196002364,
          292.6169369728646,
          263.429398695023,
          292.67858375280383,
          263.4189541456149,
          275.9709543711355,
          275.2147000923871,
          292.654177253202,
          263.41290180753646,
          264.6029437781869,
          275.1997037598356,
          292.6804787661768,
          263.1220488671604,
          292.5648598271421,
          279.43538514511835,
          292.64497315468515,
          292.6812013787971,
          275.56775386302496,
          263.3346276985303,
          292.65651968664594,
          276.0318824441009,
          292.6471395438576,
          292.6733847864055,
          275.230354315575,
          292.680262449643,
          292.65897573523563,
          276.0771919095157,
          276.51782028189433,
          264.5768726304889,
          298.3716741966404,
          264.58917600250817,
          263.4132216322752,
          263.421382661364,
          305.70739229737643,
          263.3706474982287,
          276.0064306838229,
          264.61547503490976,
          292.5693616572099,
          292.67652122311495,
          269.1843238546799,
          275.5729711587856,
          309.2795888428142,
          292.58422145378734,
          263.44606973249364,
          292.6518188342142,
          263.39378673946504,
          298.38701371714274,
          263.1423672892152,
          292.67271942983496,
          263.1677060520834,
          263.42449378875443,
          280.04210069448254,
          264.5388524054868,
          298.41493325745364,
          292.67669825135323,
          274.2440463843822,
          292.66521553692974,
          263.44588321268805,
          283.3226398437743,
          292.6763074215422,
          280.04303373310194,
          292.68011241042586,
          292.628631393538,
          298.3403632238901,
          283.29710196734203,
          264.5243512148626,
          292.68293891485337,
          298.40869548718354,
          276.44262100573576,
          305.150311045075,
          263.4265431567818,
          312.51851747409717,
          292.64616985530876,
          292.66426678296807,
          298.41387835786185,
          263.44200737364406,
          292.62992316767475,
          280.06931525311813,
          292.6558082732468,
          269.09957725338387,
          292.6555840713448,
          292.58980503986754,
          264.30750311946343,
          276.47144671491134,
          275.70086632550857,
          263.33786712502535,
          263.4451647838851,
          264.52208452707987,
          275.4367543809179,
          292.6423208609899,
          293.82199564486444,
          263.1176212897367,
          263.29427432245626,
          292.671230472195,
          304.4443735639527,
          298.4065219815993,
          292.57106800807895,
          305.23128703357776,
          280.0487454485336,
          269.18568555094953,
          263.4239198962317,
          292.64640907052905,
          292.6801456344027,
          263.31624018761937,
          263.3701740073062,
          292.6707589578764,
          276.5097129222808,
          292.6712970367728,
          292.6767286131238,
          292.67325887808636,
          276.50977762137506,
          263.44232407759756,
          264.61085663449137,
          292.6471345754402,
          292.60530760087715,
          263.42979491429566,
          292.67689846353204,
          292.66584414206994,
          292.6737960788615,
          263.43837052536577,
          292.66905344440227,
          263.41808284947155,
          263.42053548504407,
          309.24671657145433,
          275.3063689332971,
          292.6566751106393,
          305.0945357097803,
          276.502709505973,
          292.6058695022084,
          291.23030839124544,
          276.0198813161208,
          263.4465757155191,
          280.0002514813177,
          292.66909637271897,
          263.4450068180533,
          292.5707632306679,
          283.3205867934054,
          268.2907009597183,
          264.52639184495,
          292.6255654379145,
          292.66683609088597,
          263.42567801777625,
          263.44609525720597,
          292.4119195489491,
          264.60982740400226,
          263.44956194038275,
          317.8827501294345,
          263.4372399897985,
          264.6122846855018,
          292.6741049643399,
          292.67747804588976,
          305.30086720267894,
          264.5577149736922,
          263.4380070892803,
          257.2342384598027,
          292.6342912639545,
          263.44405060253774,
          263.2738566525121,
          292.59175061461417,
          263.44117545065114,
          276.05701260601603,
          292.6731022603014,
          275.51325412638954,
          276.51484225013013,
          305.2327824747423,
          263.39514689212444,
          276.3919023771522,
          263.39736232855466,
          264.61721962023347,
          292.6521505975638,
          292.6229650311956,
          264.6102081474891,
          291.9270716550217,
          292.666220318134,
          263.2728070282269,
          292.6586264030216,
          263.3528565508804,
          292.6512570311915,
          264.57145485038996,
          292.2758111602211,
          276.34419662240464,
          292.66148811299274,
          263.44817176162996,
          292.6716448363475,
          276.50558979421345,
          292.6676746734661,
          283.3236672721658,
          263.4168128330211,
          312.535139375978,
          292.6121949637179,
          264.5552498704827,
          283.3250197389461,
          275.21951948285044,
          264.57542436610174,
          292.6692182414799,
          292.6716046416062,
          276.51531487188555,
          263.4208292335337,
          292.613014392383,
          275.160271476001,
          288.63440172138684,
          263.436050956637,
          292.67373198131645,
          276.5106427680469,
          283.30419249640903,
          292.47394705265543,
          312.5190649607584,
          292.6460853651703,
          293.8431034366729,
          292.594336296651,
          293.8373192586868,
          263.4043191782422,
          263.406456540011,
          280.0800719423904,
          263.26978747593785,
          292.606729698002,
          292.678643493057,
          309.10918376486103,
          264.60314512176814,
          292.67252602376044,
          292.68018825750994,
          263.4424838190066,
          305.2855477337105,
          263.3971513755542,
          269.1822601751452,
          292.61998131841244,
          264.5947004245066,
          280.02741407627866,
          263.4190222628174,
          292.67346215843963,
          292.6701475552796,
          283.29568751422516,
          280.06743160347884,
          292.67102263450306,
          292.66840980994766,
          293.837716686216,
          276.49748565659786,
          292.68092574538184,
          292.5751238450596,
          264.5870820642339,
          77.49866866409833,
          292.6797966132117,
          293.8236325942053,
          275.4700087609932,
          275.7853761132094,
          263.37410650496486,
          292.6127176578927,
          264.60954236846635,
          292.6765509018322,
          292.66287277159125,
          275.21923840610253,
          263.1536147718093,
          288.71207396866924,
          298.36706183686323,
          273.86914647362386,
          264.46270621877414,
          292.67771020853803,
          292.67211989014186,
          292.67193045834557,
          263.43098912364235,
          292.6371063843683,
          263.3742043058181,
          298.3712757999338,
          275.1981109302275,
          263.44552805660743,
          292.6542978370336,
          288.72073717751096,
          292.6533016028535,
          275.23301157842474,
          292.68312277640155,
          292.50889076716896,
          263.41127521605557,
          263.43844554936067,
          263.4236879536664,
          263.41533003413923,
          292.6728954756446,
          292.5399628644935,
          263.429067515778,
          283.27431985768055,
          291.28736660684194,
          292.63943166423223,
          280.0029103375895,
          292.59519500208563,
          263.41300268316996,
          292.6371500818534,
          292.6556255057206,
          275.20652206826173,
          292.62883555235385,
          292.65710990783134,
          305.72510540098233,
          276.4589465310219,
          292.6720479249886,
          276.00015438965016,
          276.05838277183165,
          292.68005225656253,
          275.22440720502664,
          263.40670191135507,
          292.66433627924056,
          275.9210610193851,
          283.08984376960024,
          263.43589619814276,
          292.66210324351573,
          279.9867678720528,
          276.0633261578862,
          292.6688439143805,
          264.5777141893683,
          263.4235539303911,
          269.06982164838666,
          292.67295189850023,
          292.67032843028124,
          317.9167112893302,
          292.6682428084113,
          276.48551521649716,
          275.72335747983976,
          292.6798982148645,
          292.68132611130716,
          276.42958945740435,
          292.60494561118384,
          264.61354529834523,
          292.67451572476523,
          292.6522349428288,
          279.7543594515073,
          275.8027571043578,
          292.64516675529586,
          263.1390857265828,
          264.62052823199724,
          263.4471946218174,
          263.35262680584134,
          292.6555027307793,
          292.6462586206444,
          264.2705267034252,
          264.61813969858093,
          298.28110900703206,
          276.0217092510936,
          263.44190049516567,
          309.2449232013026,
          275.2267166869801,
          292.67545469565164,
          263.2930306436714,
          292.5581548766785,
          292.6817659082208,
          263.40113182273905,
          279.96042848122113,
          292.67707273939624,
          292.6627144504085,
          276.0072163877949,
          293.8517364608601,
          262.78443992508113,
          279.9211498752597,
          292.64434090140145,
          292.68111844536196,
          288.7484603347753,
          275.2114080468943,
          263.3415701393108,
          263.3127314980588,
          264.6137769877611,
          275.48473616582925,
          292.67220095904037,
          263.1747862259475,
          263.2864929468523,
          298.4163523758682,
          275.22754052231056,
          292.67984732976873,
          275.2235335239309,
          263.2204093451499,
          263.43198165571545,
          292.5280819931378,
          298.4055227762705,
          263.3881386244183,
          279.96687546824273,
          263.4426108415303,
          264.4872538088591,
          292.67791387336865,
          280.0653441080326,
          304.44492559228905,
          292.6383880074474,
          292.6753500255217,
          275.7457832315604,
          275.5476231115223,
          263.410812810008,
          288.75682142688726,
          263.19471826685253,
          280.0624983983194,
          263.4085776396632,
          275.2114829217892,
          292.634091741181,
          269.16047136842064,
          292.4746855032957,
          275.2034223462478,
          280.0749380636778,
          292.6732156156578,
          269.1729454672944,
          276.4867649086787,
          292.5889937351276,
          298.4097311429841,
          288.5746376779864,
          264.61210798357797,
          276.0083692344406,
          283.3206234399076,
          298.40272213689883,
          263.45000059759644,
          263.4050768006786,
          276.03777412833244,
          276.0442743527841,
          276.0118467457889,
          276.509199675468,
          292.68052817251663,
          264.5531607479684,
          275.22606076564375,
          292.65417758086346,
          263.41061278110914,
          264.59660188120336,
          263.31753904935,
          292.660396481867,
          263.38552505426156,
          292.67386761600113,
          264.59416921752734,
          280.04899154829354,
          292.6710531306003,
          292.6761359361043,
          280.0628958020274,
          264.4750622116527,
          263.36217949523336,
          298.2238348717284,
          263.4202252096381,
          276.5161406212701,
          292.65047541139893,
          264.56513683024576,
          275.22202612552775,
          292.6564724764044,
          263.02079350106465,
          276.9420327937024,
          264.560738992689,
          264.57320347739807,
          283.2519825713866,
          263.440330701943,
          292.67539773652567,
          263.4127239497149,
          292.67030491014185,
          292.66466235569595,
          263.373758101358,
          263.32999187151,
          292.6635786052507,
          275.2315102094966,
          293.81634565515964,
          263.38191502131957,
          263.4465373230002,
          276.46088865495074,
          292.6469367322957,
          264.58343835004706,
          292.66377918451997,
          292.55330365089156,
          280.0699263080566,
          263.44837136190506,
          263.109001835389,
          292.6706802142508,
          288.7282663593899,
          263.3967314226509,
          292.6379825734949,
          292.6461907404396,
          264.6127863551641,
          292.6755217286444,
          292.6794434182669,
          263.43878917028684,
          263.2990882780752,
          263.37819102567005,
          263.39178894905507,
          264.6002892845584,
          292.5210059310714,
          305.69533714423517,
          292.59498777609423,
          263.4479399152485,
          264.5265751208654,
          292.67817216198864,
          283.32860397828733,
          292.6457820214628,
          292.6397128962889,
          276.0667807429284,
          292.67923250359695,
          292.64044736483766,
          280.0142202993512,
          312.5325278115921,
          263.4455206256893,
          298.3883489305634,
          263.4329057174243,
          263.37871149841027,
          292.6821053975028,
          292.6370205481375,
          292.67694809101954,
          264.5631649043032,
          264.61064451952666,
          292.6801986013511,
          276.0770201952313,
          269.18794717809607,
          292.57488239948776,
          283.2866190846868,
          292.6644613447421,
          292.67367446132266,
          263.4370760157425,
          305.7196139328523,
          298.4123155396504,
          292.68167951822693,
          264.60202266008406,
          283.2272295823229,
          292.6816533788129,
          292.5709362087068,
          280.0658514161713,
          292.6665648153612,
          276.3766853673986,
          292.64008267486156,
          292.6771746293252,
          292.227463506774,
          275.92717572270107,
          298.4095029757359,
          292.6350960454987,
          292.64673050973175,
          291.80038427446067,
          292.55980781921846,
          275.21027561663186,
          264.6058628621711,
          263.6048046564385,
          305.67593356256265,
          292.6177561562976,
          263.4437049910601,
          264.5481333171119,
          263.4291684061984,
          276.0465761263258,
          264.6191894070636,
          312.51954419868935,
          263.20761552827554,
          292.45660354300264,
          292.6181627539466,
          290.5530209592611,
          292.66491315574183,
          292.5498296280315,
          263.3709900898703,
          263.04095210315785,
          264.581735951607,
          292.6528857250636,
          292.59569170896003,
          263.4409458885449,
          292.6809596197609,
          276.491614558309,
          263.4431048912852,
          263.4403821338047,
          292.6497973671547,
          293.8438676237514,
          276.49445928054,
          263.4315044789465,
          292.651336731498,
          288.72396998318794,
          298.41857815547877,
          283.3150729924714,
          263.3810243976634,
          275.998523424053,
          298.3737786272485,
          275.1443654557144,
          264.55674155061814,
          292.64699660058676,
          263.4492749558467,
          276.2420854995335,
          292.44625905608325,
          305.6861984152625,
          292.6634841301943,
          292.6802071706182,
          292.6615768261554,
          275.22610384581355,
          275.53639136898107,
          305.2911401440306,
          283.2919203062645,
          292.6747561439835,
          292.59354169251,
          263.4090377106196,
          263.4399663178757,
          292.57588943399156,
          292.65557384972595,
          263.4431338468389,
          280.0123533637402,
          283.29475664408477,
          292.6523352664003,
          276.0247836228708,
          288.6693076109281,
          263.4320126133878,
          275.22005895395733,
          292.66618245960694,
          276.0625967596209,
          292.67910122171645,
          276.52008759859194,
          276.0625300531561,
          264.34999875326446,
          292.667988665614,
          263.4423048155742,
          275.23309330490207,
          292.67673380857735,
          292.65118355532104,
          292.6632007230135,
          263.43756719287745,
          292.67456744526436,
          292.67644481844013,
          263.4344134496507,
          269.17662664274644,
          263.42005665035543,
          283.32224304843777,
          263.1450284240343,
          264.39834994238095,
          269.1670856402534,
          264.5385628940956,
          292.68314686731225,
          276.0407036802136,
          298.2713849832522,
          293.81332717126867,
          280.0536261079749,
          276.5031053307234,
          264.60832080575295,
          292.5703581965595,
          292.66683501484175,
          283.2929355709816,
          275.92690676579946,
          292.2768672564199,
          298.4002487154001,
          269.1847693824501,
          263.43501289502535,
          292.6611642469662,
          305.69768241818633,
          292.67564048502373,
          275.87097341413005,
          263.4179673264347,
          263.4634900173784,
          292.55480712275306,
          264.61661248944927,
          280.03585368628836,
          305.20009196829983,
          263.3459755921112,
          275.1700900917462,
          283.2931450949747,
          292.5626065545821,
          288.5930556825477,
          263.43942634154683,
          293.8526497582142,
          292.6708069514531,
          292.66195522841656,
          276.0012464600342,
          292.66957210372107,
          292.66409952540266,
          283.2803351129961,
          292.66397533645693,
          292.65748593789675,
          292.6753150555458,
          276.5052143096134,
          292.67871076884745,
          276.5147664012665,
          263.43168812645956,
          279.95877775809123,
          293.8175363606523,
          298.31179318070247,
          292.66766161568563,
          264.4977953547376,
          261.3493483347644,
          275.9757279643197,
          304.3256203677594,
          263.34543798691215,
          292.65086054019747,
          269.1021958311805,
          298.4195389200471,
          292.67726025219025,
          293.8492744244386,
          292.6177427411169,
          263.43476613102166,
          283.2768524469701,
          317.7206470019388,
          279.90024471931383,
          292.6595780588158,
          282.48443078454744,
          292.67406819252886,
          292.6673090404977,
          292.6580568922605,
          263.4394474911901,
          292.5642691270137,
          292.67716750000454,
          263.3973848981962,
          292.6777073388525,
          280.06231239584474,
          292.6634922188874,
          304.46062816963956,
          292.6335074875476,
          275.9583610386166,
          292.6756984811765,
          264.60654663865245,
          292.6758911360115,
          276.515555023426,
          263.42724980240837,
          283.27858839327484,
          280.0078106579508,
          263.44419386025487,
          263.307571207288,
          264.6218889888698,
          276.4893818196543,
          283.31379227005425,
          264.5920076181555,
          263.4441207065967,
          292.6523132012684,
          276.516478476122,
          279.84227281198605,
          292.6718068001105,
          298.37455516743313,
          298.40081043957275,
          298.4195227031667,
          275.9332160837695,
          298.3392572074724,
          263.44549193511347,
          280.064739005118,
          292.67801775304804,
          276.50657963849693,
          292.6700340586148,
          280.0165913432804,
          264.561311940489,
          292.6737713120337,
          305.6896451147375,
          292.6789785317453,
          275.2009416233108,
          292.6659181277709,
          263.35635924145384,
          292.6278985848372,
          280.07562583040954,
          292.6803415821037,
          276.05189826837386,
          298.3854022206631,
          280.03209088584185,
          263.436864566716,
          276.02717079423394,
          292.66935666532765,
          275.98422684451486,
          298.3991250681104,
          293.8445561398792,
          280.02759605498306,
          305.30457148016933,
          263.3107195427256,
          292.68102761493094,
          263.4424214329495,
          283.24524756943737,
          292.57360495295325,
          292.65300029714376,
          292.32948373121985,
          292.66907544754457,
          279.9769481621865,
          292.68137600884256,
          264.55681767800814,
          292.67002881276414,
          292.5715820727156,
          279.953265466788,
          263.20850316365807,
          264.52546926015185,
          263.41097545573086,
          275.96686854383796,
          312.39058859909227,
          275.7996139553206,
          292.66898862882766,
          292.67114656348906,
          292.57579127817365,
          292.66179237955697,
          283.290496929159,
          279.9481248488189,
          292.67197511708065,
          292.5635104511918,
          263.4381418438452,
          292.64830957568125,
          263.4458170313431,
          305.67940095642535,
          298.4192228699205,
          292.6395549248992,
          292.6515009150365,
          273.7819434697003,
          263.4244707069475,
          263.44069534106353,
          292.67821581765463,
          292.52270368345216,
          292.6730179462558,
          264.60772428835344,
          264.5966021035209,
          263.3619767810928,
          292.6762047039271,
          292.6683234247154,
          262.4108063858255,
          263.4447841388995,
          276.4712666005179,
          263.43140949686676,
          276.0140370621583,
          264.57258181942785,
          264.5265476316188,
          292.6724927749428,
          292.66641659858243,
          264.5887530660306,
          263.42901121195536,
          276.5130589051254,
          292.64490399146723,
          263.44064742599994,
          263.35829161403797,
          263.42019850288636,
          292.66911817683206,
          298.38261907516767,
          269.1166112689768,
          264.60071182990254,
          264.61136134121205,
          269.18138287106655,
          292.67836361356194,
          276.05916441102937,
          276.45214135703526,
          276.4882390498167,
          263.43863480148855,
          292.63469373137474,
          292.6827070504722,
          292.67831722108656,
          263.4416855111631,
          262.7345948303976,
          292.6418447983655,
          292.6784246203836,
          293.75589513186867,
          292.6787973777214,
          292.677914423292,
          292.6622193389659,
          292.6802860095453,
          305.4475677764841,
          292.63667866620864,
          292.6664609878313,
          263.44656784332096,
          298.42073596670593,
          292.63754242992786,
          264.6175623981748,
          276.37732164655085,
          283.28508519150796,
          280.05728380240055,
          263.4198138574568,
          288.61264695767943,
          292.5934347135417,
          292.6801502537215,
          298.41049624676845,
          292.65846797270837,
          304.4101195915313,
          263.25158644801644,
          317.92670019978164,
          276.5084597882023,
          292.6786449623216,
          263.4458311847708,
          263.41704261581685,
          292.6704110078388,
          263.4403076563208,
          262.8822788769429,
          292.6769340794448,
          292.64083621691356,
          292.6697344219801,
          292.5668171881239,
          292.67137351267115,
          292.6836934852185,
          292.63784798129365,
          263.4440392051715,
          263.43683299121994,
          263.4383318784253,
          263.44548918264417,
          276.387299535183,
          292.6675453718806,
          312.5500759625682,
          298.3750924810548,
          293.83915295037525,
          305.70213518995615,
          264.5563756073339,
          292.656769386964,
          298.30722012643764,
          280.0715930580419,
          292.639626276871,
          292.6606894745032,
          292.67739053197994,
          292.6425890393433,
          263.4153711268063,
          292.67344524134484,
          292.66696754474606,
          292.64834413091836,
          298.32065137324145,
          263.43026118388633,
          263.30642450443514,
          292.64186215051143,
          264.59121693855633,
          264.57698417051034,
          263.4274217181674,
          288.2936234854023,
          266.07906684079046,
          276.48539043518394,
          298.36421469886506,
          264.43550782064403,
          312.54459098688733,
          280.06476721558494,
          264.60885646767997,
          288.42527009424674,
          274.20246988943586,
          269.1850998628792,
          264.51279065595827,
          283.3258897250999,
          292.6721465988191,
          264.5091250853241,
          263.4246466455849,
          292.649702379558,
          292.6696326016626,
          263.4411936868622,
          275.20573578826674,
          292.663006449664,
          292.5360919265666,
          292.6723192931497,
          263.3215168706057,
          263.40493260289605,
          292.5568763308277,
          292.6743044910776,
          292.66612706762834,
          264.27039194931416,
          264.55299113046493,
          292.68233969876553,
          276.0682439703335,
          292.65627485644796,
          263.38065782375924,
          279.92094133194223,
          292.5869722655155,
          272.5228207859694,
          279.9710517161912,
          292.652991103709,
          269.17481629582096,
          263.3982588406388,
          264.5764988216644,
          298.4081436914576,
          276.47754914702233,
          276.06499556936024,
          264.527075280516,
          263.3962776738416,
          292.67802854369404,
          292.6068055343344,
          263.11167254209977,
          263.4430846267388,
          263.417455508512,
          292.6399854874901,
          292.66599911653765,
          264.5990471391638,
          292.6815251447335,
          292.678365921269,
          263.3970044252768,
          309.2762537730112,
          263.3535215240218,
          293.8206584753897,
          280.03833475099606,
          264.58977714297345,
          263.2091413502926,
          275.98235487130245,
          263.2539766059431,
          292.63842778900596,
          264.6193945245587,
          275.2070720233358,
          305.82844476266445,
          292.57005376828585,
          305.23752798539687,
          292.65379208641116,
          309.26269538623893,
          264.46412681707693,
          275.17173467542733,
          292.6517115130475,
          292.59214769178726,
          263.35054298461654,
          304.45213886042933,
          283.30622177709256,
          269.1146375040697,
          292.6672235294369,
          292.64916903643905,
          280.0459069918583,
          276.0397434349535,
          263.40972470819275,
          292.64439649483944,
          279.99387834377,
          263.35368580252805,
          263.00879047999257,
          263.3821610176398,
          264.4227716262485,
          269.1784590553259,
          263.43112721076545,
          276.44765883050565,
          292.608821750044,
          292.6561701973571,
          264.613975549006,
          263.38018396658026,
          263.4391804400659,
          264.54430250313106,
          263.3377917191836,
          292.67167607422294,
          264.2104815134457,
          263.44475334658694,
          305.22003622248894,
          262.76032254373644,
          280.0693504996535,
          263.43069737891955,
          263.4115176075161,
          292.6504709972485,
          309.18526445667993,
          292.6626454654562,
          283.3059712897003,
          263.44280568127334,
          275.2013992103829,
          280.0007626693951,
          263.4349330045293,
          264.4772708515427,
          279.14263192089015,
          292.66241289471407,
          276.48509968972036,
          292.6678944455362,
          264.4602068247086,
          263.4366195786641,
          288.7413519907106,
          280.0668688278322,
          264.6041095832886,
          292.67974749977265,
          292.403557473121,
          292.2891919290755,
          292.505292894377,
          264.54599441944595,
          268.14271384430697,
          263.43555059118603,
          276.06649421294424,
          292.6548811719172,
          292.6771833970787,
          264.61918222028373,
          280.0374955226497,
          280.055486004009,
          264.52140264815716,
          263.4033756941846,
          275.20737153414234,
          292.65542678387106,
          280.05155560931377,
          292.67209029362454,
          292.62654332293636,
          292.6171949113631,
          279.7277528028364,
          276.52343015012644,
          292.64609955306884,
          264.4632520770768,
          292.41748486916225,
          292.6309693496874,
          280.0495041738963,
          280.05698988830704,
          263.43908820039746,
          263.4262737288152,
          264.5010328282018,
          263.4310249082909,
          263.42903978975176,
          292.6503665015337,
          280.08320389542445,
          263.2692750534551,
          292.6743319593499,
          292.65811192096976,
          280.0756562547444,
          292.6794637312968,
          292.6736629602827,
          304.3963427878728,
          280.0389033913543,
          292.682469137593,
          305.211397964952,
          263.4469203359251,
          257.93170581781993,
          276.4964538937206,
          292.64880692882105,
          263.3944462291537,
          276.5039328118221,
          292.60129978207965,
          264.57057513388696,
          292.6703565924689,
          275.2193054633946,
          304.4384613433317,
          275.08736198531165,
          264.25583074092583,
          263.34049976483925,
          292.6718094009776,
          263.43014558775803,
          269.1829876992596,
          305.14900448997844,
          292.67365442213014,
          275.1050872252475,
          292.6687899655908,
          276.44476248108174,
          276.4711297973802,
          263.3740923843507,
          292.65897325829087,
          264.57974735935636,
          305.46884942401454,
          292.6817742886785,
          292.6762006536253,
          276.053858268358,
          264.49738259331536,
          263.44089107988395,
          292.68125707032345,
          283.29671719752054,
          292.6338079870896,
          292.67680581139814,
          292.5829780286818,
          292.67628638792286,
          276.5025511312521,
          292.6761037665335,
          264.60229017047277,
          269.1273031735345,
          292.64399184629895,
          292.6609667365035,
          276.02357640757145,
          263.40148693923487,
          305.2937005613207,
          283.3308025117328,
          292.65261643647017,
          292.5996522151417,
          263.43205582414964,
          263.68633492300916,
          276.51577666661643,
          292.625064899083,
          276.48178872831835,
          264.5890380482372,
          292.664951550562,
          292.6766324076988,
          263.41189465806957,
          268.010909551689,
          275.2231341414472,
          263.41718821181206,
          275.23236081578705,
          292.607820582171,
          263.42653076102386,
          309.2366122420245,
          269.17478369032045,
          292.6360278402616,
          292.1071976959652,
          276.44065816265385,
          292.6313887853779,
          269.1371531695518,
          263.06226544365825,
          269.1612723700002,
          264.54207646668135,
          312.4424665623659,
          292.6790500085001,
          292.64828944525567,
          276.0727374645746,
          264.563610828936,
          264.6132945981153,
          263.44969533564205,
          292.67657440947215,
          298.4016638759137,
          264.606938486711,
          292.669993840906,
          292.63620454842004,
          263.35335514303006,
          263.43186281888387,
          264.5547984559965,
          292.68173795058476,
          292.68132035654355,
          292.68063599464665,
          292.67584658677583,
          275.7938519189831,
          263.3983810568368,
          283.3172619703878,
          264.31605499643206,
          288.7070718140144,
          312.55957829178044,
          276.5093139955793,
          263.44443296887835,
          263.3935928310017,
          276.0749917298961,
          263.41716853914807,
          263.25021521554856,
          292.6275607013371,
          292.66827790921513,
          292.45833963517987,
          305.2979813782591,
          292.680711256662,
          276.46627312534105,
          263.32910051843675,
          264.337583145212,
          276.0435625654262,
          305.7545799739207,
          269.1607023982966,
          275.62961036014616,
          275.2051739740785,
          279.9904230250537,
          293.8133589506081,
          261.6747560689446,
          263.43437084947556,
          263.4349352048579,
          283.315451919658,
          276.51395123258465,
          276.0737890122779,
          292.64657966397004,
          288.69102206120505,
          292.6764450101397,
          292.6633867612146,
          292.66407633057634,
          283.30241517008585,
          292.19357307948405,
          292.6745450359716,
          292.6434017351465,
          293.83057441760974,
          276.041623740582,
          292.6796737664914,
          263.4425593320144,
          312.5260577573575,
          261.3472885507011,
          292.67420323197655,
          288.52639845355634,
          283.3130036133077,
          292.6533671684025,
          292.6317019812,
          305.6683291197582,
          263.4461850683567,
          309.26035845142644,
          292.6389544994812,
          291.8527782352584,
          298.39914777232724,
          317.96759046750856,
          263.4282173352961,
          292.65515630201435,
          292.5287040235069,
          280.0210401469168,
          292.6394190108819,
          292.67541773084076,
          263.13302471263876,
          280.0363133537693,
          283.2960347971747,
          292.4297921137025,
          264.60447542687245,
          292.6445239894244,
          263.43635041757693,
          292.6356503055434,
          292.5703164951367,
          292.6589089274816,
          264.6160963430505,
          293.78494517178285,
          292.64059453923255,
          263.4487256662169,
          292.67224397339163,
          292.6708410839749,
          292.6470258673328,
          292.6691415565391,
          275.99493936525516,
          292.6400005795162,
          283.2985261081285,
          263.2876821867821,
          264.45009811876855,
          312.34213739374053,
          263.4498720590859,
          263.3495259231606,
          293.8362082203784,
          263.3883382056359,
          292.6577335212511,
          275.9700300061056,
          275.2341663123892,
          292.63467629661204,
          283.1552112948239,
          275.2234993485848,
          292.626698226212,
          279.9993025461996,
          292.6435571846891,
          283.3157467993768,
          263.3292859925734,
          264.5884156848645,
          292.59125839339447,
          292.5857191903223,
          292.6730378115246,
          279.90590805377855,
          263.3472425056578,
          292.6453469305572,
          275.22405770851896,
          280.0100528649056,
          280.0512009478283,
          276.49884228832514,
          292.603135485851,
          292.6135554253753,
          263.41329158380177,
          264.59824206057823,
          292.66886887091357,
          292.67067547316606,
          298.4212193050518,
          275.2246341500004,
          263.4412690777638,
          263.4382634982388,
          268.9714803462906,
          264.52866767845813,
          292.6175267373978,
          263.47519179657905,
          276.0357727781834,
          275.2314246683007,
          292.6744047605391,
          295.0765274646068,
          263.42195788090817,
          275.22870316834525,
          292.6776792234724,
          275.2242102088614,
          283.32386683121445,
          292.5366239794659,
          292.61877971576433,
          292.6814516023535,
          263.431431103267,
          304.44841845390977,
          264.5951584344575,
          292.67386859975113,
          264.60023951531315,
          263.39855476805326,
          263.36312004965794,
          292.60835170507045,
          292.66915653349815,
          292.60110411807057,
          264.4197908631329,
          280.05695052892855,
          275.21337806283265,
          263.4396089852573,
          292.6718706563158,
          292.6712546237661,
          280.04814634524655,
          304.4337357773641,
          292.5726138403963,
          292.6508169304056,
          292.6628205257085,
          280.0052626128096,
          292.6294411113981,
          292.6679421022601,
          269.1114436728879,
          292.65489866983694,
          292.67526918590846,
          291.0812586367655,
          263.4436406712907,
          288.1208067402636,
          292.65430941345056,
          292.6750934571644,
          292.5894838476323,
          263.305682044174,
          276.0584007638188,
          276.3616076768755,
          264.589801081435,
          292.64885984507754,
          292.6704705581705,
          292.6797246778948,
          298.3916209008072,
          292.6821242521281,
          292.6670371134063,
          263.443858059369,
          292.638410160627,
          279.9985316443587,
          292.6704555291859,
          304.39931151910866,
          292.5858967637742,
          298.40717334334266,
          292.6514069208077,
          264.60643939198496,
          269.0305339071101,
          280.04286989535655,
          292.6683683353298,
          276.0140842802482,
          292.65571585200496,
          292.65861564286047,
          298.3674690274767,
          292.6495333393952,
          275.2253097435013,
          263.44718868309104,
          275.21683322416,
          292.6024502166087,
          264.6011722967643,
          292.6334019686494,
          264.5010600295539,
          269.1182423993274,
          263.44303635349297,
          275.5385105474206,
          288.6194525427626,
          269.1193403633622,
          292.6427144849075,
          292.6584557619761,
          264.3550088585786,
          264.4614939360804,
          275.18933287004,
          293.7925481308804,
          263.40895219036537,
          292.6701299573869,
          292.66720756736225,
          295.0774210981381,
          276.0661081333064,
          292.59690573249486,
          263.3833785566524,
          263.4350760770018,
          263.410688077524,
          292.68096689525424,
          262.14517122170946,
          292.65872101619635,
          309.2443165754657,
          275.70091241240544,
          279.9425201215162,
          264.4707772493725,
          263.3913735477405,
          292.6514855606381,
          263.40290170694345,
          280.0735541744852,
          276.06328105359336,
          263.3505708605068,
          292.6685009123075,
          298.41644610496354,
          292.59597283006207,
          292.64485925299476,
          276.0745302174261,
          292.67420211125784,
          293.7952331273581,
          292.6772477957559,
          292.6677573271691,
          305.2885119399969,
          264.60819070233595,
          292.62475244391067,
          263.35745456545004,
          280.07026463350593,
          292.67871797992854,
          280.0775824569835,
          263.4397246583275,
          292.64089538132566,
          264.592402372542,
          292.66733625988013,
          292.65118977082386,
          304.3999326038591,
          264.56193844010744,
          292.6505847647111,
          292.6672332531279,
          264.5522704216563,
          264.5920034814421,
          275.22347530991686,
          292.6585809809614,
          276.0543455122296,
          292.68391329340665,
          275.2299085624671,
          292.6724644891121,
          292.656545851225,
          292.6653584882748,
          292.66927977765414,
          276.50498581711236,
          263.42593766237314,
          292.4109358325399,
          264.5861289119143,
          292.6639531336606,
          292.59463316543764,
          304.39262483169284,
          264.6104622553939,
          263.44476920288037,
          309.27264611948266,
          292.67726614328626,
          264.57987167608843,
          276.51424601846406,
          275.20861811330536,
          292.673208415435,
          276.44697546177866,
          312.54775899490795,
          312.54761342509704,
          283.3207685247542,
          292.6777073470214,
          292.60894881360474,
          279.9119421412275,
          292.6654322511829,
          292.65944341674225,
          263.42210269553186,
          293.8357862772271,
          264.43711032746745,
          283.2913634213482,
          275.232584610765,
          264.6159436060805,
          292.6800469870194,
          288.70342010857934,
          298.40231736764656,
          263.33651676746,
          293.83348255519013,
          292.5853951422725,
          292.6688813026137,
          275.22760281184566,
          263.4415284859136,
          292.5787443616681,
          305.3775719792169,
          292.6323249626182,
          293.8158560280446,
          292.6747841018486,
          262.49080189545396,
          283.3293765489114,
          263.41177254801795,
          292.6442215196265,
          275.90276291657364,
          292.59496980655155,
          317.868738593817,
          292.64722558419857,
          276.4877641040091,
          276.5191004689251,
          292.6786146214168,
          292.65990796681183,
          264.61676865736376,
          292.6778016415738,
          292.6746504103587,
          263.4302828363691,
          263.43839618073775,
          263.44299129907876,
          263.3703745221232,
          298.40335226937253,
          290.9698555730186,
          292.6815115579164,
          279.96588508539145,
          292.6725344766226,
          275.22966006592475,
          280.00876637653533,
          312.53874601047266,
          292.68253195799474,
          264.5849323035911,
          279.88571035979464,
          275.22385318787497,
          263.3212659797369,
          292.67005558823143,
          292.67954214585893,
          283.3109314831923,
          292.65149798646524,
          263.4422099345127,
          276.06506621009186,
          292.6770867881052,
          276.50362432650695,
          304.44229334535476,
          261.72852041904673,
          292.6687310209712,
          304.42191191688227,
          263.44518570913635,
          275.2265842959707,
          263.3301705075621,
          292.6598865554031,
          275.89693307273836,
          292.64316805743704,
          264.6159711545495,
          292.6696992323361,
          263.2093539790428,
          283.32767246491017,
          292.6773383224106,
          292.63584549418897,
          292.65864489190665,
          264.6175082768488,
          304.4083340786029,
          264.6196631886951,
          280.0736884553746,
          305.2772511930049,
          275.1974953803271,
          263.4502792564753,
          292.59502788124365,
          263.0637640411264,
          292.6578953006143,
          264.5986323596206,
          292.6591568174084,
          288.71171510033446,
          292.68136687350255,
          262.9514924243764,
          280.013428016454,
          275.69645223620074,
          263.36765040305437,
          292.65565678012223,
          263.4447449410346,
          292.6018975852576,
          279.9942720289212,
          292.66980124308833,
          264.568849307307,
          292.6639260361584,
          292.6794081244617,
          317.7429433265878,
          292.6249284531558,
          263.4363183600868,
          292.6775321904201,
          275.1790851441466,
          280.041486057355,
          264.6057757531258,
          264.5082179592498,
          292.56752699764513,
          264.5958754790594,
          292.6743916956876,
          292.66793884431485,
          264.5797317114804,
          263.3378395325179,
          298.3810542174132,
          263.439683735885,
          263.38428555513207,
          263.3786672739341,
          263.445882306056,
          275.14477531408227,
          268.4409968864147,
          292.5994112353918,
          269.1476792803836,
          288.5959332228518,
          292.6477854280036,
          276.46220664842286,
          292.66821111533653,
          263.436455494503,
          264.558056862088,
          263.4307791981346,
          264.52497632769695,
          292.68009291703,
          264.6015520474381,
          276.4268268929383,
          279.9373092966897,
          264.59383261111986,
          263.4464337138104,
          279.85733401913745,
          275.04905908240744,
          280.0736845359855,
          297.2447720711431,
          263.4409509398408,
          292.66911558731323,
          292.682664770981,
          293.81449856834763,
          292.6619079568683,
          292.64916895081024,
          292.6800256973569,
          263.3507060294638,
          293.839484809138,
          309.1793946238601,
          264.5871016562263,
          292.6730022709155,
          292.67217372149906,
          279.8444849362146,
          292.6811200352855,
          263.17824288770265,
          292.55495765093013,
          276.0017903153227,
          292.6713722537518,
          292.632625898364,
          263.25124900434844,
          276.5241548245426,
          263.3874558064701,
          292.64612710496635,
          263.3956624074491,
          263.4409621527496,
          292.6608347450266,
          264.6212525530855,
          276.5101217330774,
          279.3891352366101,
          275.21144201681744,
          263.31438186162603,
          263.4311546577009,
          309.2572951321518,
          264.58959591341755,
          292.65229215603966,
          276.0066669986455,
          268.4588886613913,
          292.61374396963294,
          292.6426820607093,
          264.6158564409112,
          292.643466119242,
          273.63687842925157,
          275.2151717053607,
          276.5173100101844,
          292.46978998537764,
          280.0686632559076,
          263.3762589086987,
          269.1375604730841,
          291.92396391346966,
          292.67372668619157,
          292.64564858594025,
          293.8544779293285,
          263.4454102282881,
          279.86171566637796,
          291.4614818377664,
          280.0494351993158,
          288.63300195991434,
          292.66648703599805,
          275.2144764194341,
          298.4157847719546,
          283.2630838249804,
          276.4886776224574,
          292.6550333558976,
          292.66666709359686,
          263.4188496741373,
          275.22377280383887,
          264.55067472415544,
          283.2793966489123,
          292.68262482701874,
          292.54544120052043,
          263.31607742047385,
          269.0850608782784,
          263.4269215114814,
          264.6026755943244,
          264.35959006637046,
          264.5965589695694,
          298.4169913295426,
          292.45748218954213,
          263.3936583128247,
          275.91745765232326,
          263.4035685426736,
          292.6451769189423,
          246.54806380140533,
          263.4419582203725,
          292.6015505822362,
          292.5497109724576,
          298.34218726348854,
          263.4453012752486,
          288.6885084206231,
          263.43406199059405,
          263.293444817875,
          264.5626819797336,
          263.4219912312735,
          292.67147733991783,
          264.58264788448014,
          263.77690930642126,
          263.4468753892861,
          292.6624212627123,
          262.7090180046943,
          263.3868396066479,
          292.67725760685994,
          263.2862359110816,
          292.6487113689119,
          275.19712914463196,
          305.7280472085497,
          292.62110470661264,
          263.413739441348,
          275.2284012728299,
          298.4204325565935,
          269.17402799029816,
          264.59747593178497,
          292.66916799222025,
          298.3566063348578,
          269.1350076262548,
          276.041872259033,
          317.9283192091472,
          262.1158981851379,
          276.4511315876789,
          279.5946827076028,
          276.02304735069606,
          263.15229860726663,
          279.8868580703574,
          257.7895162792333,
          278.53738624676566,
          292.6640795429076,
          276.51439785397224,
          263.4193134520988,
          263.44703600999446,
          279.9597603376667,
          264.6127842062667,
          263.25554530085293,
          292.67533353151174,
          292.68081378907743,
          264.5772491638615,
          263.0641683306181,
          309.23052795946563,
          279.9729980306765,
          264.53923973101683,
          264.459564321115,
          292.6811590113876,
          267.346462574708,
          292.658243089714,
          292.6758568418456,
          274.8401542143803,
          317.90486949524393,
          263.4287045500664,
          276.0212053360496,
          292.6601056039097,
          292.6824331540142,
          292.67230279505213,
          280.02608705671935,
          276.5062399051496,
          288.62771631609024,
          292.67969805453885,
          264.20395178838965,
          298.37850040778125,
          317.9532565893266,
          263.3002133126092,
          279.9704322294899,
          305.7394341024624,
          280.0472974658522,
          276.508541311294,
          263.3500333507745,
          280.04068920273187,
          292.4685644125126,
          279.882956300385,
          279.9704475829279,
          292.6828228369895,
          280.04682828211673,
          292.5323693725934,
          264.3426566319549,
          263.3877879988251,
          280.0177297598954,
          280.01403318518123,
          292.67500571987586,
          288.3426838765238,
          276.5034283970151,
          304.3772674978485,
          305.75087380446473,
          276.0209807394149,
          276.5095662486432,
          292.6787133911928,
          292.68140930997066,
          276.5144758530927,
          280.0696019893187,
          292.6809731132145,
          292.65963316982305,
          280.01210192915346,
          292.6571141885857,
          263.42156468600973,
          292.6778618449271,
          272.159956938336,
          263.44435347060147,
          292.67429044766266,
          276.4938986918151,
          263.4138606027134,
          305.65748389379826,
          263.44435374055627,
          292.6152880996322,
          279.9997322588835,
          263.4385420384622,
          280.060701835359,
          276.5098620556357,
          279.93086902006166,
          280.05651867121344,
          271.3117540714612,
          263.3746714642096,
          280.057123461287,
          279.9220163906657,
          276.4445441754127,
          305.74043007628256,
          263.4364695864966,
          272.7839472279608,
          263.3353789928287,
          298.3096386153839,
          264.51995344016234,
          263.4132099228858,
          264.40748895742837,
          280.00304150683473,
          264.6062642842885,
          264.49270648004585,
          276.05153406581934,
          283.2560046620251,
          263.4463402600647,
          263.4163931439156,
          292.67330997148883,
          275.1716188245372,
          262.86301873687813,
          292.6529070567897,
          263.43635067677735,
          264.3370166657979,
          292.6709648377657,
          279.02868640539975,
          263.4103417168843,
          263.42189996578145,
          279.92128351255803,
          263.2232380259461,
          263.3647811763663,
          263.44995947797105,
          259.43961157601217,
          292.6827832280236,
          263.300557112398,
          280.08002817645774,
          264.1577504681716,
          275.1917664654853,
          263.01523132220944,
          264.60729588879985,
          263.41562178720795,
          280.0491087135939,
          263.41390278945767,
          292.6685120049457,
          276.4981626846151,
          292.68361923421446,
          275.0954090234514,
          264.6102983281026,
          292.66339819972217,
          264.5535173778641,
          292.6629000121393,
          269.183793482336,
          292.6760840697024,
          263.404372275893,
          292.62814244132466,
          303.811660332142,
          292.6793555006733,
          312.5441495765425,
          269.16022078164633,
          264.58884036349536,
          275.2244279001858,
          288.4879930427456,
          264.5864651939939,
          292.6781318605781,
          288.38637117051957,
          292.64038359873194,
          263.39447355758864,
          276.0391011874842,
          312.55134721820673,
          292.6722435762737,
          292.67514550657535,
          298.4148458214846,
          283.3111377024348,
          263.11997856720427,
          292.6632900971859,
          264.596400388911,
          292.6787637596279,
          280.02220212885015,
          292.6172580433044,
          263.31156292825517,
          264.7774651012482,
          268.8959829360129,
          275.2228167205894,
          292.64612108615,
          292.5667882037061,
          276.4218539938865,
          283.3152230676159,
          291.87565365104086,
          292.6784048572766,
          292.65031873589044,
          292.61120409404174,
          292.60934642057526,
          292.675746683559,
          292.60791540271117,
          263.4472181546235,
          276.3537608068373,
          276.5128236337117,
          269.14993712095594,
          283.31681816698995,
          263.44800116895885,
          292.6387974851593,
          293.8478308444512,
          292.67680852451366,
          275.2194819197818,
          264.56756181063633,
          268.1438149632786,
          292.58426493086046,
          283.32206634911284,
          317.92574490061736,
          263.4428046325914,
          305.7391782589276,
          292.67538424941523,
          264.61583484538136,
          292.65100283761797,
          276.0569081487477,
          292.6253576049633,
          275.9877809786454
         ]
        }
       ],
       "layout": {
        "barmode": "overlay",
        "template": {
         "data": {
          "bar": [
           {
            "error_x": {
             "color": "#2a3f5f"
            },
            "error_y": {
             "color": "#2a3f5f"
            },
            "marker": {
             "line": {
              "color": "#E5ECF6",
              "width": 0.5
             },
             "pattern": {
              "fillmode": "overlay",
              "size": 10,
              "solidity": 0.2
             }
            },
            "type": "bar"
           }
          ],
          "barpolar": [
           {
            "marker": {
             "line": {
              "color": "#E5ECF6",
              "width": 0.5
             },
             "pattern": {
              "fillmode": "overlay",
              "size": 10,
              "solidity": 0.2
             }
            },
            "type": "barpolar"
           }
          ],
          "carpet": [
           {
            "aaxis": {
             "endlinecolor": "#2a3f5f",
             "gridcolor": "white",
             "linecolor": "white",
             "minorgridcolor": "white",
             "startlinecolor": "#2a3f5f"
            },
            "baxis": {
             "endlinecolor": "#2a3f5f",
             "gridcolor": "white",
             "linecolor": "white",
             "minorgridcolor": "white",
             "startlinecolor": "#2a3f5f"
            },
            "type": "carpet"
           }
          ],
          "choropleth": [
           {
            "colorbar": {
             "outlinewidth": 0,
             "ticks": ""
            },
            "type": "choropleth"
           }
          ],
          "contour": [
           {
            "colorbar": {
             "outlinewidth": 0,
             "ticks": ""
            },
            "colorscale": [
             [
              0,
              "#0d0887"
             ],
             [
              0.1111111111111111,
              "#46039f"
             ],
             [
              0.2222222222222222,
              "#7201a8"
             ],
             [
              0.3333333333333333,
              "#9c179e"
             ],
             [
              0.4444444444444444,
              "#bd3786"
             ],
             [
              0.5555555555555556,
              "#d8576b"
             ],
             [
              0.6666666666666666,
              "#ed7953"
             ],
             [
              0.7777777777777778,
              "#fb9f3a"
             ],
             [
              0.8888888888888888,
              "#fdca26"
             ],
             [
              1,
              "#f0f921"
             ]
            ],
            "type": "contour"
           }
          ],
          "contourcarpet": [
           {
            "colorbar": {
             "outlinewidth": 0,
             "ticks": ""
            },
            "type": "contourcarpet"
           }
          ],
          "heatmap": [
           {
            "colorbar": {
             "outlinewidth": 0,
             "ticks": ""
            },
            "colorscale": [
             [
              0,
              "#0d0887"
             ],
             [
              0.1111111111111111,
              "#46039f"
             ],
             [
              0.2222222222222222,
              "#7201a8"
             ],
             [
              0.3333333333333333,
              "#9c179e"
             ],
             [
              0.4444444444444444,
              "#bd3786"
             ],
             [
              0.5555555555555556,
              "#d8576b"
             ],
             [
              0.6666666666666666,
              "#ed7953"
             ],
             [
              0.7777777777777778,
              "#fb9f3a"
             ],
             [
              0.8888888888888888,
              "#fdca26"
             ],
             [
              1,
              "#f0f921"
             ]
            ],
            "type": "heatmap"
           }
          ],
          "heatmapgl": [
           {
            "colorbar": {
             "outlinewidth": 0,
             "ticks": ""
            },
            "colorscale": [
             [
              0,
              "#0d0887"
             ],
             [
              0.1111111111111111,
              "#46039f"
             ],
             [
              0.2222222222222222,
              "#7201a8"
             ],
             [
              0.3333333333333333,
              "#9c179e"
             ],
             [
              0.4444444444444444,
              "#bd3786"
             ],
             [
              0.5555555555555556,
              "#d8576b"
             ],
             [
              0.6666666666666666,
              "#ed7953"
             ],
             [
              0.7777777777777778,
              "#fb9f3a"
             ],
             [
              0.8888888888888888,
              "#fdca26"
             ],
             [
              1,
              "#f0f921"
             ]
            ],
            "type": "heatmapgl"
           }
          ],
          "histogram": [
           {
            "marker": {
             "pattern": {
              "fillmode": "overlay",
              "size": 10,
              "solidity": 0.2
             }
            },
            "type": "histogram"
           }
          ],
          "histogram2d": [
           {
            "colorbar": {
             "outlinewidth": 0,
             "ticks": ""
            },
            "colorscale": [
             [
              0,
              "#0d0887"
             ],
             [
              0.1111111111111111,
              "#46039f"
             ],
             [
              0.2222222222222222,
              "#7201a8"
             ],
             [
              0.3333333333333333,
              "#9c179e"
             ],
             [
              0.4444444444444444,
              "#bd3786"
             ],
             [
              0.5555555555555556,
              "#d8576b"
             ],
             [
              0.6666666666666666,
              "#ed7953"
             ],
             [
              0.7777777777777778,
              "#fb9f3a"
             ],
             [
              0.8888888888888888,
              "#fdca26"
             ],
             [
              1,
              "#f0f921"
             ]
            ],
            "type": "histogram2d"
           }
          ],
          "histogram2dcontour": [
           {
            "colorbar": {
             "outlinewidth": 0,
             "ticks": ""
            },
            "colorscale": [
             [
              0,
              "#0d0887"
             ],
             [
              0.1111111111111111,
              "#46039f"
             ],
             [
              0.2222222222222222,
              "#7201a8"
             ],
             [
              0.3333333333333333,
              "#9c179e"
             ],
             [
              0.4444444444444444,
              "#bd3786"
             ],
             [
              0.5555555555555556,
              "#d8576b"
             ],
             [
              0.6666666666666666,
              "#ed7953"
             ],
             [
              0.7777777777777778,
              "#fb9f3a"
             ],
             [
              0.8888888888888888,
              "#fdca26"
             ],
             [
              1,
              "#f0f921"
             ]
            ],
            "type": "histogram2dcontour"
           }
          ],
          "mesh3d": [
           {
            "colorbar": {
             "outlinewidth": 0,
             "ticks": ""
            },
            "type": "mesh3d"
           }
          ],
          "parcoords": [
           {
            "line": {
             "colorbar": {
              "outlinewidth": 0,
              "ticks": ""
             }
            },
            "type": "parcoords"
           }
          ],
          "pie": [
           {
            "automargin": true,
            "type": "pie"
           }
          ],
          "scatter": [
           {
            "fillpattern": {
             "fillmode": "overlay",
             "size": 10,
             "solidity": 0.2
            },
            "type": "scatter"
           }
          ],
          "scatter3d": [
           {
            "line": {
             "colorbar": {
              "outlinewidth": 0,
              "ticks": ""
             }
            },
            "marker": {
             "colorbar": {
              "outlinewidth": 0,
              "ticks": ""
             }
            },
            "type": "scatter3d"
           }
          ],
          "scattercarpet": [
           {
            "marker": {
             "colorbar": {
              "outlinewidth": 0,
              "ticks": ""
             }
            },
            "type": "scattercarpet"
           }
          ],
          "scattergeo": [
           {
            "marker": {
             "colorbar": {
              "outlinewidth": 0,
              "ticks": ""
             }
            },
            "type": "scattergeo"
           }
          ],
          "scattergl": [
           {
            "marker": {
             "colorbar": {
              "outlinewidth": 0,
              "ticks": ""
             }
            },
            "type": "scattergl"
           }
          ],
          "scattermapbox": [
           {
            "marker": {
             "colorbar": {
              "outlinewidth": 0,
              "ticks": ""
             }
            },
            "type": "scattermapbox"
           }
          ],
          "scatterpolar": [
           {
            "marker": {
             "colorbar": {
              "outlinewidth": 0,
              "ticks": ""
             }
            },
            "type": "scatterpolar"
           }
          ],
          "scatterpolargl": [
           {
            "marker": {
             "colorbar": {
              "outlinewidth": 0,
              "ticks": ""
             }
            },
            "type": "scatterpolargl"
           }
          ],
          "scatterternary": [
           {
            "marker": {
             "colorbar": {
              "outlinewidth": 0,
              "ticks": ""
             }
            },
            "type": "scatterternary"
           }
          ],
          "surface": [
           {
            "colorbar": {
             "outlinewidth": 0,
             "ticks": ""
            },
            "colorscale": [
             [
              0,
              "#0d0887"
             ],
             [
              0.1111111111111111,
              "#46039f"
             ],
             [
              0.2222222222222222,
              "#7201a8"
             ],
             [
              0.3333333333333333,
              "#9c179e"
             ],
             [
              0.4444444444444444,
              "#bd3786"
             ],
             [
              0.5555555555555556,
              "#d8576b"
             ],
             [
              0.6666666666666666,
              "#ed7953"
             ],
             [
              0.7777777777777778,
              "#fb9f3a"
             ],
             [
              0.8888888888888888,
              "#fdca26"
             ],
             [
              1,
              "#f0f921"
             ]
            ],
            "type": "surface"
           }
          ],
          "table": [
           {
            "cells": {
             "fill": {
              "color": "#EBF0F8"
             },
             "line": {
              "color": "white"
             }
            },
            "header": {
             "fill": {
              "color": "#C8D4E3"
             },
             "line": {
              "color": "white"
             }
            },
            "type": "table"
           }
          ]
         },
         "layout": {
          "annotationdefaults": {
           "arrowcolor": "#2a3f5f",
           "arrowhead": 0,
           "arrowwidth": 1
          },
          "autotypenumbers": "strict",
          "coloraxis": {
           "colorbar": {
            "outlinewidth": 0,
            "ticks": ""
           }
          },
          "colorscale": {
           "diverging": [
            [
             0,
             "#8e0152"
            ],
            [
             0.1,
             "#c51b7d"
            ],
            [
             0.2,
             "#de77ae"
            ],
            [
             0.3,
             "#f1b6da"
            ],
            [
             0.4,
             "#fde0ef"
            ],
            [
             0.5,
             "#f7f7f7"
            ],
            [
             0.6,
             "#e6f5d0"
            ],
            [
             0.7,
             "#b8e186"
            ],
            [
             0.8,
             "#7fbc41"
            ],
            [
             0.9,
             "#4d9221"
            ],
            [
             1,
             "#276419"
            ]
           ],
           "sequential": [
            [
             0,
             "#0d0887"
            ],
            [
             0.1111111111111111,
             "#46039f"
            ],
            [
             0.2222222222222222,
             "#7201a8"
            ],
            [
             0.3333333333333333,
             "#9c179e"
            ],
            [
             0.4444444444444444,
             "#bd3786"
            ],
            [
             0.5555555555555556,
             "#d8576b"
            ],
            [
             0.6666666666666666,
             "#ed7953"
            ],
            [
             0.7777777777777778,
             "#fb9f3a"
            ],
            [
             0.8888888888888888,
             "#fdca26"
            ],
            [
             1,
             "#f0f921"
            ]
           ],
           "sequentialminus": [
            [
             0,
             "#0d0887"
            ],
            [
             0.1111111111111111,
             "#46039f"
            ],
            [
             0.2222222222222222,
             "#7201a8"
            ],
            [
             0.3333333333333333,
             "#9c179e"
            ],
            [
             0.4444444444444444,
             "#bd3786"
            ],
            [
             0.5555555555555556,
             "#d8576b"
            ],
            [
             0.6666666666666666,
             "#ed7953"
            ],
            [
             0.7777777777777778,
             "#fb9f3a"
            ],
            [
             0.8888888888888888,
             "#fdca26"
            ],
            [
             1,
             "#f0f921"
            ]
           ]
          },
          "colorway": [
           "#636efa",
           "#EF553B",
           "#00cc96",
           "#ab63fa",
           "#FFA15A",
           "#19d3f3",
           "#FF6692",
           "#B6E880",
           "#FF97FF",
           "#FECB52"
          ],
          "font": {
           "color": "#2a3f5f"
          },
          "geo": {
           "bgcolor": "white",
           "lakecolor": "white",
           "landcolor": "#E5ECF6",
           "showlakes": true,
           "showland": true,
           "subunitcolor": "white"
          },
          "hoverlabel": {
           "align": "left"
          },
          "hovermode": "closest",
          "mapbox": {
           "style": "light"
          },
          "paper_bgcolor": "white",
          "plot_bgcolor": "#E5ECF6",
          "polar": {
           "angularaxis": {
            "gridcolor": "white",
            "linecolor": "white",
            "ticks": ""
           },
           "bgcolor": "#E5ECF6",
           "radialaxis": {
            "gridcolor": "white",
            "linecolor": "white",
            "ticks": ""
           }
          },
          "scene": {
           "xaxis": {
            "backgroundcolor": "#E5ECF6",
            "gridcolor": "white",
            "gridwidth": 2,
            "linecolor": "white",
            "showbackground": true,
            "ticks": "",
            "zerolinecolor": "white"
           },
           "yaxis": {
            "backgroundcolor": "#E5ECF6",
            "gridcolor": "white",
            "gridwidth": 2,
            "linecolor": "white",
            "showbackground": true,
            "ticks": "",
            "zerolinecolor": "white"
           },
           "zaxis": {
            "backgroundcolor": "#E5ECF6",
            "gridcolor": "white",
            "gridwidth": 2,
            "linecolor": "white",
            "showbackground": true,
            "ticks": "",
            "zerolinecolor": "white"
           }
          },
          "shapedefaults": {
           "line": {
            "color": "#2a3f5f"
           }
          },
          "ternary": {
           "aaxis": {
            "gridcolor": "white",
            "linecolor": "white",
            "ticks": ""
           },
           "baxis": {
            "gridcolor": "white",
            "linecolor": "white",
            "ticks": ""
           },
           "bgcolor": "#E5ECF6",
           "caxis": {
            "gridcolor": "white",
            "linecolor": "white",
            "ticks": ""
           }
          },
          "title": {
           "x": 0.05
          },
          "xaxis": {
           "automargin": true,
           "gridcolor": "white",
           "linecolor": "white",
           "ticks": "",
           "title": {
            "standoff": 15
           },
           "zerolinecolor": "white",
           "zerolinewidth": 2
          },
          "yaxis": {
           "automargin": true,
           "gridcolor": "white",
           "linecolor": "white",
           "ticks": "",
           "title": {
            "standoff": 15
           },
           "zerolinecolor": "white",
           "zerolinewidth": 2
          }
         }
        },
        "title": {
         "text": "Histogram of Probabilities for cluster 3"
        },
        "xaxis": {
         "title": {
          "text": "Probability"
         }
        },
        "yaxis": {
         "title": {
          "text": "Count"
         }
        }
       }
      }
     },
     "metadata": {},
     "output_type": "display_data"
    },
    {
     "data": {
      "application/vnd.plotly.v1+json": {
       "config": {
        "plotlyServerURL": "https://plot.ly"
       },
       "data": [
        {
         "bingroup": "4",
         "name": "Cluster 4",
         "opacity": 0.7,
         "type": "histogram",
         "x": [
          5.740367034432468,
          5.74036707078587,
          5.740366956152717,
          5.740367034454842,
          5.740367083460278,
          5.740367089931007,
          5.740366989360682,
          5.740366979991702,
          5.740367029277966,
          5.74036706119383,
          5.7403669267245245,
          5.740367029621533,
          5.740366962477362,
          5.740367081875993,
          5.74036705757503,
          5.74036697810902,
          5.7403669956885475,
          5.740366962902766,
          5.740367049952524,
          5.740367003796099,
          5.740367050137433,
          5.740367049630637,
          5.7403670442080115,
          5.74036705845079,
          5.740367066306016,
          5.740366975405531,
          5.740367080566704,
          5.740367093330985,
          5.740367048113872,
          5.740367071870812,
          5.740367057611564,
          5.740367061293721,
          5.740366815606543,
          5.740367071679057,
          5.740367075010248,
          5.7403670491111765,
          5.740367030253278,
          5.740367066700323,
          5.740367066398395,
          5.740367083554248,
          5.74036706074569,
          5.740367063779319,
          5.740367086693064,
          5.740366997857585,
          5.740367011537013,
          5.740366871736221,
          5.740367065255357,
          5.740367033648897,
          5.740367016994448,
          5.7403670813959184,
          5.740367022218446,
          5.740367067347096,
          5.7403670138491405,
          5.740367065601065,
          5.7403670926539885,
          5.7403669882714965,
          5.740367083960221,
          5.7403670942129486
         ]
        }
       ],
       "layout": {
        "barmode": "overlay",
        "template": {
         "data": {
          "bar": [
           {
            "error_x": {
             "color": "#2a3f5f"
            },
            "error_y": {
             "color": "#2a3f5f"
            },
            "marker": {
             "line": {
              "color": "#E5ECF6",
              "width": 0.5
             },
             "pattern": {
              "fillmode": "overlay",
              "size": 10,
              "solidity": 0.2
             }
            },
            "type": "bar"
           }
          ],
          "barpolar": [
           {
            "marker": {
             "line": {
              "color": "#E5ECF6",
              "width": 0.5
             },
             "pattern": {
              "fillmode": "overlay",
              "size": 10,
              "solidity": 0.2
             }
            },
            "type": "barpolar"
           }
          ],
          "carpet": [
           {
            "aaxis": {
             "endlinecolor": "#2a3f5f",
             "gridcolor": "white",
             "linecolor": "white",
             "minorgridcolor": "white",
             "startlinecolor": "#2a3f5f"
            },
            "baxis": {
             "endlinecolor": "#2a3f5f",
             "gridcolor": "white",
             "linecolor": "white",
             "minorgridcolor": "white",
             "startlinecolor": "#2a3f5f"
            },
            "type": "carpet"
           }
          ],
          "choropleth": [
           {
            "colorbar": {
             "outlinewidth": 0,
             "ticks": ""
            },
            "type": "choropleth"
           }
          ],
          "contour": [
           {
            "colorbar": {
             "outlinewidth": 0,
             "ticks": ""
            },
            "colorscale": [
             [
              0,
              "#0d0887"
             ],
             [
              0.1111111111111111,
              "#46039f"
             ],
             [
              0.2222222222222222,
              "#7201a8"
             ],
             [
              0.3333333333333333,
              "#9c179e"
             ],
             [
              0.4444444444444444,
              "#bd3786"
             ],
             [
              0.5555555555555556,
              "#d8576b"
             ],
             [
              0.6666666666666666,
              "#ed7953"
             ],
             [
              0.7777777777777778,
              "#fb9f3a"
             ],
             [
              0.8888888888888888,
              "#fdca26"
             ],
             [
              1,
              "#f0f921"
             ]
            ],
            "type": "contour"
           }
          ],
          "contourcarpet": [
           {
            "colorbar": {
             "outlinewidth": 0,
             "ticks": ""
            },
            "type": "contourcarpet"
           }
          ],
          "heatmap": [
           {
            "colorbar": {
             "outlinewidth": 0,
             "ticks": ""
            },
            "colorscale": [
             [
              0,
              "#0d0887"
             ],
             [
              0.1111111111111111,
              "#46039f"
             ],
             [
              0.2222222222222222,
              "#7201a8"
             ],
             [
              0.3333333333333333,
              "#9c179e"
             ],
             [
              0.4444444444444444,
              "#bd3786"
             ],
             [
              0.5555555555555556,
              "#d8576b"
             ],
             [
              0.6666666666666666,
              "#ed7953"
             ],
             [
              0.7777777777777778,
              "#fb9f3a"
             ],
             [
              0.8888888888888888,
              "#fdca26"
             ],
             [
              1,
              "#f0f921"
             ]
            ],
            "type": "heatmap"
           }
          ],
          "heatmapgl": [
           {
            "colorbar": {
             "outlinewidth": 0,
             "ticks": ""
            },
            "colorscale": [
             [
              0,
              "#0d0887"
             ],
             [
              0.1111111111111111,
              "#46039f"
             ],
             [
              0.2222222222222222,
              "#7201a8"
             ],
             [
              0.3333333333333333,
              "#9c179e"
             ],
             [
              0.4444444444444444,
              "#bd3786"
             ],
             [
              0.5555555555555556,
              "#d8576b"
             ],
             [
              0.6666666666666666,
              "#ed7953"
             ],
             [
              0.7777777777777778,
              "#fb9f3a"
             ],
             [
              0.8888888888888888,
              "#fdca26"
             ],
             [
              1,
              "#f0f921"
             ]
            ],
            "type": "heatmapgl"
           }
          ],
          "histogram": [
           {
            "marker": {
             "pattern": {
              "fillmode": "overlay",
              "size": 10,
              "solidity": 0.2
             }
            },
            "type": "histogram"
           }
          ],
          "histogram2d": [
           {
            "colorbar": {
             "outlinewidth": 0,
             "ticks": ""
            },
            "colorscale": [
             [
              0,
              "#0d0887"
             ],
             [
              0.1111111111111111,
              "#46039f"
             ],
             [
              0.2222222222222222,
              "#7201a8"
             ],
             [
              0.3333333333333333,
              "#9c179e"
             ],
             [
              0.4444444444444444,
              "#bd3786"
             ],
             [
              0.5555555555555556,
              "#d8576b"
             ],
             [
              0.6666666666666666,
              "#ed7953"
             ],
             [
              0.7777777777777778,
              "#fb9f3a"
             ],
             [
              0.8888888888888888,
              "#fdca26"
             ],
             [
              1,
              "#f0f921"
             ]
            ],
            "type": "histogram2d"
           }
          ],
          "histogram2dcontour": [
           {
            "colorbar": {
             "outlinewidth": 0,
             "ticks": ""
            },
            "colorscale": [
             [
              0,
              "#0d0887"
             ],
             [
              0.1111111111111111,
              "#46039f"
             ],
             [
              0.2222222222222222,
              "#7201a8"
             ],
             [
              0.3333333333333333,
              "#9c179e"
             ],
             [
              0.4444444444444444,
              "#bd3786"
             ],
             [
              0.5555555555555556,
              "#d8576b"
             ],
             [
              0.6666666666666666,
              "#ed7953"
             ],
             [
              0.7777777777777778,
              "#fb9f3a"
             ],
             [
              0.8888888888888888,
              "#fdca26"
             ],
             [
              1,
              "#f0f921"
             ]
            ],
            "type": "histogram2dcontour"
           }
          ],
          "mesh3d": [
           {
            "colorbar": {
             "outlinewidth": 0,
             "ticks": ""
            },
            "type": "mesh3d"
           }
          ],
          "parcoords": [
           {
            "line": {
             "colorbar": {
              "outlinewidth": 0,
              "ticks": ""
             }
            },
            "type": "parcoords"
           }
          ],
          "pie": [
           {
            "automargin": true,
            "type": "pie"
           }
          ],
          "scatter": [
           {
            "fillpattern": {
             "fillmode": "overlay",
             "size": 10,
             "solidity": 0.2
            },
            "type": "scatter"
           }
          ],
          "scatter3d": [
           {
            "line": {
             "colorbar": {
              "outlinewidth": 0,
              "ticks": ""
             }
            },
            "marker": {
             "colorbar": {
              "outlinewidth": 0,
              "ticks": ""
             }
            },
            "type": "scatter3d"
           }
          ],
          "scattercarpet": [
           {
            "marker": {
             "colorbar": {
              "outlinewidth": 0,
              "ticks": ""
             }
            },
            "type": "scattercarpet"
           }
          ],
          "scattergeo": [
           {
            "marker": {
             "colorbar": {
              "outlinewidth": 0,
              "ticks": ""
             }
            },
            "type": "scattergeo"
           }
          ],
          "scattergl": [
           {
            "marker": {
             "colorbar": {
              "outlinewidth": 0,
              "ticks": ""
             }
            },
            "type": "scattergl"
           }
          ],
          "scattermapbox": [
           {
            "marker": {
             "colorbar": {
              "outlinewidth": 0,
              "ticks": ""
             }
            },
            "type": "scattermapbox"
           }
          ],
          "scatterpolar": [
           {
            "marker": {
             "colorbar": {
              "outlinewidth": 0,
              "ticks": ""
             }
            },
            "type": "scatterpolar"
           }
          ],
          "scatterpolargl": [
           {
            "marker": {
             "colorbar": {
              "outlinewidth": 0,
              "ticks": ""
             }
            },
            "type": "scatterpolargl"
           }
          ],
          "scatterternary": [
           {
            "marker": {
             "colorbar": {
              "outlinewidth": 0,
              "ticks": ""
             }
            },
            "type": "scatterternary"
           }
          ],
          "surface": [
           {
            "colorbar": {
             "outlinewidth": 0,
             "ticks": ""
            },
            "colorscale": [
             [
              0,
              "#0d0887"
             ],
             [
              0.1111111111111111,
              "#46039f"
             ],
             [
              0.2222222222222222,
              "#7201a8"
             ],
             [
              0.3333333333333333,
              "#9c179e"
             ],
             [
              0.4444444444444444,
              "#bd3786"
             ],
             [
              0.5555555555555556,
              "#d8576b"
             ],
             [
              0.6666666666666666,
              "#ed7953"
             ],
             [
              0.7777777777777778,
              "#fb9f3a"
             ],
             [
              0.8888888888888888,
              "#fdca26"
             ],
             [
              1,
              "#f0f921"
             ]
            ],
            "type": "surface"
           }
          ],
          "table": [
           {
            "cells": {
             "fill": {
              "color": "#EBF0F8"
             },
             "line": {
              "color": "white"
             }
            },
            "header": {
             "fill": {
              "color": "#C8D4E3"
             },
             "line": {
              "color": "white"
             }
            },
            "type": "table"
           }
          ]
         },
         "layout": {
          "annotationdefaults": {
           "arrowcolor": "#2a3f5f",
           "arrowhead": 0,
           "arrowwidth": 1
          },
          "autotypenumbers": "strict",
          "coloraxis": {
           "colorbar": {
            "outlinewidth": 0,
            "ticks": ""
           }
          },
          "colorscale": {
           "diverging": [
            [
             0,
             "#8e0152"
            ],
            [
             0.1,
             "#c51b7d"
            ],
            [
             0.2,
             "#de77ae"
            ],
            [
             0.3,
             "#f1b6da"
            ],
            [
             0.4,
             "#fde0ef"
            ],
            [
             0.5,
             "#f7f7f7"
            ],
            [
             0.6,
             "#e6f5d0"
            ],
            [
             0.7,
             "#b8e186"
            ],
            [
             0.8,
             "#7fbc41"
            ],
            [
             0.9,
             "#4d9221"
            ],
            [
             1,
             "#276419"
            ]
           ],
           "sequential": [
            [
             0,
             "#0d0887"
            ],
            [
             0.1111111111111111,
             "#46039f"
            ],
            [
             0.2222222222222222,
             "#7201a8"
            ],
            [
             0.3333333333333333,
             "#9c179e"
            ],
            [
             0.4444444444444444,
             "#bd3786"
            ],
            [
             0.5555555555555556,
             "#d8576b"
            ],
            [
             0.6666666666666666,
             "#ed7953"
            ],
            [
             0.7777777777777778,
             "#fb9f3a"
            ],
            [
             0.8888888888888888,
             "#fdca26"
            ],
            [
             1,
             "#f0f921"
            ]
           ],
           "sequentialminus": [
            [
             0,
             "#0d0887"
            ],
            [
             0.1111111111111111,
             "#46039f"
            ],
            [
             0.2222222222222222,
             "#7201a8"
            ],
            [
             0.3333333333333333,
             "#9c179e"
            ],
            [
             0.4444444444444444,
             "#bd3786"
            ],
            [
             0.5555555555555556,
             "#d8576b"
            ],
            [
             0.6666666666666666,
             "#ed7953"
            ],
            [
             0.7777777777777778,
             "#fb9f3a"
            ],
            [
             0.8888888888888888,
             "#fdca26"
            ],
            [
             1,
             "#f0f921"
            ]
           ]
          },
          "colorway": [
           "#636efa",
           "#EF553B",
           "#00cc96",
           "#ab63fa",
           "#FFA15A",
           "#19d3f3",
           "#FF6692",
           "#B6E880",
           "#FF97FF",
           "#FECB52"
          ],
          "font": {
           "color": "#2a3f5f"
          },
          "geo": {
           "bgcolor": "white",
           "lakecolor": "white",
           "landcolor": "#E5ECF6",
           "showlakes": true,
           "showland": true,
           "subunitcolor": "white"
          },
          "hoverlabel": {
           "align": "left"
          },
          "hovermode": "closest",
          "mapbox": {
           "style": "light"
          },
          "paper_bgcolor": "white",
          "plot_bgcolor": "#E5ECF6",
          "polar": {
           "angularaxis": {
            "gridcolor": "white",
            "linecolor": "white",
            "ticks": ""
           },
           "bgcolor": "#E5ECF6",
           "radialaxis": {
            "gridcolor": "white",
            "linecolor": "white",
            "ticks": ""
           }
          },
          "scene": {
           "xaxis": {
            "backgroundcolor": "#E5ECF6",
            "gridcolor": "white",
            "gridwidth": 2,
            "linecolor": "white",
            "showbackground": true,
            "ticks": "",
            "zerolinecolor": "white"
           },
           "yaxis": {
            "backgroundcolor": "#E5ECF6",
            "gridcolor": "white",
            "gridwidth": 2,
            "linecolor": "white",
            "showbackground": true,
            "ticks": "",
            "zerolinecolor": "white"
           },
           "zaxis": {
            "backgroundcolor": "#E5ECF6",
            "gridcolor": "white",
            "gridwidth": 2,
            "linecolor": "white",
            "showbackground": true,
            "ticks": "",
            "zerolinecolor": "white"
           }
          },
          "shapedefaults": {
           "line": {
            "color": "#2a3f5f"
           }
          },
          "ternary": {
           "aaxis": {
            "gridcolor": "white",
            "linecolor": "white",
            "ticks": ""
           },
           "baxis": {
            "gridcolor": "white",
            "linecolor": "white",
            "ticks": ""
           },
           "bgcolor": "#E5ECF6",
           "caxis": {
            "gridcolor": "white",
            "linecolor": "white",
            "ticks": ""
           }
          },
          "title": {
           "x": 0.05
          },
          "xaxis": {
           "automargin": true,
           "gridcolor": "white",
           "linecolor": "white",
           "ticks": "",
           "title": {
            "standoff": 15
           },
           "zerolinecolor": "white",
           "zerolinewidth": 2
          },
          "yaxis": {
           "automargin": true,
           "gridcolor": "white",
           "linecolor": "white",
           "ticks": "",
           "title": {
            "standoff": 15
           },
           "zerolinecolor": "white",
           "zerolinewidth": 2
          }
         }
        },
        "title": {
         "text": "Histogram of Probabilities for cluster 4"
        },
        "xaxis": {
         "title": {
          "text": "Probability"
         }
        },
        "yaxis": {
         "title": {
          "text": "Count"
         }
        }
       }
      }
     },
     "metadata": {},
     "output_type": "display_data"
    },
    {
     "data": {
      "application/vnd.plotly.v1+json": {
       "config": {
        "plotlyServerURL": "https://plot.ly"
       },
       "data": [
        {
         "bingroup": "5",
         "name": "Cluster 5",
         "opacity": 0.7,
         "type": "histogram",
         "x": [
          11.784565344546586,
          11.78456282670941,
          11.784562964004287,
          11.784562076454458,
          11.784559527875395,
          11.784562407962463,
          11.784561428949571,
          11.784563010203536,
          11.784561306846783,
          11.784560722378023,
          11.78456324087938,
          11.784562323197076,
          11.784562625151706,
          11.784559821664784,
          11.784565027966442,
          11.784563433421468,
          11.78456183897685,
          11.78456505570195,
          11.78456042786043,
          11.784564272101802,
          11.784563521152077,
          11.784564505271423,
          11.784563555153733,
          11.784564460197092,
          11.784562996827994,
          11.78456231619482,
          11.784563537372568,
          11.784561335271892,
          11.784560503077453,
          11.784560415139001,
          11.784563245946938,
          11.784560385581633,
          11.784560148350911,
          11.784564588180686,
          11.78456194916096,
          11.784557342989013,
          11.784562649509297,
          11.784564938066625,
          11.784558709037807,
          11.784561883399252,
          11.784560047953914,
          11.784556329164097,
          11.78456494805263,
          11.784561170224226,
          11.784560129216736,
          11.784560307290567,
          11.784562279691835,
          11.784563644008282,
          11.784564208212329,
          11.78456386326788,
          11.784562756305114,
          11.784560866358186,
          11.784562341849377,
          11.784561348359219,
          11.784562290915682,
          11.784562408155763,
          11.784562392854713,
          11.784560833645115,
          11.784562487237485,
          11.78456456371993,
          11.784558607719068,
          11.784560175931782,
          11.784562731446194,
          11.784561965739739,
          11.784564937757263,
          11.784561837363128,
          11.784563443770946,
          11.784560487958998,
          11.78456445612955,
          11.78456206560687,
          11.78456184996844,
          11.784564842409383,
          11.78456445446606,
          11.784563892875743,
          11.784561477834371,
          11.784563703926235,
          11.78456455868066,
          11.784564891318423,
          11.784564649368964,
          11.784564739661963,
          11.78456221084103,
          11.78456366075686,
          11.784564246311941,
          11.784563169992753,
          11.784565226486523,
          11.784559970237497,
          11.784563474643432,
          11.784560596732065,
          11.784562791941784,
          11.784563866377555,
          11.784562291825262,
          11.78456321317857,
          11.784563805007405,
          11.784561540444008,
          11.784563351041674,
          11.784564042358413,
          11.784560797680445,
          11.784564766835503,
          11.784562090430699,
          11.784564232419955,
          11.784563803791102,
          11.784563359967338,
          11.784564889985313,
          11.784562225007422,
          11.784563496520233,
          11.784563128885667,
          11.78456201161714,
          11.784560272605109,
          11.784563895129873,
          11.784563469076616,
          11.78456032305297,
          11.784561738519802,
          11.784559856525476,
          11.784557107056658,
          11.784562721417906,
          11.784562320730345,
          11.784560914661958,
          11.784564215292006,
          11.784563240056602,
          11.78456474629038,
          11.784564000248421,
          11.78456029577956,
          11.784559418094757,
          11.784563089391693,
          11.784562371125315,
          11.784560767371152,
          11.784561164515768,
          11.784563100458758,
          11.784563827450585,
          11.784561488319529,
          11.784562187915926,
          11.78456432863722,
          11.784563827308535,
          11.784564351495279
         ]
        }
       ],
       "layout": {
        "barmode": "overlay",
        "template": {
         "data": {
          "bar": [
           {
            "error_x": {
             "color": "#2a3f5f"
            },
            "error_y": {
             "color": "#2a3f5f"
            },
            "marker": {
             "line": {
              "color": "#E5ECF6",
              "width": 0.5
             },
             "pattern": {
              "fillmode": "overlay",
              "size": 10,
              "solidity": 0.2
             }
            },
            "type": "bar"
           }
          ],
          "barpolar": [
           {
            "marker": {
             "line": {
              "color": "#E5ECF6",
              "width": 0.5
             },
             "pattern": {
              "fillmode": "overlay",
              "size": 10,
              "solidity": 0.2
             }
            },
            "type": "barpolar"
           }
          ],
          "carpet": [
           {
            "aaxis": {
             "endlinecolor": "#2a3f5f",
             "gridcolor": "white",
             "linecolor": "white",
             "minorgridcolor": "white",
             "startlinecolor": "#2a3f5f"
            },
            "baxis": {
             "endlinecolor": "#2a3f5f",
             "gridcolor": "white",
             "linecolor": "white",
             "minorgridcolor": "white",
             "startlinecolor": "#2a3f5f"
            },
            "type": "carpet"
           }
          ],
          "choropleth": [
           {
            "colorbar": {
             "outlinewidth": 0,
             "ticks": ""
            },
            "type": "choropleth"
           }
          ],
          "contour": [
           {
            "colorbar": {
             "outlinewidth": 0,
             "ticks": ""
            },
            "colorscale": [
             [
              0,
              "#0d0887"
             ],
             [
              0.1111111111111111,
              "#46039f"
             ],
             [
              0.2222222222222222,
              "#7201a8"
             ],
             [
              0.3333333333333333,
              "#9c179e"
             ],
             [
              0.4444444444444444,
              "#bd3786"
             ],
             [
              0.5555555555555556,
              "#d8576b"
             ],
             [
              0.6666666666666666,
              "#ed7953"
             ],
             [
              0.7777777777777778,
              "#fb9f3a"
             ],
             [
              0.8888888888888888,
              "#fdca26"
             ],
             [
              1,
              "#f0f921"
             ]
            ],
            "type": "contour"
           }
          ],
          "contourcarpet": [
           {
            "colorbar": {
             "outlinewidth": 0,
             "ticks": ""
            },
            "type": "contourcarpet"
           }
          ],
          "heatmap": [
           {
            "colorbar": {
             "outlinewidth": 0,
             "ticks": ""
            },
            "colorscale": [
             [
              0,
              "#0d0887"
             ],
             [
              0.1111111111111111,
              "#46039f"
             ],
             [
              0.2222222222222222,
              "#7201a8"
             ],
             [
              0.3333333333333333,
              "#9c179e"
             ],
             [
              0.4444444444444444,
              "#bd3786"
             ],
             [
              0.5555555555555556,
              "#d8576b"
             ],
             [
              0.6666666666666666,
              "#ed7953"
             ],
             [
              0.7777777777777778,
              "#fb9f3a"
             ],
             [
              0.8888888888888888,
              "#fdca26"
             ],
             [
              1,
              "#f0f921"
             ]
            ],
            "type": "heatmap"
           }
          ],
          "heatmapgl": [
           {
            "colorbar": {
             "outlinewidth": 0,
             "ticks": ""
            },
            "colorscale": [
             [
              0,
              "#0d0887"
             ],
             [
              0.1111111111111111,
              "#46039f"
             ],
             [
              0.2222222222222222,
              "#7201a8"
             ],
             [
              0.3333333333333333,
              "#9c179e"
             ],
             [
              0.4444444444444444,
              "#bd3786"
             ],
             [
              0.5555555555555556,
              "#d8576b"
             ],
             [
              0.6666666666666666,
              "#ed7953"
             ],
             [
              0.7777777777777778,
              "#fb9f3a"
             ],
             [
              0.8888888888888888,
              "#fdca26"
             ],
             [
              1,
              "#f0f921"
             ]
            ],
            "type": "heatmapgl"
           }
          ],
          "histogram": [
           {
            "marker": {
             "pattern": {
              "fillmode": "overlay",
              "size": 10,
              "solidity": 0.2
             }
            },
            "type": "histogram"
           }
          ],
          "histogram2d": [
           {
            "colorbar": {
             "outlinewidth": 0,
             "ticks": ""
            },
            "colorscale": [
             [
              0,
              "#0d0887"
             ],
             [
              0.1111111111111111,
              "#46039f"
             ],
             [
              0.2222222222222222,
              "#7201a8"
             ],
             [
              0.3333333333333333,
              "#9c179e"
             ],
             [
              0.4444444444444444,
              "#bd3786"
             ],
             [
              0.5555555555555556,
              "#d8576b"
             ],
             [
              0.6666666666666666,
              "#ed7953"
             ],
             [
              0.7777777777777778,
              "#fb9f3a"
             ],
             [
              0.8888888888888888,
              "#fdca26"
             ],
             [
              1,
              "#f0f921"
             ]
            ],
            "type": "histogram2d"
           }
          ],
          "histogram2dcontour": [
           {
            "colorbar": {
             "outlinewidth": 0,
             "ticks": ""
            },
            "colorscale": [
             [
              0,
              "#0d0887"
             ],
             [
              0.1111111111111111,
              "#46039f"
             ],
             [
              0.2222222222222222,
              "#7201a8"
             ],
             [
              0.3333333333333333,
              "#9c179e"
             ],
             [
              0.4444444444444444,
              "#bd3786"
             ],
             [
              0.5555555555555556,
              "#d8576b"
             ],
             [
              0.6666666666666666,
              "#ed7953"
             ],
             [
              0.7777777777777778,
              "#fb9f3a"
             ],
             [
              0.8888888888888888,
              "#fdca26"
             ],
             [
              1,
              "#f0f921"
             ]
            ],
            "type": "histogram2dcontour"
           }
          ],
          "mesh3d": [
           {
            "colorbar": {
             "outlinewidth": 0,
             "ticks": ""
            },
            "type": "mesh3d"
           }
          ],
          "parcoords": [
           {
            "line": {
             "colorbar": {
              "outlinewidth": 0,
              "ticks": ""
             }
            },
            "type": "parcoords"
           }
          ],
          "pie": [
           {
            "automargin": true,
            "type": "pie"
           }
          ],
          "scatter": [
           {
            "fillpattern": {
             "fillmode": "overlay",
             "size": 10,
             "solidity": 0.2
            },
            "type": "scatter"
           }
          ],
          "scatter3d": [
           {
            "line": {
             "colorbar": {
              "outlinewidth": 0,
              "ticks": ""
             }
            },
            "marker": {
             "colorbar": {
              "outlinewidth": 0,
              "ticks": ""
             }
            },
            "type": "scatter3d"
           }
          ],
          "scattercarpet": [
           {
            "marker": {
             "colorbar": {
              "outlinewidth": 0,
              "ticks": ""
             }
            },
            "type": "scattercarpet"
           }
          ],
          "scattergeo": [
           {
            "marker": {
             "colorbar": {
              "outlinewidth": 0,
              "ticks": ""
             }
            },
            "type": "scattergeo"
           }
          ],
          "scattergl": [
           {
            "marker": {
             "colorbar": {
              "outlinewidth": 0,
              "ticks": ""
             }
            },
            "type": "scattergl"
           }
          ],
          "scattermapbox": [
           {
            "marker": {
             "colorbar": {
              "outlinewidth": 0,
              "ticks": ""
             }
            },
            "type": "scattermapbox"
           }
          ],
          "scatterpolar": [
           {
            "marker": {
             "colorbar": {
              "outlinewidth": 0,
              "ticks": ""
             }
            },
            "type": "scatterpolar"
           }
          ],
          "scatterpolargl": [
           {
            "marker": {
             "colorbar": {
              "outlinewidth": 0,
              "ticks": ""
             }
            },
            "type": "scatterpolargl"
           }
          ],
          "scatterternary": [
           {
            "marker": {
             "colorbar": {
              "outlinewidth": 0,
              "ticks": ""
             }
            },
            "type": "scatterternary"
           }
          ],
          "surface": [
           {
            "colorbar": {
             "outlinewidth": 0,
             "ticks": ""
            },
            "colorscale": [
             [
              0,
              "#0d0887"
             ],
             [
              0.1111111111111111,
              "#46039f"
             ],
             [
              0.2222222222222222,
              "#7201a8"
             ],
             [
              0.3333333333333333,
              "#9c179e"
             ],
             [
              0.4444444444444444,
              "#bd3786"
             ],
             [
              0.5555555555555556,
              "#d8576b"
             ],
             [
              0.6666666666666666,
              "#ed7953"
             ],
             [
              0.7777777777777778,
              "#fb9f3a"
             ],
             [
              0.8888888888888888,
              "#fdca26"
             ],
             [
              1,
              "#f0f921"
             ]
            ],
            "type": "surface"
           }
          ],
          "table": [
           {
            "cells": {
             "fill": {
              "color": "#EBF0F8"
             },
             "line": {
              "color": "white"
             }
            },
            "header": {
             "fill": {
              "color": "#C8D4E3"
             },
             "line": {
              "color": "white"
             }
            },
            "type": "table"
           }
          ]
         },
         "layout": {
          "annotationdefaults": {
           "arrowcolor": "#2a3f5f",
           "arrowhead": 0,
           "arrowwidth": 1
          },
          "autotypenumbers": "strict",
          "coloraxis": {
           "colorbar": {
            "outlinewidth": 0,
            "ticks": ""
           }
          },
          "colorscale": {
           "diverging": [
            [
             0,
             "#8e0152"
            ],
            [
             0.1,
             "#c51b7d"
            ],
            [
             0.2,
             "#de77ae"
            ],
            [
             0.3,
             "#f1b6da"
            ],
            [
             0.4,
             "#fde0ef"
            ],
            [
             0.5,
             "#f7f7f7"
            ],
            [
             0.6,
             "#e6f5d0"
            ],
            [
             0.7,
             "#b8e186"
            ],
            [
             0.8,
             "#7fbc41"
            ],
            [
             0.9,
             "#4d9221"
            ],
            [
             1,
             "#276419"
            ]
           ],
           "sequential": [
            [
             0,
             "#0d0887"
            ],
            [
             0.1111111111111111,
             "#46039f"
            ],
            [
             0.2222222222222222,
             "#7201a8"
            ],
            [
             0.3333333333333333,
             "#9c179e"
            ],
            [
             0.4444444444444444,
             "#bd3786"
            ],
            [
             0.5555555555555556,
             "#d8576b"
            ],
            [
             0.6666666666666666,
             "#ed7953"
            ],
            [
             0.7777777777777778,
             "#fb9f3a"
            ],
            [
             0.8888888888888888,
             "#fdca26"
            ],
            [
             1,
             "#f0f921"
            ]
           ],
           "sequentialminus": [
            [
             0,
             "#0d0887"
            ],
            [
             0.1111111111111111,
             "#46039f"
            ],
            [
             0.2222222222222222,
             "#7201a8"
            ],
            [
             0.3333333333333333,
             "#9c179e"
            ],
            [
             0.4444444444444444,
             "#bd3786"
            ],
            [
             0.5555555555555556,
             "#d8576b"
            ],
            [
             0.6666666666666666,
             "#ed7953"
            ],
            [
             0.7777777777777778,
             "#fb9f3a"
            ],
            [
             0.8888888888888888,
             "#fdca26"
            ],
            [
             1,
             "#f0f921"
            ]
           ]
          },
          "colorway": [
           "#636efa",
           "#EF553B",
           "#00cc96",
           "#ab63fa",
           "#FFA15A",
           "#19d3f3",
           "#FF6692",
           "#B6E880",
           "#FF97FF",
           "#FECB52"
          ],
          "font": {
           "color": "#2a3f5f"
          },
          "geo": {
           "bgcolor": "white",
           "lakecolor": "white",
           "landcolor": "#E5ECF6",
           "showlakes": true,
           "showland": true,
           "subunitcolor": "white"
          },
          "hoverlabel": {
           "align": "left"
          },
          "hovermode": "closest",
          "mapbox": {
           "style": "light"
          },
          "paper_bgcolor": "white",
          "plot_bgcolor": "#E5ECF6",
          "polar": {
           "angularaxis": {
            "gridcolor": "white",
            "linecolor": "white",
            "ticks": ""
           },
           "bgcolor": "#E5ECF6",
           "radialaxis": {
            "gridcolor": "white",
            "linecolor": "white",
            "ticks": ""
           }
          },
          "scene": {
           "xaxis": {
            "backgroundcolor": "#E5ECF6",
            "gridcolor": "white",
            "gridwidth": 2,
            "linecolor": "white",
            "showbackground": true,
            "ticks": "",
            "zerolinecolor": "white"
           },
           "yaxis": {
            "backgroundcolor": "#E5ECF6",
            "gridcolor": "white",
            "gridwidth": 2,
            "linecolor": "white",
            "showbackground": true,
            "ticks": "",
            "zerolinecolor": "white"
           },
           "zaxis": {
            "backgroundcolor": "#E5ECF6",
            "gridcolor": "white",
            "gridwidth": 2,
            "linecolor": "white",
            "showbackground": true,
            "ticks": "",
            "zerolinecolor": "white"
           }
          },
          "shapedefaults": {
           "line": {
            "color": "#2a3f5f"
           }
          },
          "ternary": {
           "aaxis": {
            "gridcolor": "white",
            "linecolor": "white",
            "ticks": ""
           },
           "baxis": {
            "gridcolor": "white",
            "linecolor": "white",
            "ticks": ""
           },
           "bgcolor": "#E5ECF6",
           "caxis": {
            "gridcolor": "white",
            "linecolor": "white",
            "ticks": ""
           }
          },
          "title": {
           "x": 0.05
          },
          "xaxis": {
           "automargin": true,
           "gridcolor": "white",
           "linecolor": "white",
           "ticks": "",
           "title": {
            "standoff": 15
           },
           "zerolinecolor": "white",
           "zerolinewidth": 2
          },
          "yaxis": {
           "automargin": true,
           "gridcolor": "white",
           "linecolor": "white",
           "ticks": "",
           "title": {
            "standoff": 15
           },
           "zerolinecolor": "white",
           "zerolinewidth": 2
          }
         }
        },
        "title": {
         "text": "Histogram of Probabilities for cluster 5"
        },
        "xaxis": {
         "title": {
          "text": "Probability"
         }
        },
        "yaxis": {
         "title": {
          "text": "Count"
         }
        }
       }
      }
     },
     "metadata": {},
     "output_type": "display_data"
    },
    {
     "data": {
      "application/vnd.plotly.v1+json": {
       "config": {
        "plotlyServerURL": "https://plot.ly"
       },
       "data": [
        {
         "bingroup": "6",
         "name": "Cluster 6",
         "opacity": 0.7,
         "type": "histogram",
         "x": [
          16.636086280954984,
          16.63607161925209,
          16.63607246807633,
          16.636078520431276,
          16.636097421327463,
          16.636093830196973,
          16.63608539571454,
          16.636084820799024,
          16.63608182105734,
          16.636072208924112,
          16.63607745380659,
          16.636066283135698,
          16.636089364715797,
          16.636095247265377,
          16.636095739876755,
          16.636095822809782,
          16.63608957897065,
          16.636087114697954,
          16.636056345119588,
          16.63609866908891,
          16.636042735724264,
          16.63609748543516,
          16.636076959955293,
          16.636096292761184,
          16.636067803952418,
          16.63609461312524,
          16.636082233379252,
          16.6360975243715,
          16.63604319051818,
          16.63609043356902,
          16.63608120969143,
          16.63609404474033,
          16.63608075965688,
          16.63608614434923,
          16.636093166376252,
          16.636092967696246,
          16.636068602097165,
          16.63609480037503,
          16.63609491118834,
          16.63609030470968,
          16.636098279388065,
          16.636097766861507,
          16.636097493928624,
          16.6360963858601,
          16.63609492232185,
          16.636097378735666,
          16.63609374782394,
          16.636092383426146,
          16.636095706411723,
          16.636065887752824,
          16.636047292229634,
          16.63606660992497,
          16.636011265700233,
          16.636090428467774,
          16.63608561826046,
          16.636077023175115,
          16.636060608940575,
          16.636047282727457,
          16.63609071483586,
          16.636078433151912,
          16.636048730994034,
          16.636077021135222,
          16.63609273347311,
          16.636061786994954,
          16.636087038151135,
          16.636085977986756,
          16.636067793954695,
          16.63607465233498,
          16.63609053669099,
          16.636041820932412,
          16.63609291791544,
          16.63609562585427,
          16.636086281365102,
          16.63608519838622,
          16.636075618063856,
          16.63606996329949,
          16.63609410891488,
          16.636073008474426,
          16.636096635216862,
          16.636092018157072,
          16.636088327117818,
          16.636083549956997,
          16.636093662175377,
          16.636085078775164,
          16.63609842560089,
          16.63609384317159,
          16.636082647875785,
          16.63605637585345,
          16.6360838830869,
          16.636089383316776,
          16.636077018745937,
          16.636091347310142,
          16.636088740439796,
          16.636075590843454,
          16.636088472786,
          16.636080035281203,
          16.63608754027716,
          16.636090555938818,
          16.636091825998484,
          16.63605048041592,
          16.636091689097615,
          16.636078678843504,
          16.63607525277353,
          16.636083466878272,
          16.63609197107395,
          16.636076942179837,
          16.63609445429055,
          16.6360845964934,
          16.63609685716467,
          16.636091884662793,
          16.63609180241426,
          16.63608142710802,
          16.63606529428728,
          16.636096177750844,
          16.636093161988402,
          16.636091784323835,
          16.636063978187973,
          16.636074061887953,
          16.636097846340856,
          16.636075343510917,
          16.636097702580678,
          16.63609627947552,
          16.636084011267627,
          16.636068131745724,
          16.63609098072588,
          16.63603253428075,
          16.636085539157143,
          16.636052487764374,
          16.636085253478498,
          16.636081713978573,
          16.636083330916282,
          16.636095215613636,
          16.63608935428207,
          16.63609338278806,
          16.636091218715666,
          16.636067866256745,
          16.636082533892708,
          16.636090943403865,
          16.63606062132751,
          16.636091060790093,
          16.63609677625625,
          16.636089437196485,
          16.636088401985248,
          16.63609508953995,
          16.636074523452695,
          16.636069506741215,
          16.636042871794363,
          16.636093347255333,
          16.636090157266736,
          16.63607570249205,
          16.63604442553916,
          16.636085657072083,
          16.636062229411976,
          16.636082955265426,
          16.636094871935658,
          16.636079071600843,
          16.636094024882915,
          16.63609625291119,
          16.6360667218326,
          16.63608523260116,
          16.636093329539598,
          16.63609656547092,
          16.636082710689877,
          16.636082516878016,
          16.636069313197783,
          16.636086328396722,
          16.636087415323505,
          16.63605838501487,
          16.63606758108148,
          16.6360566838262,
          16.636087767057663,
          16.636076153506565,
          16.636082463866792,
          16.63608324451825,
          16.636098008827187,
          16.636091749337425,
          16.636089579721727,
          16.63609704355273,
          16.63609625175817,
          16.636078793362785,
          16.63608956603478,
          16.636097416670058,
          16.63609016279652,
          16.636069699448658,
          16.63606295108328,
          16.636066937185156,
          16.636059393852232,
          16.6360305299715,
          16.63605731331734,
          16.636040007965875,
          16.636097490838385,
          16.636090944801946,
          16.636088708456096,
          16.636094195169953
         ]
        }
       ],
       "layout": {
        "barmode": "overlay",
        "template": {
         "data": {
          "bar": [
           {
            "error_x": {
             "color": "#2a3f5f"
            },
            "error_y": {
             "color": "#2a3f5f"
            },
            "marker": {
             "line": {
              "color": "#E5ECF6",
              "width": 0.5
             },
             "pattern": {
              "fillmode": "overlay",
              "size": 10,
              "solidity": 0.2
             }
            },
            "type": "bar"
           }
          ],
          "barpolar": [
           {
            "marker": {
             "line": {
              "color": "#E5ECF6",
              "width": 0.5
             },
             "pattern": {
              "fillmode": "overlay",
              "size": 10,
              "solidity": 0.2
             }
            },
            "type": "barpolar"
           }
          ],
          "carpet": [
           {
            "aaxis": {
             "endlinecolor": "#2a3f5f",
             "gridcolor": "white",
             "linecolor": "white",
             "minorgridcolor": "white",
             "startlinecolor": "#2a3f5f"
            },
            "baxis": {
             "endlinecolor": "#2a3f5f",
             "gridcolor": "white",
             "linecolor": "white",
             "minorgridcolor": "white",
             "startlinecolor": "#2a3f5f"
            },
            "type": "carpet"
           }
          ],
          "choropleth": [
           {
            "colorbar": {
             "outlinewidth": 0,
             "ticks": ""
            },
            "type": "choropleth"
           }
          ],
          "contour": [
           {
            "colorbar": {
             "outlinewidth": 0,
             "ticks": ""
            },
            "colorscale": [
             [
              0,
              "#0d0887"
             ],
             [
              0.1111111111111111,
              "#46039f"
             ],
             [
              0.2222222222222222,
              "#7201a8"
             ],
             [
              0.3333333333333333,
              "#9c179e"
             ],
             [
              0.4444444444444444,
              "#bd3786"
             ],
             [
              0.5555555555555556,
              "#d8576b"
             ],
             [
              0.6666666666666666,
              "#ed7953"
             ],
             [
              0.7777777777777778,
              "#fb9f3a"
             ],
             [
              0.8888888888888888,
              "#fdca26"
             ],
             [
              1,
              "#f0f921"
             ]
            ],
            "type": "contour"
           }
          ],
          "contourcarpet": [
           {
            "colorbar": {
             "outlinewidth": 0,
             "ticks": ""
            },
            "type": "contourcarpet"
           }
          ],
          "heatmap": [
           {
            "colorbar": {
             "outlinewidth": 0,
             "ticks": ""
            },
            "colorscale": [
             [
              0,
              "#0d0887"
             ],
             [
              0.1111111111111111,
              "#46039f"
             ],
             [
              0.2222222222222222,
              "#7201a8"
             ],
             [
              0.3333333333333333,
              "#9c179e"
             ],
             [
              0.4444444444444444,
              "#bd3786"
             ],
             [
              0.5555555555555556,
              "#d8576b"
             ],
             [
              0.6666666666666666,
              "#ed7953"
             ],
             [
              0.7777777777777778,
              "#fb9f3a"
             ],
             [
              0.8888888888888888,
              "#fdca26"
             ],
             [
              1,
              "#f0f921"
             ]
            ],
            "type": "heatmap"
           }
          ],
          "heatmapgl": [
           {
            "colorbar": {
             "outlinewidth": 0,
             "ticks": ""
            },
            "colorscale": [
             [
              0,
              "#0d0887"
             ],
             [
              0.1111111111111111,
              "#46039f"
             ],
             [
              0.2222222222222222,
              "#7201a8"
             ],
             [
              0.3333333333333333,
              "#9c179e"
             ],
             [
              0.4444444444444444,
              "#bd3786"
             ],
             [
              0.5555555555555556,
              "#d8576b"
             ],
             [
              0.6666666666666666,
              "#ed7953"
             ],
             [
              0.7777777777777778,
              "#fb9f3a"
             ],
             [
              0.8888888888888888,
              "#fdca26"
             ],
             [
              1,
              "#f0f921"
             ]
            ],
            "type": "heatmapgl"
           }
          ],
          "histogram": [
           {
            "marker": {
             "pattern": {
              "fillmode": "overlay",
              "size": 10,
              "solidity": 0.2
             }
            },
            "type": "histogram"
           }
          ],
          "histogram2d": [
           {
            "colorbar": {
             "outlinewidth": 0,
             "ticks": ""
            },
            "colorscale": [
             [
              0,
              "#0d0887"
             ],
             [
              0.1111111111111111,
              "#46039f"
             ],
             [
              0.2222222222222222,
              "#7201a8"
             ],
             [
              0.3333333333333333,
              "#9c179e"
             ],
             [
              0.4444444444444444,
              "#bd3786"
             ],
             [
              0.5555555555555556,
              "#d8576b"
             ],
             [
              0.6666666666666666,
              "#ed7953"
             ],
             [
              0.7777777777777778,
              "#fb9f3a"
             ],
             [
              0.8888888888888888,
              "#fdca26"
             ],
             [
              1,
              "#f0f921"
             ]
            ],
            "type": "histogram2d"
           }
          ],
          "histogram2dcontour": [
           {
            "colorbar": {
             "outlinewidth": 0,
             "ticks": ""
            },
            "colorscale": [
             [
              0,
              "#0d0887"
             ],
             [
              0.1111111111111111,
              "#46039f"
             ],
             [
              0.2222222222222222,
              "#7201a8"
             ],
             [
              0.3333333333333333,
              "#9c179e"
             ],
             [
              0.4444444444444444,
              "#bd3786"
             ],
             [
              0.5555555555555556,
              "#d8576b"
             ],
             [
              0.6666666666666666,
              "#ed7953"
             ],
             [
              0.7777777777777778,
              "#fb9f3a"
             ],
             [
              0.8888888888888888,
              "#fdca26"
             ],
             [
              1,
              "#f0f921"
             ]
            ],
            "type": "histogram2dcontour"
           }
          ],
          "mesh3d": [
           {
            "colorbar": {
             "outlinewidth": 0,
             "ticks": ""
            },
            "type": "mesh3d"
           }
          ],
          "parcoords": [
           {
            "line": {
             "colorbar": {
              "outlinewidth": 0,
              "ticks": ""
             }
            },
            "type": "parcoords"
           }
          ],
          "pie": [
           {
            "automargin": true,
            "type": "pie"
           }
          ],
          "scatter": [
           {
            "fillpattern": {
             "fillmode": "overlay",
             "size": 10,
             "solidity": 0.2
            },
            "type": "scatter"
           }
          ],
          "scatter3d": [
           {
            "line": {
             "colorbar": {
              "outlinewidth": 0,
              "ticks": ""
             }
            },
            "marker": {
             "colorbar": {
              "outlinewidth": 0,
              "ticks": ""
             }
            },
            "type": "scatter3d"
           }
          ],
          "scattercarpet": [
           {
            "marker": {
             "colorbar": {
              "outlinewidth": 0,
              "ticks": ""
             }
            },
            "type": "scattercarpet"
           }
          ],
          "scattergeo": [
           {
            "marker": {
             "colorbar": {
              "outlinewidth": 0,
              "ticks": ""
             }
            },
            "type": "scattergeo"
           }
          ],
          "scattergl": [
           {
            "marker": {
             "colorbar": {
              "outlinewidth": 0,
              "ticks": ""
             }
            },
            "type": "scattergl"
           }
          ],
          "scattermapbox": [
           {
            "marker": {
             "colorbar": {
              "outlinewidth": 0,
              "ticks": ""
             }
            },
            "type": "scattermapbox"
           }
          ],
          "scatterpolar": [
           {
            "marker": {
             "colorbar": {
              "outlinewidth": 0,
              "ticks": ""
             }
            },
            "type": "scatterpolar"
           }
          ],
          "scatterpolargl": [
           {
            "marker": {
             "colorbar": {
              "outlinewidth": 0,
              "ticks": ""
             }
            },
            "type": "scatterpolargl"
           }
          ],
          "scatterternary": [
           {
            "marker": {
             "colorbar": {
              "outlinewidth": 0,
              "ticks": ""
             }
            },
            "type": "scatterternary"
           }
          ],
          "surface": [
           {
            "colorbar": {
             "outlinewidth": 0,
             "ticks": ""
            },
            "colorscale": [
             [
              0,
              "#0d0887"
             ],
             [
              0.1111111111111111,
              "#46039f"
             ],
             [
              0.2222222222222222,
              "#7201a8"
             ],
             [
              0.3333333333333333,
              "#9c179e"
             ],
             [
              0.4444444444444444,
              "#bd3786"
             ],
             [
              0.5555555555555556,
              "#d8576b"
             ],
             [
              0.6666666666666666,
              "#ed7953"
             ],
             [
              0.7777777777777778,
              "#fb9f3a"
             ],
             [
              0.8888888888888888,
              "#fdca26"
             ],
             [
              1,
              "#f0f921"
             ]
            ],
            "type": "surface"
           }
          ],
          "table": [
           {
            "cells": {
             "fill": {
              "color": "#EBF0F8"
             },
             "line": {
              "color": "white"
             }
            },
            "header": {
             "fill": {
              "color": "#C8D4E3"
             },
             "line": {
              "color": "white"
             }
            },
            "type": "table"
           }
          ]
         },
         "layout": {
          "annotationdefaults": {
           "arrowcolor": "#2a3f5f",
           "arrowhead": 0,
           "arrowwidth": 1
          },
          "autotypenumbers": "strict",
          "coloraxis": {
           "colorbar": {
            "outlinewidth": 0,
            "ticks": ""
           }
          },
          "colorscale": {
           "diverging": [
            [
             0,
             "#8e0152"
            ],
            [
             0.1,
             "#c51b7d"
            ],
            [
             0.2,
             "#de77ae"
            ],
            [
             0.3,
             "#f1b6da"
            ],
            [
             0.4,
             "#fde0ef"
            ],
            [
             0.5,
             "#f7f7f7"
            ],
            [
             0.6,
             "#e6f5d0"
            ],
            [
             0.7,
             "#b8e186"
            ],
            [
             0.8,
             "#7fbc41"
            ],
            [
             0.9,
             "#4d9221"
            ],
            [
             1,
             "#276419"
            ]
           ],
           "sequential": [
            [
             0,
             "#0d0887"
            ],
            [
             0.1111111111111111,
             "#46039f"
            ],
            [
             0.2222222222222222,
             "#7201a8"
            ],
            [
             0.3333333333333333,
             "#9c179e"
            ],
            [
             0.4444444444444444,
             "#bd3786"
            ],
            [
             0.5555555555555556,
             "#d8576b"
            ],
            [
             0.6666666666666666,
             "#ed7953"
            ],
            [
             0.7777777777777778,
             "#fb9f3a"
            ],
            [
             0.8888888888888888,
             "#fdca26"
            ],
            [
             1,
             "#f0f921"
            ]
           ],
           "sequentialminus": [
            [
             0,
             "#0d0887"
            ],
            [
             0.1111111111111111,
             "#46039f"
            ],
            [
             0.2222222222222222,
             "#7201a8"
            ],
            [
             0.3333333333333333,
             "#9c179e"
            ],
            [
             0.4444444444444444,
             "#bd3786"
            ],
            [
             0.5555555555555556,
             "#d8576b"
            ],
            [
             0.6666666666666666,
             "#ed7953"
            ],
            [
             0.7777777777777778,
             "#fb9f3a"
            ],
            [
             0.8888888888888888,
             "#fdca26"
            ],
            [
             1,
             "#f0f921"
            ]
           ]
          },
          "colorway": [
           "#636efa",
           "#EF553B",
           "#00cc96",
           "#ab63fa",
           "#FFA15A",
           "#19d3f3",
           "#FF6692",
           "#B6E880",
           "#FF97FF",
           "#FECB52"
          ],
          "font": {
           "color": "#2a3f5f"
          },
          "geo": {
           "bgcolor": "white",
           "lakecolor": "white",
           "landcolor": "#E5ECF6",
           "showlakes": true,
           "showland": true,
           "subunitcolor": "white"
          },
          "hoverlabel": {
           "align": "left"
          },
          "hovermode": "closest",
          "mapbox": {
           "style": "light"
          },
          "paper_bgcolor": "white",
          "plot_bgcolor": "#E5ECF6",
          "polar": {
           "angularaxis": {
            "gridcolor": "white",
            "linecolor": "white",
            "ticks": ""
           },
           "bgcolor": "#E5ECF6",
           "radialaxis": {
            "gridcolor": "white",
            "linecolor": "white",
            "ticks": ""
           }
          },
          "scene": {
           "xaxis": {
            "backgroundcolor": "#E5ECF6",
            "gridcolor": "white",
            "gridwidth": 2,
            "linecolor": "white",
            "showbackground": true,
            "ticks": "",
            "zerolinecolor": "white"
           },
           "yaxis": {
            "backgroundcolor": "#E5ECF6",
            "gridcolor": "white",
            "gridwidth": 2,
            "linecolor": "white",
            "showbackground": true,
            "ticks": "",
            "zerolinecolor": "white"
           },
           "zaxis": {
            "backgroundcolor": "#E5ECF6",
            "gridcolor": "white",
            "gridwidth": 2,
            "linecolor": "white",
            "showbackground": true,
            "ticks": "",
            "zerolinecolor": "white"
           }
          },
          "shapedefaults": {
           "line": {
            "color": "#2a3f5f"
           }
          },
          "ternary": {
           "aaxis": {
            "gridcolor": "white",
            "linecolor": "white",
            "ticks": ""
           },
           "baxis": {
            "gridcolor": "white",
            "linecolor": "white",
            "ticks": ""
           },
           "bgcolor": "#E5ECF6",
           "caxis": {
            "gridcolor": "white",
            "linecolor": "white",
            "ticks": ""
           }
          },
          "title": {
           "x": 0.05
          },
          "xaxis": {
           "automargin": true,
           "gridcolor": "white",
           "linecolor": "white",
           "ticks": "",
           "title": {
            "standoff": 15
           },
           "zerolinecolor": "white",
           "zerolinewidth": 2
          },
          "yaxis": {
           "automargin": true,
           "gridcolor": "white",
           "linecolor": "white",
           "ticks": "",
           "title": {
            "standoff": 15
           },
           "zerolinecolor": "white",
           "zerolinewidth": 2
          }
         }
        },
        "title": {
         "text": "Histogram of Probabilities for cluster 6"
        },
        "xaxis": {
         "title": {
          "text": "Probability"
         }
        },
        "yaxis": {
         "title": {
          "text": "Count"
         }
        }
       }
      }
     },
     "metadata": {},
     "output_type": "display_data"
    },
    {
     "data": {
      "application/vnd.plotly.v1+json": {
       "config": {
        "plotlyServerURL": "https://plot.ly"
       },
       "data": [
        {
         "bingroup": "7",
         "name": "Cluster 7",
         "opacity": 0.7,
         "type": "histogram",
         "x": [
          1.1724816036135346,
          1.172481602851888,
          1.172481600659518,
          1.1724816010182169,
          1.1724816042840072,
          1.1724815999217677,
          1.1724816044293231,
          1.1724815999230946,
          1.1724815999745153,
          1.17248160032647,
          1.1724816032834908,
          1.1724815974543565,
          1.1724815952879903
         ]
        }
       ],
       "layout": {
        "barmode": "overlay",
        "template": {
         "data": {
          "bar": [
           {
            "error_x": {
             "color": "#2a3f5f"
            },
            "error_y": {
             "color": "#2a3f5f"
            },
            "marker": {
             "line": {
              "color": "#E5ECF6",
              "width": 0.5
             },
             "pattern": {
              "fillmode": "overlay",
              "size": 10,
              "solidity": 0.2
             }
            },
            "type": "bar"
           }
          ],
          "barpolar": [
           {
            "marker": {
             "line": {
              "color": "#E5ECF6",
              "width": 0.5
             },
             "pattern": {
              "fillmode": "overlay",
              "size": 10,
              "solidity": 0.2
             }
            },
            "type": "barpolar"
           }
          ],
          "carpet": [
           {
            "aaxis": {
             "endlinecolor": "#2a3f5f",
             "gridcolor": "white",
             "linecolor": "white",
             "minorgridcolor": "white",
             "startlinecolor": "#2a3f5f"
            },
            "baxis": {
             "endlinecolor": "#2a3f5f",
             "gridcolor": "white",
             "linecolor": "white",
             "minorgridcolor": "white",
             "startlinecolor": "#2a3f5f"
            },
            "type": "carpet"
           }
          ],
          "choropleth": [
           {
            "colorbar": {
             "outlinewidth": 0,
             "ticks": ""
            },
            "type": "choropleth"
           }
          ],
          "contour": [
           {
            "colorbar": {
             "outlinewidth": 0,
             "ticks": ""
            },
            "colorscale": [
             [
              0,
              "#0d0887"
             ],
             [
              0.1111111111111111,
              "#46039f"
             ],
             [
              0.2222222222222222,
              "#7201a8"
             ],
             [
              0.3333333333333333,
              "#9c179e"
             ],
             [
              0.4444444444444444,
              "#bd3786"
             ],
             [
              0.5555555555555556,
              "#d8576b"
             ],
             [
              0.6666666666666666,
              "#ed7953"
             ],
             [
              0.7777777777777778,
              "#fb9f3a"
             ],
             [
              0.8888888888888888,
              "#fdca26"
             ],
             [
              1,
              "#f0f921"
             ]
            ],
            "type": "contour"
           }
          ],
          "contourcarpet": [
           {
            "colorbar": {
             "outlinewidth": 0,
             "ticks": ""
            },
            "type": "contourcarpet"
           }
          ],
          "heatmap": [
           {
            "colorbar": {
             "outlinewidth": 0,
             "ticks": ""
            },
            "colorscale": [
             [
              0,
              "#0d0887"
             ],
             [
              0.1111111111111111,
              "#46039f"
             ],
             [
              0.2222222222222222,
              "#7201a8"
             ],
             [
              0.3333333333333333,
              "#9c179e"
             ],
             [
              0.4444444444444444,
              "#bd3786"
             ],
             [
              0.5555555555555556,
              "#d8576b"
             ],
             [
              0.6666666666666666,
              "#ed7953"
             ],
             [
              0.7777777777777778,
              "#fb9f3a"
             ],
             [
              0.8888888888888888,
              "#fdca26"
             ],
             [
              1,
              "#f0f921"
             ]
            ],
            "type": "heatmap"
           }
          ],
          "heatmapgl": [
           {
            "colorbar": {
             "outlinewidth": 0,
             "ticks": ""
            },
            "colorscale": [
             [
              0,
              "#0d0887"
             ],
             [
              0.1111111111111111,
              "#46039f"
             ],
             [
              0.2222222222222222,
              "#7201a8"
             ],
             [
              0.3333333333333333,
              "#9c179e"
             ],
             [
              0.4444444444444444,
              "#bd3786"
             ],
             [
              0.5555555555555556,
              "#d8576b"
             ],
             [
              0.6666666666666666,
              "#ed7953"
             ],
             [
              0.7777777777777778,
              "#fb9f3a"
             ],
             [
              0.8888888888888888,
              "#fdca26"
             ],
             [
              1,
              "#f0f921"
             ]
            ],
            "type": "heatmapgl"
           }
          ],
          "histogram": [
           {
            "marker": {
             "pattern": {
              "fillmode": "overlay",
              "size": 10,
              "solidity": 0.2
             }
            },
            "type": "histogram"
           }
          ],
          "histogram2d": [
           {
            "colorbar": {
             "outlinewidth": 0,
             "ticks": ""
            },
            "colorscale": [
             [
              0,
              "#0d0887"
             ],
             [
              0.1111111111111111,
              "#46039f"
             ],
             [
              0.2222222222222222,
              "#7201a8"
             ],
             [
              0.3333333333333333,
              "#9c179e"
             ],
             [
              0.4444444444444444,
              "#bd3786"
             ],
             [
              0.5555555555555556,
              "#d8576b"
             ],
             [
              0.6666666666666666,
              "#ed7953"
             ],
             [
              0.7777777777777778,
              "#fb9f3a"
             ],
             [
              0.8888888888888888,
              "#fdca26"
             ],
             [
              1,
              "#f0f921"
             ]
            ],
            "type": "histogram2d"
           }
          ],
          "histogram2dcontour": [
           {
            "colorbar": {
             "outlinewidth": 0,
             "ticks": ""
            },
            "colorscale": [
             [
              0,
              "#0d0887"
             ],
             [
              0.1111111111111111,
              "#46039f"
             ],
             [
              0.2222222222222222,
              "#7201a8"
             ],
             [
              0.3333333333333333,
              "#9c179e"
             ],
             [
              0.4444444444444444,
              "#bd3786"
             ],
             [
              0.5555555555555556,
              "#d8576b"
             ],
             [
              0.6666666666666666,
              "#ed7953"
             ],
             [
              0.7777777777777778,
              "#fb9f3a"
             ],
             [
              0.8888888888888888,
              "#fdca26"
             ],
             [
              1,
              "#f0f921"
             ]
            ],
            "type": "histogram2dcontour"
           }
          ],
          "mesh3d": [
           {
            "colorbar": {
             "outlinewidth": 0,
             "ticks": ""
            },
            "type": "mesh3d"
           }
          ],
          "parcoords": [
           {
            "line": {
             "colorbar": {
              "outlinewidth": 0,
              "ticks": ""
             }
            },
            "type": "parcoords"
           }
          ],
          "pie": [
           {
            "automargin": true,
            "type": "pie"
           }
          ],
          "scatter": [
           {
            "fillpattern": {
             "fillmode": "overlay",
             "size": 10,
             "solidity": 0.2
            },
            "type": "scatter"
           }
          ],
          "scatter3d": [
           {
            "line": {
             "colorbar": {
              "outlinewidth": 0,
              "ticks": ""
             }
            },
            "marker": {
             "colorbar": {
              "outlinewidth": 0,
              "ticks": ""
             }
            },
            "type": "scatter3d"
           }
          ],
          "scattercarpet": [
           {
            "marker": {
             "colorbar": {
              "outlinewidth": 0,
              "ticks": ""
             }
            },
            "type": "scattercarpet"
           }
          ],
          "scattergeo": [
           {
            "marker": {
             "colorbar": {
              "outlinewidth": 0,
              "ticks": ""
             }
            },
            "type": "scattergeo"
           }
          ],
          "scattergl": [
           {
            "marker": {
             "colorbar": {
              "outlinewidth": 0,
              "ticks": ""
             }
            },
            "type": "scattergl"
           }
          ],
          "scattermapbox": [
           {
            "marker": {
             "colorbar": {
              "outlinewidth": 0,
              "ticks": ""
             }
            },
            "type": "scattermapbox"
           }
          ],
          "scatterpolar": [
           {
            "marker": {
             "colorbar": {
              "outlinewidth": 0,
              "ticks": ""
             }
            },
            "type": "scatterpolar"
           }
          ],
          "scatterpolargl": [
           {
            "marker": {
             "colorbar": {
              "outlinewidth": 0,
              "ticks": ""
             }
            },
            "type": "scatterpolargl"
           }
          ],
          "scatterternary": [
           {
            "marker": {
             "colorbar": {
              "outlinewidth": 0,
              "ticks": ""
             }
            },
            "type": "scatterternary"
           }
          ],
          "surface": [
           {
            "colorbar": {
             "outlinewidth": 0,
             "ticks": ""
            },
            "colorscale": [
             [
              0,
              "#0d0887"
             ],
             [
              0.1111111111111111,
              "#46039f"
             ],
             [
              0.2222222222222222,
              "#7201a8"
             ],
             [
              0.3333333333333333,
              "#9c179e"
             ],
             [
              0.4444444444444444,
              "#bd3786"
             ],
             [
              0.5555555555555556,
              "#d8576b"
             ],
             [
              0.6666666666666666,
              "#ed7953"
             ],
             [
              0.7777777777777778,
              "#fb9f3a"
             ],
             [
              0.8888888888888888,
              "#fdca26"
             ],
             [
              1,
              "#f0f921"
             ]
            ],
            "type": "surface"
           }
          ],
          "table": [
           {
            "cells": {
             "fill": {
              "color": "#EBF0F8"
             },
             "line": {
              "color": "white"
             }
            },
            "header": {
             "fill": {
              "color": "#C8D4E3"
             },
             "line": {
              "color": "white"
             }
            },
            "type": "table"
           }
          ]
         },
         "layout": {
          "annotationdefaults": {
           "arrowcolor": "#2a3f5f",
           "arrowhead": 0,
           "arrowwidth": 1
          },
          "autotypenumbers": "strict",
          "coloraxis": {
           "colorbar": {
            "outlinewidth": 0,
            "ticks": ""
           }
          },
          "colorscale": {
           "diverging": [
            [
             0,
             "#8e0152"
            ],
            [
             0.1,
             "#c51b7d"
            ],
            [
             0.2,
             "#de77ae"
            ],
            [
             0.3,
             "#f1b6da"
            ],
            [
             0.4,
             "#fde0ef"
            ],
            [
             0.5,
             "#f7f7f7"
            ],
            [
             0.6,
             "#e6f5d0"
            ],
            [
             0.7,
             "#b8e186"
            ],
            [
             0.8,
             "#7fbc41"
            ],
            [
             0.9,
             "#4d9221"
            ],
            [
             1,
             "#276419"
            ]
           ],
           "sequential": [
            [
             0,
             "#0d0887"
            ],
            [
             0.1111111111111111,
             "#46039f"
            ],
            [
             0.2222222222222222,
             "#7201a8"
            ],
            [
             0.3333333333333333,
             "#9c179e"
            ],
            [
             0.4444444444444444,
             "#bd3786"
            ],
            [
             0.5555555555555556,
             "#d8576b"
            ],
            [
             0.6666666666666666,
             "#ed7953"
            ],
            [
             0.7777777777777778,
             "#fb9f3a"
            ],
            [
             0.8888888888888888,
             "#fdca26"
            ],
            [
             1,
             "#f0f921"
            ]
           ],
           "sequentialminus": [
            [
             0,
             "#0d0887"
            ],
            [
             0.1111111111111111,
             "#46039f"
            ],
            [
             0.2222222222222222,
             "#7201a8"
            ],
            [
             0.3333333333333333,
             "#9c179e"
            ],
            [
             0.4444444444444444,
             "#bd3786"
            ],
            [
             0.5555555555555556,
             "#d8576b"
            ],
            [
             0.6666666666666666,
             "#ed7953"
            ],
            [
             0.7777777777777778,
             "#fb9f3a"
            ],
            [
             0.8888888888888888,
             "#fdca26"
            ],
            [
             1,
             "#f0f921"
            ]
           ]
          },
          "colorway": [
           "#636efa",
           "#EF553B",
           "#00cc96",
           "#ab63fa",
           "#FFA15A",
           "#19d3f3",
           "#FF6692",
           "#B6E880",
           "#FF97FF",
           "#FECB52"
          ],
          "font": {
           "color": "#2a3f5f"
          },
          "geo": {
           "bgcolor": "white",
           "lakecolor": "white",
           "landcolor": "#E5ECF6",
           "showlakes": true,
           "showland": true,
           "subunitcolor": "white"
          },
          "hoverlabel": {
           "align": "left"
          },
          "hovermode": "closest",
          "mapbox": {
           "style": "light"
          },
          "paper_bgcolor": "white",
          "plot_bgcolor": "#E5ECF6",
          "polar": {
           "angularaxis": {
            "gridcolor": "white",
            "linecolor": "white",
            "ticks": ""
           },
           "bgcolor": "#E5ECF6",
           "radialaxis": {
            "gridcolor": "white",
            "linecolor": "white",
            "ticks": ""
           }
          },
          "scene": {
           "xaxis": {
            "backgroundcolor": "#E5ECF6",
            "gridcolor": "white",
            "gridwidth": 2,
            "linecolor": "white",
            "showbackground": true,
            "ticks": "",
            "zerolinecolor": "white"
           },
           "yaxis": {
            "backgroundcolor": "#E5ECF6",
            "gridcolor": "white",
            "gridwidth": 2,
            "linecolor": "white",
            "showbackground": true,
            "ticks": "",
            "zerolinecolor": "white"
           },
           "zaxis": {
            "backgroundcolor": "#E5ECF6",
            "gridcolor": "white",
            "gridwidth": 2,
            "linecolor": "white",
            "showbackground": true,
            "ticks": "",
            "zerolinecolor": "white"
           }
          },
          "shapedefaults": {
           "line": {
            "color": "#2a3f5f"
           }
          },
          "ternary": {
           "aaxis": {
            "gridcolor": "white",
            "linecolor": "white",
            "ticks": ""
           },
           "baxis": {
            "gridcolor": "white",
            "linecolor": "white",
            "ticks": ""
           },
           "bgcolor": "#E5ECF6",
           "caxis": {
            "gridcolor": "white",
            "linecolor": "white",
            "ticks": ""
           }
          },
          "title": {
           "x": 0.05
          },
          "xaxis": {
           "automargin": true,
           "gridcolor": "white",
           "linecolor": "white",
           "ticks": "",
           "title": {
            "standoff": 15
           },
           "zerolinecolor": "white",
           "zerolinewidth": 2
          },
          "yaxis": {
           "automargin": true,
           "gridcolor": "white",
           "linecolor": "white",
           "ticks": "",
           "title": {
            "standoff": 15
           },
           "zerolinecolor": "white",
           "zerolinewidth": 2
          }
         }
        },
        "title": {
         "text": "Histogram of Probabilities for cluster 7"
        },
        "xaxis": {
         "title": {
          "text": "Probability"
         }
        },
        "yaxis": {
         "title": {
          "text": "Count"
         }
        }
       }
      }
     },
     "metadata": {},
     "output_type": "display_data"
    },
    {
     "data": {
      "application/vnd.plotly.v1+json": {
       "config": {
        "plotlyServerURL": "https://plot.ly"
       },
       "data": [
        {
         "bingroup": "8",
         "name": "Cluster 8",
         "opacity": 0.7,
         "type": "histogram",
         "x": [
          25.323984500384096,
          25.32132012011069,
          25.32385059348742,
          25.320892650066124,
          25.32434625986968,
          25.324554028665762,
          25.324345310924617,
          25.32629710935508,
          25.323916232450312,
          25.32378679195639,
          25.324386468229374,
          25.324845060984146,
          25.32618518681325,
          25.323299497181456,
          25.325501483462787,
          25.32363838751486,
          25.323680340048526,
          25.32627967519511,
          25.325584907648906,
          25.325490900358908,
          25.325551209204118,
          25.32136421365011,
          25.322286583354508,
          25.326130433026034,
          25.322828103995587,
          25.32234499083669,
          25.32474566852151,
          25.3262973109055,
          25.324551636350396,
          25.323014496345166,
          25.32412814507139,
          25.326301708771762,
          25.32444812133406,
          25.323861596127614,
          25.32622345512362,
          25.325922658867725,
          25.325907777843174,
          25.325890140559697,
          25.326062686457114,
          25.32613004468935,
          25.326192895007633,
          25.325388947814233,
          25.32549626848582,
          25.324698212106593,
          25.3230995866,
          25.325429377090742,
          25.32619963679486,
          25.326022808127842,
          25.32356695468065,
          25.324578824432518,
          25.326101334649252,
          25.32504348489658,
          25.32420498012578,
          25.325268586312152,
          25.32588701342827,
          25.325009379962744,
          25.32508369368068,
          25.326233284088318,
          25.324555415202344,
          25.324885702431793,
          25.325612119917977,
          25.325339766040734,
          25.326279334674187,
          25.326287547268084,
          25.325192728236622,
          25.326269567581644,
          25.326293701996708,
          25.32491009742238,
          25.324501308709156,
          25.324478480721183,
          25.325777127815954,
          25.325026358869344,
          25.323442506479537,
          25.326227927006816,
          25.32429432272606,
          25.32431862836208,
          25.32503233672775,
          25.325184310339864,
          25.324140179153954,
          25.321845966239206,
          25.323497804250046,
          25.325587276190014,
          25.324819988735264,
          25.316444955628242,
          25.325082225297887,
          25.322539625590082,
          25.324499694836366,
          25.326244522207578,
          25.326301030363457,
          25.32271925823419,
          25.324135791314134,
          25.32425763446867,
          25.321544191958722,
          25.322256623202723,
          25.324544855296363,
          25.32194371443321,
          25.322870700278063,
          25.319702088855028,
          25.323574011800158,
          25.32410087741897,
          25.32493722694825,
          25.324704993434334,
          25.323306284036487,
          25.326217344299828,
          25.32520512994186,
          25.322333905515798,
          25.326280138803803,
          25.32460801312178,
          25.319115611746813,
          25.325997348272125,
          25.323328792661385,
          25.326122887564345,
          25.32437134023435,
          25.32628087211141,
          25.321185187803287,
          25.323478524663486,
          25.32577440838961,
          25.32627312431421,
          25.324972930510725,
          25.325596940374353,
          25.320185910063053,
          25.32629305028965,
          25.32351895275316,
          25.32630090520562,
          25.3216422079232,
          25.32610497130445,
          25.324590567572805,
          25.326172844513138,
          25.325282119626483,
          25.3242186248237,
          25.325927762495034,
          25.323751350376995,
          25.32612085745896,
          25.31677451750709,
          25.323156827427308,
          25.32532625754227,
          25.320348932113404,
          25.325691359577757,
          25.32628427422882,
          25.32259557907706,
          25.326209574151324,
          25.32501680832904,
          25.324548094631943,
          25.323422320197754,
          25.3220705646025,
          25.324715535319857,
          25.324666882795448,
          25.318247510572952,
          25.323631233402022,
          25.325038228675286,
          25.325657013996434,
          25.323162983082298,
          25.325124169095233,
          25.325307572307743,
          25.32629299479184,
          25.326194492119942,
          25.322016762298073,
          25.325345526231622,
          25.317170588660552,
          25.32509823804688,
          25.325873562887566,
          25.325808986014152,
          25.32486358432704,
          25.32571753391858,
          25.323849863167844,
          25.324203368436006,
          25.32619554762593,
          25.323806197370068,
          25.324683497932554,
          25.32447890750371,
          25.322774206556492,
          25.32105253155675,
          25.323622811904777,
          25.32113503747706,
          25.32303762014684,
          25.324438200987515,
          25.324821275790978,
          25.325506619021613,
          25.323446994472512,
          25.326253342090087,
          25.326129338997195,
          25.325757829822393,
          25.324675518522167,
          25.32620176361019,
          25.32190667175674,
          25.324287426377676,
          25.326187523652784,
          25.32508533933625,
          25.32437115256084,
          25.325963236180336,
          25.32143652980084,
          25.325729074294195,
          25.325050949203288,
          25.32471255939926,
          25.326302646604866,
          25.32610042196548,
          25.322586368518902,
          25.325044148164096,
          25.32450623935138,
          25.325103241627442,
          25.320103492554715,
          25.325788804433362,
          25.325497018733905,
          25.323848151330502,
          25.32520488907776,
          25.321979911637293,
          25.322030162652478,
          25.324039649591064,
          25.32383909525702,
          25.323385670694467,
          25.324637225249568,
          25.321989241100876,
          25.324226860262122,
          25.322054283200753,
          25.322746910294672,
          25.32628638423998,
          25.326145379310507,
          25.32469990988126,
          25.325556406290673,
          25.32445719965089,
          25.32628050766122,
          25.324780200269828,
          25.32461372291192,
          25.32279619009506,
          25.323898176944827,
          25.322721016142776,
          25.32627941961786,
          25.326206449962264,
          25.325492303208623,
          25.32026025880212,
          25.323390049603553,
          25.323903020722426,
          25.325476858899275,
          25.325732301993167,
          25.32411216577127,
          25.32337304425268,
          25.323772729695367,
          25.325570172332462,
          25.32556071013069,
          25.325889838919494,
          25.324501594818667,
          25.325092113579895,
          25.321872062825108,
          25.324545797130394,
          25.323688271971513,
          25.32571308881675,
          25.322962587182115,
          25.325988133677416,
          25.32375838690474,
          25.32482162801278,
          25.31377919093355,
          25.32259172102467,
          25.31683939614588,
          25.32623981041401,
          25.32504830277749,
          25.325783807403603,
          25.32484693480586,
          25.31967742042396,
          25.325839999270702,
          25.325381567036047,
          25.324698746991892,
          25.324961351366277,
          25.32447200032213,
          25.32476236541928,
          25.32505942865312,
          25.325797915126785,
          25.326130187756018,
          25.326161292395348,
          25.32625625734802,
          25.32503292694748,
          25.32361494073697,
          25.32471193674416,
          25.326288757596842,
          25.324789057809873,
          25.322129760824836,
          25.325920972703777,
          25.32545813284916,
          25.325461512115407,
          25.326140654079506,
          25.325326105949195,
          25.32596799428725,
          25.325257257328346,
          25.32070528564088,
          25.32565893804194,
          25.326300342706432,
          25.326272481545814,
          25.326247450867896,
          25.326270282333468,
          25.32625621934688,
          25.32386170728469,
          25.3262389418308,
          25.324410362821553,
          25.326145438481625
         ]
        }
       ],
       "layout": {
        "barmode": "overlay",
        "template": {
         "data": {
          "bar": [
           {
            "error_x": {
             "color": "#2a3f5f"
            },
            "error_y": {
             "color": "#2a3f5f"
            },
            "marker": {
             "line": {
              "color": "#E5ECF6",
              "width": 0.5
             },
             "pattern": {
              "fillmode": "overlay",
              "size": 10,
              "solidity": 0.2
             }
            },
            "type": "bar"
           }
          ],
          "barpolar": [
           {
            "marker": {
             "line": {
              "color": "#E5ECF6",
              "width": 0.5
             },
             "pattern": {
              "fillmode": "overlay",
              "size": 10,
              "solidity": 0.2
             }
            },
            "type": "barpolar"
           }
          ],
          "carpet": [
           {
            "aaxis": {
             "endlinecolor": "#2a3f5f",
             "gridcolor": "white",
             "linecolor": "white",
             "minorgridcolor": "white",
             "startlinecolor": "#2a3f5f"
            },
            "baxis": {
             "endlinecolor": "#2a3f5f",
             "gridcolor": "white",
             "linecolor": "white",
             "minorgridcolor": "white",
             "startlinecolor": "#2a3f5f"
            },
            "type": "carpet"
           }
          ],
          "choropleth": [
           {
            "colorbar": {
             "outlinewidth": 0,
             "ticks": ""
            },
            "type": "choropleth"
           }
          ],
          "contour": [
           {
            "colorbar": {
             "outlinewidth": 0,
             "ticks": ""
            },
            "colorscale": [
             [
              0,
              "#0d0887"
             ],
             [
              0.1111111111111111,
              "#46039f"
             ],
             [
              0.2222222222222222,
              "#7201a8"
             ],
             [
              0.3333333333333333,
              "#9c179e"
             ],
             [
              0.4444444444444444,
              "#bd3786"
             ],
             [
              0.5555555555555556,
              "#d8576b"
             ],
             [
              0.6666666666666666,
              "#ed7953"
             ],
             [
              0.7777777777777778,
              "#fb9f3a"
             ],
             [
              0.8888888888888888,
              "#fdca26"
             ],
             [
              1,
              "#f0f921"
             ]
            ],
            "type": "contour"
           }
          ],
          "contourcarpet": [
           {
            "colorbar": {
             "outlinewidth": 0,
             "ticks": ""
            },
            "type": "contourcarpet"
           }
          ],
          "heatmap": [
           {
            "colorbar": {
             "outlinewidth": 0,
             "ticks": ""
            },
            "colorscale": [
             [
              0,
              "#0d0887"
             ],
             [
              0.1111111111111111,
              "#46039f"
             ],
             [
              0.2222222222222222,
              "#7201a8"
             ],
             [
              0.3333333333333333,
              "#9c179e"
             ],
             [
              0.4444444444444444,
              "#bd3786"
             ],
             [
              0.5555555555555556,
              "#d8576b"
             ],
             [
              0.6666666666666666,
              "#ed7953"
             ],
             [
              0.7777777777777778,
              "#fb9f3a"
             ],
             [
              0.8888888888888888,
              "#fdca26"
             ],
             [
              1,
              "#f0f921"
             ]
            ],
            "type": "heatmap"
           }
          ],
          "heatmapgl": [
           {
            "colorbar": {
             "outlinewidth": 0,
             "ticks": ""
            },
            "colorscale": [
             [
              0,
              "#0d0887"
             ],
             [
              0.1111111111111111,
              "#46039f"
             ],
             [
              0.2222222222222222,
              "#7201a8"
             ],
             [
              0.3333333333333333,
              "#9c179e"
             ],
             [
              0.4444444444444444,
              "#bd3786"
             ],
             [
              0.5555555555555556,
              "#d8576b"
             ],
             [
              0.6666666666666666,
              "#ed7953"
             ],
             [
              0.7777777777777778,
              "#fb9f3a"
             ],
             [
              0.8888888888888888,
              "#fdca26"
             ],
             [
              1,
              "#f0f921"
             ]
            ],
            "type": "heatmapgl"
           }
          ],
          "histogram": [
           {
            "marker": {
             "pattern": {
              "fillmode": "overlay",
              "size": 10,
              "solidity": 0.2
             }
            },
            "type": "histogram"
           }
          ],
          "histogram2d": [
           {
            "colorbar": {
             "outlinewidth": 0,
             "ticks": ""
            },
            "colorscale": [
             [
              0,
              "#0d0887"
             ],
             [
              0.1111111111111111,
              "#46039f"
             ],
             [
              0.2222222222222222,
              "#7201a8"
             ],
             [
              0.3333333333333333,
              "#9c179e"
             ],
             [
              0.4444444444444444,
              "#bd3786"
             ],
             [
              0.5555555555555556,
              "#d8576b"
             ],
             [
              0.6666666666666666,
              "#ed7953"
             ],
             [
              0.7777777777777778,
              "#fb9f3a"
             ],
             [
              0.8888888888888888,
              "#fdca26"
             ],
             [
              1,
              "#f0f921"
             ]
            ],
            "type": "histogram2d"
           }
          ],
          "histogram2dcontour": [
           {
            "colorbar": {
             "outlinewidth": 0,
             "ticks": ""
            },
            "colorscale": [
             [
              0,
              "#0d0887"
             ],
             [
              0.1111111111111111,
              "#46039f"
             ],
             [
              0.2222222222222222,
              "#7201a8"
             ],
             [
              0.3333333333333333,
              "#9c179e"
             ],
             [
              0.4444444444444444,
              "#bd3786"
             ],
             [
              0.5555555555555556,
              "#d8576b"
             ],
             [
              0.6666666666666666,
              "#ed7953"
             ],
             [
              0.7777777777777778,
              "#fb9f3a"
             ],
             [
              0.8888888888888888,
              "#fdca26"
             ],
             [
              1,
              "#f0f921"
             ]
            ],
            "type": "histogram2dcontour"
           }
          ],
          "mesh3d": [
           {
            "colorbar": {
             "outlinewidth": 0,
             "ticks": ""
            },
            "type": "mesh3d"
           }
          ],
          "parcoords": [
           {
            "line": {
             "colorbar": {
              "outlinewidth": 0,
              "ticks": ""
             }
            },
            "type": "parcoords"
           }
          ],
          "pie": [
           {
            "automargin": true,
            "type": "pie"
           }
          ],
          "scatter": [
           {
            "fillpattern": {
             "fillmode": "overlay",
             "size": 10,
             "solidity": 0.2
            },
            "type": "scatter"
           }
          ],
          "scatter3d": [
           {
            "line": {
             "colorbar": {
              "outlinewidth": 0,
              "ticks": ""
             }
            },
            "marker": {
             "colorbar": {
              "outlinewidth": 0,
              "ticks": ""
             }
            },
            "type": "scatter3d"
           }
          ],
          "scattercarpet": [
           {
            "marker": {
             "colorbar": {
              "outlinewidth": 0,
              "ticks": ""
             }
            },
            "type": "scattercarpet"
           }
          ],
          "scattergeo": [
           {
            "marker": {
             "colorbar": {
              "outlinewidth": 0,
              "ticks": ""
             }
            },
            "type": "scattergeo"
           }
          ],
          "scattergl": [
           {
            "marker": {
             "colorbar": {
              "outlinewidth": 0,
              "ticks": ""
             }
            },
            "type": "scattergl"
           }
          ],
          "scattermapbox": [
           {
            "marker": {
             "colorbar": {
              "outlinewidth": 0,
              "ticks": ""
             }
            },
            "type": "scattermapbox"
           }
          ],
          "scatterpolar": [
           {
            "marker": {
             "colorbar": {
              "outlinewidth": 0,
              "ticks": ""
             }
            },
            "type": "scatterpolar"
           }
          ],
          "scatterpolargl": [
           {
            "marker": {
             "colorbar": {
              "outlinewidth": 0,
              "ticks": ""
             }
            },
            "type": "scatterpolargl"
           }
          ],
          "scatterternary": [
           {
            "marker": {
             "colorbar": {
              "outlinewidth": 0,
              "ticks": ""
             }
            },
            "type": "scatterternary"
           }
          ],
          "surface": [
           {
            "colorbar": {
             "outlinewidth": 0,
             "ticks": ""
            },
            "colorscale": [
             [
              0,
              "#0d0887"
             ],
             [
              0.1111111111111111,
              "#46039f"
             ],
             [
              0.2222222222222222,
              "#7201a8"
             ],
             [
              0.3333333333333333,
              "#9c179e"
             ],
             [
              0.4444444444444444,
              "#bd3786"
             ],
             [
              0.5555555555555556,
              "#d8576b"
             ],
             [
              0.6666666666666666,
              "#ed7953"
             ],
             [
              0.7777777777777778,
              "#fb9f3a"
             ],
             [
              0.8888888888888888,
              "#fdca26"
             ],
             [
              1,
              "#f0f921"
             ]
            ],
            "type": "surface"
           }
          ],
          "table": [
           {
            "cells": {
             "fill": {
              "color": "#EBF0F8"
             },
             "line": {
              "color": "white"
             }
            },
            "header": {
             "fill": {
              "color": "#C8D4E3"
             },
             "line": {
              "color": "white"
             }
            },
            "type": "table"
           }
          ]
         },
         "layout": {
          "annotationdefaults": {
           "arrowcolor": "#2a3f5f",
           "arrowhead": 0,
           "arrowwidth": 1
          },
          "autotypenumbers": "strict",
          "coloraxis": {
           "colorbar": {
            "outlinewidth": 0,
            "ticks": ""
           }
          },
          "colorscale": {
           "diverging": [
            [
             0,
             "#8e0152"
            ],
            [
             0.1,
             "#c51b7d"
            ],
            [
             0.2,
             "#de77ae"
            ],
            [
             0.3,
             "#f1b6da"
            ],
            [
             0.4,
             "#fde0ef"
            ],
            [
             0.5,
             "#f7f7f7"
            ],
            [
             0.6,
             "#e6f5d0"
            ],
            [
             0.7,
             "#b8e186"
            ],
            [
             0.8,
             "#7fbc41"
            ],
            [
             0.9,
             "#4d9221"
            ],
            [
             1,
             "#276419"
            ]
           ],
           "sequential": [
            [
             0,
             "#0d0887"
            ],
            [
             0.1111111111111111,
             "#46039f"
            ],
            [
             0.2222222222222222,
             "#7201a8"
            ],
            [
             0.3333333333333333,
             "#9c179e"
            ],
            [
             0.4444444444444444,
             "#bd3786"
            ],
            [
             0.5555555555555556,
             "#d8576b"
            ],
            [
             0.6666666666666666,
             "#ed7953"
            ],
            [
             0.7777777777777778,
             "#fb9f3a"
            ],
            [
             0.8888888888888888,
             "#fdca26"
            ],
            [
             1,
             "#f0f921"
            ]
           ],
           "sequentialminus": [
            [
             0,
             "#0d0887"
            ],
            [
             0.1111111111111111,
             "#46039f"
            ],
            [
             0.2222222222222222,
             "#7201a8"
            ],
            [
             0.3333333333333333,
             "#9c179e"
            ],
            [
             0.4444444444444444,
             "#bd3786"
            ],
            [
             0.5555555555555556,
             "#d8576b"
            ],
            [
             0.6666666666666666,
             "#ed7953"
            ],
            [
             0.7777777777777778,
             "#fb9f3a"
            ],
            [
             0.8888888888888888,
             "#fdca26"
            ],
            [
             1,
             "#f0f921"
            ]
           ]
          },
          "colorway": [
           "#636efa",
           "#EF553B",
           "#00cc96",
           "#ab63fa",
           "#FFA15A",
           "#19d3f3",
           "#FF6692",
           "#B6E880",
           "#FF97FF",
           "#FECB52"
          ],
          "font": {
           "color": "#2a3f5f"
          },
          "geo": {
           "bgcolor": "white",
           "lakecolor": "white",
           "landcolor": "#E5ECF6",
           "showlakes": true,
           "showland": true,
           "subunitcolor": "white"
          },
          "hoverlabel": {
           "align": "left"
          },
          "hovermode": "closest",
          "mapbox": {
           "style": "light"
          },
          "paper_bgcolor": "white",
          "plot_bgcolor": "#E5ECF6",
          "polar": {
           "angularaxis": {
            "gridcolor": "white",
            "linecolor": "white",
            "ticks": ""
           },
           "bgcolor": "#E5ECF6",
           "radialaxis": {
            "gridcolor": "white",
            "linecolor": "white",
            "ticks": ""
           }
          },
          "scene": {
           "xaxis": {
            "backgroundcolor": "#E5ECF6",
            "gridcolor": "white",
            "gridwidth": 2,
            "linecolor": "white",
            "showbackground": true,
            "ticks": "",
            "zerolinecolor": "white"
           },
           "yaxis": {
            "backgroundcolor": "#E5ECF6",
            "gridcolor": "white",
            "gridwidth": 2,
            "linecolor": "white",
            "showbackground": true,
            "ticks": "",
            "zerolinecolor": "white"
           },
           "zaxis": {
            "backgroundcolor": "#E5ECF6",
            "gridcolor": "white",
            "gridwidth": 2,
            "linecolor": "white",
            "showbackground": true,
            "ticks": "",
            "zerolinecolor": "white"
           }
          },
          "shapedefaults": {
           "line": {
            "color": "#2a3f5f"
           }
          },
          "ternary": {
           "aaxis": {
            "gridcolor": "white",
            "linecolor": "white",
            "ticks": ""
           },
           "baxis": {
            "gridcolor": "white",
            "linecolor": "white",
            "ticks": ""
           },
           "bgcolor": "#E5ECF6",
           "caxis": {
            "gridcolor": "white",
            "linecolor": "white",
            "ticks": ""
           }
          },
          "title": {
           "x": 0.05
          },
          "xaxis": {
           "automargin": true,
           "gridcolor": "white",
           "linecolor": "white",
           "ticks": "",
           "title": {
            "standoff": 15
           },
           "zerolinecolor": "white",
           "zerolinewidth": 2
          },
          "yaxis": {
           "automargin": true,
           "gridcolor": "white",
           "linecolor": "white",
           "ticks": "",
           "title": {
            "standoff": 15
           },
           "zerolinecolor": "white",
           "zerolinewidth": 2
          }
         }
        },
        "title": {
         "text": "Histogram of Probabilities for cluster 8"
        },
        "xaxis": {
         "title": {
          "text": "Probability"
         }
        },
        "yaxis": {
         "title": {
          "text": "Count"
         }
        }
       }
      }
     },
     "metadata": {},
     "output_type": "display_data"
    },
    {
     "data": {
      "application/vnd.plotly.v1+json": {
       "config": {
        "plotlyServerURL": "https://plot.ly"
       },
       "data": [
        {
         "bingroup": "9",
         "name": "Cluster 9",
         "opacity": 0.7,
         "type": "histogram",
         "x": [
          13.076057460431125,
          13.076047658413243,
          13.076043017435717,
          13.07604070246819,
          13.076042484273083,
          13.076059206320036,
          13.076059871890521,
          13.076030548630724,
          13.076063671699833,
          13.076069142944016,
          13.076077919032807,
          13.076078772893553,
          13.076073625575251,
          13.076073369284039,
          13.076042784323654,
          13.076078669516711,
          13.076043364189497,
          13.076077421032066,
          13.076069728053033,
          13.076031486245032,
          13.076049900178976,
          13.076049595490936,
          13.076036838760444,
          13.076074972844888,
          13.07607858176684,
          13.076053176374595,
          13.076056181744404,
          13.076062631881769,
          13.076061231479983,
          13.076052940258464,
          13.076077704864044,
          13.076044595414082,
          13.076061722300903,
          13.076051852666351,
          13.076078708439006,
          13.076052559518478,
          13.076050026352219,
          13.07605837944406,
          13.076039066105578,
          13.076077320008578,
          13.076042226480675,
          13.076039894763518,
          13.076042674283014,
          13.076059366128417,
          13.076078645727021,
          13.07607669332141,
          13.076033955200966,
          13.076068854325227,
          13.076058477014744,
          13.076004878351311,
          13.076048652246344,
          13.076054476027371,
          13.076073193785874,
          13.076064683495643,
          13.076077027410125,
          13.076053902747745,
          13.076048786608359,
          13.076059097507756,
          13.076052197614944,
          13.076061702550769,
          13.076063914676654,
          13.076050727931165,
          13.075983503595886,
          13.07605237596201,
          13.076053391411772,
          13.076043163020593,
          13.076057878154138,
          13.076073768853353,
          13.076032216330924,
          13.076060566259434,
          13.076041324729474,
          13.0760574019202,
          13.07607761863861,
          13.076078041360415,
          13.076055734200999,
          13.076048901578707,
          13.076038210146589,
          13.076066277341576,
          13.076042691296562,
          13.076078349008739,
          13.076063017035988,
          13.076068040145998,
          13.076064723895872,
          13.07607437481731,
          13.076056553468385,
          13.076044928961021,
          13.076049623168442,
          13.07603975654954,
          13.076055723065132,
          13.076045495278988,
          13.076062715007232,
          13.076062240286005,
          13.076041623204796,
          13.076064556024146,
          13.076058064974479,
          13.076075434164196,
          13.076078841135098,
          13.076075689081218,
          13.076075704271958,
          13.076061503056705,
          13.076069996820232,
          13.076019528649347,
          13.076021658878828,
          13.07603985075008,
          13.076069712850577,
          13.076026450876018,
          13.07606875070019,
          13.076042505666084,
          13.076060702886945,
          13.07604096854457,
          13.076029938059818,
          13.076069027973979,
          13.076043396385229,
          13.076060381995678,
          13.076075964872148,
          13.076048064475406,
          13.076051600326428,
          13.076061408742605,
          24.86055247018319,
          13.076078483019327,
          13.07606980206543,
          13.076020519880704,
          13.076065435585598,
          13.076062673632059,
          13.076051917805843,
          13.07603090214774,
          13.076070063980515,
          13.07605314660613,
          13.076039707381721,
          13.076050538944687,
          13.076066170835364,
          13.076026479907913,
          13.076070263893163,
          13.076074396512643,
          13.076073808790792,
          13.076076616031022,
          13.076078704920265,
          13.076052155858655,
          13.07606124644628,
          13.076075879613304,
          13.076074539121237,
          13.076057232634557,
          13.076056786696494,
          13.076077665621737,
          13.076033247572912,
          13.076077086715268,
          13.076056190083012,
          13.076075853053728,
          13.076050157659065,
          13.076060160992785,
          13.076048781819836,
          13.076074694995967
         ]
        }
       ],
       "layout": {
        "barmode": "overlay",
        "template": {
         "data": {
          "bar": [
           {
            "error_x": {
             "color": "#2a3f5f"
            },
            "error_y": {
             "color": "#2a3f5f"
            },
            "marker": {
             "line": {
              "color": "#E5ECF6",
              "width": 0.5
             },
             "pattern": {
              "fillmode": "overlay",
              "size": 10,
              "solidity": 0.2
             }
            },
            "type": "bar"
           }
          ],
          "barpolar": [
           {
            "marker": {
             "line": {
              "color": "#E5ECF6",
              "width": 0.5
             },
             "pattern": {
              "fillmode": "overlay",
              "size": 10,
              "solidity": 0.2
             }
            },
            "type": "barpolar"
           }
          ],
          "carpet": [
           {
            "aaxis": {
             "endlinecolor": "#2a3f5f",
             "gridcolor": "white",
             "linecolor": "white",
             "minorgridcolor": "white",
             "startlinecolor": "#2a3f5f"
            },
            "baxis": {
             "endlinecolor": "#2a3f5f",
             "gridcolor": "white",
             "linecolor": "white",
             "minorgridcolor": "white",
             "startlinecolor": "#2a3f5f"
            },
            "type": "carpet"
           }
          ],
          "choropleth": [
           {
            "colorbar": {
             "outlinewidth": 0,
             "ticks": ""
            },
            "type": "choropleth"
           }
          ],
          "contour": [
           {
            "colorbar": {
             "outlinewidth": 0,
             "ticks": ""
            },
            "colorscale": [
             [
              0,
              "#0d0887"
             ],
             [
              0.1111111111111111,
              "#46039f"
             ],
             [
              0.2222222222222222,
              "#7201a8"
             ],
             [
              0.3333333333333333,
              "#9c179e"
             ],
             [
              0.4444444444444444,
              "#bd3786"
             ],
             [
              0.5555555555555556,
              "#d8576b"
             ],
             [
              0.6666666666666666,
              "#ed7953"
             ],
             [
              0.7777777777777778,
              "#fb9f3a"
             ],
             [
              0.8888888888888888,
              "#fdca26"
             ],
             [
              1,
              "#f0f921"
             ]
            ],
            "type": "contour"
           }
          ],
          "contourcarpet": [
           {
            "colorbar": {
             "outlinewidth": 0,
             "ticks": ""
            },
            "type": "contourcarpet"
           }
          ],
          "heatmap": [
           {
            "colorbar": {
             "outlinewidth": 0,
             "ticks": ""
            },
            "colorscale": [
             [
              0,
              "#0d0887"
             ],
             [
              0.1111111111111111,
              "#46039f"
             ],
             [
              0.2222222222222222,
              "#7201a8"
             ],
             [
              0.3333333333333333,
              "#9c179e"
             ],
             [
              0.4444444444444444,
              "#bd3786"
             ],
             [
              0.5555555555555556,
              "#d8576b"
             ],
             [
              0.6666666666666666,
              "#ed7953"
             ],
             [
              0.7777777777777778,
              "#fb9f3a"
             ],
             [
              0.8888888888888888,
              "#fdca26"
             ],
             [
              1,
              "#f0f921"
             ]
            ],
            "type": "heatmap"
           }
          ],
          "heatmapgl": [
           {
            "colorbar": {
             "outlinewidth": 0,
             "ticks": ""
            },
            "colorscale": [
             [
              0,
              "#0d0887"
             ],
             [
              0.1111111111111111,
              "#46039f"
             ],
             [
              0.2222222222222222,
              "#7201a8"
             ],
             [
              0.3333333333333333,
              "#9c179e"
             ],
             [
              0.4444444444444444,
              "#bd3786"
             ],
             [
              0.5555555555555556,
              "#d8576b"
             ],
             [
              0.6666666666666666,
              "#ed7953"
             ],
             [
              0.7777777777777778,
              "#fb9f3a"
             ],
             [
              0.8888888888888888,
              "#fdca26"
             ],
             [
              1,
              "#f0f921"
             ]
            ],
            "type": "heatmapgl"
           }
          ],
          "histogram": [
           {
            "marker": {
             "pattern": {
              "fillmode": "overlay",
              "size": 10,
              "solidity": 0.2
             }
            },
            "type": "histogram"
           }
          ],
          "histogram2d": [
           {
            "colorbar": {
             "outlinewidth": 0,
             "ticks": ""
            },
            "colorscale": [
             [
              0,
              "#0d0887"
             ],
             [
              0.1111111111111111,
              "#46039f"
             ],
             [
              0.2222222222222222,
              "#7201a8"
             ],
             [
              0.3333333333333333,
              "#9c179e"
             ],
             [
              0.4444444444444444,
              "#bd3786"
             ],
             [
              0.5555555555555556,
              "#d8576b"
             ],
             [
              0.6666666666666666,
              "#ed7953"
             ],
             [
              0.7777777777777778,
              "#fb9f3a"
             ],
             [
              0.8888888888888888,
              "#fdca26"
             ],
             [
              1,
              "#f0f921"
             ]
            ],
            "type": "histogram2d"
           }
          ],
          "histogram2dcontour": [
           {
            "colorbar": {
             "outlinewidth": 0,
             "ticks": ""
            },
            "colorscale": [
             [
              0,
              "#0d0887"
             ],
             [
              0.1111111111111111,
              "#46039f"
             ],
             [
              0.2222222222222222,
              "#7201a8"
             ],
             [
              0.3333333333333333,
              "#9c179e"
             ],
             [
              0.4444444444444444,
              "#bd3786"
             ],
             [
              0.5555555555555556,
              "#d8576b"
             ],
             [
              0.6666666666666666,
              "#ed7953"
             ],
             [
              0.7777777777777778,
              "#fb9f3a"
             ],
             [
              0.8888888888888888,
              "#fdca26"
             ],
             [
              1,
              "#f0f921"
             ]
            ],
            "type": "histogram2dcontour"
           }
          ],
          "mesh3d": [
           {
            "colorbar": {
             "outlinewidth": 0,
             "ticks": ""
            },
            "type": "mesh3d"
           }
          ],
          "parcoords": [
           {
            "line": {
             "colorbar": {
              "outlinewidth": 0,
              "ticks": ""
             }
            },
            "type": "parcoords"
           }
          ],
          "pie": [
           {
            "automargin": true,
            "type": "pie"
           }
          ],
          "scatter": [
           {
            "fillpattern": {
             "fillmode": "overlay",
             "size": 10,
             "solidity": 0.2
            },
            "type": "scatter"
           }
          ],
          "scatter3d": [
           {
            "line": {
             "colorbar": {
              "outlinewidth": 0,
              "ticks": ""
             }
            },
            "marker": {
             "colorbar": {
              "outlinewidth": 0,
              "ticks": ""
             }
            },
            "type": "scatter3d"
           }
          ],
          "scattercarpet": [
           {
            "marker": {
             "colorbar": {
              "outlinewidth": 0,
              "ticks": ""
             }
            },
            "type": "scattercarpet"
           }
          ],
          "scattergeo": [
           {
            "marker": {
             "colorbar": {
              "outlinewidth": 0,
              "ticks": ""
             }
            },
            "type": "scattergeo"
           }
          ],
          "scattergl": [
           {
            "marker": {
             "colorbar": {
              "outlinewidth": 0,
              "ticks": ""
             }
            },
            "type": "scattergl"
           }
          ],
          "scattermapbox": [
           {
            "marker": {
             "colorbar": {
              "outlinewidth": 0,
              "ticks": ""
             }
            },
            "type": "scattermapbox"
           }
          ],
          "scatterpolar": [
           {
            "marker": {
             "colorbar": {
              "outlinewidth": 0,
              "ticks": ""
             }
            },
            "type": "scatterpolar"
           }
          ],
          "scatterpolargl": [
           {
            "marker": {
             "colorbar": {
              "outlinewidth": 0,
              "ticks": ""
             }
            },
            "type": "scatterpolargl"
           }
          ],
          "scatterternary": [
           {
            "marker": {
             "colorbar": {
              "outlinewidth": 0,
              "ticks": ""
             }
            },
            "type": "scatterternary"
           }
          ],
          "surface": [
           {
            "colorbar": {
             "outlinewidth": 0,
             "ticks": ""
            },
            "colorscale": [
             [
              0,
              "#0d0887"
             ],
             [
              0.1111111111111111,
              "#46039f"
             ],
             [
              0.2222222222222222,
              "#7201a8"
             ],
             [
              0.3333333333333333,
              "#9c179e"
             ],
             [
              0.4444444444444444,
              "#bd3786"
             ],
             [
              0.5555555555555556,
              "#d8576b"
             ],
             [
              0.6666666666666666,
              "#ed7953"
             ],
             [
              0.7777777777777778,
              "#fb9f3a"
             ],
             [
              0.8888888888888888,
              "#fdca26"
             ],
             [
              1,
              "#f0f921"
             ]
            ],
            "type": "surface"
           }
          ],
          "table": [
           {
            "cells": {
             "fill": {
              "color": "#EBF0F8"
             },
             "line": {
              "color": "white"
             }
            },
            "header": {
             "fill": {
              "color": "#C8D4E3"
             },
             "line": {
              "color": "white"
             }
            },
            "type": "table"
           }
          ]
         },
         "layout": {
          "annotationdefaults": {
           "arrowcolor": "#2a3f5f",
           "arrowhead": 0,
           "arrowwidth": 1
          },
          "autotypenumbers": "strict",
          "coloraxis": {
           "colorbar": {
            "outlinewidth": 0,
            "ticks": ""
           }
          },
          "colorscale": {
           "diverging": [
            [
             0,
             "#8e0152"
            ],
            [
             0.1,
             "#c51b7d"
            ],
            [
             0.2,
             "#de77ae"
            ],
            [
             0.3,
             "#f1b6da"
            ],
            [
             0.4,
             "#fde0ef"
            ],
            [
             0.5,
             "#f7f7f7"
            ],
            [
             0.6,
             "#e6f5d0"
            ],
            [
             0.7,
             "#b8e186"
            ],
            [
             0.8,
             "#7fbc41"
            ],
            [
             0.9,
             "#4d9221"
            ],
            [
             1,
             "#276419"
            ]
           ],
           "sequential": [
            [
             0,
             "#0d0887"
            ],
            [
             0.1111111111111111,
             "#46039f"
            ],
            [
             0.2222222222222222,
             "#7201a8"
            ],
            [
             0.3333333333333333,
             "#9c179e"
            ],
            [
             0.4444444444444444,
             "#bd3786"
            ],
            [
             0.5555555555555556,
             "#d8576b"
            ],
            [
             0.6666666666666666,
             "#ed7953"
            ],
            [
             0.7777777777777778,
             "#fb9f3a"
            ],
            [
             0.8888888888888888,
             "#fdca26"
            ],
            [
             1,
             "#f0f921"
            ]
           ],
           "sequentialminus": [
            [
             0,
             "#0d0887"
            ],
            [
             0.1111111111111111,
             "#46039f"
            ],
            [
             0.2222222222222222,
             "#7201a8"
            ],
            [
             0.3333333333333333,
             "#9c179e"
            ],
            [
             0.4444444444444444,
             "#bd3786"
            ],
            [
             0.5555555555555556,
             "#d8576b"
            ],
            [
             0.6666666666666666,
             "#ed7953"
            ],
            [
             0.7777777777777778,
             "#fb9f3a"
            ],
            [
             0.8888888888888888,
             "#fdca26"
            ],
            [
             1,
             "#f0f921"
            ]
           ]
          },
          "colorway": [
           "#636efa",
           "#EF553B",
           "#00cc96",
           "#ab63fa",
           "#FFA15A",
           "#19d3f3",
           "#FF6692",
           "#B6E880",
           "#FF97FF",
           "#FECB52"
          ],
          "font": {
           "color": "#2a3f5f"
          },
          "geo": {
           "bgcolor": "white",
           "lakecolor": "white",
           "landcolor": "#E5ECF6",
           "showlakes": true,
           "showland": true,
           "subunitcolor": "white"
          },
          "hoverlabel": {
           "align": "left"
          },
          "hovermode": "closest",
          "mapbox": {
           "style": "light"
          },
          "paper_bgcolor": "white",
          "plot_bgcolor": "#E5ECF6",
          "polar": {
           "angularaxis": {
            "gridcolor": "white",
            "linecolor": "white",
            "ticks": ""
           },
           "bgcolor": "#E5ECF6",
           "radialaxis": {
            "gridcolor": "white",
            "linecolor": "white",
            "ticks": ""
           }
          },
          "scene": {
           "xaxis": {
            "backgroundcolor": "#E5ECF6",
            "gridcolor": "white",
            "gridwidth": 2,
            "linecolor": "white",
            "showbackground": true,
            "ticks": "",
            "zerolinecolor": "white"
           },
           "yaxis": {
            "backgroundcolor": "#E5ECF6",
            "gridcolor": "white",
            "gridwidth": 2,
            "linecolor": "white",
            "showbackground": true,
            "ticks": "",
            "zerolinecolor": "white"
           },
           "zaxis": {
            "backgroundcolor": "#E5ECF6",
            "gridcolor": "white",
            "gridwidth": 2,
            "linecolor": "white",
            "showbackground": true,
            "ticks": "",
            "zerolinecolor": "white"
           }
          },
          "shapedefaults": {
           "line": {
            "color": "#2a3f5f"
           }
          },
          "ternary": {
           "aaxis": {
            "gridcolor": "white",
            "linecolor": "white",
            "ticks": ""
           },
           "baxis": {
            "gridcolor": "white",
            "linecolor": "white",
            "ticks": ""
           },
           "bgcolor": "#E5ECF6",
           "caxis": {
            "gridcolor": "white",
            "linecolor": "white",
            "ticks": ""
           }
          },
          "title": {
           "x": 0.05
          },
          "xaxis": {
           "automargin": true,
           "gridcolor": "white",
           "linecolor": "white",
           "ticks": "",
           "title": {
            "standoff": 15
           },
           "zerolinecolor": "white",
           "zerolinewidth": 2
          },
          "yaxis": {
           "automargin": true,
           "gridcolor": "white",
           "linecolor": "white",
           "ticks": "",
           "title": {
            "standoff": 15
           },
           "zerolinecolor": "white",
           "zerolinewidth": 2
          }
         }
        },
        "title": {
         "text": "Histogram of Probabilities for cluster 9"
        },
        "xaxis": {
         "title": {
          "text": "Probability"
         }
        },
        "yaxis": {
         "title": {
          "text": "Count"
         }
        }
       }
      }
     },
     "metadata": {},
     "output_type": "display_data"
    }
   ],
   "source": [
    "# Create a figure with plotly that shows the histogram of probabilities\n",
    "# with each cluster colored differently\n",
    "import plotly.graph_objects as go\n",
    "\n",
    "# Get cluster assignments if not already computed\n",
    "responsibilities = compute_responsibilities(X, W_mppca, mu_mppca, sigma_mppca, pi, d=X.shape[1], device=device)\n",
    "clusters = responsibilities.argmax(dim=0)\n",
    "\n",
    "# Create a separate trace for each cluster\n",
    "for k in range(len(pi)):\n",
    "    fig = go.Figure()\n",
    "    cluster_probs = probs[clusters == k].cpu().numpy()\n",
    "    fig.add_trace(go.Histogram(\n",
    "        x=cluster_probs,\n",
    "        name=f'Cluster {k}',\n",
    "        # nbinsx=100,\n",
    "        opacity=0.7,\n",
    "        # histnorm='probability',\n",
    "        bingroup=k  # Group bars by cluster to avoid overlap\n",
    "    ))\n",
    "\n",
    "    fig.update_layout(\n",
    "        title=f\"Histogram of Probabilities for cluster {k}\",\n",
    "        xaxis_title=\"Probability\",\n",
    "        yaxis_title=\"Count\",\n",
    "        barmode='overlay'\n",
    "    )\n",
    "    fig.show()\n"
   ]
  },
  {
   "cell_type": "code",
   "execution_count": null,
   "metadata": {},
   "outputs": [],
   "source": []
  }
 ],
 "metadata": {
  "kernelspec": {
   "display_name": "Python 3",
   "language": "python",
   "name": "python3"
  },
  "language_info": {
   "codemirror_mode": {
    "name": "ipython",
    "version": 3
   },
   "file_extension": ".py",
   "mimetype": "text/x-python",
   "name": "python",
   "nbconvert_exporter": "python",
   "pygments_lexer": "ipython3",
   "version": "3.12.4"
  }
 },
 "nbformat": 4,
 "nbformat_minor": 2
}
